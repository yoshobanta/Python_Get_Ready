{
 "cells": [
  {
   "cell_type": "markdown",
   "id": "4b72c64f",
   "metadata": {},
   "source": [
    "### Tuple \n",
    "The are ordered collection of items but immutable."
   ]
  },
  {
   "cell_type": "code",
   "execution_count": 3,
   "id": "6dac4dd5",
   "metadata": {},
   "outputs": [
    {
     "name": "stdout",
     "output_type": "stream",
     "text": [
      "<class 'tuple'>\n"
     ]
    }
   ],
   "source": [
    "my_tup = ()\n",
    "print(type(my_tup))\n",
    "\n",
    "# my_list =[]\n",
    "# my_dict = {}\n",
    "# my_set = set()\n",
    "# print(type(list))\n",
    "# print(type(dict))\n",
    "# print(type(my_set))\n"
   ]
  },
  {
   "cell_type": "code",
   "execution_count": null,
   "id": "519b6f1e",
   "metadata": {},
   "outputs": [
    {
     "name": "stdout",
     "output_type": "stream",
     "text": [
      "[<class 'int'>, <class 'str'>, <class 'float'>, <class 'bool'>]\n",
      "<generator object <genexpr> at 0x0000021BCC387920>\n",
      "<class 'int'>\n",
      "<class 'str'>\n",
      "<class 'float'>\n",
      "<class 'bool'>\n"
     ]
    }
   ],
   "source": [
    "mix_tuple = (1,\"Hello\", 8.9, False)\n",
    "\n",
    "\n",
    "print([type(i) for i in mix_tuple])\n",
    "print((type(i) for i in mix_tuple))  # this is Generator expression lazy on iteration\n",
    "\n",
    "# we can use this\n",
    "for t in (type(i) for i in mix_tuple):          #change    (type(i) for i in mix_tuple) to [type(i) for i in mix_tuple] see what happens \n",
    "    print(t)\n"
   ]
  },
  {
   "cell_type": "markdown",
   "id": "519be209",
   "metadata": {},
   "source": [
    "Generator Expression (type(i) for i in mix_tuple)\t                 List Comprehension [type(i) for i in mix_tuple]\n",
    "| Feature                          | Generator Expression `(type(i) for i in mix_tuple)` | List Comprehension `[type(i) for i in mix_tuple]` |\n",
    "|----------------------------------|----------------------------------------------------|--------------------------------------------------|\n",
    "| Evaluation                       | Lazy: Produces items one by one                   | Eager: Creates the entire list upfront          |\n",
    "| Memory Usage                     | Memory-efficient: No intermediate list stored     | Memory-heavy: Stores all results in a list      |\n",
    "| Execution                        | Computes values on-demand during iteration        | Computes all values before iteration starts     |"
   ]
  },
  {
   "cell_type": "code",
   "execution_count": null,
   "id": "a8f7a434",
   "metadata": {},
   "outputs": [
    {
     "name": "stdout",
     "output_type": "stream",
     "text": [
      "8.9\n"
     ]
    }
   ],
   "source": [
    "#Accessing elements\n",
    "mix_tuple = (1,\"Hello\", 8.9, False)\n",
    "\n",
    "print(mix_tuple[2])\n"
   ]
  },
  {
   "cell_type": "code",
   "execution_count": 4,
   "id": "5ca80457",
   "metadata": {},
   "outputs": [
    {
     "name": "stdout",
     "output_type": "stream",
     "text": [
      "(2, 3, 4, 5)\n",
      "(6, 5, 4, 3, 2, 1)\n"
     ]
    }
   ],
   "source": [
    "numbers = (1,2,3,4,5,6)\n",
    "\n",
    "print(numbers[1:-1])\n",
    "print(numbers[::-1])"
   ]
  },
  {
   "cell_type": "code",
   "execution_count": 7,
   "id": "fca1f9d8",
   "metadata": {},
   "outputs": [
    {
     "name": "stdout",
     "output_type": "stream",
     "text": [
      "6\n",
      "1\n"
     ]
    }
   ],
   "source": [
    "#Tuple operations  index and count\n",
    "numbers = (1,2,3,4,5,6,22,2,3,22)\n",
    "print(numbers.index(22))\n",
    "print(numbers.count(6))\n"
   ]
  },
  {
   "cell_type": "code",
   "execution_count": 12,
   "id": "b69a269c",
   "metadata": {},
   "outputs": [
    {
     "ename": "TypeError",
     "evalue": "'tuple' object does not support item assignment",
     "output_type": "error",
     "traceback": [
      "\u001b[1;31m---------------------------------------------------------------------------\u001b[0m",
      "\u001b[1;31mTypeError\u001b[0m                                 Traceback (most recent call last)",
      "Cell \u001b[1;32mIn[12], line 5\u001b[0m\n\u001b[0;32m      3\u001b[0m number \u001b[38;5;241m=\u001b[39m [\u001b[38;5;241m1\u001b[39m,\u001b[38;5;241m2\u001b[39m,\u001b[38;5;241m3\u001b[39m,\u001b[38;5;241m4\u001b[39m,\u001b[38;5;241m5\u001b[39m,\u001b[38;5;241m6\u001b[39m]\n\u001b[0;32m      4\u001b[0m number[\u001b[38;5;241m2\u001b[39m] \u001b[38;5;241m=\u001b[39m \u001b[38;5;124m\"\u001b[39m\u001b[38;5;124mheee\u001b[39m\u001b[38;5;124m\"\u001b[39m\n\u001b[1;32m----> 5\u001b[0m \u001b[43mnumbers\u001b[49m\u001b[43m[\u001b[49m\u001b[38;5;241;43m1\u001b[39;49m\u001b[43m]\u001b[49m \u001b[38;5;241m=\u001b[39m \u001b[38;5;241m22\u001b[39m\n\u001b[0;32m      7\u001b[0m \u001b[38;5;28mprint\u001b[39m(number)\n\u001b[0;32m      8\u001b[0m \u001b[38;5;28mprint\u001b[39m(numbers)\n",
      "\u001b[1;31mTypeError\u001b[0m: 'tuple' object does not support item assignment"
     ]
    }
   ],
   "source": [
    "#Immutable nature of tuple\n",
    "numbers = (1,2,3,4,5,6)\n",
    "number = [1,2,3,4,5,6]\n",
    "number[2] = \"heee\"\n",
    "numbers[1] = 22\n",
    "\n",
    "print(number)\n",
    "print(numbers)\n"
   ]
  },
  {
   "cell_type": "code",
   "execution_count": 15,
   "id": "2856a980",
   "metadata": {},
   "outputs": [
    {
     "name": "stdout",
     "output_type": "stream",
     "text": [
      "(1, 3.2, 'Hello')\n",
      "1\n",
      "3.2\n",
      "Hello\n"
     ]
    }
   ],
   "source": [
    "# Packing and Unpacking Tuple\n",
    "\n",
    "#packed tuple\n",
    "packed_tuple = 1,3.2,\"Hello\"\n",
    "print(packed_tuple)\n",
    "\n",
    "#unpacking\n",
    "a,b,c = packed_tuple\n",
    "\n",
    "print(a)\n",
    "print(b)\n",
    "print(c)"
   ]
  },
  {
   "cell_type": "code",
   "execution_count": null,
   "id": "41445ebc",
   "metadata": {},
   "outputs": [
    {
     "name": "stdout",
     "output_type": "stream",
     "text": [
      "1\n",
      "[3.2, 'Hello', 43]\n",
      "21\n"
     ]
    }
   ],
   "source": [
    "##Unpacking with *\n",
    "packed_tuple = 1,3.2,\"Hello\",43,21\n",
    "\n",
    "first,*middle,last = packed_tuple\n",
    "# *first, = packed_tuple            #it will throw an error with *first = packed_tuple\n",
    "print(first)\n",
    "print(middle)\n",
    "print(last)"
   ]
  },
  {
   "cell_type": "code",
   "execution_count": 19,
   "id": "13d03a18",
   "metadata": {},
   "outputs": [
    {
     "name": "stdout",
     "output_type": "stream",
     "text": [
      "1\n"
     ]
    }
   ],
   "source": [
    "tup = (1)\n",
    "print(tup)"
   ]
  },
  {
   "cell_type": "code",
   "execution_count": 26,
   "id": "db804f8f",
   "metadata": {},
   "outputs": [
    {
     "name": "stdout",
     "output_type": "stream",
     "text": [
      "b\n"
     ]
    }
   ],
   "source": [
    "#Nested Tuple\n",
    "\n",
    "nested_tuple = ((1,2,3),(\"a\",\"b\",\"c\"),(True,False),(3.2,9.8))\n",
    "\n",
    "a = nested_tuple[1][1]\n",
    "print(a)"
   ]
  },
  {
   "cell_type": "code",
   "execution_count": null,
   "id": "d9e3dd56",
   "metadata": {},
   "outputs": [
    {
     "name": "stdout",
     "output_type": "stream",
     "text": [
      "1 2 3 \n",
      "a b c \n",
      "True False \n",
      "3.2 9.8 \n"
     ]
    }
   ],
   "source": [
    "#iterating over nested tuple\n",
    "\n",
    "for sub_loop in nested_tuple:\n",
    "    for items in sub_loop :\n",
    "        print(items,end= \" \")          #this is for space between elements\n",
    "    print()                        #this is for new line"
   ]
  },
  {
   "cell_type": "code",
   "execution_count": 36,
   "id": "edb5237f",
   "metadata": {},
   "outputs": [
    {
     "name": "stdout",
     "output_type": "stream",
     "text": [
      "1 2 3\n",
      "a b c\n",
      "True False\n",
      "3.2 9.8\n"
     ]
    }
   ],
   "source": [
    "# The same Using unpacking with print() and sep parameter\n",
    "\n",
    "for inner_tuple in nested_tuple:\n",
    "    print(*inner_tuple)"
   ]
  }
 ],
 "metadata": {
  "kernelspec": {
   "display_name": "pytorch_env",
   "language": "python",
   "name": "python3"
  },
  "language_info": {
   "codemirror_mode": {
    "name": "ipython",
    "version": 3
   },
   "file_extension": ".py",
   "mimetype": "text/x-python",
   "name": "python",
   "nbconvert_exporter": "python",
   "pygments_lexer": "ipython3",
   "version": "3.12.3"
  }
 },
 "nbformat": 4,
 "nbformat_minor": 5
}
