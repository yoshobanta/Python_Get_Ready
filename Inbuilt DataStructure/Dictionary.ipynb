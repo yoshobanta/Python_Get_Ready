{
 "cells": [
  {
   "cell_type": "markdown",
   "id": "679be4f7",
   "metadata": {},
   "source": [
    "## Dictionary\n",
    "unorder and store data in  key - value pair where key should be unique .\n"
   ]
  },
  {
   "cell_type": "code",
   "execution_count": 7,
   "id": "b1520cd5",
   "metadata": {},
   "outputs": [
    {
     "name": "stdout",
     "output_type": "stream",
     "text": [
      "<class 'dict'>\n",
      "<class 'dict'>\n",
      "{}\n"
     ]
    }
   ],
   "source": [
    "empty_dic = dict()\n",
    "dic = {}\n",
    "print(type(empty_dic))\n",
    "print(type(dic))\n",
    "print(dic)"
   ]
  },
  {
   "cell_type": "code",
   "execution_count": null,
   "id": "313cd851",
   "metadata": {},
   "outputs": [
    {
     "name": "stdout",
     "output_type": "stream",
     "text": [
      "{'name': '787', 'age': 22}\n"
     ]
    }
   ],
   "source": [
    "# Single key is always used\n",
    "\n",
    "student = {\"name\" :\"Yosho\", \"age\" : 22 , \"name\" : \"787\" }\n",
    "print(student)\n"
   ]
  },
  {
   "cell_type": "code",
   "execution_count": 16,
   "id": "2b68ab31",
   "metadata": {},
   "outputs": [
    {
     "name": "stdout",
     "output_type": "stream",
     "text": [
      "Yosho\n",
      "787\n"
     ]
    }
   ],
   "source": [
    "# Accessing the dictionary elemnts\n",
    "\n",
    "student = {\"name\" :\"Yosho\", \"age\" : 22 , \"roll\" : 787 }\n",
    "print(student[\"name\"])\n",
    "print(student[\"roll\"])\n"
   ]
  },
  {
   "cell_type": "code",
   "execution_count": 19,
   "id": "9a36b700",
   "metadata": {},
   "outputs": [
    {
     "name": "stdout",
     "output_type": "stream",
     "text": [
      "{'name': 'Yosho', 'age': 22, 'roll': 40, 'grade': 'A'}\n",
      "{'name': 'Yosho', 'age': 22, 'grade': 'A'}\n"
     ]
    }
   ],
   "source": [
    "# Dictionary are mutable so we can modify them.\n",
    "\n",
    "student = {\"name\" :\"Yosho\", \"age\" : 22 , \"roll\" : 787 }\n",
    "\n",
    "student[\"roll\"] = 40     #Update a already exixting element     \n",
    "\n",
    "student[\"grade\"] = \"A\"    #added a new element\n",
    "\n",
    "print(student)\n",
    "\n",
    "del student[\"roll\"]\n",
    "\n",
    "print(student)\n"
   ]
  },
  {
   "cell_type": "code",
   "execution_count": 25,
   "id": "fd892864",
   "metadata": {},
   "outputs": [
    {
     "name": "stdout",
     "output_type": "stream",
     "text": [
      "dict_keys(['name', 'age', 'roll', 'grade'])\n",
      "dict_values(['Yosho', 22, 40, 'A'])\n",
      "dict_items([('name', 'Yosho'), ('age', 22), ('roll', 40), ('grade', 'A')])\n"
     ]
    }
   ],
   "source": [
    "# Dictionary methods\n",
    "\n",
    "student = {'name': 'Yosho', 'age': 22, 'roll': 40, 'grade': 'A'}\n",
    "\n",
    "keys = student.keys()\n",
    "print(keys)\n",
    "\n",
    "values = student.values()\n",
    "print(values)\n",
    "\n",
    "items = student.items()\n",
    "print(items)\n"
   ]
  },
  {
   "cell_type": "code",
   "execution_count": null,
   "id": "d5250495",
   "metadata": {},
   "outputs": [
    {
     "name": "stdout",
     "output_type": "stream",
     "text": [
      "{'name': 'Yosho1', 'age': 22, 'roll': 40, 'grade': 'A'}\n",
      "{'name': 'Yosho1', 'age': 22, 'roll': 40, 'grade': 'A'}\n"
     ]
    }
   ],
   "source": [
    "#Shallow Copy\n",
    "student = {'name': 'Yosho', 'age': 22, 'roll': 40, 'grade': 'A'}\n",
    "\n",
    "student_copy = student  #does not create a copy at all. Instead, it creates a new reference (or alias) to the same object in memory.\n",
    "\n",
    "student['name'] = \"Yosho1\"        \n",
    "\n",
    "print(student)\n",
    "print(student_copy)\n",
    "#both gets changed"
   ]
  },
  {
   "cell_type": "code",
   "execution_count": null,
   "id": "458ef326",
   "metadata": {},
   "outputs": [
    {
     "name": "stdout",
     "output_type": "stream",
     "text": [
      "{'name': 'Yosho2', 'age': 22, 'roll': 40, 'grade': 'A'}\n",
      "{'name': 'Yosho1', 'age': 22, 'roll': 40, 'grade': 'A'}\n"
     ]
    }
   ],
   "source": [
    "student_copy2 = student.copy()    #shallow copy    also check deep copy\n",
    "student['name'] = \"Yosho2\"\n",
    "print(student)\n",
    "print(student_copy2)\n"
   ]
  },
  {
   "cell_type": "code",
   "execution_count": null,
   "id": "48441909",
   "metadata": {},
   "outputs": [
    {
     "name": "stdout",
     "output_type": "stream",
     "text": [
      "[[1, 2], [3, 4]]\n",
      "[[99, 22], [3, 4]]\n",
      "[[1, 2], [3, 4]]\n",
      "[[42, 2], [3, 4]]\n"
     ]
    }
   ],
   "source": [
    "import copy\n",
    "\n",
    "original = [[1, 2], [3, 4]]\n",
    "\n",
    "shallow = copy.copy(original)            # also shallow = original.copy() check the difference .\n",
    "deep = copy.deepcopy(original)\n",
    "\n",
    "shallow[0] = [99,22]     \n",
    "#shallow[0][0] = 22 use this and see the diff in shallow if we change the inner sub list then it will reflect in the orginal. \n",
    "\n",
    "print(original)  \n",
    "print(shallow)   \n",
    "\n",
    "\n",
    "\n",
    "deep[0][0] = 42\n",
    "\n",
    "print(original)  \n",
    "print(deep)      \n"
   ]
  },
  {
   "cell_type": "code",
   "execution_count": 4,
   "id": "f64f5539",
   "metadata": {},
   "outputs": [
    {
     "name": "stdout",
     "output_type": "stream",
     "text": [
      "name:Yosho\n",
      "age:22\n",
      "roll:40\n",
      "grade:A\n"
     ]
    }
   ],
   "source": [
    "#iterating over dictionary  key,value , items  #### VVIMP \n",
    "\n",
    "student = {'name': 'Yosho', 'age': 22, 'roll': 40, 'grade': 'A'}\n",
    "\n",
    "Input = int(input(\"Pls enter what u want 1.keys 2.values 3.items\"))\n",
    "\n",
    "if Input == 1:\n",
    "    for key in student.keys():\n",
    "        print(key)\n",
    "elif Input == 2:\n",
    "    for value in student.values():\n",
    "        print(value)\n",
    "elif Input == 3:\n",
    "    for key,value in student.items():\n",
    "        print(f\"{key}:{value}\")\n",
    "else:\n",
    "    print(\"Pls print 1 / 2 / 3 only\")"
   ]
  },
  {
   "cell_type": "code",
   "execution_count": 5,
   "id": "e475cff5",
   "metadata": {},
   "outputs": [
    {
     "name": "stdout",
     "output_type": "stream",
     "text": [
      "{'student1': {'name': 'Yosho', 'age': 22}, 'student2': {'name': 'Jagan', 'age': 22}}\n"
     ]
    }
   ],
   "source": [
    "# Nested Dictionary\n",
    "\n",
    "students = {\n",
    "    \"student1\" :{\"name\" :\"Yosho\",\"age\" : 22},\n",
    "    \"student2\" :{\"name\" :\"Jagan\",\"age\" : 22}\n",
    "}\n",
    "\n",
    "print(students)"
   ]
  },
  {
   "cell_type": "code",
   "execution_count": 7,
   "id": "bc92174e",
   "metadata": {},
   "outputs": [
    {
     "name": "stdout",
     "output_type": "stream",
     "text": [
      "Yosho\n",
      "22\n"
     ]
    }
   ],
   "source": [
    "#Accessing values \n",
    "print(students[\"student1\"][\"name\"])\n",
    "print(students[\"student1\"][\"age\"])"
   ]
  },
  {
   "cell_type": "code",
   "execution_count": 8,
   "id": "c25b60ef",
   "metadata": {},
   "outputs": [
    {
     "name": "stdout",
     "output_type": "stream",
     "text": [
      "This is :- student1:{'name': 'Yosho', 'age': 22}\n",
      "name:Yosho\n",
      "age:22\n",
      "This is :- student2:{'name': 'Jagan', 'age': 22}\n",
      "name:Jagan\n",
      "age:22\n"
     ]
    }
   ],
   "source": [
    "#Iterating over nested dictionary\n",
    "\n",
    "for student_id,student_items in students.items():\n",
    "    print(f\"This is :- {student_id}:{student_items}\")\n",
    "    for keys,values in student_items.items():\n",
    "        print(f\"{keys}:{values}\")"
   ]
  },
  {
   "cell_type": "code",
   "execution_count": 9,
   "id": "92805e56",
   "metadata": {},
   "outputs": [
    {
     "name": "stdout",
     "output_type": "stream",
     "text": [
      "{1: 1, 2: 4, 3: 9, 4: 16, 5: 25}\n"
     ]
    }
   ],
   "source": [
    "#Dictionary comphrehension\n",
    "\n",
    "squares = { x:x**2 for x in range(1,6)}\n",
    "print(squares)"
   ]
  },
  {
   "cell_type": "code",
   "execution_count": 10,
   "id": "b6269d7b",
   "metadata": {},
   "outputs": [
    {
     "name": "stdout",
     "output_type": "stream",
     "text": [
      "{2: 4, 4: 16, 6: 36, 8: 64, 10: 100, 12: 144, 14: 196, 16: 256, 18: 324, 20: 400}\n"
     ]
    }
   ],
   "source": [
    "#Condition Dictionary comphrehension\n",
    "\n",
    "even_squares = {x:x**2 for x in range(1,21) if x%2 == 0}\n",
    "print(even_squares)"
   ]
  },
  {
   "cell_type": "code",
   "execution_count": 66,
   "id": "48fd2ac6",
   "metadata": {},
   "outputs": [
    {
     "name": "stdout",
     "output_type": "stream",
     "text": [
      "{1: 1, 2: 2, 3: 1, 4: 1, 5: 2, 6: 1, 7: 2, -1: 1, 0: 2}\n"
     ]
    }
   ],
   "source": [
    "# Practical example\n",
    "\n",
    "#Use a dicionary to count the frequency of elements in list\n",
    "\n",
    "numbers = [1,2,2,3,4,5,5,6,7,7,-1,5*0,0]\n",
    "\n",
    "#using dictionary\n",
    "frequency = {}\n",
    "\n",
    "for number in numbers:\n",
    "    if number in frequency:     # this is for key\n",
    "        frequency[number] += 1           #if already present the +1 the value\n",
    "    else :\n",
    "        frequency[number] = 1       #this is for the 1st occurance\n",
    "\n",
    "print(frequency)\n"
   ]
  },
  {
   "cell_type": "code",
   "execution_count": 4,
   "id": "1e83ce83",
   "metadata": {},
   "outputs": [
    {
     "name": "stdout",
     "output_type": "stream",
     "text": [
      "Yosho\n",
      "True\n"
     ]
    }
   ],
   "source": [
    "## This is for the above code understanding\n",
    "\n",
    "student = {'name': 'Yosho', 'age': 22, 'roll': 40, 'grade': 'A'}\n",
    "\n",
    "print(student[\"name\"]) \n",
    "\n",
    "print('name' in student)"
   ]
  },
  {
   "cell_type": "code",
   "execution_count": 71,
   "id": "fbaaa07f",
   "metadata": {},
   "outputs": [
    {
     "name": "stdout",
     "output_type": "stream",
     "text": [
      "{'name': 'Yosho', 'age': 22, 'nicekname': 'Jagan'}\n"
     ]
    }
   ],
   "source": [
    "# Merging two dictionary\n",
    "\n",
    "dict_1 = {\"name\" :\"Yosho\",\"age\" : 22}\n",
    "dict_2 = {\"nicekname\" :\"Jagan\",\"age\" : 22}\n",
    "\n",
    "merge_dict = {**dict_1,**dict_2}\n",
    "print(merge_dict)"
   ]
  },
  {
   "cell_type": "code",
   "execution_count": 5,
   "id": "0e289499",
   "metadata": {},
   "outputs": [
    {
     "name": "stdout",
     "output_type": "stream",
     "text": [
      "{1: 1, 2: 2, 3: 1, 4: 1, 5: 2, 6: 1, 7: 2}\n"
     ]
    }
   ],
   "source": [
    "#Use a dicionary to count the frequency of elements in list\n",
    "\n",
    "numbers = [1,2,2,3,4,5,5,6,7,7]\n",
    "\n",
    "frequency = {}\n",
    "\n",
    "for i in numbers :\n",
    "    if i in frequency :\n",
    "        frequency[i] +=1\n",
    "    else:\n",
    "        frequency[i] = 1\n",
    "\n",
    "print(frequency)\n",
    "        "
   ]
  }
 ],
 "metadata": {
  "kernelspec": {
   "display_name": "pytorch_env",
   "language": "python",
   "name": "python3"
  },
  "language_info": {
   "codemirror_mode": {
    "name": "ipython",
    "version": 3
   },
   "file_extension": ".py",
   "mimetype": "text/x-python",
   "name": "python",
   "nbconvert_exporter": "python",
   "pygments_lexer": "ipython3",
   "version": "3.12.3"
  }
 },
 "nbformat": 4,
 "nbformat_minor": 5
}
