{
 "cells": [
  {
   "cell_type": "markdown",
   "id": "ccd2abb1",
   "metadata": {},
   "source": [
    "## 05/47"
   ]
  },
  {
   "cell_type": "code",
   "execution_count": 11,
   "id": "68634ed7",
   "metadata": {},
   "outputs": [
    {
     "name": "stdout",
     "output_type": "stream",
     "text": [
      "['apple', 'banana', 'grapes', 'mango']\n",
      "['apple', 'watermaleon', 'grapes', 'mango']\n",
      "['apple', 'c', 'h', 'e', 'r', 'r', 'y']\n",
      "['apple', 'banana', 'grapes', 'mango']\n",
      "['apple', 'cherry']\n"
     ]
    }
   ],
   "source": [
    "#List\n",
    "\n",
    "lst = [\"apple\",\"banana\",\"grapes\",\"mango\"]\n",
    "print(lst)\n",
    "lst[1] = \"watermaleon\"\n",
    "print(lst)\n",
    "\n",
    "lst[1:] = \"cherry\"\n",
    "print(lst)\n",
    "\n",
    "lst = [\"apple\",\"banana\",\"grapes\",\"mango\"]\n",
    "\n",
    "print(lst)\n",
    "lst[1:] = [\"cherry\"]\n",
    "print(lst)"
   ]
  },
  {
   "cell_type": "code",
   "execution_count": 12,
   "id": "ba684a0f",
   "metadata": {},
   "outputs": [
    {
     "name": "stdout",
     "output_type": "stream",
     "text": [
      "3\n",
      "['apple', 'banana', 'grapes', 'mango']\n",
      "['apple', 'cherry', 'banana', 'grapes', 'mango']\n"
     ]
    }
   ],
   "source": [
    "lst = [\"apple\",\"banana\",\"grapes\",\"mango\"]\n",
    "print(lst.index(\"mango\"))\n",
    "\n",
    "print(lst)\n",
    "lst.insert(1,\"cherry\")                       #Inserting in between 2 elements .\n",
    "print(lst)"
   ]
  },
  {
   "cell_type": "markdown",
   "id": "1b432cf6",
   "metadata": {},
   "source": [
    "| Method         | Behavior                                                                    |\n",
    "| -------------- | --------------------------------------------------------------------------- |\n",
    "| `pop(index)`   | Removes the element at the given index and **returns** it.                  |\n",
    "| `remove(item)` | Removes the **first occurrence** of the item from the list. Returns `None`. |\n"
   ]
  },
  {
   "cell_type": "code",
   "execution_count": null,
   "id": "2ef544b9",
   "metadata": {},
   "outputs": [
    {
     "name": "stdout",
     "output_type": "stream",
     "text": [
      "['apple', 'banana', 'grapes', 'mango', 'apple']\n",
      "banana\n",
      "None\n",
      "['grapes', 'mango', 'apple']\n"
     ]
    }
   ],
   "source": [
    "# Pop vs Remove\n",
    "lst = [\"apple\",\"banana\",\"grapes\",\"mango\",\"apple\"]\n",
    "print(lst)\n",
    "print(lst.pop(1))                                       \n",
    "\n",
    "print(lst.remove(\"apple\"))                              \n",
    "print(lst)"
   ]
  },
  {
   "cell_type": "code",
   "execution_count": 15,
   "id": "20c1fa9e",
   "metadata": {},
   "outputs": [
    {
     "name": "stdout",
     "output_type": "stream",
     "text": [
      "['apple', 'banana', 'grapes', 'mango', 'cherry']\n",
      "1\n",
      "['apple', 'banana', 'cherry', 'grapes', 'mango']\n"
     ]
    }
   ],
   "source": [
    "lst = [\"apple\",\"banana\",\"grapes\",\"mango\"]\n",
    "lst.append(\"cherry\")\n",
    "print(lst)\n",
    "print(lst.count(\"apple\"))\n",
    "lst.sort()\n",
    "print(lst)"
   ]
  },
  {
   "cell_type": "code",
   "execution_count": 20,
   "id": "71deac45",
   "metadata": {},
   "outputs": [
    {
     "name": "stdout",
     "output_type": "stream",
     "text": [
      "['z', 'a', 'b', 'ball', 'bb', 'ab', 'ac']\n",
      "['a', 'ab', 'ac', 'b', 'ball', 'bb', 'z']\n",
      "['a', 'ab', 'ac', 'b', 'ball', 'bb', 'z']\n"
     ]
    }
   ],
   "source": [
    "test = [\"z\",'a','b', \"ball\",\"bb\",\"ab\",\"ac\"]\n",
    "print(test)\n",
    "test.sort()      # but if we print (test.sort()) it will give us None.\n",
    "print(test)\n",
    "\n",
    "test = [\"z\",'a','b', \"ball\",\"bb\",\"ab\",\"ac\"]\n",
    "sorted_list = sorted(test)\n",
    "print(sorted_list)"
   ]
  },
  {
   "cell_type": "markdown",
   "id": "2ffed79c",
   "metadata": {},
   "source": [
    "| Method         | Modifies original? | Returns sorted list?  |\n",
    "| -------------- | ------------------ | --------------------- |\n",
    "| `list.sort()`  | ✅ Yes              | ❌ No (returns `None`) |\n",
    "| `sorted(list)` | ❌ No               | ✅ Yes                 |\n"
   ]
  },
  {
   "cell_type": "code",
   "execution_count": 18,
   "id": "6f637967",
   "metadata": {},
   "outputs": [
    {
     "name": "stdout",
     "output_type": "stream",
     "text": [
      "[1, 299, 6, 7, 43, 2, 144, 6]\n",
      "[1, 2, 6, 6, 7, 43, 144, 299]\n",
      "[299, 144, 43, 7, 6, 6, 2, 1]\n"
     ]
    }
   ],
   "source": [
    "num = [1,299,6,7,43,2,144,6]\n",
    "print(num)\n",
    "num.sort()\n",
    "print(num)\n",
    "num.reverse()\n",
    "print(num)"
   ]
  },
  {
   "cell_type": "code",
   "execution_count": 23,
   "id": "06d4008f",
   "metadata": {},
   "outputs": [
    {
     "name": "stdout",
     "output_type": "stream",
     "text": [
      "[6, 144, 2, 43, 7, 6, 299, 1]\n"
     ]
    }
   ],
   "source": [
    "num = [1,299,6,7,43,2,144,6]\n",
    "rev_num = list(reversed(num))\n",
    "print(rev_num)"
   ]
  },
  {
   "cell_type": "markdown",
   "id": "10b49f2a",
   "metadata": {},
   "source": [
    "| Method           | In-place (modifies original)? | Return value          |\n",
    "| ---------------- | ----------------------------- | --------------------- |\n",
    "| `list.reverse()` | ✅ Yes                         | `None`                |\n",
    "| `reversed(list)` | ❌ No (returns iterator)       | New reversed iterator |\n"
   ]
  },
  {
   "cell_type": "markdown",
   "id": "8d8f46ff",
   "metadata": {},
   "source": [
    "| Function         | Returns             | List or Iterator?           | Modifies original? |\n",
    "| ---------------- | ------------------- | --------------------------- | ------------------ |\n",
    "| `sorted(list)`   | Sorted **new list** | ✅ List                      | ❌ No               |\n",
    "| `list.sort()`    | `None`              | ✅ Sorts in-place            | ✅ Yes              |\n",
    "| `reversed(list)` | Reverse iterator    | ❌ Not a list (use `list()`) | ❌ No               |\n",
    "| `list.reverse()` | `None`              | ✅ Reverses in-place         | ✅ Yes              |\n"
   ]
  },
  {
   "cell_type": "code",
   "execution_count": null,
   "id": "5a57d85d",
   "metadata": {},
   "outputs": [
    {
     "name": "stdout",
     "output_type": "stream",
     "text": [
      "[1, 2, 3, 4, 5, 6, 7, 8, 9, 10]\n",
      "[1, 2, 3, 4, 5, 6, 7, 8, 9, 10]\n",
      "[1, 3, 5, 7, 9]\n",
      "[2, 3, 4, 5, 6, 7, 8, 9, 10]\n",
      "[2, 3, 4, 5]\n",
      "[2, 4]\n",
      "[10, 9, 8, 7, 6, 5, 4, 3, 2, 1]\n",
      "[1, 2, 3, 4, 5, 6, 7]\n"
     ]
    }
   ],
   "source": [
    "## Sclicing in a list\n",
    "num = [1,2,3,4,5,6,7,8,9,10]\n",
    "\n",
    "print(num[::])\n",
    "print(num[::1])       #step default value is 1\n",
    "print(num[::2])\n",
    "print(num[1:])\n",
    "print(num[1:5])\n",
    "print(num[1:5:2])\n",
    "print(num[::-1])  #reverse\n",
    "print(num[:7])\n",
    "\n",
    "# it will not change the original list it will return a new list \n"
   ]
  },
  {
   "cell_type": "code",
   "execution_count": 26,
   "id": "84c65f24",
   "metadata": {},
   "outputs": [
    {
     "name": "stdout",
     "output_type": "stream",
     "text": [
      "Reversed List - [10, 9, 8, 7, 6, 5, 4, 3, 2, 1]\n",
      "This is original list - [1, 2, 3, 4, 5, 6, 7, 8, 9, 10]\n"
     ]
    }
   ],
   "source": [
    "num = [1,2,3,4,5,6,7,8,9,10]\n",
    "print(\"Reversed List -\",num[::-1])\n",
    "print(\"This is original list -\",num)\n"
   ]
  },
  {
   "cell_type": "markdown",
   "id": "d97e5047",
   "metadata": {},
   "source": [
    "#### list comprehension\n",
    " Basic syntax: [expression for item/expression in iterable]\n",
    "\n",
    "with condition logic: [expression for item/expression in iterable if condition]\n",
    "\n",
    "nested list comprehension: [expression for item1/expression1 in iterable for item2/expression2 in iterable2]\n",
    "\n"
   ]
  },
  {
   "cell_type": "code",
   "execution_count": 16,
   "id": "8bdede16",
   "metadata": {},
   "outputs": [
    {
     "data": {
      "text/plain": [
       "[2, 4, 6, 8, 10, 12, 14, 16, 18, 20, 22, 24, 26, 28, 30, 32, 34, 36, 38]"
      ]
     },
     "execution_count": 16,
     "metadata": {},
     "output_type": "execute_result"
    }
   ],
   "source": [
    "#Even number using list comprehension\n",
    "\n",
    "[num for num in range(1,40) if num%2==0]"
   ]
  },
  {
   "cell_type": "code",
   "execution_count": 31,
   "id": "1923aad1",
   "metadata": {},
   "outputs": [
    {
     "name": "stdout",
     "output_type": "stream",
     "text": [
      "[1, 4, 27, 256, 3125, 46656, 823543, 16777216, 387420489]\n",
      "[1, 4, 9, 16, 25, 36, 49, 64, 81]\n"
     ]
    }
   ],
   "source": [
    "print([num**num for num in range(1,10)])\n",
    "print([num**2 for num in range(1,10)])"
   ]
  },
  {
   "cell_type": "code",
   "execution_count": 18,
   "id": "d537596d",
   "metadata": {},
   "outputs": [
    {
     "name": "stdout",
     "output_type": "stream",
     "text": [
      "[[1, 'apple'], [1, 'banana'], [1, 'grapes'], [1, 'mango'], [2, 'apple'], [2, 'banana'], [2, 'grapes'], [2, 'mango'], [3, 'apple'], [3, 'banana'], [3, 'grapes'], [3, 'mango'], [4, 'apple'], [4, 'banana'], [4, 'grapes'], [4, 'mango'], [5, 'apple'], [5, 'banana'], [5, 'grapes'], [5, 'mango']]\n"
     ]
    }
   ],
   "source": [
    "#nested list\n",
    "\n",
    "lst1 = [1,2,3,4,5]\n",
    "lst2 = [\"apple\",\"banana\",\"grapes\",\"mango\"]\n",
    "\n",
    "pair = [[i,j] for i in lst1 for j in lst2 ]\n",
    "print (pair)\n"
   ]
  },
  {
   "cell_type": "code",
   "execution_count": null,
   "id": "c5c2340e",
   "metadata": {},
   "outputs": [
    {
     "name": "stdout",
     "output_type": "stream",
     "text": [
      "[5, 6, 6, 5]\n"
     ]
    }
   ],
   "source": [
    "## list comprehension with function call\n",
    "\n",
    "words =[ \"apple\", \"banana\", \"grapes\", \"mango\"]\n",
    "\n",
    "lengths = [len(i) for i in lst]\n",
    "\n",
    "print(lengths)\n",
    "\n"
   ]
  }
 ],
 "metadata": {
  "kernelspec": {
   "display_name": "Python 3",
   "language": "python",
   "name": "python3"
  },
  "language_info": {
   "codemirror_mode": {
    "name": "ipython",
    "version": 3
   },
   "file_extension": ".py",
   "mimetype": "text/x-python",
   "name": "python",
   "nbconvert_exporter": "python",
   "pygments_lexer": "ipython3",
   "version": "3.13.2"
  }
 },
 "nbformat": 4,
 "nbformat_minor": 5
}
