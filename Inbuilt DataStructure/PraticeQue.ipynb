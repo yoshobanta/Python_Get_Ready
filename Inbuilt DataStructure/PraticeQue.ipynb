{
 "cells": [
  {
   "cell_type": "markdown",
   "id": "06b8f164",
   "metadata": {},
   "source": [
    "Practice Question of Inbuild Data Structure"
   ]
  },
  {
   "cell_type": "markdown",
   "id": "584a1135",
   "metadata": {},
   "source": [
    "#Find the max element in a list."
   ]
  },
  {
   "cell_type": "code",
   "execution_count": null,
   "metadata": {},
   "outputs": [
    {
     "name": "stdout",
     "output_type": "stream",
     "text": [
      "100\n"
     ]
    }
   ],
   "source": [
    "#Find the max element in a list.\n",
    "\n",
    "lst = [1,2,3,4,5,100,6,7,8,9,10]\n",
    "max = lst[0]\n",
    "for i in range(1,len(lst)):     # it will run from 1 to len(lst) i.e 10 but will not include 10 so i value will be 1-9\n",
    "    if max < lst[i]:\n",
    "        max = lst[i]\n",
    "    i +=1\n",
    "print(max)\n"
   ]
  },
  {
   "cell_type": "code",
   "execution_count": 9,
   "id": "fceda62e",
   "metadata": {},
   "outputs": [
    {
     "data": {
      "text/plain": [
       "88"
      ]
     },
     "execution_count": 9,
     "metadata": {},
     "output_type": "execute_result"
    }
   ],
   "source": [
    "# The avobe code but with function and with user input list. with some edge case\n",
    "\n",
    "def max_in_lst(lst):\n",
    "    if not lst:\n",
    "        return None\n",
    "    max_Value = lst[0]\n",
    "    for i in range(1,len(lst)):     # or use for i in lst[1:]\n",
    "        if max_Value < lst[i]:\n",
    "            max_Value= lst[i]\n",
    "        i +=1                       # if use for i in lst[1:] then no need of this \n",
    "    return max_Value\n",
    "\n",
    "i = 0\n",
    "size = int(input(\"Enter the size of the list\"))\n",
    "lst = []\n",
    "\n",
    "while i < size:\n",
    "    n = int(input(\"Enter a value\"))\n",
    "    lst += [n]\n",
    "    i += 1\n",
    "\n",
    "max_in_lst(lst)\n",
    "    "
   ]
  },
  {
   "cell_type": "code",
   "execution_count": 11,
   "id": "c2fe79b7",
   "metadata": {},
   "outputs": [
    {
     "name": "stdout",
     "output_type": "stream",
     "text": [
      "1010\n"
     ]
    }
   ],
   "source": [
    "#Alternative using inbuild function.\n",
    "def max_in_lst(lst):\n",
    "    return max(lst) if lst else None\n",
    "\n",
    "lst = [1,2,3,4,5,100,6,7,8,9,10,1010]\n",
    "print(max_in_lst(lst))"
   ]
  },
  {
   "cell_type": "markdown",
   "id": "fab1825d",
   "metadata": {},
   "source": [
    "Sum of List Elements\n",
    "\n",
    "Write a Python function that calculates the sum of all elements in a given list of integers.\n",
    "\n",
    "Parameters: numbers (List of integers): The input list containing integers.\n",
    "\n",
    "Returns: An integer representing the sum of all elements in the input list.\n",
    "\n",
    "Example:\n",
    "\n",
    "Input: numbers = [1, 2, 3, 4, 5]\n",
    "\n",
    "Output: 15\n",
    "\n",
    "Input: numbers = [10, -5, 7, 8, -2]\n",
    "\n",
    "Output: 18"
   ]
  },
  {
   "cell_type": "code",
   "execution_count": 1,
   "id": "886e1f82",
   "metadata": {},
   "outputs": [
    {
     "name": "stdout",
     "output_type": "stream",
     "text": [
      "0\n"
     ]
    }
   ],
   "source": [
    "lst = [1,2,3,4,5,-15]\n",
    "res = 0\n",
    "for i in lst:\n",
    "    res += i\n",
    "print(res)"
   ]
  },
  {
   "cell_type": "code",
   "execution_count": 13,
   "id": "3adebcdd",
   "metadata": {},
   "outputs": [
    {
     "name": "stdout",
     "output_type": "stream",
     "text": [
      "15\n"
     ]
    }
   ],
   "source": [
    "#Or we can use the build in function\n",
    "\n",
    "lst = [1,2,3,4,5]\n",
    "res = sum(lst)\n",
    "print(res)"
   ]
  },
  {
   "cell_type": "markdown",
   "id": "86217d21",
   "metadata": {},
   "source": [
    "Remove Duplicate in a List\n",
    "Instructions\n",
    "Remove Duplicates from a List\n",
    "\n",
    "You are given a list of integers. Write a Python program that removes any duplicate elements from the list and returns a new list with only unique elements. The order of elements in the list should be maintained.\n",
    "\n",
    "Parameters:\n",
    "\n",
    "lst (List of integers): The list of integers from which duplicates should be removed.\n",
    "\n",
    "Returns:\n",
    "\n",
    "A list of integers where all duplicates have been removed, preserving the original order.\n",
    "\n",
    "Example:\n",
    "\n",
    "Input: lst = [1, 2, 2, 3, 4, 4, 5]\n",
    "Output: [1, 2, 3, 4, 5]\n",
    "\n",
    "Input: lst = [4, 5, 5, 4, 6, 7]\n",
    "Output: [4, 5, 6, 7]\n",
    "\n",
    "\n",
    "Note :- Please don't use set or inbuilt functions. Try to use brute force logic."
   ]
  },
  {
   "cell_type": "code",
   "execution_count": null,
   "id": "d2db8c1a",
   "metadata": {},
   "outputs": [
    {
     "name": "stdout",
     "output_type": "stream",
     "text": [
      "[2, 3, 4, 4]\n"
     ]
    }
   ],
   "source": [
    "lst = [1, 2, 2, 3, 4, 4, 5]\n",
    "res =[]\n",
    "\n",
    "for i in lst:                                #here i is not index but element . also if i = \"hello\" we define then also it will reassign .\n",
    "    if i not in res:\n",
    "        res += [lst[i]]\n",
    "print(res)"
   ]
  },
  {
   "cell_type": "markdown",
   "id": "b1cd296c",
   "metadata": {},
   "source": [
    "### 🔹 If `i` is already defined before the loop\n",
    "\n",
    "- If a variable `i` is defined before the loop, it will be **overwritten** during the loop.\n",
    "\n",
    "```python\n",
    "i = \"hello\"\n",
    "list = [1, 2, 3]\n",
    "for i in list:\n",
    "    print(i)\n",
    "print(\"After loop:\", i)\n"
   ]
  },
  {
   "cell_type": "markdown",
   "id": "604a2552",
   "metadata": {},
   "source": [
    "Check if all elements in a list are Unique\n",
    "Instructions\n",
    "Check if All Elements in a List are Unique\n",
    "\n",
    "You are given a list of integers. Write a Python program that checks if all elements in the list are unique. If all elements are unique, return True; otherwise, return False.\n",
    "\n",
    "Parameters:\n",
    "\n",
    "lst (List of integers): The list of integers to check for uniqueness.\n",
    "\n",
    "Returns:\n",
    "\n",
    "A boolean value True if all elements in the list are unique, False otherwise.\n",
    "\n",
    "Example:\n",
    "\n",
    "Input: lst = [1, 2, 3, 4, 5]\n",
    "Output: True\n",
    "\n",
    "Input: lst = [1, 2, 3, 3, 4, 5]\n",
    "Output: False"
   ]
  },
  {
   "cell_type": "markdown",
   "id": "34ea85e6",
   "metadata": {},
   "source": [
    "🔹 What is break in Python?\n",
    "The break statement is used inside loops (for or while) to exit the loop immediately, even if the loop condition is still true.\n",
    "✅ Why use break?\n",
    "To stop the loop early when a condition is met.\n",
    "\n",
    "Improves efficiency — no need to continue once your goal is achieved.\n",
    "\n"
   ]
  },
  {
   "cell_type": "code",
   "execution_count": 20,
   "id": "ab98521b",
   "metadata": {},
   "outputs": [
    {
     "name": "stdout",
     "output_type": "stream",
     "text": [
      "False\n"
     ]
    }
   ],
   "source": [
    "lst = [1, 2, 2, 3, 4, 4, 5]\n",
    "res = set()\n",
    "has_dupicate = False\n",
    "for i in lst:                                \n",
    "    if i in res:\n",
    "        has_dupicate = True\n",
    "        break\n",
    "    res.add(i)\n",
    "    \n",
    "print(not has_dupicate)"
   ]
  },
  {
   "cell_type": "code",
   "execution_count": 24,
   "id": "9984d779",
   "metadata": {},
   "outputs": [
    {
     "data": {
      "text/plain": [
       "True"
      ]
     },
     "execution_count": 24,
     "metadata": {},
     "output_type": "execute_result"
    }
   ],
   "source": [
    "def not_dupicate(lst):\n",
    "    res = set()\n",
    "    for i in lst:\n",
    "        if i not in res:\n",
    "            res.add(i)\n",
    "        else:\n",
    "            return False\n",
    "    return True\n",
    "\n",
    "\n",
    "lst =[1, 2, 3]\n",
    "not_dupicate(lst)"
   ]
  },
  {
   "cell_type": "code",
   "execution_count": null,
   "id": "da37b506",
   "metadata": {},
   "outputs": [
    {
     "name": "stdout",
     "output_type": "stream",
     "text": [
      "False\n"
     ]
    }
   ],
   "source": [
    "# The same program without using set . Only with knowdgleg of qs\n",
    "lst = [1, 2, 3, 4,5]\n",
    "res =[]\n",
    "has_dupicate = False\n",
    "i = 0\n",
    "while i < len(lst):\n",
    "    if lst[i] in res:\n",
    "        has_dupicate = True\n",
    "    res += [lst[i]]\n",
    "    i +=1\n",
    "print(has_dupicate)\n",
    "\n"
   ]
  },
  {
   "cell_type": "markdown",
   "id": "7abddffe",
   "metadata": {},
   "source": [
    "Program to Reverse a List\n",
    "Instructions\n",
    "Reverse a List (Non-Slicing Approach)\n",
    "\n",
    "You are given a list of integers. Write a Python program that reverses the list without using slicing (lst[::-1]). The program should return the reversed list.\n",
    "\n",
    "Parameters:\n",
    "\n",
    "lst (List of integers): The list of integers to be reversed.\n",
    "\n",
    "Returns:\n",
    "\n",
    "A list of integers where the order of elements is reversed from the input list.\n",
    "\n",
    "Example:\n",
    "\n",
    "Input: lst = [1, 2, 3, 4, 5]\n",
    "Output: [5, 4, 3, 2, 1]"
   ]
  },
  {
   "cell_type": "code",
   "execution_count": 6,
   "id": "731a4868",
   "metadata": {},
   "outputs": [
    {
     "name": "stdout",
     "output_type": "stream",
     "text": [
      "[22, 54, 23, 45, 3, 2, 1]\n"
     ]
    }
   ],
   "source": [
    "lst = [1,2,3,45,23,54,22]\n",
    "rev_lst = []\n",
    "\n",
    "for i in lst:\n",
    "    rev_lst = [i] + rev_lst\n",
    "print(rev_lst)"
   ]
  },
  {
   "cell_type": "markdown",
   "id": "2a145793",
   "metadata": {},
   "source": [
    "⚠️ Downside of using list concatination:\n",
    "This method is less efficient for large lists because [i] + rev_lst creates a new list each time, increasing time complexity to O(n²)."
   ]
  },
  {
   "cell_type": "markdown",
   "id": "91fbc92a",
   "metadata": {},
   "source": [
    "✅ Advantage using 2 pointer:\n",
    "This is an in-place reverse, modifying the original list.\n",
    "\n",
    "Much faster (O(n)) and memory efficient."
   ]
  },
  {
   "cell_type": "code",
   "execution_count": 30,
   "id": "d1978561",
   "metadata": {},
   "outputs": [
    {
     "name": "stdout",
     "output_type": "stream",
     "text": [
      "[45, 3, 2, 1]\n"
     ]
    }
   ],
   "source": [
    "# Alternate\n",
    "# It is two pointer apporch\n",
    "# Here we will use two points start point of the list and end point of the list.\n",
    "# we will swap and increse start point by 1 and decrese end by 1 until we get start < end . we will move towards middle.\n",
    "#until then we will swap the values.\n",
    "#Also here no new rev list required\n",
    "\n",
    "\n",
    "def swap_lst(lst):\n",
    "    start = 0\n",
    "    end = len(lst)\n",
    "    while start < end:\n",
    "        lst[start],lst[end-1] = lst[end-1],lst[start]\n",
    "        start += 1\n",
    "        end -=1\n",
    "    return lst\n",
    "\n",
    "lst = [1,2,3,45]\n",
    "\n",
    "print(swap_lst(lst))"
   ]
  },
  {
   "cell_type": "markdown",
   "id": "eb5a3f2d",
   "metadata": {},
   "source": [
    "Count Number of Odd and Even Elements in a List\n",
    "Instructions\n",
    "Count Even and Odd Numbers in a List\n",
    "\n",
    "You are given a list of integers. Write a Python program that counts and returns the number of even and odd numbers in the list.\n",
    "\n",
    "Parameters:\n",
    "\n",
    "lst (List of integers): The list of integers where you will count the even and odd numbers.\n",
    "\n",
    "Returns:\n",
    "\n",
    "A tuple (even_count, odd_count) where even_count is the number of even numbers and odd_count is the number of odd numbers.\n",
    "\n",
    "Example:\n",
    "\n",
    "Input: lst = [1, 2, 3, 4, 5]\n",
    "Output: (2, 3)\n",
    "\n",
    "There are 2 even numbers: 2, 4\n",
    "\n",
    "There are 3 odd numbers: 1, 3, 5"
   ]
  },
  {
   "cell_type": "code",
   "execution_count": 36,
   "id": "2a05f13b",
   "metadata": {},
   "outputs": [
    {
     "name": "stdout",
     "output_type": "stream",
     "text": [
      "(2, 3)\n"
     ]
    }
   ],
   "source": [
    "lst = [1,2,3,4,5]\n",
    "\n",
    "even_count = 0\n",
    "odd_count = 0\n",
    "\n",
    "for i in lst:\n",
    "    if i%2 == 0:\n",
    "        even_count += 1\n",
    "    else:\n",
    "        odd_count += 1\n",
    "\n",
    "res = (even_count,odd_count)\n",
    "print(res)"
   ]
  },
  {
   "cell_type": "markdown",
   "id": "88747af2",
   "metadata": {},
   "source": [
    "Maximum difference between two consecutive elements in a list.\n",
    "Instructions\n",
    "Find Maximum Difference Between Two Consecutive Elements (Brute Force Approach)\n",
    "\n",
    "You are given a list of integers. Write a Python program to find the maximum difference between two consecutive elements in the list using a brute-force approach. The difference is defined as the absolute value of the difference between two consecutive elements.\n",
    "\n",
    "Parameters:\n",
    "\n",
    "lst (List of integers): A list of integers.\n",
    "\n",
    "Returns:\n",
    "\n",
    "An integer representing the maximum difference between two consecutive elements.\n",
    "\n",
    "Example:\n",
    "\n",
    "Input: lst = [1, 7, 3, 10, 5]\n",
    "Output: 7\n",
    "\n",
    "The maximum difference is between 3 and 10 (i.e., |3 - 10| = 7).\n",
    "\n",
    "Input: lst = [10, 11, 15, 3]\n",
    "Output: 12\n",
    "\n",
    "The maximum difference is between 15 and 3 (i.e., |15 - 3| = 12)."
   ]
  },
  {
   "cell_type": "code",
   "execution_count": null,
   "id": "4abd4e32",
   "metadata": {},
   "outputs": [
    {
     "name": "stdout",
     "output_type": "stream",
     "text": [
      "12\n"
     ]
    }
   ],
   "source": [
    "# mine version we are not checking consutive number but we are checking each number with each other so its max difference in list.\n",
    "# also if we want to get the max diff in a list it is easier if we find the greatest and smallest number in the list then find thier difference. \n",
    "# So in that way no need to go through each diff and storing and all. \n",
    "lst = [10,11,15,3]\n",
    "max_diff = 0\n",
    "for i in range(len(lst)):\n",
    "    for j in range(1,len(lst)):\n",
    "        diff = abs(lst[j]-lst[i])\n",
    "        if diff > max_diff:\n",
    "            max_diff = diff\n",
    "\n",
    "print(max_diff)\n",
    "    \n"
   ]
  },
  {
   "cell_type": "code",
   "execution_count": null,
   "id": "5a6892b5",
   "metadata": {},
   "outputs": [
    {
     "name": "stdout",
     "output_type": "stream",
     "text": [
      "7\n"
     ]
    }
   ],
   "source": [
    "# This is the real answer as we only need to check the consecutive difference.\n",
    "def max_consecutive_diff(lst):\n",
    "    if len(lst) < 2:\n",
    "        return 0\n",
    "    \n",
    "    max_diff = 0\n",
    "    for i in range(1,len(lst)):\n",
    "        current_diff = abs(lst[i]-lst[i-1])\n",
    "        if current_diff > max_diff:\n",
    "            max_diff = current_diff\n",
    "    return max_diff\n",
    "\n",
    "lst = [1,7,3,10,5]\n",
    "print(max_consecutive_diff(lst))\n",
    "    "
   ]
  },
  {
   "cell_type": "markdown",
   "id": "12a44ba0",
   "metadata": {},
   "source": [
    "Merge two Sorted List\n",
    "Instructions\n",
    "Merge Two Sorted Lists\n",
    "\n",
    "You are given two sorted lists of integers. Write a Python function to merge these two sorted lists into one sorted list. The resulting list should also be in non-decreasing order.\n",
    "\n",
    "Parameters:\n",
    "\n",
    "list1 (List of integers): The first sorted list.\n",
    "\n",
    "list2 (List of integers): The second sorted list.\n",
    "\n",
    "Returns:\n",
    "\n",
    "A single list of integers, containing all elements from list1 and list2, sorted in non-decreasing order.\n",
    "\n",
    "Example:\n",
    "\n",
    "Input: list1 = [1, 3, 5], list2 = [2, 4, 6]\n",
    "Output: [1, 2, 3, 4, 5, 6]\n",
    "\n",
    "Input: list1 = [1, 4, 7], list2 = [2, 3, 5, 8]\n",
    "Output: [1, 2, 3, 4, 5, 7, 8]"
   ]
  },
  {
   "cell_type": "code",
   "execution_count": null,
   "id": "8061fd42",
   "metadata": {},
   "outputs": [
    {
     "name": "stdout",
     "output_type": "stream",
     "text": [
      "[1, 2, 3, 4, 5, 6, 7]\n"
     ]
    }
   ],
   "source": [
    "# Could not think . solve it till 1 hr+ then finally look up for the answer. i tried two pointer, well i am trying for loop.\n",
    "# This is where for loop defeted . like while i am doing i have to index = index -1 so that when for loop +1 the index i will not skip the value.\n",
    "# Great problem eye opner . Well I was trying to find the difference between for and while really before 2 problems god said here u go.\n",
    "lst1 = [1,3,5]\n",
    "lst2 =[2,4,6,7]\n",
    "res = []\n",
    "i,j = 0,0\n",
    "\n",
    "while i < len(lst1) and j < len(lst2):\n",
    "    if lst1[i]< lst2[j]:\n",
    "        res.append(lst1[i])\n",
    "        i += 1\n",
    "    else:\n",
    "        res.append(lst2[j])\n",
    "        j +=1\n",
    "\n",
    "while i < len(lst1):\n",
    "    res.append(lst1[i])\n",
    "    i +=1\n",
    "\n",
    "while j < len(lst2):\n",
    "    res.append(lst2[j])\n",
    "    j +=1\n",
    "\n",
    "print(res)\n",
    "           \n",
    "            \n"
   ]
  },
  {
   "cell_type": "markdown",
   "id": "b4da7138",
   "metadata": {},
   "source": [
    "Rotate a List\n",
    "Instructions\n",
    "Rotate a List (Without Slicing)\n",
    "\n",
    "You are given a list of integers and an integer k. Write a Python function to rotate the list to the right by k positions without using slicing. A rotation shifts elements from the end of the list to the front.\n",
    "\n",
    "Parameters:\n",
    "\n",
    "lst (List of integers): The list to be rotated.\n",
    "\n",
    "k (Integer): The number of positions to rotate the list.\n",
    "\n",
    "Returns:\n",
    "\n",
    "A list of integers rotated by k positions.\n",
    "\n",
    "Example:\n",
    "\n",
    "Input: lst = [1, 2, 3, 4, 5], k = 2\n",
    "Output: [4, 5, 1, 2, 3]\n",
    "\n",
    "Input: lst = [10, 20, 30, 40, 50], k = 3\n",
    "Output: [30, 40, 50, 10, 20]"
   ]
  },
  {
   "cell_type": "code",
   "execution_count": null,
   "id": "884429cc",
   "metadata": {},
   "outputs": [
    {
     "name": "stdout",
     "output_type": "stream",
     "text": [
      "[2, 2, 2, 2]\n"
     ]
    }
   ],
   "source": [
    "# This is the sol without using any built in function it took nearlly 1.5 hr still half way done had to reffer and get some hint .\n",
    "#Another one in a row . whyyy well its a great one . If not using any built in function and using pure logic only.\n",
    "def Rotate_list(lst,k):\n",
    "    n = len(lst)\n",
    "    if n == 0:\n",
    "        return lst\n",
    "    \n",
    "    k = k%n\n",
    "\n",
    "    rotated = [0]*n     #For directly replacing the element.\n",
    "\n",
    "    for i in range(n):\n",
    "        new_index = (i+k) % n\n",
    "        rotated[new_index] =lst[i]\n",
    "\n",
    "    return rotated \n",
    "\n",
    "\n",
    "\n",
    "lst = [1,2,3,4,5]\n",
    "k = 2\n",
    "print(Rotate_list(lst,k))\n",
    "\n"
   ]
  },
  {
   "cell_type": "code",
   "execution_count": 43,
   "id": "b6aec68d",
   "metadata": {},
   "outputs": [
    {
     "name": "stdout",
     "output_type": "stream",
     "text": [
      "1\n",
      "23\n",
      "2\n"
     ]
    }
   ],
   "source": [
    "a = 21%10\n",
    "b = 234//10\n",
    "print(a)\n",
    "print(b)\n",
    "\n",
    "c = 7%5      # 5*0 = 0 so 4-0 = 4 so remainder is 4.    5)4( \n",
    "print(c)"
   ]
  },
  {
   "cell_type": "code",
   "execution_count": 29,
   "id": "e2958f2e",
   "metadata": {},
   "outputs": [
    {
     "name": "stdout",
     "output_type": "stream",
     "text": [
      "[4, 5]\n",
      "[1, 2, 3]\n",
      "[4, 5, 1, 2, 3]\n"
     ]
    }
   ],
   "source": [
    "# with slicing  ?\n",
    "lst = [1,2,3,4,5]\n",
    "print(lst [-2:])                         #Negative indexing to get the last k elements\n",
    "print(lst [:-2])                         #Negative indexing to get the elements before the last k\n",
    "res = (lst[-2:]+lst[:-2])\n",
    "print(res)"
   ]
  },
  {
   "cell_type": "code",
   "execution_count": null,
   "id": "ea03de4c",
   "metadata": {},
   "outputs": [],
   "source": [
    "# using built in functions (real sol)\n",
    "def Rotate_list(lst,k):\n",
    "    n = len(lst)\n",
    "    if n == 0:\n",
    "        return lst\n",
    "    \n",
    "    k = k % n       \n",
    "    #Normalize k if k > len(lst)\n",
    "    # eg :why we need it If k is larger than n, rotating by k is the same as rotating by k % n.\n",
    "    # For example, rotating 5 elements by 7 is the same as rotating by 2.\n",
    "\n",
    "    for _ in range(k):\n",
    "        last = lst.pop()\n",
    "        lst.insert(0,last)\n",
    "    return lst"
   ]
  },
  {
   "cell_type": "code",
   "execution_count": null,
   "id": "04b034cb",
   "metadata": {},
   "outputs": [
    {
     "name": "stdout",
     "output_type": "stream",
     "text": [
      "[1, 2, 3, 4, 5]\n",
      "5\n",
      "[1, 2, 3, 4]\n",
      "[5, 1, 2, 3, 4]\n"
     ]
    }
   ],
   "source": [
    "# what actually we are doing ?\n",
    "lst = [1,2,3,4,5]\n",
    "print(lst)\n",
    "\n",
    "last = lst.pop()     #last elemt and will shrink the list\n",
    "print(last)\n",
    "print(lst)\n",
    "\n",
    "lst.insert(0,last)     #it will insert the last elemnt at position 0 and increase the list to is original length\n",
    "print(lst)\n"
   ]
  },
  {
   "cell_type": "code",
   "execution_count": 2,
   "id": "04818a46",
   "metadata": {},
   "outputs": [
    {
     "name": "stdout",
     "output_type": "stream",
     "text": [
      "12\n"
     ]
    }
   ],
   "source": [
    "lst = [1,12,3,4,5]\n",
    "print(max(lst))"
   ]
  }
 ],
 "metadata": {
  "kernelspec": {
   "display_name": "Python 3",
   "language": "python",
   "name": "python3"
  },
  "language_info": {
   "codemirror_mode": {
    "name": "ipython",
    "version": 3
   },
   "file_extension": ".py",
   "mimetype": "text/x-python",
   "name": "python",
   "nbconvert_exporter": "python",
   "pygments_lexer": "ipython3",
   "version": "3.13.2"
  }
 },
 "nbformat": 4,
 "nbformat_minor": 5
}
