{
 "cells": [
  {
   "cell_type": "markdown",
   "id": "c5a22f38",
   "metadata": {},
   "source": [
    "#### Use a list to collect user feedback"
   ]
  },
  {
   "cell_type": "code",
   "execution_count": 2,
   "id": "11c0b326",
   "metadata": {},
   "outputs": [
    {
     "name": "stdout",
     "output_type": "stream",
     "text": [
      "Positive feedback count - 2\n",
      "User Feedback:\n",
      "-Great service\n",
      "-Very satisfied\n",
      "-Could be better\n",
      "-Excellent experience\n",
      "-Not Happy With the Service\n"
     ]
    }
   ],
   "source": [
    "#Collecting user feedback\n",
    "\n",
    "feedback = [\"Great service\",\"Very satisfied\",\"Could be better\",\"Excellent experience\"]\n",
    "\n",
    "#Adding a new feedback\n",
    "feedback.append(\"Not Happy With the Service\")\n",
    "\n",
    "#Counting positive feedback\n",
    "positive_feedback_count = sum(1 for comment in feedback if \"great\" in comment.lower() or \"excellent\" in comment.lower())\n",
    "print(f\"Positive feedback count - {positive_feedback_count}\")\n",
    "\n",
    "\n",
    "# Unlike a list comprehension [1 for ...], the generator expression (1 for ...) produces values one at a time without creating an intermediate list in memory.\n",
    "#The generator does not create a list; instead, it produces values one at a time when requested.\n",
    "#sum() takes the generator as input.\n",
    "# It requests values from the generator one by one.\n",
    "# Each time it receives a 1 from the generator, it adds it to an internal running total.\n",
    "# This running total is stored inside the sum() function (in a local variable).\n",
    "# When the generator is exhausted (no more comments), sum() returns the total count.\n",
    "\n",
    "#Printing all feedback\n",
    "print(\"User Feedback:\")\n",
    "for items in feedback:\n",
    "    print(f\"-{items}\")"
   ]
  },
  {
   "cell_type": "markdown",
   "id": "f0a47dff",
   "metadata": {},
   "source": [
    "Internal Working of Sum\n",
    "Adds all the 1s from the generator expression.\n",
    "\n",
    "Let’s walk through it manually:\n",
    "\n",
    "\"Great service\" → \"great\" found ✅ → 1\n",
    "\n",
    "\"Very satisfied\" → nothing matched ❌ → skipped\n",
    "\n",
    "\"Could be better\" → nothing matched ❌ → skipped\n",
    "\n",
    "\"Excellent experience\" → \"excellent\" found ✅ → 1\n",
    "\n",
    "\"Not Happy With the Service\" → no match ❌ → skipped\n",
    "\n",
    "So the generator yields: 1, 1\n",
    "And sum(1, 1) → 2"
   ]
  }
 ],
 "metadata": {
  "kernelspec": {
   "display_name": "pytorch_env",
   "language": "python",
   "name": "python3"
  },
  "language_info": {
   "codemirror_mode": {
    "name": "ipython",
    "version": 3
   },
   "file_extension": ".py",
   "mimetype": "text/x-python",
   "name": "python",
   "nbconvert_exporter": "python",
   "pygments_lexer": "ipython3",
   "version": "3.12.3"
  }
 },
 "nbformat": 4,
 "nbformat_minor": 5
}
