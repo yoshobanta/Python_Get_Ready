{
 "cells": [
  {
   "cell_type": "markdown",
   "id": "7e51749b",
   "metadata": {},
   "source": [
    "### Sets\n",
    "\n",
    "Sets are inbuilt data structures in python used to store collection of unique items. They are unordered means the elements are not stored in any particular order and mutable. Sets are useful for membership testing and removing duplicates and performing set operations like union, intersection, difference etc."
   ]
  },
  {
   "cell_type": "code",
   "execution_count": 1,
   "id": "c17f9003",
   "metadata": {},
   "outputs": [
    {
     "name": "stdout",
     "output_type": "stream",
     "text": [
      "{1, 2, 3, 4, 5, 6, 7, 8, 9, 10}\n"
     ]
    },
    {
     "data": {
      "text/plain": [
       "set"
      ]
     },
     "execution_count": 1,
     "metadata": {},
     "output_type": "execute_result"
    }
   ],
   "source": [
    "my_set = {1,2,3,4,5,6,7,8,9,10,1,2,3,4,5,6,7,8,9,10}\n",
    "print(my_set)\n",
    "\n",
    "\n",
    "my_set2 = set()\n",
    "type(my_set2)\n"
   ]
  },
  {
   "cell_type": "code",
   "execution_count": 3,
   "id": "b8ba1249",
   "metadata": {},
   "outputs": [
    {
     "name": "stdout",
     "output_type": "stream",
     "text": [
      "{1, 2, 3, 4, 5, 6, 7, 8, 9, 10, 11, 12, 13, 14, 15}\n",
      "{2, 3, 4, 5, 6, 7, 8, 9, 10, 11, 12, 13, 14, 15}\n"
     ]
    }
   ],
   "source": [
    "## Basic Set Operations\n",
    "## Adding and Removing Elements\n",
    "\n",
    "my_set = {1,2,3,4,5,6,7,8,9,10}\n",
    "my_set.add(11)               # .add for  Single element\n",
    "my_set.update([12,13,14,15]) # .upadte for Multple elements\n",
    "print(my_set)\n",
    "my_set.remove(1)\n",
    "print(my_set)\n",
    "\n"
   ]
  },
  {
   "cell_type": "code",
   "execution_count": 48,
   "id": "1d7f80e9",
   "metadata": {},
   "outputs": [
    {
     "name": "stdout",
     "output_type": "stream",
     "text": [
      "{1, 2, 3, 4, 6, 7, 8, 9, 10}\n",
      "{1, 2, 3, 4, 6, 7, 8, 9, 10}\n"
     ]
    }
   ],
   "source": [
    "##Removing Elements\n",
    "my_set = {1,2,3,4,5,6,7,8,9,10}\n",
    "my_set.remove(5)\n",
    "print(my_set)\n",
    "\n",
    "my_set.discard(100) # .discard will not throw error if element is not present\n",
    "print(my_set)"
   ]
  },
  {
   "cell_type": "code",
   "execution_count": 13,
   "id": "b21e5054",
   "metadata": {},
   "outputs": [
    {
     "name": "stdout",
     "output_type": "stream",
     "text": [
      "{2, 3, 4, 5, 6, 7, 8, 9, 10}\n"
     ]
    }
   ],
   "source": [
    "## Pop\n",
    "my_set = {1,2,3,4,5,6,7,8,9,10}\n",
    "my_set.pop() # .pop will remove random element\n",
    "print(my_set)\n",
    "\n",
    "## Just like first in fast out"
   ]
  },
  {
   "cell_type": "code",
   "execution_count": 53,
   "id": "2c6a996b",
   "metadata": {},
   "outputs": [
    {
     "name": "stdout",
     "output_type": "stream",
     "text": [
      "set()\n"
     ]
    }
   ],
   "source": [
    "##Clear All Elements\n",
    "my_set.clear()\n",
    "print(my_set)\n"
   ]
  },
  {
   "cell_type": "code",
   "execution_count": 54,
   "id": "182a3be0",
   "metadata": {},
   "outputs": [
    {
     "name": "stdout",
     "output_type": "stream",
     "text": [
      "True\n",
      "False\n"
     ]
    }
   ],
   "source": [
    "## Membership Test\n",
    "my_set = {1,2,3,4,5,6,7,8,9,10}\n",
    "print(5 in my_set)\n",
    "print(11 in my_set)\n"
   ]
  },
  {
   "cell_type": "code",
   "execution_count": 16,
   "id": "66a9657f",
   "metadata": {},
   "outputs": [
    {
     "name": "stdout",
     "output_type": "stream",
     "text": [
      "{1, 2, 3, 4, 5, 6, 7, 8, 9, 10}\n",
      "{2}\n"
     ]
    }
   ],
   "source": [
    "my_set ={1,2,3,4,5}\n",
    "my_set2 = {6,7,8,9,10,2}\n",
    "\n",
    "#union\n",
    "union_set= my_set.union(my_set2)\n",
    "print(union_set)\n",
    "\n",
    "#intersection\n",
    "\n",
    "intesection_set = my_set.intersection(my_set2)\n",
    "print(intesection_set)\n",
    "\n"
   ]
  },
  {
   "cell_type": "markdown",
   "id": "5f0d1802",
   "metadata": {},
   "source": [
    "#### issubset and #issuperset\n",
    "#### summetric difference"
   ]
  },
  {
   "cell_type": "code",
   "execution_count": 20,
   "id": "78a75c7f",
   "metadata": {},
   "outputs": [
    {
     "name": "stdout",
     "output_type": "stream",
     "text": [
      "True\n",
      "True\n",
      "{1, 2, 3, 4, 5}\n"
     ]
    }
   ],
   "source": [
    "my_set ={1,2,3,4,5,6,7,8,9,10}\n",
    "my_set2 = {6,7,8,9,10}\n",
    "\n",
    "# issubset\n",
    "print(my_set2.issubset(my_set))  # Check if my_set2 is a subset of my_set\n",
    "\n",
    "# issuperset\n",
    "print(my_set.issuperset(my_set2))  # Check if my_set is a superset of my_set2\n",
    "\n",
    "# symmetric_difference\n",
    "symmetric_diff = my_set.symmetric_difference(my_set2)  # Elements in either set but not in both\n",
    "print(symmetric_diff)"
   ]
  },
  {
   "cell_type": "code",
   "execution_count": 26,
   "id": "8f575f22",
   "metadata": {},
   "outputs": [
    {
     "name": "stdout",
     "output_type": "stream",
     "text": [
      "['hello', 'hi?', 'how', 'are', 'you', 'buddy', '?', 'are', 'u', 'the', 'same', 'boy', '?', \"#-2n-'s?//\", '.']\n",
      "{'the', 'are', 'you', 'same', \"#-2n-'s?//\", 'buddy', '.', 'u', 'boy', '?', 'hi?', 'how', 'hello'}\n",
      "13\n",
      "{'hi', 'the', 'are', 'you', 'same', \"2n-'s\", 'buddy', 'u', 'boy', 'how', 'hello'}\n"
     ]
    }
   ],
   "source": [
    "#Counting Unique words in the sentence\n",
    "import string\n",
    "\n",
    "\n",
    "text = \" Hello hi? How are you Buddy ? Are u the same boy ? #-2n-'s?// .\"\n",
    "\n",
    "words =text.lower().split()        #hello hi how ... its takes words\n",
    "\n",
    "print(words)\n",
    "\n",
    "#Convert the list of words into unique words\n",
    "\n",
    "unique_words = set(words)\n",
    "\n",
    "print(unique_words)\n",
    "print(len(unique_words))\n",
    "\n",
    "\n",
    "#Now how do u remove the \"?\"\" and \".\" there is a way\n",
    "\n",
    "clean_words = [ word.strip(string.punctuation) for word in words if word.strip(string.punctuation) != \"\"]\n",
    "#So this is used to remove the question mark and all type of special character and the last one the condition if ordered stripped condition not equal to it is to when a single punctuation like?The city movedthen it will create empty stringso to avoid that empty string counted as a word we use that\n",
    "\n",
    "unique_words_without_punc = set(clean_words)\n",
    "\n",
    "print(unique_words_without_punc)\n"
   ]
  }
 ],
 "metadata": {
  "kernelspec": {
   "display_name": "pytorch_env",
   "language": "python",
   "name": "python3"
  },
  "language_info": {
   "codemirror_mode": {
    "name": "ipython",
    "version": 3
   },
   "file_extension": ".py",
   "mimetype": "text/x-python",
   "name": "python",
   "nbconvert_exporter": "python",
   "pygments_lexer": "ipython3",
   "version": "3.12.3"
  }
 },
 "nbformat": 4,
 "nbformat_minor": 5
}
