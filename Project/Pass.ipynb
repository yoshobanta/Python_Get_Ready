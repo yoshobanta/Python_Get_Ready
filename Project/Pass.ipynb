{
 "cells": [
  {
   "cell_type": "code",
   "execution_count": null,
   "id": "fd813fee",
   "metadata": {},
   "outputs": [],
   "source": [
    "for i in f.readlines():\n",
    "            print(i,end=\"\")\n",
    "        # This readlines is less memory efficient"
   ]
  },
  {
   "cell_type": "code",
   "execution_count": 1,
   "id": "39e96b28",
   "metadata": {},
   "outputs": [
    {
     "name": "stdout",
     "output_type": "stream",
     "text": [
      "yosho | 1234 \n",
      "Prachi | 4567 \n",
      "khusi | 3257\n",
      "priyanka | 4687\n"
     ]
    }
   ],
   "source": [
    "# Here we will store our password in a txt file.\n",
    "# We will ask the user if they want to add a new password or view the password .\n",
    "# We will also create a master password\n",
    "\n",
    "\n",
    "master_pwd = input(\"What is the master password ?\")\n",
    "\n",
    "def view():\n",
    "    with open(\"passwords.txt\") as f:\n",
    "        for i in f:\n",
    "            print(i,end=\"\")\n",
    "\n",
    "def add():\n",
    "    name = input(\"Account name : \")\n",
    "    pwd = input(\"Password : \")\n",
    "    with open(\"passwords.txt\", \"a\") as f :\n",
    "        f.write(f\"{name} | {pwd}\\n\")\n",
    "\n",
    "while True:\n",
    "    mode = input(\"To add password type 'add' To view the password type - 'view' and to quit type - 'q'\").lower()\n",
    "    if mode in (\"quit\",\"q\"):\n",
    "        break\n",
    "    \n",
    "    if mode in (\"view\",\"v\"):\n",
    "        view()\n",
    "    elif mode in (\"add\",\"a\"):\n",
    "        add()\n",
    "    else:\n",
    "        print(\"Type a valid input\")\n",
    "        continue\n",
    "        "
   ]
  },
  {
   "cell_type": "code",
   "execution_count": 5,
   "id": "ed043377",
   "metadata": {},
   "outputs": [
    {
     "name": "stdout",
     "output_type": "stream",
     "text": [
      "Account name - yosho\n",
      "Password - 1234\n",
      "-------------------------------------------\n",
      "Account name - Prachi\n",
      "Password - 4567\n",
      "-------------------------------------------\n",
      "Account name - khusi\n",
      "Password - 3257\n",
      "-------------------------------------------\n",
      "Account name - priyanka\n",
      "Password - 4687\n",
      "-------------------------------------------\n"
     ]
    }
   ],
   "source": [
    "with open(\"passwords.txt\") as f:\n",
    "        for i in f:\n",
    "            \n",
    "            data = i.strip().split()             #For clean and no extra tralling or leading white space .\n",
    "            # data = i.split()\n",
    "            print(f\"Account name - {data[0].strip()}\")\n",
    "            print(f\"Password - {data[2].strip()}\")\n",
    "            print(\"-------------------------------------------\")"
   ]
  },
  {
   "cell_type": "code",
   "execution_count": null,
   "id": "edf2cab8",
   "metadata": {},
   "outputs": [
    {
     "name": "stdout",
     "output_type": "stream",
     "text": [
      "Account name - yosho\n",
      "Password - 1234\n",
      "-------------------------------------------\n",
      "Account name - Prachi\n",
      "Password - 4567\n",
      "-------------------------------------------\n",
      "Account name - khusi\n",
      "Password - 3257\n",
      "-------------------------------------------\n",
      "Account name - priyanka\n",
      "Password - 4687\n",
      "-------------------------------------------\n"
     ]
    }
   ],
   "source": [
    "with open(\"passwords.txt\") as f:\n",
    "        for i in f:\n",
    "            user,pwd = i.split(\"|\")     \n",
    "            print(f\"Account name - {user.strip()}\")\n",
    "            print(f\"Password - {pwd.strip()}\")   \n",
    "            print(\"-------------------------------------------\")"
   ]
  },
  {
   "cell_type": "code",
   "execution_count": null,
   "id": "2cf68150",
   "metadata": {},
   "outputs": [
    {
     "name": "stdout",
     "output_type": "stream",
     "text": [
      "Account name - yosho \n",
      "Password -  1234\n",
      "-------------------------------------------\n",
      "Account name - Prachi \n",
      "Password -  4567\n",
      "-------------------------------------------\n",
      "Account name - khusi \n",
      "Password -  3257\n",
      "-------------------------------------------\n",
      "Account name - priyanka \n",
      "Password -  4687\n",
      "-------------------------------------------\n"
     ]
    }
   ],
   "source": [
    "# Here the logic is incorrect as we are not applying the strip directly to each element but to the entire line i.e each i .\n",
    "with open(\"passwords.txt\") as f:\n",
    "        for i in f:\n",
    "            user,pwd = i.strip().split(\"|\")    \n",
    "            print(f\"Account name - {user}\")\n",
    "            print(f\"Password - {pwd}\")   \n",
    "            print(\"-------------------------------------------\")"
   ]
  },
  {
   "cell_type": "code",
   "execution_count": 17,
   "id": "9481e6be",
   "metadata": {},
   "outputs": [
    {
     "name": "stdout",
     "output_type": "stream",
     "text": [
      "Account name - yosho\n",
      "Password - 1234\n",
      "-------------------------------------------\n",
      "Account name - Prachi\n",
      "Password - 4567\n",
      "-------------------------------------------\n",
      "Account name - khusi\n",
      "Password - 3257\n",
      "-------------------------------------------\n",
      "Account name - priyanka\n",
      "Password - 4687\n",
      "-------------------------------------------\n"
     ]
    }
   ],
   "source": [
    "# Here i have used advance concept \n",
    "# List comprehension way .\n",
    "with open(\"passwords.txt\") as f:\n",
    "        for i in f:\n",
    "            user,pwd = [ j.strip() for j in i.split(\"|\") ] \n",
    "            print(f\"Account name - {user}\")\n",
    "            print(f\"Password - {pwd}\")   \n",
    "            print(\"-------------------------------------------\")"
   ]
  }
 ],
 "metadata": {
  "kernelspec": {
   "display_name": "Python 3",
   "language": "python",
   "name": "python3"
  },
  "language_info": {
   "codemirror_mode": {
    "name": "ipython",
    "version": 3
   },
   "file_extension": ".py",
   "mimetype": "text/x-python",
   "name": "python",
   "nbconvert_exporter": "python",
   "pygments_lexer": "ipython3",
   "version": "3.13.2"
  }
 },
 "nbformat": 4,
 "nbformat_minor": 5
}
