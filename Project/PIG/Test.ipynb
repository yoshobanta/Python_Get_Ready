{
 "cells": [
  {
   "cell_type": "code",
   "execution_count": 8,
   "id": "7b999ff5",
   "metadata": {},
   "outputs": [
    {
     "name": "stdout",
     "output_type": "stream",
     "text": [
      "False\n",
      "False\n",
      "False\n",
      "True\n",
      "Ⅰ\n"
     ]
    }
   ],
   "source": [
    "\n",
    "# Latin I\n",
    "print(\"I\".isdigit())      # False\n",
    "print(\"I\".isnumeric())    # False\n",
    "\n",
    "# True Roman numeral\n",
    "print(\"Ⅰ\".isdigit())      # False\n",
    "print(\"Ⅰ\".isnumeric())    # True\n",
    "\n",
    "print(\"\\u2160\")"
   ]
  },
  {
   "cell_type": "code",
   "execution_count": null,
   "id": "0d2d296b",
   "metadata": {},
   "outputs": [
    {
     "name": "stdout",
     "output_type": "stream",
     "text": [
      "2025-08-04 14:46:44.944169\n"
     ]
    }
   ],
   "source": [
    "import datetime as d\n",
    "\n",
    "time = d.datetime.now()\n",
    "print(time)"
   ]
  }
 ],
 "metadata": {
  "kernelspec": {
   "display_name": "Python 3",
   "language": "python",
   "name": "python3"
  },
  "language_info": {
   "codemirror_mode": {
    "name": "ipython",
    "version": 3
   },
   "file_extension": ".py",
   "mimetype": "text/x-python",
   "name": "python",
   "nbconvert_exporter": "python",
   "pygments_lexer": "ipython3",
   "version": "3.13.2"
  }
 },
 "nbformat": 4,
 "nbformat_minor": 5
}
