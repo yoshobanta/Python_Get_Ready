{
 "cells": [
  {
   "cell_type": "code",
   "execution_count": null,
   "id": "fa0d5367",
   "metadata": {},
   "outputs": [],
   "source": [
    "a = { \"name\" : \"yosho\", \"age\" : 22}\n",
    "\n",
    "print(a.items())\n",
    "\n",
    "for keys,values in a.items():\n",
    "    print(f\"{keys}:{values}\")"
   ]
  },
  {
   "cell_type": "code",
   "execution_count": 8,
   "id": "3f3938d9",
   "metadata": {},
   "outputs": [
    {
     "name": "stdout",
     "output_type": "stream",
     "text": [
      "Time taken  0.0\n",
      "Time taken  0.0010006427764892578\n"
     ]
    }
   ],
   "source": [
    "# # For a large list:\n",
    "# my_list = list(range(100000000))\n",
    "# # Checking for a non-existent element:\n",
    "# 99999 in my_list  # O(n), slow for large n\n",
    "\n",
    "# For a set:\n",
    "# my_set = set(range(100000000))\n",
    "# 999999 in my_set   # O(1), very fast\n",
    "import time \n",
    "my_set = set(range(100000))\n",
    "start = time.time()\n",
    "99999 in my_set\n",
    "end = time.time()\n",
    "print(\"Time taken \",end-start)\n",
    "\n",
    "my_list = list(range(100000))\n",
    "start2 = time.time()\n",
    "99999 in my_list\n",
    "end2 = time.time()\n",
    "print(\"Time taken \",end2-start2)\n",
    "\n",
    "\n"
   ]
  },
  {
   "cell_type": "code",
   "execution_count": 4,
   "id": "3229599d",
   "metadata": {},
   "outputs": [
    {
     "name": "stdout",
     "output_type": "stream",
     "text": [
      "78\n",
      "9\n"
     ]
    }
   ],
   "source": [
    "a=789//10\n",
    "b=789%10\n",
    "print(a);print(b)"
   ]
  },
  {
   "cell_type": "code",
   "execution_count": null,
   "id": "26afebdb",
   "metadata": {},
   "outputs": [
    {
     "name": "stdout",
     "output_type": "stream",
     "text": [
      "4\n"
     ]
    }
   ],
   "source": [
    "a = {\n",
    "    \"One\" : {\n",
    "        \"a\" : 2,\"b\" : 3\n",
    "    }\n",
    "}\n",
    "b = {\"Two\" : {\"c\" : 2,\"d\" : 3}}\n",
    "\n",
    "\n",
    "A = a[\"One\"][\"a\"]\n",
    "B = b[\"Two\"][\"c\"]\n",
    "\n",
    "sum = A+B\n",
    "print(sum)\n",
    "\n",
    "# a_inner = a[\"One\"]  # Will crash if \"One\" doesn't exist\n",
    "# a_inner = a.get(\"One\", {})  # Returns {} if \"One\" not found\n"
   ]
  },
  {
   "cell_type": "code",
   "execution_count": 11,
   "id": "3f7c00e0",
   "metadata": {},
   "outputs": [
    {
     "name": "stdout",
     "output_type": "stream",
     "text": [
      "This is inside dict of a - {'a': 2, 'b': 3} \n",
      "This is inside dict of b - {'c': 2, 'd': 3}\n",
      "The sum of value of  a and c = 4 \n",
      "The sum of value of  a and d = 5 \n",
      "The sum of value of  b and c = 5 \n",
      "The sum of value of  b and d = 6 \n"
     ]
    }
   ],
   "source": [
    "a_inner = a.get(\"One\",{})\n",
    "b_inner = b.get(\"Two\",{})\n",
    "\n",
    "print(f\"This is inside dict of a - {a_inner} \\nThis is inside dict of b - {b_inner}\")\n",
    "\n",
    "for keys,value in a_inner.items():\n",
    "    for keys2,value2 in b_inner.items():\n",
    "        print(f\"The sum of value of  {keys} and {keys2} = {value+value2} \") "
   ]
  },
  {
   "cell_type": "code",
   "execution_count": 1,
   "id": "9f02c1af",
   "metadata": {},
   "outputs": [
    {
     "name": "stdout",
     "output_type": "stream",
     "text": [
      "[1, 8, 9, 4]\n"
     ]
    }
   ],
   "source": [
    "numbers = [1,2,3,4]\n",
    "numbers[1:3] = [8,9]\n",
    "print(numbers)"
   ]
  },
  {
   "cell_type": "code",
   "execution_count": 2,
   "id": "198c77ed",
   "metadata": {},
   "outputs": [
    {
     "name": "stdout",
     "output_type": "stream",
     "text": [
      "[1]\n",
      "[1, 1]\n",
      "[1, 1, 1]\n"
     ]
    }
   ],
   "source": [
    "def weird_function(x=[]):\n",
    "    x.append(1)\n",
    "    return x\n",
    "\n",
    "print(weird_function())\n",
    "print(weird_function())\n",
    "print(weird_function())"
   ]
  },
  {
   "cell_type": "code",
   "execution_count": 3,
   "id": "da7b4947",
   "metadata": {},
   "outputs": [
    {
     "name": "stdout",
     "output_type": "stream",
     "text": [
      "[]\n"
     ]
    }
   ],
   "source": [
    "a = [1,2,3]\n",
    "print(a[3:])"
   ]
  },
  {
   "cell_type": "code",
   "execution_count": 4,
   "id": "bc6b7f2a",
   "metadata": {},
   "outputs": [
    {
     "name": "stdout",
     "output_type": "stream",
     "text": [
      "[1, 2, 3, 4]\n"
     ]
    }
   ],
   "source": [
    "a = [1,2,3]\n",
    "b = a\n",
    "b.append(4)\n",
    "print(a)"
   ]
  },
  {
   "cell_type": "code",
   "execution_count": 5,
   "id": "303d600d",
   "metadata": {},
   "outputs": [
    {
     "name": "stdout",
     "output_type": "stream",
     "text": [
      "False\n",
      "True\n"
     ]
    }
   ],
   "source": [
    "a = 300\n",
    "b = 300\n",
    "print(a is b)\n",
    "a = 3\n",
    "b = 3\n",
    "print(a is b)"
   ]
  },
  {
   "cell_type": "code",
   "execution_count": null,
   "id": "b8135a66",
   "metadata": {},
   "outputs": [
    {
     "name": "stdout",
     "output_type": "stream",
     "text": [
      "False\n",
      "True\n",
      "2445718726496\n",
      "2445718726496\n"
     ]
    }
   ],
   "source": [
    "# The 'is' operator checks for object identity, not equality.\n",
    "# For small integers (typically -5 to 256), Python caches and reuses objects, so 'a is b' is True.\n",
    "# For larger integers, new objects are created, so 'a is b' is usually False.\n",
    "\n",
    "a = 300\n",
    "b = 300\n",
    "print(a is b)  # False, because 300 is not interned\n",
    "\n",
    "a = 3\n",
    "b = 3\n",
    "print(a is b)  # True, because 3 is interned (cached by Python)\n",
    "\n",
    "##For strings\n",
    "s = \"yosho\"\n",
    "p = \"yosho\"\n",
    "print(id(s))\n",
    "print(id(p))\n",
    "\n",
    "##but if we used special character then not. "
   ]
  },
  {
   "cell_type": "code",
   "execution_count": null,
   "id": "b8debcc0",
   "metadata": {},
   "outputs": [],
   "source": [
    "list =order and mutable  []\n",
    "set =  unique and unorder{}\n",
    "tuple = immutable and order ()\n",
    "dictionary = {key : value}  "
   ]
  },
  {
   "cell_type": "code",
   "execution_count": 20,
   "id": "bd5dd00c",
   "metadata": {},
   "outputs": [
    {
     "name": "stdout",
     "output_type": "stream",
     "text": [
      "1 \n",
      "2 3 \n",
      "4 5 6 \n",
      "7 8 9 10 \n",
      "11 12 13 14 15 \n",
      "16 17 18 19 20 21 \n",
      "22 23 24 25 26 27 28 \n",
      "29 30 31 32 33 34 35 36 \n",
      "37 38 39 40 41 42 43 44 45 \n",
      "46 47 48 49 50 51 52 53 54 55 \n"
     ]
    }
   ],
   "source": [
    "n=1\n",
    "rows = int(input(\"enter no of rows\"))\n",
    "for i in range (1,rows+1):\n",
    "    for j in range(i):\n",
    "        print(n ,end=\" \")\n",
    "        n = n+1\n",
    "    print()"
   ]
  },
  {
   "cell_type": "code",
   "execution_count": null,
   "id": "343ad97d",
   "metadata": {},
   "outputs": [
    {
     "data": {
      "text/plain": [
       "6"
      ]
     },
     "execution_count": 3,
     "metadata": {},
     "output_type": "execute_result"
    }
   ],
   "source": [
    "#multiply / divide without using * or / .\n",
    "\n",
    "num1 = int(input(\"enter num 1\"))\n",
    "num2 = int(input(\"enter num 2\"))\n",
    "def multiply(num1,num2):\n",
    "    result = 0\n",
    "    for _ in range(num2):                                        \n",
    "        result = num1 + result\n",
    "    return result\n",
    "\n",
    "multiply(num1,num2)"
   ]
  },
  {
   "cell_type": "markdown",
   "id": "78aa6e0b",
   "metadata": {},
   "source": [
    "Summary:\n",
    "Syntax\tMeaning\n",
    "for i in range(b)\tYou will use i inside the loop\n",
    "for _ in range(b)\tYou will not use the loop variable"
   ]
  },
  {
   "cell_type": "markdown",
   "id": "dd64d54f",
   "metadata": {},
   "source": [
    "paging , fragmentation , segmentation ?"
   ]
  },
  {
   "cell_type": "code",
   "execution_count": 8,
   "id": "4df9cba1",
   "metadata": {},
   "outputs": [
    {
     "name": "stdout",
     "output_type": "stream",
     "text": [
      "Yosho Is\n"
     ]
    }
   ],
   "source": [
    "a = \"        Yosho Is           \"\n",
    "print(a.strip())"
   ]
  }
 ],
 "metadata": {
  "kernelspec": {
   "display_name": "pytorch_env",
   "language": "python",
   "name": "python3"
  },
  "language_info": {
   "codemirror_mode": {
    "name": "ipython",
    "version": 3
   },
   "file_extension": ".py",
   "mimetype": "text/x-python",
   "name": "python",
   "nbconvert_exporter": "python",
   "pygments_lexer": "ipython3",
   "version": "3.12.3"
  }
 },
 "nbformat": 4,
 "nbformat_minor": 5
}
