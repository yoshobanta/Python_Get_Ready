{
 "cells": [
  {
   "cell_type": "markdown",
   "id": "1418009b",
   "metadata": {},
   "source": [
    "This is of 11 th class of qs . Control Statement . 2 types conditional and loops .\n",
    "if <condtion>:\n",
    "    {\n",
    "        This are is also know as True Statement Block.\n",
    "    }\n",
    "And Some program to do . in D:\\Python With DSA\\QS\\simpleif.py reffere this for todays class ."
   ]
  },
  {
   "cell_type": "code",
   "execution_count": 5,
   "id": "a6a1aead",
   "metadata": {},
   "outputs": [
    {
     "name": "stdout",
     "output_type": "stream",
     "text": [
      "The character Apple is not a lowercase alphabet\n"
     ]
    }
   ],
   "source": [
    "#wap to check whether the entered character is lowercase alphabet or not .\n",
    "\n",
    "a = input(\"Enter a character \")\n",
    "\n",
    "if \"a\" < a < \"z\":\n",
    "    print(f\"The character {a} is lowercase alphabet\")\n",
    "else :\n",
    "    print(f\"The character {a} is not a lowercase alphabet\")"
   ]
  },
  {
   "cell_type": "code",
   "execution_count": null,
   "id": "ae499455",
   "metadata": {},
   "outputs": [
    {
     "name": "stdout",
     "output_type": "stream",
     "text": [
      "The character 9 is  numerical character\n"
     ]
    }
   ],
   "source": [
    "#wap to check whether the entered character is numerical character or not .\n",
    "a = int(input(\"Enter a character \"))\n",
    "\n",
    "if a in (0,1,2,3,4,5,6,7,8,9) :\n",
    "    print(f\"The character {a} is a numerical character\")\n",
    "else :\n",
    "    print(f\"The character {a} is not a numerical character\")\n"
   ]
  },
  {
   "cell_type": "code",
   "execution_count": 13,
   "id": "4da95e28",
   "metadata": {},
   "outputs": [
    {
     "name": "stdout",
     "output_type": "stream",
     "text": [
      "The character L is not a special character\n"
     ]
    }
   ],
   "source": [
    "#Wap to check whether the entered character is special character or not .\n",
    "\n",
    "a = input(\"enter a character\")\n",
    "\n",
    "if a in (\"0\",\"1\",\"2\",\"3\",\"4\",\"5\",\"6\",\"7\",\"8\",\"9\") or \"a\" < a < \"z\" or \"A\" < a < \"Z\" :\n",
    "    print(f\"The character {a} is not a special character\")\n",
    "else :\n",
    "    print(f\"The character {a} is special character\")\n",
    "\n"
   ]
  },
  {
   "cell_type": "code",
   "execution_count": 15,
   "id": "f6d13537",
   "metadata": {},
   "outputs": [
    {
     "name": "stdout",
     "output_type": "stream",
     "text": [
      "The character / is special character\n"
     ]
    }
   ],
   "source": [
    "#Wap to find the type of a character.\n",
    "a = input(\"enter a character\")\n",
    "\n",
    "if a in (\"0\",\"1\",\"2\",\"3\",\"4\",\"5\",\"6\",\"7\",\"8\",\"9\"):\n",
    "    print(f\"The character {a} is a numeric character\")\n",
    "elif \"a\" < a < \"z\":\n",
    "    print(f\"The character {a} is lowercase alphabet\")\n",
    "elif \"A\" < a < \"Z\":\n",
    "    print(f\"The character {a} is Uppercase alphabet\")\n",
    "else :\n",
    "    print(f\"The character {a} is special character\")"
   ]
  },
  {
   "cell_type": "code",
   "execution_count": null,
   "id": "bc132667",
   "metadata": {},
   "outputs": [
    {
     "name": "stdout",
     "output_type": "stream",
     "text": [
      "777\n"
     ]
    }
   ],
   "source": [
    "#Wap to find the greatest number among 5 number(without using \">\" operator).\n",
    "\n",
    "a = int(input(\"Enter a number 1\"))   #1\n",
    "b = int(input(\"Enter a number 2\"))\n",
    "c = int(input(\"Enter a number 3\"))\n",
    "d = int(input(\"Enter a number 4\"))\n",
    "e = int(input(\"Enter a number 5\"))\n",
    "\n",
    "if (b < a) and (c < a) and (d < a) and (e < a):\n",
    "    print(a)\n",
    "elif (c < b) and (d < b) and (e < b):\n",
    "    print(b)\n",
    "elif(d < c) and (e < c):\n",
    "    print(c)\n",
    "elif(e < d):\n",
    "    print(d)\n",
    "else:\n",
    "    print(e)\n",
    "\n",
    "\n"
   ]
  }
 ],
 "metadata": {
  "kernelspec": {
   "display_name": "Python 3",
   "language": "python",
   "name": "python3"
  },
  "language_info": {
   "codemirror_mode": {
    "name": "ipython",
    "version": 3
   },
   "file_extension": ".py",
   "mimetype": "text/x-python",
   "name": "python",
   "nbconvert_exporter": "python",
   "pygments_lexer": "ipython3",
   "version": "3.13.2"
  }
 },
 "nbformat": 4,
 "nbformat_minor": 5
}
