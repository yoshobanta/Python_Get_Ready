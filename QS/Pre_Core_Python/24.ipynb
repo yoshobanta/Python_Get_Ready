{
 "cells": [
  {
   "cell_type": "markdown",
   "id": "6470fbdf",
   "metadata": {},
   "source": [
    "25/6/2025. Class 24 . \n",
    "\n",
    "Scope of a Variable.\n",
    "\n",
    "LEGB - Local, Enclosed, Global , Built -in\n",
    "\n",
    "\n",
    "import keyword\n",
    "print(keyword.kwlist)\n",
    "\n",
    "\n"
   ]
  }
 ],
 "metadata": {
  "language_info": {
   "name": "python"
  }
 },
 "nbformat": 4,
 "nbformat_minor": 5
}
