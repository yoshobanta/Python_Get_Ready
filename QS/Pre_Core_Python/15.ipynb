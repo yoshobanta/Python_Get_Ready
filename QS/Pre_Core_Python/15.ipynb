{
 "cells": [
  {
   "cell_type": "markdown",
   "id": "7087e187",
   "metadata": {},
   "source": [
    "Class 15 of Qs."
   ]
  },
  {
   "cell_type": "code",
   "execution_count": 1,
   "id": "298e4326",
   "metadata": {},
   "outputs": [
    {
     "name": "stdout",
     "output_type": "stream",
     "text": [
      "[0, 1, 1, 2, 3, 5, 8, 13, 21, 34, 55, 89, 144, 233, 377, 610, 987, 1597, 2584, 4181, 6765, 10946, 17711]\n"
     ]
    }
   ],
   "source": [
    "#Fibonaci series   0 1 1 2 3 5 8 13 21 34 55 89\n",
    "\n",
    "n = int(input(\"Enter how many number of the series you want to display - \"))\n",
    "a = 0     #we already know the 1st two number of the series\n",
    "b = 1\n",
    "res = []     #To extract\n",
    "i= 0\n",
    "\n",
    "while i < n :\n",
    "    res += [a]\n",
    "    c= a+b\n",
    "    a,b = b,c\n",
    "    i +=1\n",
    "print(res)"
   ]
  },
  {
   "cell_type": "code",
   "execution_count": null,
   "id": "a2089264",
   "metadata": {},
   "outputs": [
    {
     "name": "stdout",
     "output_type": "stream",
     "text": [
      "14\n"
     ]
    }
   ],
   "source": [
    "#Wap to find the sum of all the individual digits of a given integer.\n",
    "# eg : i/p 158       o/p = 14\n",
    "\n",
    "n = int(input(\"enter a number\"))\n",
    "s =str(n)\n",
    "i = 0\n",
    "res =0\n",
    "while i < len(s):\n",
    "    res = res + int(s[i])\n",
    "    i += 1\n",
    "print(res)"
   ]
  },
  {
   "cell_type": "code",
   "execution_count": null,
   "id": "07c118fd",
   "metadata": {},
   "outputs": [
    {
     "name": "stdout",
     "output_type": "stream",
     "text": [
      "14\n"
     ]
    }
   ],
   "source": [
    "#Wap to find the sum of all the individual digits of a given integer.\n",
    "# use num//10 this is use to get number except last digit and num%10 this is use for extract last digit. \n",
    "# a single number // 10 will always give 0.\n",
    "n = int(input(\"enter a number\"))\n",
    "i = n\n",
    "res = 0\n",
    "\n",
    "while i > 0:\n",
    "    res += i%10\n",
    "    i //= 10\n",
    "print(res)"
   ]
  },
  {
   "cell_type": "code",
   "execution_count": null,
   "id": "a1ff93d4",
   "metadata": {},
   "outputs": [
    {
     "name": "stdout",
     "output_type": "stream",
     "text": [
      "[6, 4, 2]\n"
     ]
    }
   ],
   "source": [
    "#Wap to exctact all the even number from the entered number\n",
    "#eg :  i/p 25687   res = [2,6,8]\n",
    "n = int(input(\"enter a number\"))\n",
    "i=n\n",
    "res = []\n",
    "\n",
    "while i > 0:\n",
    "    num = i%10\n",
    "    if num%2 == 0:\n",
    "        res = res +[num]\n",
    "    i //=10\n",
    "print(res)"
   ]
  },
  {
   "cell_type": "code",
   "execution_count": 4,
   "id": "72b93d17",
   "metadata": {},
   "outputs": [
    {
     "name": "stdout",
     "output_type": "stream",
     "text": [
      "1\n"
     ]
    }
   ],
   "source": [
    "#wap to reverse an integer without using type casting and slicing\n",
    "n = int(input(\"enter a number\"))\n",
    "i=n\n",
    "res = 0\n",
    "\n",
    "while i > 0:\n",
    "    l = i % 10\n",
    "    res = (res*10)+ l\n",
    "    i //=10\n",
    "print(res)\n"
   ]
  },
  {
   "cell_type": "markdown",
   "id": "240eebc0",
   "metadata": {},
   "source": [
    "isinstance - to check datatype  isinstance(element,type)\n",
    "type - to get to know datatype\\\n",
    "eval - to get dynamic input.  eval(input(\"enter a value\"))"
   ]
  },
  {
   "cell_type": "code",
   "execution_count": 5,
   "id": "8550fb5a",
   "metadata": {},
   "outputs": [
    {
     "name": "stdout",
     "output_type": "stream",
     "text": [
      "['python', 'tuple']\n"
     ]
    }
   ],
   "source": [
    "# WAP to extract all the string items from the given list\n",
    "\n",
    "lst = [1,2,\"python\",\"tuple\",89.2,True]\n",
    "i = 0\n",
    "res =[]\n",
    "while i < len(lst):\n",
    "    if isinstance(lst[i],str):\n",
    "        res += [lst[i]]\n",
    "    i += 1\n",
    "print(res)\n"
   ]
  },
  {
   "cell_type": "code",
   "execution_count": 12,
   "id": "1fd8e593",
   "metadata": {},
   "outputs": [
    {
     "name": "stdout",
     "output_type": "stream",
     "text": [
      "String\n"
     ]
    }
   ],
   "source": [
    "# WAP to check whether the entered value is string or not.\n",
    "# here we do not know what type of value the user will give. so we will use  eval for dynamic input.\n",
    "#if we use normal input then it will everytime show string.\n",
    "\n",
    "n = eval(input(\"Enter the values\"))\n",
    "i = 0\n",
    "if isinstance(n,str):\n",
    "    print(\"String\")\n",
    "else:\n",
    "    print(\"Not String\")"
   ]
  },
  {
   "cell_type": "code",
   "execution_count": 15,
   "id": "cd0dee0e",
   "metadata": {},
   "outputs": [
    {
     "name": "stdout",
     "output_type": "stream",
     "text": [
      "('python', 'tuple', {'a': 'Apple', 'b': 'Bada Apple'}, [1, 23])\n"
     ]
    }
   ],
   "source": [
    "# WAP to extract all the mutable items from the given list\n",
    "\n",
    "lst = [1,2,\"python\",\"tuple\",89.2,True,{\"a\":\"Apple\",\"b\":\"Bada Apple\"},[1,23]]\n",
    "\n",
    "res = ()\n",
    "i=0\n",
    "while i < len(lst):\n",
    "    if isinstance(lst[i],(str,dict,list)):\n",
    "        res += (lst[i],)\n",
    "    i += 1\n",
    "print(res)\n",
    "       \n",
    "\n",
    "\n"
   ]
  }
 ],
 "metadata": {
  "kernelspec": {
   "display_name": "Python 3",
   "language": "python",
   "name": "python3"
  },
  "language_info": {
   "codemirror_mode": {
    "name": "ipython",
    "version": 3
   },
   "file_extension": ".py",
   "mimetype": "text/x-python",
   "name": "python",
   "nbconvert_exporter": "python",
   "pygments_lexer": "ipython3",
   "version": "3.13.2"
  }
 },
 "nbformat": 4,
 "nbformat_minor": 5
}
