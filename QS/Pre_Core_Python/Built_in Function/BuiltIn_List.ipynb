{
 "cells": [
  {
   "cell_type": "markdown",
   "id": "a53f969f",
   "metadata": {},
   "source": [
    "3/07/2025\n",
    "List built in function"
   ]
  },
  {
   "cell_type": "code",
   "execution_count": 1,
   "id": "f0abc575",
   "metadata": {},
   "outputs": [
    {
     "data": {
      "text/plain": [
       "['__add__',\n",
       " '__class__',\n",
       " '__class_getitem__',\n",
       " '__contains__',\n",
       " '__delattr__',\n",
       " '__delitem__',\n",
       " '__dir__',\n",
       " '__doc__',\n",
       " '__eq__',\n",
       " '__format__',\n",
       " '__ge__',\n",
       " '__getattribute__',\n",
       " '__getitem__',\n",
       " '__getstate__',\n",
       " '__gt__',\n",
       " '__hash__',\n",
       " '__iadd__',\n",
       " '__imul__',\n",
       " '__init__',\n",
       " '__init_subclass__',\n",
       " '__iter__',\n",
       " '__le__',\n",
       " '__len__',\n",
       " '__lt__',\n",
       " '__mul__',\n",
       " '__ne__',\n",
       " '__new__',\n",
       " '__reduce__',\n",
       " '__reduce_ex__',\n",
       " '__repr__',\n",
       " '__reversed__',\n",
       " '__rmul__',\n",
       " '__setattr__',\n",
       " '__setitem__',\n",
       " '__sizeof__',\n",
       " '__str__',\n",
       " '__subclasshook__',\n",
       " 'append',\n",
       " 'clear',\n",
       " 'copy',\n",
       " 'count',\n",
       " 'extend',\n",
       " 'index',\n",
       " 'insert',\n",
       " 'pop',\n",
       " 'remove',\n",
       " 'reverse',\n",
       " 'sort']"
      ]
     },
     "execution_count": 1,
     "metadata": {},
     "output_type": "execute_result"
    }
   ],
   "source": [
    "dir(list)"
   ]
  },
  {
   "cell_type": "markdown",
   "id": "bbf956bf",
   "metadata": {},
   "source": [
    "## List\n",
    "For adding elements \n",
    "1. append - It is a built in function which is used to add the individual element at the end of the list collection.\n",
    "syntax - lst.append(element)\n",
    "2. insert - It is a built in function which is used to add the element at specified index position .\n",
    "syntax - list.insert(index,element)\n",
    "3. extend - It is a built in function which is used to add multiple elements at the end of the list collection.\n",
    "syntax - lst.extend(iterable)"
   ]
  },
  {
   "cell_type": "markdown",
   "id": "afc0fd77",
   "metadata": {},
   "source": [
    "For removing an elements\n",
    "4. pop - It is a built in function which is used to remove the element at the specified index position . \n",
    "By default pop function will remove the element at the last position.\n",
    "syntax - lst.pop([index])\n",
    "5. remove - It is a built in function which is used to remove the specified element from the given list collection.\n",
    "If the specified element is not found control will throw an error.\n",
    "syntax - lst.remove(element)\n",
    "6. clear - It is a built in function which is used to remove all the elements from the given collections .\n",
    "syntax - lst.clear()"
   ]
  },
  {
   "cell_type": "markdown",
   "id": "4769be70",
   "metadata": {},
   "source": [
    "For re-arrange\n",
    "6. reverse - It is a built in function which is used to re-arrange the elements in a reverse order .\n",
    "syntax - lst.reverse()\n",
    "7. sort - It is a built in function which is used to arrange the elements in ascending or descending order.\n",
    "By default the sort function will arrange in the form of ascending order.\n",
    "If we need to arrange in a descending order we have to use a keyword arg reverse = True."
   ]
  },
  {
   "cell_type": "markdown",
   "id": "77b5c6da",
   "metadata": {},
   "source": [
    "Others \n",
    "copy,index and count same as string."
   ]
  }
 ],
 "metadata": {
  "kernelspec": {
   "display_name": "Python 3",
   "language": "python",
   "name": "python3"
  },
  "language_info": {
   "codemirror_mode": {
    "name": "ipython",
    "version": 3
   },
   "file_extension": ".py",
   "mimetype": "text/x-python",
   "name": "python",
   "nbconvert_exporter": "python",
   "pygments_lexer": "ipython3",
   "version": "3.13.2"
  }
 },
 "nbformat": 4,
 "nbformat_minor": 5
}
