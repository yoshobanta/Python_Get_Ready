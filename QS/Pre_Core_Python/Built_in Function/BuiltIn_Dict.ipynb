{
 "cells": [
  {
   "cell_type": "code",
   "execution_count": 1,
   "id": "8f0eb71e",
   "metadata": {},
   "outputs": [
    {
     "data": {
      "text/plain": [
       "['__class__',\n",
       " '__class_getitem__',\n",
       " '__contains__',\n",
       " '__delattr__',\n",
       " '__delitem__',\n",
       " '__dir__',\n",
       " '__doc__',\n",
       " '__eq__',\n",
       " '__format__',\n",
       " '__ge__',\n",
       " '__getattribute__',\n",
       " '__getitem__',\n",
       " '__getstate__',\n",
       " '__gt__',\n",
       " '__hash__',\n",
       " '__init__',\n",
       " '__init_subclass__',\n",
       " '__ior__',\n",
       " '__iter__',\n",
       " '__le__',\n",
       " '__len__',\n",
       " '__lt__',\n",
       " '__ne__',\n",
       " '__new__',\n",
       " '__or__',\n",
       " '__reduce__',\n",
       " '__reduce_ex__',\n",
       " '__repr__',\n",
       " '__reversed__',\n",
       " '__ror__',\n",
       " '__setattr__',\n",
       " '__setitem__',\n",
       " '__sizeof__',\n",
       " '__str__',\n",
       " '__subclasshook__',\n",
       " 'clear',\n",
       " 'copy',\n",
       " 'fromkeys',\n",
       " 'get',\n",
       " 'items',\n",
       " 'keys',\n",
       " 'pop',\n",
       " 'popitem',\n",
       " 'setdefault',\n",
       " 'update',\n",
       " 'values']"
      ]
     },
     "execution_count": 1,
     "metadata": {},
     "output_type": "execute_result"
    }
   ],
   "source": [
    "dir(dict)"
   ]
  },
  {
   "cell_type": "code",
   "execution_count": null,
   "id": "dd1bf022",
   "metadata": {},
   "outputs": [],
   "source": [
    "# help(dict.)"
   ]
  },
  {
   "cell_type": "code",
   "execution_count": null,
   "id": "21e47a86",
   "metadata": {},
   "outputs": [
    {
     "name": "stdout",
     "output_type": "stream",
     "text": [
      "dict_items([('a', 'apple'), ('b', 'ball')])\n",
      "dict_values(['apple', 'ball'])\n",
      "dict_keys(['a', 'b'])\n"
     ]
    }
   ],
   "source": [
    "a = {\"a\":\"apple\", \"b\":\"ball\"}\n",
    "print(a.items())\n",
    "print(a.values())\n",
    "print(a.keys())\n",
    "\n"
   ]
  },
  {
   "cell_type": "markdown",
   "id": "01299fc8",
   "metadata": {},
   "source": [
    "## Dictionary\n",
    "1. get - It is a built-in function which is used to access a value of a specified key.\n",
    "It returns the value of a specified key if the key exist , else it returns None.\n",
    "2. keys - It is a built in function which is used to access a list of keys present in a specified dictionary.\n",
    "3. values - It is a built in function which is used to access a list of values present in a specified dictionary.\n",
    "4. items - It is a built in function which will return a list of pair of key values from a dictionary.\n",
    "5. pop - It is a built in function which is used to remove a specified key value pair from the dictionary . \n",
    "6. popitem - It is a built in function which is used to remove the last key value pair from the specified dictionary.\n",
    "7. \n"
   ]
  }
 ],
 "metadata": {
  "kernelspec": {
   "display_name": "Python 3",
   "language": "python",
   "name": "python3"
  },
  "language_info": {
   "codemirror_mode": {
    "name": "ipython",
    "version": 3
   },
   "file_extension": ".py",
   "mimetype": "text/x-python",
   "name": "python",
   "nbconvert_exporter": "python",
   "pygments_lexer": "ipython3",
   "version": "3.13.2"
  }
 },
 "nbformat": 4,
 "nbformat_minor": 5
}
