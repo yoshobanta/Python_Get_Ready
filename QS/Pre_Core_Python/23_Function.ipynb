{
 "cells": [
  {
   "cell_type": "markdown",
   "id": "33d8b75a",
   "metadata": {},
   "source": [
    "Class 23, Function 2nd Class."
   ]
  },
  {
   "cell_type": "code",
   "execution_count": 1,
   "id": "22ac5eec",
   "metadata": {},
   "outputs": [],
   "source": [
    "def greet():\n",
    "    print(\"Hii Good Morning\")"
   ]
  },
  {
   "cell_type": "code",
   "execution_count": 5,
   "id": "56df7b5a",
   "metadata": {},
   "outputs": [
    {
     "data": {
      "text/plain": [
       "'Hii Yosho Good Morning'"
      ]
     },
     "execution_count": 5,
     "metadata": {},
     "output_type": "execute_result"
    }
   ],
   "source": [
    "def wish(name):\n",
    "    return \"Hii \" + name + \" Good Morning\"\n",
    "\n",
    "wish(\"Yosho\")"
   ]
  },
  {
   "cell_type": "markdown",
   "id": "08e17bd4",
   "metadata": {},
   "source": [
    "There are 10 types of Arguments.\n",
    "1. Formal Argument\n",
    "2. Actual Argument\n",
    "3. Positional Argument\n",
    "4. KeyWord Argument\n",
    "5. Optional Argument\n",
    "6. Required Argument\n",
    "7. Variable Positional Argument(*args)\n",
    "8. Variable Keyword Argument(**kwargs)\n",
    "9. Positional Only Argument\n",
    "10. Keyword Only Argument"
   ]
  },
  {
   "cell_type": "markdown",
   "id": "fb00b2ed",
   "metadata": {},
   "source": [
    "1. Formal Argument : When we pass the value in the function declaration.\n",
    "e.g  def fun_name(a,b)     here a,b are formal argument\n",
    "\n",
    "2. Actual Argument: When we pass the value in the function call and passing the value.\n",
    "\n",
    "e.g : def fun_name(a):\n",
    "fun_name(a)    "
   ]
  },
  {
   "cell_type": "markdown",
   "id": "d5376fd6",
   "metadata": {},
   "source": [
    "In terms of postion and keywords we have:\n",
    "\n",
    "3. Positional Argument : In the function(a,b,c) normally without any value if we pass normally then we have a,b,c treated as positional arguments.\n",
    "\n",
    "4. KeyWord Argument : But if we pass function(a=10,c=4,b=2) in function call, here a,b,c are treated as keyword arguments."
   ]
  },
  {
   "cell_type": "markdown",
   "id": "59a7427f",
   "metadata": {},
   "source": [
    "In terms of default values we have:\n",
    "\n",
    "5. Optional Argument : In the function declaration if we mention some value to the arguments then it will treate those values as default values .\n",
    "\n",
    "E.g - def func_name(a=0,b=1)    if we pass the value then it will overwrite the default value if we do not pass then it will use the default values.\n",
    "\n",
    "6. Required Argument : In the function declaration if we do not mention some value to the arguments then it will treate those values as required values .\n",
    "\n",
    "E.g - def func_name(a,b,c=0)   here a,b are required value where as c is optional.\n"
   ]
  },
  {
   "cell_type": "markdown",
   "id": "7f388478",
   "metadata": {},
   "source": [
    "In terms of multiple variable allocation packing and unpacking.\n",
    "\n",
    "7. Variable Positional Argument : we use *args(can use anything insted of args but it is industry convisition) use to take variable numbers of positional argument.\n",
    "8. Variable Keyword Argument : we use ** kwargs(industry convisition can use anything after **) , it is use to take variable numbers of keyword argument.\n",
    "\n",
    "Also positional argument should be followed b keyword arguments.      *args,**kwargs. if not then error."
   ]
  },
  {
   "cell_type": "markdown",
   "id": "d778e7f0",
   "metadata": {},
   "source": [
    "9. Positional Only Argument : it is used to only when we need to use the positional argument only  . if we pass any keyword argument then it will throw error.\n",
    "10. Keyword Only Argument : it is used to only when we need to use keyword argument only  . if we pass any positional argument then it will throw error.\n",
    "\n",
    "we use \"/\" for postional only and use \"*\" for keyword only."
   ]
  },
  {
   "cell_type": "code",
   "execution_count": 8,
   "id": "a5095f97",
   "metadata": {},
   "outputs": [
    {
     "name": "stdout",
     "output_type": "stream",
     "text": [
      "15\n"
     ]
    }
   ],
   "source": [
    "def add (a,b, /,c):                       #here a,b are poitional only were as c can be both positional and keyword.\n",
    "    return a+b+c\n",
    "\n",
    "print(add (4,5,6))"
   ]
  },
  {
   "cell_type": "code",
   "execution_count": 13,
   "id": "e41eecf5",
   "metadata": {},
   "outputs": [
    {
     "name": "stdout",
     "output_type": "stream",
     "text": [
      "15\n"
     ]
    }
   ],
   "source": [
    "def add (a,b, *,c):                       #here a,b are can be both positional and keyword but c is keyword only. \n",
    "    return a+b+c\n",
    "\n",
    "print(add (4,b=5,c=6))"
   ]
  },
  {
   "cell_type": "code",
   "execution_count": 10,
   "id": "9aa3fb76",
   "metadata": {},
   "outputs": [
    {
     "name": "stdout",
     "output_type": "stream",
     "text": [
      "15\n"
     ]
    }
   ],
   "source": [
    "def add (a,b, /,*,c):                       #here a,b are positional only and  c is keyword only. \n",
    "    return a+b+c\n",
    "\n",
    "print(add (4,5,c=6))"
   ]
  }
 ],
 "metadata": {
  "kernelspec": {
   "display_name": "Python 3",
   "language": "python",
   "name": "python3"
  },
  "language_info": {
   "codemirror_mode": {
    "name": "ipython",
    "version": 3
   },
   "file_extension": ".py",
   "mimetype": "text/x-python",
   "name": "python",
   "nbconvert_exporter": "python",
   "pygments_lexer": "ipython3",
   "version": "3.13.2"
  }
 },
 "nbformat": 4,
 "nbformat_minor": 5
}
