{
 "cells": [
  {
   "cell_type": "markdown",
   "id": "61bfec16",
   "metadata": {},
   "source": [
    "Qs 16th class ."
   ]
  },
  {
   "cell_type": "code",
   "execution_count": 44,
   "id": "a6dfd7a8",
   "metadata": {},
   "outputs": [
    {
     "name": "stdout",
     "output_type": "stream",
     "text": [
      "['python', 'is', 'easy', 'and', 'fun']\n"
     ]
    }
   ],
   "source": [
    "#Wap to split the given string\n",
    "# a=\"python is easy\"      res =['python','is','easy']\n",
    "\n",
    "a=\"python is easy and fun\" \n",
    "b = \"\"\n",
    "res =[]\n",
    "i = 0\n",
    "while i < len(a):\n",
    "    if a[i] == \" \":\n",
    "        res = res + [b]\n",
    "        b = \"\"\n",
    "    else:\n",
    "        b = b+a[i]\n",
    "    i +=1\n",
    "if b:\n",
    "    res += [b]\n",
    "\n",
    "print(res)"
   ]
  },
  {
   "cell_type": "code",
   "execution_count": 41,
   "id": "634f1596",
   "metadata": {},
   "outputs": [
    {
     "name": "stdout",
     "output_type": "stream",
     "text": [
      "['python', 'is', 'easy', 'and', 'fun']\n"
     ]
    }
   ],
   "source": [
    "a=\"python is easy and fun\" \n",
    "b = \"\"\n",
    "res =[]\n",
    "i = 0\n",
    "while i < len(a):\n",
    "    if a[i] != \" \":\n",
    "        b = b+a[i]\n",
    "    else:\n",
    "        res +=[b]\n",
    "        b = ''\n",
    "    i += 1\n",
    "      \n",
    "if b:\n",
    "    res += [b]\n",
    "  \n",
    "print(res)"
   ]
  },
  {
   "cell_type": "code",
   "execution_count": 45,
   "id": "9df70e82",
   "metadata": {},
   "outputs": [
    {
     "name": "stdout",
     "output_type": "stream",
     "text": [
      "['python', 'is', 'easy', 'and', 'fun']\n"
     ]
    }
   ],
   "source": [
    "a=\"python is easy and fun\" \n",
    "print(a.split())"
   ]
  },
  {
   "cell_type": "markdown",
   "id": "6c70acde",
   "metadata": {},
   "source": [
    "take user input if there number is divisible by 3 print fizz ,5- buzz,3 and 5 - fizzbuzz , not divisible by 3and5 - not divisible."
   ]
  },
  {
   "cell_type": "code",
   "execution_count": 52,
   "id": "ccb28260",
   "metadata": {},
   "outputs": [
    {
     "name": "stdout",
     "output_type": "stream",
     "text": [
      "fizz\n"
     ]
    }
   ],
   "source": [
    "n = int(input(\"Enter a number\"))\n",
    "\n",
    "if n % 3 == 0 and n % 5 == 0:\n",
    "    print(\"fizzbuzz\")\n",
    "elif n % 5 == 0:\n",
    "    print(\"buzz\")\n",
    "elif n % 3 == 0:\n",
    "    print(\"fizz\")\n",
    "else : \n",
    "    print(\"Not divisible\")\n"
   ]
  },
  {
   "cell_type": "code",
   "execution_count": 62,
   "id": "99a25681",
   "metadata": {},
   "outputs": [
    {
     "name": "stdout",
     "output_type": "stream",
     "text": [
      "Not divisible\n"
     ]
    }
   ],
   "source": [
    "#We can use only if and else\n",
    "n = int(input(\"Enter a number\"))\n",
    "res = (\"fizz\"*(n%3 == 0) + \"buzz\"*(n%5 == 0))\n",
    "if res:\n",
    "    print(res)\n",
    "else: \n",
    "    print(\"Not divisible\")"
   ]
  },
  {
   "cell_type": "code",
   "execution_count": 64,
   "id": "fbfcd69b",
   "metadata": {},
   "outputs": [
    {
     "name": "stdout",
     "output_type": "stream",
     "text": [
      "68\n"
     ]
    }
   ],
   "source": [
    "# find greatest number in a list of intger.\n",
    "\n",
    "n = [1,2,3,4,5,68,7,8,9,10]\n",
    "\n",
    "i = 1\n",
    "max = n[i]\n",
    "\n",
    "while i< len(n):\n",
    "    if n[i] > max:\n",
    "        max = n[i]\n",
    "    i +=1\n",
    "print(max)\n"
   ]
  }
 ],
 "metadata": {
  "kernelspec": {
   "display_name": "Python 3",
   "language": "python",
   "name": "python3"
  },
  "language_info": {
   "codemirror_mode": {
    "name": "ipython",
    "version": 3
   },
   "file_extension": ".py",
   "mimetype": "text/x-python",
   "name": "python",
   "nbconvert_exporter": "python",
   "pygments_lexer": "ipython3",
   "version": "3.13.2"
  }
 },
 "nbformat": 4,
 "nbformat_minor": 5
}
