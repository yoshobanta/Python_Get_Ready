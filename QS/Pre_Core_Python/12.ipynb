{
 "cells": [
  {
   "cell_type": "markdown",
   "id": "b9f06dea",
   "metadata": {},
   "source": [
    "12 th class of Qs now pre programing going on . Today's class notes on while loop.py and nested if.py . today we have done some programs on nested if and then learn about the while loop."
   ]
  },
  {
   "cell_type": "code",
   "execution_count": 1,
   "id": "5c487991",
   "metadata": {},
   "outputs": [
    {
     "name": "stdout",
     "output_type": "stream",
     "text": [
      "5\n",
      "7\n",
      "9\n"
     ]
    }
   ],
   "source": [
    "#Wap to print all the odd numbers in between the user entered limits\n",
    "\n",
    "start = int(input(\"Enter the starting number\"))\n",
    "end = int(input(\"Enter the ending number\"))\n",
    "i=start\n",
    "while i < end :\n",
    "    if i % 2 != 0 :\n",
    "        print(i)\n",
    "    i = i + 1\n",
    "\n"
   ]
  },
  {
   "cell_type": "code",
   "execution_count": 3,
   "id": "cf7ccecd",
   "metadata": {},
   "outputs": [
    {
     "name": "stdout",
     "output_type": "stream",
     "text": [
      "63\n",
      "126\n",
      "189\n",
      "252\n",
      "315\n",
      "378\n",
      "441\n",
      "504\n",
      "567\n",
      "630\n",
      "693\n",
      "756\n",
      "819\n",
      "882\n",
      "945\n"
     ]
    }
   ],
   "source": [
    "#Wap to print all the number divisible by 7 % 9 in between the user entered limits\n",
    "start = int(input(\"Enter the starting number\"))\n",
    "end = int(input(\"Enter the ending number\"))\n",
    "\n",
    "i = start\n",
    "\n",
    "while i < end :\n",
    "    if i % 7 == 0 and i % 9 == 0:\n",
    "        print(i)\n",
    "    i += 1"
   ]
  },
  {
   "cell_type": "code",
   "execution_count": 1,
   "id": "e8e77a31",
   "metadata": {},
   "outputs": [
    {
     "name": "stdout",
     "output_type": "stream",
     "text": [
      "Hello World\n",
      "Hello World\n",
      "Hello World\n",
      "Hello World\n",
      "Hello World\n"
     ]
    }
   ],
   "source": [
    "# WAP to print \"Hello World\" for 5 time.\n",
    "i = 0\n",
    "while i < 5:\n",
    "    print('Hello World')\n",
    "    i += 1"
   ]
  },
  {
   "cell_type": "code",
   "execution_count": null,
   "id": "7afdf8d3",
   "metadata": {},
   "outputs": [],
   "source": [
    "# WAP to print \"Hello World\" for 5 time.\n",
    "# Here no initilization so it will throw an error .\n",
    "while i < 5:\n",
    "    print('Hello World')\n",
    "    i += 1\n"
   ]
  },
  {
   "cell_type": "code",
   "execution_count": null,
   "id": "17176e43",
   "metadata": {},
   "outputs": [],
   "source": [
    "# WAP to print \"Hello World\" for 5 time.\n",
    "# Here the is no update statement so now it will run for infinit time as the control never reach/ satisified the termination condition.\n",
    "i = 0\n",
    "while i < 5:\n",
    "    print('Hello World')\n",
    "    "
   ]
  },
  {
   "cell_type": "code",
   "execution_count": 6,
   "id": "68322371",
   "metadata": {},
   "outputs": [
    {
     "name": "stdout",
     "output_type": "stream",
     "text": [
      "[2, 4, 6, 8]\n",
      "2 4 6 8 "
     ]
    }
   ],
   "source": [
    "# wap to enter even number in between the user entered limits using lsit comprihention\n",
    "\n",
    "s = int(input(\"Enter the starting number\"))\n",
    "e = int(input(\"Enter the ending number\"))\n",
    "\n",
    "print([i for i in range(s,e) if i%2 == 0 ])\n",
    "\n",
    "# for tuple \n",
    "(i for i in range(s,e) if i%2 == 0)\n",
    "\n",
    "# it will give us a generator object then how to print ?\n",
    "\n",
    "for t in (i for i in range(s,e) if i%2 == 0):\n",
    "    print(t,end=\" \")"
   ]
  }
 ],
 "metadata": {
  "kernelspec": {
   "display_name": "Python 3",
   "language": "python",
   "name": "python3"
  },
  "language_info": {
   "codemirror_mode": {
    "name": "ipython",
    "version": 3
   },
   "file_extension": ".py",
   "mimetype": "text/x-python",
   "name": "python",
   "nbconvert_exporter": "python",
   "pygments_lexer": "ipython3",
   "version": "3.13.2"
  }
 },
 "nbformat": 4,
 "nbformat_minor": 5
}
