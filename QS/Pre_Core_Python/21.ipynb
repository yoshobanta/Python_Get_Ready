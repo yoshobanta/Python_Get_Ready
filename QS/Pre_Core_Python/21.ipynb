{
 "cells": [
  {
   "cell_type": "code",
   "execution_count": null,
   "id": "d1f973f4",
   "metadata": {},
   "outputs": [
    {
     "name": "stdout",
     "output_type": "stream",
     "text": [
      "5\n",
      "0b101\n"
     ]
    }
   ],
   "source": [
    "# Wap to convert the given binary number into integer number.\n",
    "a =101\n",
    "x = a\n",
    "i =0\n",
    "res =0\n",
    "while i < len(str(x)):\n",
    "    ld = a % 10\n",
    "    res+= ld*(2**i)\n",
    "    a//=10\n",
    "    i += 1\n",
    "print(res)\n",
    "print(bin(res))"
   ]
  },
  {
   "cell_type": "code",
   "execution_count": 7,
   "id": "8e979c42",
   "metadata": {},
   "outputs": [
    {
     "name": "stdout",
     "output_type": "stream",
     "text": [
      "5\n",
      "0b101\n"
     ]
    }
   ],
   "source": [
    "# Wap to convert the given binary number into integer number.\n",
    "a = 101\n",
    "res =0\n",
    "for i in range(len(str(a))):\n",
    "    # ld = a % 10\n",
    "    ld = int(str(a)[-(i+1)])\n",
    "    res += ld*(2**i)\n",
    "    # a //=10\n",
    "print(res)\n",
    "print(bin(res))"
   ]
  },
  {
   "cell_type": "code",
   "execution_count": 17,
   "id": "cf832f9b",
   "metadata": {},
   "outputs": [
    {
     "name": "stdout",
     "output_type": "stream",
     "text": [
      "101\n",
      "101\n",
      "0b101\n"
     ]
    }
   ],
   "source": [
    "# Wap to convert the given int number into binary number.\n",
    "a = 5\n",
    "res = ''\n",
    "while a > 0:\n",
    "    remainder = a % 2\n",
    "    res = str(remainder) + res\n",
    "    a //=2\n",
    "print(res)\n",
    "print(int(res)) \n",
    "print(bin(5))\n"
   ]
  },
  {
   "cell_type": "code",
   "execution_count": null,
   "id": "4a49e559",
   "metadata": {},
   "outputs": [
    {
     "name": "stdout",
     "output_type": "stream",
     "text": [
      "1\n"
     ]
    }
   ],
   "source": []
  }
 ],
 "metadata": {
  "kernelspec": {
   "display_name": "Python 3",
   "language": "python",
   "name": "python3"
  },
  "language_info": {
   "codemirror_mode": {
    "name": "ipython",
    "version": 3
   },
   "file_extension": ".py",
   "mimetype": "text/x-python",
   "name": "python",
   "nbconvert_exporter": "python",
   "pygments_lexer": "ipython3",
   "version": "3.13.2"
  }
 },
 "nbformat": 4,
 "nbformat_minor": 5
}
