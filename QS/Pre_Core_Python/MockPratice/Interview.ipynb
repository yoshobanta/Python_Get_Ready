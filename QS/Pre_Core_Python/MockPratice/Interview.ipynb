{
 "cells": [
  {
   "cell_type": "code",
   "execution_count": 3,
   "id": "11776545",
   "metadata": {},
   "outputs": [
    {
     "name": "stdout",
     "output_type": "stream",
     "text": [
      "4\n"
     ]
    }
   ],
   "source": [
    "def One(a):\n",
    "    for i in a:\n",
    "        if a.count(i) == 1:\n",
    "            return a.find(i)                    #we can also use index \n",
    "    return -1\n",
    "            \n",
    "\n",
    "\n",
    "a = \"aabbc\"\n",
    "print(One(a))\n",
    "\n",
    "    \n",
    "    \n",
    "\n",
    "    \n",
    "    "
   ]
  },
  {
   "cell_type": "code",
   "execution_count": null,
   "id": "38e0a90d",
   "metadata": {},
   "outputs": [
    {
     "name": "stdout",
     "output_type": "stream",
     "text": [
      "{4: 1, 5: 1, 6: 1, 7: 1}\n",
      "[1, 1]\n",
      "[1, 1, 1, 1]\n"
     ]
    }
   ],
   "source": [
    "# nums = [1,1,1,2,2,45,18,18,18,18,18]\n",
    "\n",
    "# This is for values we want keys\n",
    "nums = [4,5,6,7]\n",
    "k = 2\n",
    "res = {}\n",
    "res1 = []\n",
    "\n",
    "\n",
    "for i in nums :\n",
    "    res[i] = nums.count(i)\n",
    "    \n",
    "\n",
    "b =list(res.values())\n",
    "b.sort()\n",
    "for i in b:\n",
    "    while k>0:\n",
    "        res1.append(b[-k])\n",
    "        k -=1\n",
    "\n",
    "    \n",
    "    \n",
    "print(res)\n",
    "print(res1)\n",
    "print(b)"
   ]
  },
  {
   "cell_type": "code",
   "execution_count": 34,
   "id": "a78c7179",
   "metadata": {},
   "outputs": [
    {
     "name": "stdout",
     "output_type": "stream",
     "text": [
      "{4: 3, 5: 2, 6: 1, 7: 4}\n",
      "[4, 7]\n"
     ]
    }
   ],
   "source": [
    "nums = [4,5,6,7,7,7,7,4,4,5]\n",
    "k = 2\n",
    "res = {}\n",
    "res1 = []\n",
    "key_value = []\n",
    "\n",
    "\n",
    "\n",
    "for i in nums :\n",
    "    res[i] = nums.count(i)\n",
    "    \n",
    "for i in res.items():\n",
    "    key_value.append(i)\n",
    "\n",
    "\n",
    "sort_value = list(res.values())\n",
    "sort_value.sort()\n",
    "\n",
    "sort_value = sort_value[-k:]\n",
    "\n",
    "for i,j in key_value:\n",
    "    for s in sort_value:\n",
    "        if s == j:\n",
    "            res1.append(i)\n",
    "        \n",
    "    \n",
    "print(res)\n",
    "# print(key_value)\n",
    "# print(sort_value)\n",
    "print(res1)\n",
    "\n"
   ]
  },
  {
   "cell_type": "code",
   "execution_count": 18,
   "id": "0f74a2ca",
   "metadata": {},
   "outputs": [
    {
     "data": {
      "text/plain": [
       "['__class__',\n",
       " '__class_getitem__',\n",
       " '__contains__',\n",
       " '__delattr__',\n",
       " '__delitem__',\n",
       " '__dir__',\n",
       " '__doc__',\n",
       " '__eq__',\n",
       " '__format__',\n",
       " '__ge__',\n",
       " '__getattribute__',\n",
       " '__getitem__',\n",
       " '__getstate__',\n",
       " '__gt__',\n",
       " '__hash__',\n",
       " '__init__',\n",
       " '__init_subclass__',\n",
       " '__ior__',\n",
       " '__iter__',\n",
       " '__le__',\n",
       " '__len__',\n",
       " '__lt__',\n",
       " '__ne__',\n",
       " '__new__',\n",
       " '__or__',\n",
       " '__reduce__',\n",
       " '__reduce_ex__',\n",
       " '__repr__',\n",
       " '__reversed__',\n",
       " '__ror__',\n",
       " '__setattr__',\n",
       " '__setitem__',\n",
       " '__sizeof__',\n",
       " '__str__',\n",
       " '__subclasshook__',\n",
       " 'clear',\n",
       " 'copy',\n",
       " 'fromkeys',\n",
       " 'get',\n",
       " 'items',\n",
       " 'keys',\n",
       " 'pop',\n",
       " 'popitem',\n",
       " 'setdefault',\n",
       " 'update',\n",
       " 'values']"
      ]
     },
     "execution_count": 18,
     "metadata": {},
     "output_type": "execute_result"
    }
   ],
   "source": [
    "dir(dict)"
   ]
  },
  {
   "cell_type": "code",
   "execution_count": null,
   "id": "4b8d2977",
   "metadata": {},
   "outputs": [
    {
     "name": "stdout",
     "output_type": "stream",
     "text": [
      "{1: 3, 2: 2, 45: 1, 18: 5}\n",
      "[(1, 3), (2, 2), (45, 1), (18, 5)]\n"
     ]
    }
   ],
   "source": [
    "nums = [1,1,1,2,2,45,18,18,18,18,18]\n",
    "# nums = [4,5,6,7]\n",
    "k = 2\n",
    "res = {}\n",
    "res1 = []\n",
    "\n",
    "\n",
    "for i in nums :\n",
    "    res[i] = nums.count(i)\n",
    "    \n",
    "\n",
    "\n",
    "    \n",
    "for i in list(res.items()):\n",
    "    res1.append(i)\n",
    "\n",
    "while k > 0:\n",
    "    \n",
    "    \n",
    "print(res)\n",
    "print(res1)\n",
    "# print(b)\n",
    "\n",
    "\n",
    "    \n",
    "\n",
    "\n",
    "    \n",
    "        "
   ]
  },
  {
   "cell_type": "markdown",
   "id": "223b8163",
   "metadata": {},
   "source": [
    "A peak element is an element that is strictly greater than its neighbors.\n",
    "Given a 0-indexed integer array nums, find a peak element, and return its index. If the array contains multiple peaks, return the index to any of the peaks.\n",
    "You may imagine that nums[-1] = nums[n] = -∞. In other words, an element is always considered to be strictly greater than a neighbor that is outside the array.\n",
    "\n",
    "input [1,2,3,1]\n",
    "output \n",
    "2\n",
    "\n",
    "[1,2,1,3,5,6,4]\n",
    "5\n",
    "\n",
    "We have to return index not value . also if n-1 < n > n+1 then n is peak element."
   ]
  },
  {
   "cell_type": "code",
   "execution_count": 9,
   "id": "ab02cbcf",
   "metadata": {},
   "outputs": [
    {
     "name": "stdout",
     "output_type": "stream",
     "text": [
      "4\n"
     ]
    }
   ],
   "source": [
    "# the question was to find a peak element, and return its index. If the array contains multiple peaks, return the index to any of the peaks.\n",
    "# But we are finding the largest peak . just use break when we find the 1st peak thats it .\n",
    "nums = [1,2,3,4,5]\n",
    "peak = 0\n",
    "\n",
    "i = 0 \n",
    "while i in range(len(nums)):\n",
    "    if i == 0 :\n",
    "        if nums[i] > nums[i+1]:\n",
    "            peak = i\n",
    "            # break\n",
    "    elif i == len(nums)-1:\n",
    "        if nums[i] > nums[i-1]:\n",
    "            peak = i\n",
    "            # break\n",
    "    else:\n",
    "        if nums[i-1]<nums[i] > nums[i+1]: \n",
    "            peak = i  \n",
    "            # break\n",
    "    i +=1\n",
    "    \n",
    "print (peak)"
   ]
  },
  {
   "cell_type": "code",
   "execution_count": 42,
   "id": "379b846c",
   "metadata": {},
   "outputs": [
    {
     "name": "stdout",
     "output_type": "stream",
     "text": [
      "Help on method_descriptor:\n",
      "\n",
      "update(...) unbound builtins.dict method\n",
      "    D.update([E, ]**F) -> None.  Update D from mapping/iterable E and F.\n",
      "    If E is present and has a .keys() method, then does:  for k in E.keys(): D[k] = E[k]\n",
      "    If E is present and lacks a .keys() method, then does:  for k, v in E: D[k] = v\n",
      "    In either case, this is followed by: for k in F:  D[k] = F[k]\n",
      "\n"
     ]
    }
   ],
   "source": [
    "help(dict.update)"
   ]
  }
 ],
 "metadata": {
  "kernelspec": {
   "display_name": "Python 3",
   "language": "python",
   "name": "python3"
  },
  "language_info": {
   "codemirror_mode": {
    "name": "ipython",
    "version": 3
   },
   "file_extension": ".py",
   "mimetype": "text/x-python",
   "name": "python",
   "nbconvert_exporter": "python",
   "pygments_lexer": "ipython3",
   "version": "3.13.2"
  }
 },
 "nbformat": 4,
 "nbformat_minor": 5
}
