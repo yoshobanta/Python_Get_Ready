{
 "cells": [
  {
   "cell_type": "markdown",
   "id": "678df6fd",
   "metadata": {},
   "source": [
    "Practice for mock 2 (3/07/25)"
   ]
  },
  {
   "cell_type": "code",
   "execution_count": 1,
   "id": "119ac779",
   "metadata": {},
   "outputs": [
    {
     "name": "stdout",
     "output_type": "stream",
     "text": [
      "Help on method_descriptor:\n",
      "\n",
      "sort(self, /, *, key=None, reverse=False) unbound builtins.list method\n",
      "    Sort the list in ascending order and return None.\n",
      "\n",
      "    The sort is in-place (i.e. the list itself is modified) and stable (i.e. the\n",
      "    order of two equal elements is maintained).\n",
      "\n",
      "    If a key function is given, apply it once to each list item and sort them,\n",
      "    ascending or descending, according to their function values.\n",
      "\n",
      "    The reverse flag can be set to sort in descending order.\n",
      "\n"
     ]
    }
   ],
   "source": [
    "help(list.sort)"
   ]
  },
  {
   "cell_type": "code",
   "execution_count": null,
   "id": "5fe0c569",
   "metadata": {},
   "outputs": [
    {
     "name": "stdout",
     "output_type": "stream",
     "text": [
      "99\n"
     ]
    }
   ],
   "source": [
    "# Find greatest number in a list. use built-in function and function.\n",
    "def find_greatest(lst):\n",
    "    lst.sort()\n",
    "    return lst[-1]\n",
    "\n",
    "a= [1,99,88]\n",
    "print(find_greatest(a))\n"
   ]
  },
  {
   "cell_type": "code",
   "execution_count": null,
   "id": "a29fc71f",
   "metadata": {},
   "outputs": [
    {
     "name": "stdout",
     "output_type": "stream",
     "text": [
      "None\n"
     ]
    }
   ],
   "source": [
    "a= [1,99,88]\n",
    "x = a.sort()\n",
    "print(x)\n",
    "# a.sort() returns None it change the original string and returns None."
   ]
  },
  {
   "cell_type": "code",
   "execution_count": 14,
   "id": "3a1881af",
   "metadata": {},
   "outputs": [
    {
     "name": "stdout",
     "output_type": "stream",
     "text": [
      "1 2 3 4 5 "
     ]
    }
   ],
   "source": [
    "# Wap to print first n natural number .\n",
    "n = int(input(\"Enter a number\"))\n",
    "i = 1\n",
    "while i <= n :\n",
    "    print(i,end=\" \")\n",
    "    i += 1\n"
   ]
  },
  {
   "cell_type": "code",
   "execution_count": 17,
   "id": "08d31a9d",
   "metadata": {},
   "outputs": [
    {
     "name": "stdout",
     "output_type": "stream",
     "text": [
      "H\n",
      "e\n",
      "l\n",
      "l\n",
      "o\n"
     ]
    }
   ],
   "source": [
    "# Print all the character of a given  string.\n",
    "a = input(\"Enter a string\")\n",
    "for i in a :\n",
    "    print(i)\n"
   ]
  },
  {
   "cell_type": "code",
   "execution_count": null,
   "id": "91f09f67",
   "metadata": {},
   "outputs": [
    {
     "name": "stdout",
     "output_type": "stream",
     "text": [
      "PTH\n"
     ]
    }
   ],
   "source": [
    "#WAP to print only the uppercase alphabets from the given string.\n",
    "a = \"PyTHon\"\n",
    "res = ''\n",
    "# i = 0\n",
    "# while i < len(a):\n",
    "#     if 'A' <= a[i] <= 'Z':\n",
    "#         res += a[i]\n",
    "#     i += 1\n",
    "# print(res)\n",
    "\n",
    "# for i in a : \n",
    "#     if 'A' <= i <= 'Z':\n",
    "#         res += i\n",
    "# print(res)\n",
    "\n",
    "# Built-in function.\n",
    "for i in a : \n",
    "    if i.isupper():\n",
    "        res += i\n",
    "print(res)\n",
    "\n"
   ]
  },
  {
   "cell_type": "code",
   "execution_count": 25,
   "id": "597d3cb3",
   "metadata": {},
   "outputs": [
    {
     "name": "stdout",
     "output_type": "stream",
     "text": [
      "yon\n"
     ]
    }
   ],
   "source": [
    "#  WAP to print only the lowercase alphabets from the given string.\n",
    "a = \"PyTHon\"\n",
    "res = ''\n",
    "for i in a : \n",
    "    if i.islower():\n",
    "        res += i\n",
    "print(res)"
   ]
  },
  {
   "cell_type": "code",
   "execution_count": 27,
   "id": "7bf10543",
   "metadata": {},
   "outputs": [
    {
     "name": "stdout",
     "output_type": "stream",
     "text": [
      "23\n"
     ]
    }
   ],
   "source": [
    "#WAP to print only the numerical characters from the given string\n",
    "a = \"PyTHon23\"\n",
    "res = ''\n",
    "for i in a : \n",
    "    if i.isnumeric():\n",
    "        res += i\n",
    "print(res)"
   ]
  },
  {
   "cell_type": "code",
   "execution_count": 35,
   "id": "c252159d",
   "metadata": {},
   "outputs": [
    {
     "name": "stdout",
     "output_type": "stream",
     "text": [
      "@!$%^&^!&^%&^!%^%!&^*\n"
     ]
    }
   ],
   "source": [
    "#WAP to print only the Special characters from the given string.\n",
    "a = \"PyTHon23@3!$%^&^!&^%&^!%^%!&^*\"\n",
    "res = ''\n",
    "for i in a : \n",
    "    if i.isalnum() == False:\n",
    "        res += i\n",
    "print(res)\n"
   ]
  },
  {
   "cell_type": "code",
   "execution_count": 36,
   "id": "8de64f8b",
   "metadata": {},
   "outputs": [
    {
     "name": "stdout",
     "output_type": "stream",
     "text": [
      "ban\n"
     ]
    }
   ],
   "source": [
    "# To remove duplicates in a string.\n",
    "a = \"banana\"\n",
    "res = ''\n",
    "for i in a:\n",
    "    if i not in res:\n",
    "        res += i\n",
    "print(res)"
   ]
  },
  {
   "cell_type": "code",
   "execution_count": 37,
   "id": "4471a371",
   "metadata": {},
   "outputs": [
    {
     "name": "stdout",
     "output_type": "stream",
     "text": [
      "ban\n"
     ]
    }
   ],
   "source": [
    "a = \"banana\"\n",
    "res = ''.join(dict.fromkeys(a))\n",
    "print(res)"
   ]
  },
  {
   "cell_type": "code",
   "execution_count": null,
   "id": "445479ec",
   "metadata": {},
   "outputs": [
    {
     "name": "stdout",
     "output_type": "stream",
     "text": [
      "ananab\n"
     ]
    }
   ],
   "source": [
    "# To reverse a string\n",
    "a = \"banana\"\n",
    "res = a[::-1]\n",
    "print(res)\n"
   ]
  },
  {
   "cell_type": "code",
   "execution_count": 41,
   "id": "9e817939",
   "metadata": {},
   "outputs": [
    {
     "name": "stdout",
     "output_type": "stream",
     "text": [
      "uppercase alphabets are: Y\n",
      "lowercase alphabets are: oshogmail\n",
      "numerical characters are: 123\n",
      "special characters are: @\n"
     ]
    }
   ],
   "source": [
    "# WAP to separate all the characters from the given string.\n",
    "a = \"Yosho@123gmail\"\n",
    "uc, lc, nc, sc = '', '', '', ''\n",
    "\n",
    "for i in a:\n",
    "    if i.isupper():\n",
    "        uc += i\n",
    "    elif i.islower():\n",
    "        lc +=i\n",
    "    elif i.isnumeric():\n",
    "        nc += i\n",
    "    else :\n",
    "        sc += i\n",
    "\n",
    "\n",
    "print('uppercase alphabets are:', uc)\n",
    "print('lowercase alphabets are:', lc)\n",
    "print('numerical characters are:', nc)\n",
    "print('special characters are:', sc)"
   ]
  },
  {
   "cell_type": "code",
   "execution_count": null,
   "id": "5a344a3b",
   "metadata": {},
   "outputs": [
    {
     "name": "stdout",
     "output_type": "stream",
     "text": [
      "120\n"
     ]
    }
   ],
   "source": [
    "# Wap to find the factorial of a given number\n",
    "a = 5\n",
    "res = 1\n",
    "i = 1\n",
    "while i <= a:\n",
    "    res = i*res\n",
    "    i += 1\n",
    "print(res)\n",
    "\n",
    "# for i in range(1,a+1):\n",
    "#     res = i*res\n",
    "# print(res)\n"
   ]
  },
  {
   "cell_type": "code",
   "execution_count": 57,
   "id": "5af38591",
   "metadata": {},
   "outputs": [
    {
     "name": "stdout",
     "output_type": "stream",
     "text": [
      "120\n"
     ]
    }
   ],
   "source": [
    "# Using def and recursion this one using conversion technique .\n",
    "# I.e from while loop to recursion\n",
    "\n",
    "def find_fact(num,res=1,i=1):\n",
    "    if i<=num:\n",
    "        res *=i \n",
    "        return find_fact(num,res=res,i=i+1)\n",
    "    return res \n",
    "print(find_fact(5))\n",
    "        "
   ]
  },
  {
   "cell_type": "code",
   "execution_count": 58,
   "id": "7c7a3311",
   "metadata": {},
   "outputs": [
    {
     "data": {
      "text/plain": [
       "120"
      ]
     },
     "execution_count": 58,
     "metadata": {},
     "output_type": "execute_result"
    }
   ],
   "source": [
    "# Using recursion .\n",
    "def find_fact(num):\n",
    "    if num == 0:\n",
    "        return 1\n",
    "    return num*find_fact(num-1)\n",
    "\n",
    "find_fact(5)\n"
   ]
  },
  {
   "cell_type": "code",
   "execution_count": 70,
   "id": "3cea39b5",
   "metadata": {},
   "outputs": [
    {
     "data": {
      "text/plain": [
       "dict_values([{1: 'Apple'}])"
      ]
     },
     "execution_count": 70,
     "metadata": {},
     "output_type": "execute_result"
    }
   ],
   "source": [
    "a = {1:{1:\"Apple\"}}\n",
    "a.values()"
   ]
  },
  {
   "cell_type": "markdown",
   "id": "894b62cd",
   "metadata": {},
   "source": [
    "To-do\n",
    "Factor of a number\n",
    "Check prime\n",
    "Check co-prime\n",
    "Check twin-prime\n",
    "Find GCD or HCF\n",
    "Find LCM"
   ]
  },
  {
   "cell_type": "code",
   "execution_count": 75,
   "id": "ba5e04bb",
   "metadata": {},
   "outputs": [
    {
     "data": {
      "text/plain": [
       "[1, 2, 5]"
      ]
     },
     "execution_count": 75,
     "metadata": {},
     "output_type": "execute_result"
    }
   ],
   "source": [
    "def find_factor(num):\n",
    "    res = []\n",
    "    for i in range (1,(num//2)+1):\n",
    "        if num%i == 0:\n",
    "            res.append(i)\n",
    "    return res\n",
    "\n",
    "find_factor(10)"
   ]
  },
  {
   "cell_type": "code",
   "execution_count": 11,
   "id": "ba32a152",
   "metadata": {},
   "outputs": [
    {
     "name": "stdout",
     "output_type": "stream",
     "text": [
      "There are 90 between 100 and 1000 and they are [101, 111, 121, 131, 141, 151, 161, 171, 181, 191, 202, 212, 222, 232, 242, 252, 262, 272, 282, 292, 303, 313, 323, 333, 343, 353, 363, 373, 383, 393, 404, 414, 424, 434, 444, 454, 464, 474, 484, 494, 505, 515, 525, 535, 545, 555, 565, 575, 585, 595, 606, 616, 626, 636, 646, 656, 666, 676, 686, 696, 707, 717, 727, 737, 747, 757, 767, 777, 787, 797, 808, 818, 828, 838, 848, 858, 868, 878, 888, 898, 909, 919, 929, 939, 949, 959, 969, 979, 989, 999]\n"
     ]
    }
   ],
   "source": [
    "# 1. Count how many palindromic numbers exist in a given range.\n",
    "\n",
    "def check_pal(num):\n",
    "    pass\n",
    "\n",
    "s = int(input(\"Enter a number\"))\n",
    "e = int(input(\"Enter a number\"))\n",
    "res = []\n",
    "count = 0\n",
    "\n",
    "\n",
    "\n",
    "for i in range(s,e+1):\n",
    "    if i == int(str(i)[::-1]):\n",
    "        count += 1\n",
    "        res.append(i)\n",
    "\n",
    "print(f\"There are {count} between {s} and {e} and they are {res}\")\n"
   ]
  },
  {
   "cell_type": "code",
   "execution_count": 8,
   "id": "691e6971",
   "metadata": {},
   "outputs": [
    {
     "name": "stdout",
     "output_type": "stream",
     "text": [
      "89\n"
     ]
    }
   ],
   "source": [
    "a = 98\n",
    "\n",
    "res =\"\".join(reversed(str(a)))\n",
    "print(res)\n"
   ]
  },
  {
   "cell_type": "code",
   "execution_count": 5,
   "id": "203cd19d",
   "metadata": {},
   "outputs": [
    {
     "name": "stdout",
     "output_type": "stream",
     "text": [
      "Help on class reversed in module builtins:\n",
      "\n",
      "class reversed(object)\n",
      " |  reversed(sequence, /)\n",
      " |\n",
      " |  Return a reverse iterator over the values of the given sequence.\n",
      " |\n",
      " |  Methods defined here:\n",
      " |\n",
      " |  __getattribute__(self, name, /)\n",
      " |      Return getattr(self, name).\n",
      " |\n",
      " |  __iter__(self, /)\n",
      " |      Implement iter(self).\n",
      " |\n",
      " |  __length_hint__(self, /)\n",
      " |      Private method returning an estimate of len(list(it)).\n",
      " |\n",
      " |  __next__(self, /)\n",
      " |      Implement next(self).\n",
      " |\n",
      " |  __reduce__(self, /)\n",
      " |      Return state information for pickling.\n",
      " |\n",
      " |  __setstate__(self, object, /)\n",
      " |      Set state information for unpickling.\n",
      " |\n",
      " |  ----------------------------------------------------------------------\n",
      " |  Static methods defined here:\n",
      " |\n",
      " |  __new__(*args, **kwargs)\n",
      " |      Create and return a new object.  See help(type) for accurate signature.\n",
      "\n"
     ]
    }
   ],
   "source": [
    "help(reversed)"
   ]
  }
 ],
 "metadata": {
  "kernelspec": {
   "display_name": "Python 3",
   "language": "python",
   "name": "python3"
  },
  "language_info": {
   "codemirror_mode": {
    "name": "ipython",
    "version": 3
   },
   "file_extension": ".py",
   "mimetype": "text/x-python",
   "name": "python",
   "nbconvert_exporter": "python",
   "pygments_lexer": "ipython3",
   "version": "3.13.2"
  }
 },
 "nbformat": 4,
 "nbformat_minor": 5
}
