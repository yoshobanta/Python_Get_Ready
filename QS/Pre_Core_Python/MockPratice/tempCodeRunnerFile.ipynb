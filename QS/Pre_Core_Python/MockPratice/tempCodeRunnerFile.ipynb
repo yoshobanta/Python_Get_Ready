def One(a):
    for i in a:
        if a.count(i) == 1:
            return a.find(i)                    #we can also use index 
    return -1
            


a = "aabbc"
print(One(a))