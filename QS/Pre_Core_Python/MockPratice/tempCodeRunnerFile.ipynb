a = "123"
for i in a:
    res = res + i
print(res)