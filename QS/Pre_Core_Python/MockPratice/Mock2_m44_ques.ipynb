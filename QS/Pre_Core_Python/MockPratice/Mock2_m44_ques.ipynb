{
 "cells": [
  {
   "cell_type": "code",
   "execution_count": null,
   "id": "ceb4bfec",
   "metadata": {},
   "outputs": [
    {
     "name": "stdout",
     "output_type": "stream",
     "text": [
      "True\n",
      "True\n",
      "True\n",
      "True\n"
     ]
    }
   ],
   "source": [
    "# Check if two string are anagram\n",
    "#eg . listen - silent (true)\n",
    "\n",
    "def check_anagram(a,b):\n",
    "    count = 0\n",
    "    if len(a) == len(b):\n",
    "        for i in a:\n",
    "            if i not in b:\n",
    "                return False\n",
    "            count +=1\n",
    "        if count == len(a):\n",
    "            return True\n",
    "    return False\n",
    "        \n",
    "                \n",
    "print(check_anagram(\"silent\",\"listen\"))\n",
    "print(check_anagram(\"gum\",\"mug\"))\n",
    "print(check_anagram(\"pleal\",\"apple\"))\n",
    "print(check_anagram(\"abbb\",\"aabb\"))\n",
    "\n",
    "\n",
    "#Logical issue dry run it to understand .\n"
   ]
  },
  {
   "cell_type": "code",
   "execution_count": null,
   "id": "3646b65c",
   "metadata": {},
   "outputs": [
    {
     "name": "stdout",
     "output_type": "stream",
     "text": [
      "41\n",
      "41\n"
     ]
    }
   ],
   "source": [
    "2.# Find Second Largest Number in a list.\n",
    "a = [1,3,2,41,6,5]\n",
    "max = a[0]\n",
    "\n",
    "for i in a:\n",
    "    if max < i :\n",
    "        max = i\n",
    "sec_max = max\n",
    "for i in a:\n",
    "    if sec_max < i:\n",
    "        sec_max = i\n",
    "print(max)\n",
    "print(sec_max)\n",
    "\n",
    "\n",
    "# Logic error"
   ]
  },
  {
   "cell_type": "code",
   "execution_count": null,
   "id": "68b60482",
   "metadata": {},
   "outputs": [
    {
     "name": "stdout",
     "output_type": "stream",
     "text": [
      "EIOUaiou\n"
     ]
    }
   ],
   "source": [
    "3.# wap to find the missing vowel character in a string.\n",
    "a= \"Apple\"\n",
    "res = ''\n",
    "vowel = \"AEIOUaeiou\"\n",
    "\n",
    "for i in vowel:\n",
    "    if i not in a:\n",
    "        res += i\n",
    "print(res) \n",
    "\n",
    "#dONE"
   ]
  },
  {
   "cell_type": "code",
   "execution_count": null,
   "id": "735d435c",
   "metadata": {},
   "outputs": [],
   "source": [
    "4.# Compress a string .\n",
    "# aaabbc = a3b2c1     Using built - in function."
   ]
  },
  {
   "cell_type": "code",
   "execution_count": null,
   "id": "909b7231",
   "metadata": {},
   "outputs": [
    {
     "name": "stdout",
     "output_type": "stream",
     "text": [
      "abc\n"
     ]
    }
   ],
   "source": [
    "4.# Compress a string .\n",
    "# aaabbc = a3b2c1\n",
    "\n",
    "a = \"aaabbc\"\n",
    "unique = \"\"\n",
    "count = 0\n",
    "for i in a :\n",
    "    if i not in unique:\n",
    "        unique += i\n",
    "i = 0\n",
    "for i in a:\n",
    "    for j in unique :\n",
    "        if j == i :\n",
    "            \n",
    "print(unique)\n",
    "    "
   ]
  },
  {
   "cell_type": "code",
   "execution_count": null,
   "id": "5e3b5a8d",
   "metadata": {},
   "outputs": [
    {
     "ename": "TypeError",
     "evalue": "object of type 'int' has no len()",
     "output_type": "error",
     "traceback": [
      "\u001b[1;31m---------------------------------------------------------------------------\u001b[0m",
      "\u001b[1;31mTypeError\u001b[0m                                 Traceback (most recent call last)",
      "Cell \u001b[1;32mIn[28], line 7\u001b[0m\n\u001b[0;32m      5\u001b[0m \u001b[38;5;28mmax\u001b[39m \u001b[38;5;241m=\u001b[39m \u001b[38;5;241m0\u001b[39m\n\u001b[0;32m      6\u001b[0m \u001b[38;5;28;01mwhile\u001b[39;00m i \u001b[38;5;241m<\u001b[39m \u001b[38;5;28mlen\u001b[39m(a):\n\u001b[1;32m----> 7\u001b[0m     \u001b[38;5;28;01mif\u001b[39;00m \u001b[38;5;28;43mlen\u001b[39;49m\u001b[43m(\u001b[49m\u001b[43mi\u001b[49m\u001b[43m)\u001b[49m \u001b[38;5;241m<\u001b[39m \u001b[38;5;28mmax\u001b[39m :\n\u001b[0;32m      8\u001b[0m         \u001b[38;5;28mmax\u001b[39m \u001b[38;5;241m=\u001b[39m \u001b[38;5;28mlen\u001b[39m(i)\n\u001b[0;32m      9\u001b[0m         \u001b[38;5;28mprint\u001b[39m(i)\n",
      "\u001b[1;31mTypeError\u001b[0m: object of type 'int' has no len()"
     ]
    }
   ],
   "source": [
    "# 5. Find the longest word in a string.\n",
    "a = \"Python is easy\"\n",
    "b = a.split()\n",
    "i = 0\n",
    "max = 0\n",
    "while i < len(a):\n",
    "    if len(i) < max :\n",
    "        max = len(i)\n",
    "        print(i)\n",
    "\n",
    "#Logical error\n",
    "\n"
   ]
  },
  {
   "cell_type": "code",
   "execution_count": null,
   "id": "c5fffe41",
   "metadata": {},
   "outputs": [
    {
     "data": {
      "text/plain": [
       "'Yoshobanta'"
      ]
     },
     "execution_count": 40,
     "metadata": {},
     "output_type": "execute_result"
    }
   ],
   "source": [
    "# 5. Find the longest word in a string.\n",
    "def find_longest_word(a):\n",
    "    b = a.split()\n",
    "    longest = ''\n",
    "\n",
    "    for i in b :\n",
    "        if len(i) > len(longest):\n",
    "            longest = i\n",
    "    return longest\n",
    "\n",
    "find_longest_word(\"Hello how are you Yoshobanta\")\n",
    "\n",
    "# Done"
   ]
  },
  {
   "cell_type": "code",
   "execution_count": null,
   "id": "fa92b3ee",
   "metadata": {},
   "outputs": [
    {
     "data": {
      "text/plain": [
       "[0, 1, 1, 2, 3]"
      ]
     },
     "execution_count": 43,
     "metadata": {},
     "output_type": "execute_result"
    }
   ],
   "source": [
    "# Fibonacci using recursion\n",
    "def fibo_series(num,a=0,b=1,i=0,res =[]):\n",
    "    \n",
    "    if i < num :\n",
    "        res += [a]\n",
    "        c = a+b\n",
    "        a,b = b,c\n",
    "        return fibo_series(num=num,a=a,b=b,i=i+1,res = res)\n",
    "    return res\n",
    "\n",
    "fibo_series(5)\n",
    "\n",
    "# Done but little bit error.\n"
   ]
  },
  {
   "cell_type": "code",
   "execution_count": null,
   "id": "c78b6334",
   "metadata": {},
   "outputs": [
    {
     "name": "stdout",
     "output_type": "stream",
     "text": [
      "[0, 1, 1, 2, 3]\n"
     ]
    }
   ],
   "source": [
    "# Using the while loop.\n",
    "a=0\n",
    "b=1\n",
    "num = 5\n",
    "res = []\n",
    "i = 0\n",
    "while i<num :\n",
    "    res += [a]\n",
    "    c = a+b\n",
    "    a,b = b,c\n",
    "    i += 1\n",
    "    \n",
    "print(res)"
   ]
  },
  {
   "cell_type": "code",
   "execution_count": 26,
   "id": "a3591b78",
   "metadata": {},
   "outputs": [
    {
     "name": "stdout",
     "output_type": "stream",
     "text": [
      "1         \n",
      "1 2       \n",
      "1 2 3     \n",
      "1 2 3 4   \n",
      "1 2 3 4 5 \n"
     ]
    }
   ],
   "source": [
    "# 7. Print the pyramid\n",
    "# 1\n",
    "# 1 2\n",
    "# 1 2 3\n",
    "# 1 2 3 4 \n",
    "# 1 2 3 4 5\n",
    "\n",
    "\n",
    "for i in range(1,6):\n",
    "    for j in range(1,6):\n",
    "        if j <=i:\n",
    "            print(j,end=\" \")\n",
    "        else:\n",
    "            print(\" \",end=\" \")\n",
    "    print()\n",
    "\n",
    "# Done"
   ]
  },
  {
   "cell_type": "code",
   "execution_count": null,
   "id": "481266fb",
   "metadata": {},
   "outputs": [
    {
     "name": "stdout",
     "output_type": "stream",
     "text": [
      "t\n"
     ]
    }
   ],
   "source": [
    "# 8. Find the first non repeating character in a string\n",
    "\n",
    "a = \"stress\"\n",
    "for i in a:\n",
    "    if a.count(i) == 1:\n",
    "        res = i\n",
    "        break\n",
    "print(res)\n",
    "\n",
    "# Done but forget to using break so res is getting overwritten.\n"
   ]
  },
  {
   "cell_type": "code",
   "execution_count": null,
   "id": "ea1f0ab5",
   "metadata": {},
   "outputs": [],
   "source": [
    "#Wap to split the given string\n",
    "# a=\"python is easy\"      res =['python','is','easy']\n",
    "a = \"Hello World\"\n",
    "b = \"\"\n",
    "res = []\n",
    "i = 0\n",
    "while i < len(a):\n",
    "    if a[i] == \" \":\n",
    "        res = res +[b]\n",
    "        b=''\n",
    "    else :\n",
    "        b = b+a[i]\n",
    "    i +=1\n",
    "if b :\n",
    "    res = res +[b]\n",
    "\n",
    "print(res)\n",
    "\n"
   ]
  },
  {
   "cell_type": "code",
   "execution_count": 30,
   "id": "44646fa9",
   "metadata": {},
   "outputs": [
    {
     "name": "stdout",
     "output_type": "stream",
     "text": [
      "olleH dlroW \n"
     ]
    }
   ],
   "source": [
    "# 9. Reverse each word in a sentence.\n",
    "# \"Hello World\"  -----> o/p \"olleH dlroW\"\n",
    "\n",
    "a = \"Hello World\"\n",
    "b = a.split()\n",
    "res = ''\n",
    "for i in b:\n",
    "    res += i[::-1]+\" \"\n",
    "\n",
    "print(res)"
   ]
  },
  {
   "cell_type": "code",
   "execution_count": 33,
   "id": "0f8590b1",
   "metadata": {},
   "outputs": [
    {
     "data": {
      "text/plain": [
       "['Hello', 'World', 'Hii']"
      ]
     },
     "execution_count": 33,
     "metadata": {},
     "output_type": "execute_result"
    }
   ],
   "source": [
    "def my_split(a,b='',res=[],i=0):\n",
    "    while i < len(a):\n",
    "        if a[i] == \" \":\n",
    "            res = res +[b]\n",
    "            b=''\n",
    "        else :\n",
    "            b = b+a[i]\n",
    "        i +=1\n",
    "    if b :\n",
    "        res = res +[b]\n",
    "    return res\n",
    "\n",
    "my_split(\"Hello World Hii\")"
   ]
  },
  {
   "cell_type": "code",
   "execution_count": null,
   "id": "ac9801c6",
   "metadata": {},
   "outputs": [
    {
     "data": {
      "text/plain": [
       "'olleH'"
      ]
     },
     "execution_count": 34,
     "metadata": {},
     "output_type": "execute_result"
    }
   ],
   "source": [
    "def my_rev_str(a,res=''):\n",
    "    for i in a:\n",
    "        res = i + res\n",
    "    return res"
   ]
  },
  {
   "cell_type": "code",
   "execution_count": 38,
   "id": "5f06df06",
   "metadata": {},
   "outputs": [
    {
     "name": "stdout",
     "output_type": "stream",
     "text": [
      "olleH dlroW \n"
     ]
    }
   ],
   "source": [
    "# Reverse each word in a sentence. without using any built-in functions\n",
    "a = \"Hello World\"\n",
    "b = my_split(a)\n",
    "res = ''\n",
    "for i in b :\n",
    "    res += my_rev_str(i) + ' '\n",
    "print(res)\n"
   ]
  },
  {
   "cell_type": "code",
   "execution_count": null,
   "id": "db5ec321",
   "metadata": {},
   "outputs": [],
   "source": [
    "# 10. Remove adjacent duplicate in a string.\n",
    "#e.g - aaabbbcccddaa -----> o/p - abcda\n",
    "\n"
   ]
  },
  {
   "cell_type": "code",
   "execution_count": 52,
   "id": "669fbbe0",
   "metadata": {},
   "outputs": [
    {
     "name": "stdout",
     "output_type": "stream",
     "text": [
      "321\n"
     ]
    }
   ],
   "source": [
    "a = \"123\"\n",
    "res = ''\n",
    "for i in a:\n",
    "    res = i + res\n",
    "print(res)"
   ]
  },
  {
   "cell_type": "code",
   "execution_count": null,
   "id": "5647fc4f",
   "metadata": {},
   "outputs": [],
   "source": [
    "# wANT PLAINDRIC NUMBER IN A RANGE\n",
    "# 123 -> One Two Three\n",
    "# \"Python is Easy\"  -> words,character and line.\n",
    "# Print All perfect square between 1 to 1000."
   ]
  },
  {
   "cell_type": "code",
   "execution_count": null,
   "id": "95f63eed",
   "metadata": {},
   "outputs": [
    {
     "name": "stdout",
     "output_type": "stream",
     "text": [
      "[1, 4, 9, 16, 25, 36, 49, 64, 81, 100, 121, 144, 169, 196, 225, 256, 289, 324, 361, 400, 441, 484, 529, 576, 625, 676, 729, 784, 841, 900, 961]\n"
     ]
    }
   ],
   "source": [
    "# Print All perfect square between 1 to 1000.\n",
    "\n",
    "res = []\n",
    "for i in range(1,1000):\n",
    "    if i**2 <=1000:\n",
    "        res.append(i**2)\n",
    "print(res)"
   ]
  },
  {
   "cell_type": "code",
   "execution_count": null,
   "id": "bd71161e",
   "metadata": {},
   "outputs": [
    {
     "name": "stdout",
     "output_type": "stream",
     "text": [
      "Yes perfect square\n"
     ]
    }
   ],
   "source": [
    "n = 9\n",
    "x = int(n**0.5)\n",
    "if x*x == n:\n",
    "    print(\"Yes perfect square\")\n",
    "else:\n",
    "    print(\"Not a perfect number\")"
   ]
  },
  {
   "cell_type": "code",
   "execution_count": null,
   "id": "b61a2a05",
   "metadata": {},
   "outputs": [
    {
     "name": "stdout",
     "output_type": "stream",
     "text": [
      "6.082762530298219\n",
      "0.3200000000000003\n"
     ]
    }
   ],
   "source": [
    "print(37**0.5)\n",
    "print(6.32%1)"
   ]
  },
  {
   "cell_type": "code",
   "execution_count": 31,
   "id": "3a4a7684",
   "metadata": {},
   "outputs": [
    {
     "name": "stdout",
     "output_type": "stream",
     "text": [
      "Yes perfect square\n",
      "Yes perfect square\n",
      "Not a perfect number\n"
     ]
    }
   ],
   "source": [
    "def check_perfect_square(n):\n",
    "    if (n**0.5)%1 == 0:\n",
    "        return 'Yes perfect square'\n",
    "    else:\n",
    "        return 'Not a perfect number'\n",
    "    \n",
    "print(check_perfect_square(9))\n",
    "print(check_perfect_square(36))\n",
    "print(check_perfect_square(10))"
   ]
  }
 ],
 "metadata": {
  "kernelspec": {
   "display_name": "Python 3",
   "language": "python",
   "name": "python3"
  },
  "language_info": {
   "codemirror_mode": {
    "name": "ipython",
    "version": 3
   },
   "file_extension": ".py",
   "mimetype": "text/x-python",
   "name": "python",
   "nbconvert_exporter": "python",
   "pygments_lexer": "ipython3",
   "version": "3.13.2"
  }
 },
 "nbformat": 4,
 "nbformat_minor": 5
}
