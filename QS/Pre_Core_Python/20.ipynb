{
 "cells": [
  {
   "cell_type": "markdown",
   "id": "2c846872",
   "metadata": {},
   "source": [
    "This is 20th class 17,18,19 number class i have not update .As my laptop was not booting. Will update now. I have all the programs in my friend laptop . \n",
    "ToDO - To update the work in my laptop and revision .\n",
    "Patterns."
   ]
  },
  {
   "cell_type": "code",
   "execution_count": 7,
   "id": "06c3280c",
   "metadata": {},
   "outputs": [
    {
     "name": "stdout",
     "output_type": "stream",
     "text": [
      "1  odd\n",
      "2  even\n",
      "3  odd\n",
      "4  even\n",
      "5  odd\n",
      "6  even\n",
      "7  odd\n",
      "8  even\n",
      "9  odd\n"
     ]
    }
   ],
   "source": [
    "# WAP to print all the odd numbers in between the user entered limits.\n",
    "s= int(input(\"enter a number\"))\n",
    "e= int(input(\"enter a number\"))\n",
    "for i in range(s,e):\n",
    "    if i%2 == 0:\n",
    "        print(i,\" even\")\n",
    "    else:\n",
    "        print(i,\" odd\")\n"
   ]
  },
  {
   "cell_type": "markdown",
   "id": "1c1f1310",
   "metadata": {},
   "source": [
    "Todays Class - Notes and nested for loop. And Patterns."
   ]
  },
  {
   "cell_type": "markdown",
   "id": "6cadb149",
   "metadata": {},
   "source": [
    "* * * * *\n",
    "*       *\n",
    "*       *\n",
    "*       *\n",
    "* * * * *\n"
   ]
  },
  {
   "cell_type": "code",
   "execution_count": 25,
   "id": "3fce362d",
   "metadata": {},
   "outputs": [
    {
     "name": "stdout",
     "output_type": "stream",
     "text": [
      "*           *  \n",
      "   *     *     \n",
      "      *        \n",
      "   *     *     \n",
      "*           *  \n"
     ]
    }
   ],
   "source": [
    "for i in range(1,6):\n",
    "    for j in range(1,6):\n",
    "        if i == j or i+j == 6:\n",
    "            print( '* ' ,end = ' ')\n",
    "        else:\n",
    "            print('  ',end = ' ')\n",
    "    print()"
   ]
  },
  {
   "cell_type": "code",
   "execution_count": 29,
   "id": "bfe1f683",
   "metadata": {},
   "outputs": [
    {
     "name": "stdout",
     "output_type": "stream",
     "text": [
      "*  *  *  *  *  \n",
      "*           *  \n",
      "*           *  \n",
      "*           *  \n",
      "*  *  *  *  *  \n"
     ]
    }
   ],
   "source": [
    "for i in range(1,6):\n",
    "    for j in range(1,6):\n",
    "        if i in (1,5) or j in (1,5):\n",
    "            print(\"* \" ,end = ' ')\n",
    "        else:\n",
    "            print('  ',end=' ')\n",
    "    print()"
   ]
  },
  {
   "cell_type": "code",
   "execution_count": null,
   "id": "361b687c",
   "metadata": {},
   "outputs": [
    {
     "name": "stdout",
     "output_type": "stream",
     "text": [
      "      *        \n",
      "      *        \n",
      "*  *  *  *  *  \n",
      "      *        \n",
      "      *        \n"
     ]
    }
   ],
   "source": [
    "for i in range(1,6):\n",
    "    for j in range(1,6):\n",
    "        if i == 3 or j == 3:     \n",
    "            print(\"* \" ,end = ' ')\n",
    "        else:\n",
    "            print('  ',end=' ')\n",
    "    print()"
   ]
  },
  {
   "cell_type": "code",
   "execution_count": 1,
   "id": "8b4d2a56",
   "metadata": {},
   "outputs": [
    {
     "name": "stdout",
     "output_type": "stream",
     "text": [
      "          \n",
      "  *  *  *    \n",
      "  *  *  *    \n",
      "  *  *  *    \n",
      "          \n"
     ]
    }
   ],
   "source": [
    "for i in range(1,6):\n",
    "    for j in range(1,6):\n",
    "        if i not in (1,5) and j not in (1,5):\n",
    "            print(\"* \" ,end = ' ')\n",
    "        else:\n",
    "            print(' ',end=' ')\n",
    "    print()"
   ]
  },
  {
   "cell_type": "code",
   "execution_count": 3,
   "id": "569cd8c7",
   "metadata": {},
   "outputs": [
    {
     "name": "stdout",
     "output_type": "stream",
     "text": [
      "      *        \n",
      "   *  *  *     \n",
      "*  *  *  *  *  \n",
      "   *  *  *     \n",
      "      *        \n"
     ]
    }
   ],
   "source": [
    "for i in range(1,6):\n",
    "    for j in range(1,6):\n",
    "        if i not in (1,5) and j not in (1,5) or i == 3 or j == 3:\n",
    "            print(\"* \" ,end = ' ')\n",
    "        else:\n",
    "            print('  ',end=' ')\n",
    "    print()"
   ]
  },
  {
   "cell_type": "code",
   "execution_count": 11,
   "id": "ea0b889d",
   "metadata": {},
   "outputs": [
    {
     "name": "stdout",
     "output_type": "stream",
     "text": [
      "      *        \n",
      "      *        \n",
      "*  *  *  *  *  \n",
      "      *        \n",
      "      *        \n"
     ]
    }
   ],
   "source": [
    "for i in range(1,6):\n",
    "    for j in range(1,6):\n",
    "        if i == 3 or j == 3:     \n",
    "            print(\"* \" ,end = ' ')\n",
    "        else:\n",
    "            print('  ',end=' ')\n",
    "    print()"
   ]
  },
  {
   "cell_type": "code",
   "execution_count": 7,
   "id": "71484e65",
   "metadata": {},
   "outputs": [
    {
     "name": "stdout",
     "output_type": "stream",
     "text": [
      "      *        \n",
      "   *  *  *     \n",
      "*  *  *  *  *  \n",
      "      *        \n",
      "      *        \n"
     ]
    }
   ],
   "source": [
    "for i in range(1,6):\n",
    "    for j in range(1,6):\n",
    "        if i not in (1,5,4) and j not in (1,5) or i == 3 or j == 3   :\n",
    "            print(\"* \" ,end = ' ')\n",
    "        else:\n",
    "            print('  ',end=' ')\n",
    "    print()"
   ]
  },
  {
   "cell_type": "code",
   "execution_count": 8,
   "id": "b37a1724",
   "metadata": {},
   "outputs": [
    {
     "name": "stdout",
     "output_type": "stream",
     "text": [
      "      *        \n",
      "      *        \n",
      "*  *  *  *  *  \n",
      "   *  *  *     \n",
      "      *        \n"
     ]
    }
   ],
   "source": [
    "for i in range(1,6):\n",
    "    for j in range(1,6):\n",
    "        if i not in (1,5,2) and j not in (1,5) or i == 3 or j == 3   :\n",
    "            print(\"* \" ,end = ' ')\n",
    "        else:\n",
    "            print('  ',end=' ')\n",
    "    print()"
   ]
  },
  {
   "cell_type": "code",
   "execution_count": 9,
   "id": "f3ccb7ca",
   "metadata": {},
   "outputs": [
    {
     "name": "stdout",
     "output_type": "stream",
     "text": [
      "      *        \n",
      "   *  *        \n",
      "*  *  *  *  *  \n",
      "   *  *        \n",
      "      *        \n"
     ]
    }
   ],
   "source": [
    "for i in range(1,6):\n",
    "    for j in range(1,6):\n",
    "        if i not in (1,5) and j not in (1,5,4) or i == 3 or j == 3   :\n",
    "            print(\"* \" ,end = ' ')\n",
    "        else:\n",
    "            print('  ',end=' ')\n",
    "    print()"
   ]
  },
  {
   "cell_type": "code",
   "execution_count": 10,
   "id": "2238616e",
   "metadata": {},
   "outputs": [
    {
     "name": "stdout",
     "output_type": "stream",
     "text": [
      "      *        \n",
      "      *  *     \n",
      "*  *  *  *  *  \n",
      "      *  *     \n",
      "      *        \n"
     ]
    }
   ],
   "source": [
    "for i in range(1,6):\n",
    "    for j in range(1,6):\n",
    "        if i not in (1,5) and j not in (1,5,2) or i == 3 or j == 3   :\n",
    "            print(\"* \" ,end = ' ')\n",
    "        else:\n",
    "            print('  ',end=' ')\n",
    "    print()"
   ]
  },
  {
   "cell_type": "code",
   "execution_count": 7,
   "id": "e9e9bbae",
   "metadata": {},
   "outputs": [
    {
     "name": "stdout",
     "output_type": "stream",
     "text": [
      "* * * * * \n",
      "* * * *   \n",
      "* * *     \n",
      "* *   *   \n",
      "*       * \n"
     ]
    }
   ],
   "source": [
    "# n = int(input(\"enter a number\"))\n",
    "n=5\n",
    "for i in range(1,6):\n",
    "    for j in range(1,6):\n",
    "        if i==j or j<=6-i :\n",
    "            print(\"*\",end=\" \")\n",
    "        else:\n",
    "            print(\" \",end=\" \")\n",
    "    print()"
   ]
  },
  {
   "cell_type": "code",
   "execution_count": 20,
   "id": "30ae32da",
   "metadata": {},
   "outputs": [
    {
     "name": "stdout",
     "output_type": "stream",
     "text": [
      "*       * \n",
      "  *   * * \n",
      "    * * * \n",
      "  * * * * \n",
      "* * * * * \n"
     ]
    }
   ],
   "source": [
    "for i in range(1, 6):\n",
    "    for j in range(1, 6):\n",
    "        if j >= 6-i or j == i:\n",
    "            print(\"*\", end=\" \")\n",
    "        else:\n",
    "            print(\" \", end=\" \")\n",
    "    print()\n"
   ]
  },
  {
   "cell_type": "code",
   "execution_count": 18,
   "id": "589d53d7",
   "metadata": {},
   "outputs": [
    {
     "name": "stdout",
     "output_type": "stream",
     "text": [
      "* * * * * \n",
      "  * * * * \n",
      "    * * * \n",
      "  *   * * \n",
      "*       * \n"
     ]
    }
   ],
   "source": [
    "for i in range(1, 6):\n",
    "    for j in range(1, 6):\n",
    "        if j >= i or i+j ==6:\n",
    "            print(\"*\", end=\" \")\n",
    "        else:\n",
    "            print(\" \", end=\" \")\n",
    "    print()\n"
   ]
  },
  {
   "cell_type": "code",
   "execution_count": 17,
   "id": "4f7b5937",
   "metadata": {},
   "outputs": [
    {
     "name": "stdout",
     "output_type": "stream",
     "text": [
      "*       * \n",
      "* *   *   \n",
      "* * *     \n",
      "* * * *   \n",
      "* * * * * \n"
     ]
    }
   ],
   "source": [
    "for i in range(1, 6):\n",
    "    for j in range(1, 6):\n",
    "        if j <= i or i+j ==6:\n",
    "            print(\"*\", end=\" \")\n",
    "        else:\n",
    "            print(\" \", end=\" \")\n",
    "    print()\n"
   ]
  }
 ],
 "metadata": {
  "kernelspec": {
   "display_name": "Python 3",
   "language": "python",
   "name": "python3"
  },
  "language_info": {
   "codemirror_mode": {
    "name": "ipython",
    "version": 3
   },
   "file_extension": ".py",
   "mimetype": "text/x-python",
   "name": "python",
   "nbconvert_exporter": "python",
   "pygments_lexer": "ipython3",
   "version": "3.13.2"
  }
 },
 "nbformat": 4,
 "nbformat_minor": 5
}
