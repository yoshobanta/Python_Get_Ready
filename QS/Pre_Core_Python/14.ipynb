{
 "cells": [
  {
   "cell_type": "markdown",
   "id": "5b679604",
   "metadata": {},
   "source": [
    "More problems class 14"
   ]
  },
  {
   "cell_type": "code",
   "execution_count": 3,
   "id": "00394c04",
   "metadata": {},
   "outputs": [
    {
     "name": "stdout",
     "output_type": "stream",
     "text": [
      "YOSHO\n"
     ]
    }
   ],
   "source": [
    "# Wap to convert all the lowercase characters of a string into uppercase\n",
    "\n",
    "s = input(\"Enter a string\")\n",
    "i = 0\n",
    "res = ''\n",
    "\n",
    "while i < len(s):\n",
    "    if 'a' <= s[i] <= 'z':\n",
    "        res = res + chr(ord(s[i])-32)\n",
    "    else:\n",
    "        res += s[i]\n",
    "    i = i +1\n",
    "print(res)\n"
   ]
  },
  {
   "cell_type": "code",
   "execution_count": 6,
   "id": "10fef927",
   "metadata": {},
   "outputs": [
    {
     "name": "stdout",
     "output_type": "stream",
     "text": [
      "A\n"
     ]
    }
   ],
   "source": [
    "# Wap to convert all the lowercase characters of a string into uppercase and vice vers i.e toggle\n",
    "\n",
    "s = input(\"Enter a string\")\n",
    "i = 0\n",
    "res = ''\n",
    "\n",
    "while i < len(s):\n",
    "    if 'a' <= s[i] <= 'z':\n",
    "        res = res + chr(ord(s[i])-32)\n",
    "    elif 'A' <= s[i] <= 'Z':\n",
    "        res = res + chr(ord(s[i])+32)\n",
    "    i = i +1\n",
    "print(res)"
   ]
  },
  {
   "cell_type": "markdown",
   "id": "d60bb167",
   "metadata": {},
   "source": [
    "Now n number of input by user if user enter 0 then we have do the sum.\n",
    "eg . 1 , 2,3 -9 ,0 as user enter 0 we will peform the sum of 1 , 2,3 -9 "
   ]
  },
  {
   "cell_type": "code",
   "execution_count": null,
   "id": "967c1571",
   "metadata": {},
   "outputs": [
    {
     "name": "stdout",
     "output_type": "stream",
     "text": [
      "6\n"
     ]
    }
   ],
   "source": [
    "# Mine \n",
    "n = int(input(\"Enter a number\"))\n",
    "\n",
    "i = n\n",
    "\n",
    "sum = 0\n",
    "while i != 0:\n",
    "    sum = n + sum\n",
    "    n = int(input(\"Enter a number\"))\n",
    "    i = n\n",
    "\n",
    "print(sum)\n",
    "\n"
   ]
  },
  {
   "cell_type": "code",
   "execution_count": 10,
   "id": "63d09598",
   "metadata": {},
   "outputs": [
    {
     "name": "stdout",
     "output_type": "stream",
     "text": [
      "15\n"
     ]
    }
   ],
   "source": [
    "# use i = True in while.\n",
    "\n",
    "i = True\n",
    "sum = 0\n",
    "while i :\n",
    "    n = int(input(\"Enter a number\"))\n",
    "    if n != 0:\n",
    "        sum = sum + n\n",
    "    else :\n",
    "        print(sum)\n",
    "        i = False"
   ]
  },
  {
   "cell_type": "markdown",
   "id": "3d806599",
   "metadata": {},
   "source": [
    "Number Series Started"
   ]
  },
  {
   "cell_type": "code",
   "execution_count": null,
   "id": "6c18a9d4",
   "metadata": {},
   "outputs": [],
   "source": [
    "# Divisor vs Factors  \n",
    "# diviosor of 6 = 1,2,3 but factor include 1,2,3,6\n"
   ]
  },
  {
   "cell_type": "code",
   "execution_count": null,
   "id": "ecd78f15",
   "metadata": {},
   "outputs": [
    {
     "name": "stdout",
     "output_type": "stream",
     "text": [
      "[1, 2, 3, 4, 5, 6, 10, 12, 15, 20, 30]\n"
     ]
    }
   ],
   "source": [
    "# WAP to print all the divisors of a given number\n",
    "\n",
    "n = int(input(\"Enter a number\"))\n",
    "i = 1\n",
    "lst = []\n",
    "\n",
    "while i <= n/2:     #optimize way no need to check up to n we can check upto n/2 .\n",
    "    if n%i == 0:\n",
    "        lst += [i]\n",
    "    i += 1\n",
    "print(lst)"
   ]
  },
  {
   "cell_type": "code",
   "execution_count": null,
   "id": "8b8c6446",
   "metadata": {},
   "outputs": [
    {
     "name": "stdout",
     "output_type": "stream",
     "text": [
      "284\n",
      "220\n",
      "Amicable number\n"
     ]
    }
   ],
   "source": [
    "#Amicable number a ,b if sum of divisor of a == b and sum of divisor of b == a then it is amicable number\n",
    "\n",
    "a = int(input(\"Enter a number\"))\n",
    "b = int(input(\"Enter a number\"))\n",
    "i = 1\n",
    "sum_div_a = 0\n",
    "sum_div_b = 0\n",
    "\n",
    "while i < a:\n",
    "    if a % i == 0:\n",
    "        sum_div_a += i\n",
    "    i +=1\n",
    "\n",
    "i = 1        # Reassign as value of i have change\n",
    "while i < b:\n",
    "    if b % i == 0:\n",
    "        sum_div_b += i\n",
    "    i +=1\n",
    "\n",
    "print(sum_div_a)\n",
    "print(sum_div_b)\n",
    "if sum_div_a == b and sum_div_b == a:\n",
    "    print(\"Amicable number\")\n",
    "else:\n",
    "    print(\"Not Amicable number\")"
   ]
  },
  {
   "cell_type": "code",
   "execution_count": null,
   "id": "762ddf31",
   "metadata": {},
   "outputs": [
    {
     "name": "stdout",
     "output_type": "stream",
     "text": [
      "Perfect Number\n"
     ]
    }
   ],
   "source": [
    "# Wap for perfect number . Perfect number means sum of divisor is equal to the number.  Eg = 6,28\n",
    "\n",
    "n = int(input(\"Enter a number\"))\n",
    "i = 1\n",
    "sum = 0\n",
    "while i<n:\n",
    "    if  n%i == 0:\n",
    "        sum += i\n",
    "    i += 1\n",
    "if sum == n :\n",
    "    print(\"Perfect Number\")\n"
   ]
  },
  {
   "cell_type": "code",
   "execution_count": null,
   "id": "bcf843e8",
   "metadata": {},
   "outputs": [
    {
     "name": "stdout",
     "output_type": "stream",
     "text": [
      "Perfect numbers between 2 and 10 are: [6]\n"
     ]
    }
   ],
   "source": [
    "# Perfect number but within the user input.\n",
    "s = int(input(\"Enter start number: \"))\n",
    "e = int(input(\"Enter end number: \"))\n",
    "\n",
    "lst = []\n",
    "i = s\n",
    "\n",
    "while i <= e:\n",
    "    j = 1\n",
    "    sum = 0\n",
    "    while j < i:\n",
    "        if i % j == 0:\n",
    "            sum += j\n",
    "        j += 1\n",
    "    if sum == i:\n",
    "        lst = lst + [i]  \n",
    "    i += 1\n",
    "\n",
    "print(\"Perfect numbers between\", s, \"and\", e, \"are:\", lst)\n",
    "\n"
   ]
  },
  {
   "cell_type": "markdown",
   "id": "52465ea5",
   "metadata": {},
   "source": [
    "Reffer Everything from while loop"
   ]
  },
  {
   "cell_type": "code",
   "execution_count": null,
   "id": "ab9129e0",
   "metadata": {},
   "outputs": [],
   "source": [
    "# WAP to find the factorial of a given number. (multiplication of n natural number similarly to sum of n natural number)\n"
   ]
  }
 ],
 "metadata": {
  "kernelspec": {
   "display_name": "Python 3",
   "language": "python",
   "name": "python3"
  },
  "language_info": {
   "codemirror_mode": {
    "name": "ipython",
    "version": 3
   },
   "file_extension": ".py",
   "mimetype": "text/x-python",
   "name": "python",
   "nbconvert_exporter": "python",
   "pygments_lexer": "ipython3",
   "version": "3.13.2"
  }
 },
 "nbformat": 4,
 "nbformat_minor": 5
}
