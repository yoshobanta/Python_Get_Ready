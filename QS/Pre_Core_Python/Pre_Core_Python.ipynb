{
 "cells": [
  {
   "cell_type": "markdown",
   "id": "031e6911",
   "metadata": {},
   "source": [
    "Normal intro, then what is software types of software , then what is python , history of python, what is var, how it is located in memory, identifiers, ord(), chr() then ascii , then the range of a = -5 to 256 internal catching , rules of identifiers . This is up to 3 classes.\n"
   ]
  },
  {
   "cell_type": "code",
   "execution_count": 6,
   "id": "fbb11bef",
   "metadata": {},
   "outputs": [
    {
     "name": "stdout",
     "output_type": "stream",
     "text": [
      "Before converting  y\n",
      "After converting to Upper Case Y\n"
     ]
    }
   ],
   "source": [
    "c= \"y\"\n",
    "\n",
    "print(\"Before converting \" ,c)\n",
    "if \"a\" <= c <= \"z\":\n",
    "    c = chr(ord(c)-32)\n",
    "    \n",
    "print(\"After converting to Upper Case\", c)"
   ]
  },
  {
   "cell_type": "code",
   "execution_count": 2,
   "id": "0fc46678",
   "metadata": {},
   "outputs": [
    {
     "name": "stdout",
     "output_type": "stream",
     "text": [
      "1720550210656\n",
      "1720550210656\n",
      "1720646589376\n",
      "1720646593072\n"
     ]
    }
   ],
   "source": [
    "a = \"python\"\n",
    "b = 'python'\n",
    "\n",
    "print(id(a))\n",
    "print(id(b))\n",
    "\n",
    "a= \"python@\"\n",
    "b= \"python@\"\n",
    "print(id(a))\n",
    "print(id(b))"
   ]
  },
  {
   "cell_type": "code",
   "execution_count": 1,
   "id": "dd6617c4",
   "metadata": {},
   "outputs": [
    {
     "name": "stdout",
     "output_type": "stream",
     "text": [
      "97\n",
      "A\n"
     ]
    }
   ],
   "source": [
    "c = \"a\"\n",
    "print(ord(c))\n",
    "#if i have to convert it is not upper case then\n",
    "print(chr(ord(c)-32))"
   ]
  },
  {
   "cell_type": "code",
   "execution_count": null,
   "id": "afe81b13",
   "metadata": {},
   "outputs": [
    {
     "name": "stdout",
     "output_type": "stream",
     "text": [
      "<class 'int'>\n",
      "4 5 6\n"
     ]
    }
   ],
   "source": [
    "a,b,c = 1,2,3"
   ]
  },
  {
   "cell_type": "code",
   "execution_count": 4,
   "id": "8f3d8e1d",
   "metadata": {},
   "outputs": [
    {
     "name": "stdout",
     "output_type": "stream",
     "text": [
      "10\n"
     ]
    }
   ],
   "source": [
    "print(21//2)"
   ]
  },
  {
   "cell_type": "code",
   "execution_count": 7,
   "id": "a7334695",
   "metadata": {},
   "outputs": [
    {
     "name": "stdout",
     "output_type": "stream",
     "text": [
      "[8, 6, 2]\n"
     ]
    }
   ],
   "source": [
    "a = 25687\n",
    "res = []\n",
    "i = a\n",
    "while i > 0:\n",
    "    if (i%10)%2==0:\n",
    "        res += [i%10]\n",
    "    i//=10\n",
    "print(res)"
   ]
  },
  {
   "cell_type": "code",
   "execution_count": null,
   "id": "5f135159",
   "metadata": {},
   "outputs": [
    {
     "name": "stdout",
     "output_type": "stream",
     "text": [
      "{'steve': ('steve', 5), 'allen': ('allen', 5), 'mike': ('mike', 4), 'blake': ('blake', 5), 'miller': ('miller', 6)}\n",
      "defaultdict(<class 'int'>, {'steve': ('steve', 5), 'allen': ('allen', 5), 'mike': ('mike', 4), 'blake': ('blake', 5), 'miller': ('miller', 6)})\n"
     ]
    }
   ],
   "source": [
    "# Revision \n",
    "from collections import defaultdict\n",
    "a = ['steve', 'allen', 'mike', 'blake', 'miller']\n",
    "# res = {'steve': ('steve', 5), 'allen': ('allen', 5), 'mike': (4, 'mike'), 'blake': ('blake', 5), 'miller': (6, 'miller')}\n",
    "\n",
    "res = defaultdict(int)\n",
    "\n",
    "for i in a:\n",
    "        res[i] = (i,len(i))\n",
    "        \n",
    "print(dict(res))\n",
    "print(res)\n",
    "    \n",
    "\n"
   ]
  },
  {
   "cell_type": "code",
   "execution_count": null,
   "id": "9e1cd5ad",
   "metadata": {},
   "outputs": [
    {
     "name": "stdout",
     "output_type": "stream",
     "text": [
      "{'steve': ('steve', 5), 'allen': ('allen', 5), 'mike': ('mike', 4), 'blake': ('blake', 5), 'miller': ('miller', 6)}\n"
     ]
    }
   ],
   "source": [
    "# Revision  \n",
    "# Now Do this without using default dict\n",
    "a = ['steve', 'allen', 'mike', 'blake', 'miller','steve']\n",
    "# res = {'steve': ('steve', 5), 'allen': ('allen', 5), 'mike': (4, 'mike'), 'blake': ('blake', 5), 'miller': (6, 'miller')}\n",
    "\n",
    "res = {}\n",
    "for i in a:\n",
    "    res[i] = (i,len(i))\n",
    "    \n",
    "print(res)\n",
    "\n"
   ]
  },
  {
   "cell_type": "code",
   "execution_count": null,
   "id": "38a758df",
   "metadata": {},
   "outputs": [
    {
     "name": "stdout",
     "output_type": "stream",
     "text": [
      "{'steve': ('steve', 5), 'allen': ('allen', 5), 'mike': ('mike', 4), 'blake': ('blake', 5), 'miller': ('miller', 6)}\n"
     ]
    }
   ],
   "source": [
    "# Revision \n",
    "# Now same but without using any built in functions\n",
    "a = ['steve', 'allen', 'mike', 'blake', 'miller','steve']\n",
    "# res = {'steve': ('steve', 5), 'allen': ('allen', 5), 'mike': (4, 'mike'), 'blake': ('blake', 5), 'miller': (6, 'miller')}\n",
    "\n",
    "def my_len(str):\n",
    "    count = 0\n",
    "    for _ in str:\n",
    "        count += 1\n",
    "    return count\n",
    "    \n",
    "res = {}\n",
    "for i in a:\n",
    "    res[i] = (i , my_len(i))\n",
    "print(res)"
   ]
  },
  {
   "cell_type": "code",
   "execution_count": null,
   "id": "851f256a",
   "metadata": {},
   "outputs": [
    {
     "name": "stdout",
     "output_type": "stream",
     "text": [
      "{4: ['mike', 'anna', 'anil'], 5: ['allen', 'steve', 'yosho', 'akash', 'vijay'], 6: ['miller', 'ritesh', 'jitesh', 'hitesh', 'mukesh', 'naveen'], 7: ['praveen']}\n"
     ]
    }
   ],
   "source": [
    "#revision \n",
    "# now {4: ['mike', 'anna', 'anil'], 5: ['allen', 'steve', 'yosho', 'akash', 'vijay'], 6: ['miller', 'ritesh', 'jitesh', 'hitesh', 'mukesh', 'naveen'], 7: ['praveen']}\n",
    " \n",
    "from collections import defaultdict\n",
    "a = ['mike', 'allen', 'steve', 'miller', 'anna', 'ritesh', 'jitesh',\n",
    "         'hitesh', 'mukesh', 'yosho', 'akash', 'praveen', 'naveen',\n",
    "         'vijay', 'anil']\n",
    "\n",
    "\n",
    "res = defaultdict(list)\n",
    "\n",
    "for i in a :\n",
    "    res[len(i)] += [i] \n",
    "    # or res[len(i)].append(i)\n",
    "    \n",
    "print(dict(res))\n",
    "\n",
    "\n"
   ]
  },
  {
   "cell_type": "code",
   "execution_count": null,
   "id": "5a61f57a",
   "metadata": {},
   "outputs": [
    {
     "name": "stdout",
     "output_type": "stream",
     "text": [
      "{4: ['mike', 'anna', 'anil'], 5: ['allen', 'steve', 'yosho', 'akash', 'vijay'], 6: ['miller', 'ritesh', 'jitesh', 'hitesh', 'mukesh', 'naveen'], 7: ['praveen']}\n"
     ]
    }
   ],
   "source": [
    "# revision\n",
    "# now {4: ['mike', 'anna', 'anil'], 5: ['allen', 'steve', 'yosho', 'akash', 'vijay'], 6: ['miller', 'ritesh', 'jitesh', 'hitesh', 'mukesh', 'naveen'], 7: ['praveen']}\n",
    "# but without using default dict and any built-in function\n",
    "\n",
    "def my_len(str):\n",
    "    count = 0\n",
    "    for _ in str:\n",
    "        count += 1\n",
    "    return count\n",
    "\n",
    "a = ['mike', 'allen', 'steve', 'miller', 'anna', 'ritesh', 'jitesh',\n",
    "         'hitesh', 'mukesh', 'yosho', 'akash', 'praveen', 'naveen',\n",
    "         'vijay', 'anil']\n",
    "\n",
    "res = {}\n",
    "\n",
    "\n",
    "# here we have to check if the key exist or not as we are not using the default dictionary .\n",
    "for i in a:\n",
    "    l = my_len(i)\n",
    "    if l not in res :\n",
    "        res[l] = [i]\n",
    "    else:\n",
    "        res[l] += [i]\n",
    "    \n",
    "print(res)\n",
    "\n",
    "\n"
   ]
  },
  {
   "cell_type": "code",
   "execution_count": null,
   "id": "c9fac231",
   "metadata": {},
   "outputs": [
    {
     "name": "stdout",
     "output_type": "stream",
     "text": [
      "{'h': 1, 'e': 1, 'l': 2, 'o': 1}\n"
     ]
    }
   ],
   "source": [
    "# Revision \n",
    "# frequency of a letter in a  string\n",
    "# Hello --- {'H': 1, 'a': 4, 'h': 3}\n",
    "# I am ignoring the space and the case also.\n",
    "\n",
    "s = input(\"Enter a string\")\n",
    "s = s.lower()\n",
    "res = {}\n",
    "for i in s:\n",
    "    if i != \" \" and i not in res:\n",
    "            res[i] = s.count(i)\n",
    "print(res)"
   ]
  },
  {
   "cell_type": "code",
   "execution_count": 43,
   "id": "41de479d",
   "metadata": {},
   "outputs": [
    {
     "name": "stdout",
     "output_type": "stream",
     "text": [
      "{'h': 1, 'e': 1, 'l': 2, 'o': 1}\n"
     ]
    }
   ],
   "source": [
    "# Revision \n",
    "# frequency of a letter in a  string\n",
    "# Hello --- {'H': 1, 'a': 4, 'h': 3}\n",
    "# I am ignoring the space and the case also.\n",
    "\n",
    "s = input(\"Enter a string\")\n",
    "s = s.lower()\n",
    "res = {}\n",
    "for i in s:\n",
    "    if i != \" \":\n",
    "        if i not in res:\n",
    "            res[i] = s.count(i)\n",
    "print(res)"
   ]
  },
  {
   "cell_type": "code",
   "execution_count": 40,
   "id": "e46c9391",
   "metadata": {},
   "outputs": [
    {
     "name": "stdout",
     "output_type": "stream",
     "text": [
      "{'h': 1, 'e': 1, 'l': 2, 'o': 1}\n"
     ]
    }
   ],
   "source": [
    "# Revision \n",
    "# frequency of a letter in a  string without any built-in\n",
    "\n",
    "s = input(\"Enter a string\")\n",
    "s = s.lower()\n",
    "res = {}\n",
    "for i in s:\n",
    "    if i != \" \":\n",
    "        if i not in res:\n",
    "            res[i] = 1\n",
    "        else:\n",
    "            res[i] +=1\n",
    "\n",
    "print(res)\n"
   ]
  },
  {
   "cell_type": "code",
   "execution_count": null,
   "id": "20a72bd2",
   "metadata": {},
   "outputs": [
    {
     "name": "stdout",
     "output_type": "stream",
     "text": [
      "{'m': ['mike', 'miller', 'mukesh'], 'a': ['allen', 'anna', 'akash', 'anil'], 's': ['steve'], 'r': ['ritesh'], 'j': ['jitesh'], 'h': ['hitesh'], 'y': ['youso'], 'p': ['praveen'], 'n': ['naveen'], 'v': ['vijay']}\n"
     ]
    }
   ],
   "source": [
    "# 53. WAP to group the given list of names WRT their first charcater.\n",
    "#{'m': ['mike', 'miller', 'mukesh'], 'a': ['allen', 'anna', 'akash', 'anil'], 's': ['steve'], 'r': ['ritesh'], 'j': ['jitesh'], 'h': ['hitesh'], 'y': ['youso'], 'p': ['praveen'], 'n': ['naveen'], 'v': ['vijay']})\n",
    "\n",
    "from collections import defaultdict\n",
    "a = ['mike', 'allen', 'steve', 'miller', 'anna', 'ritesh', 'jitesh',\n",
    "         'hitesh', 'mukesh', 'youso', 'akash', 'praveen', 'naveen',\n",
    "         'vijay', 'anil']\n",
    "res = defaultdict(list)\n",
    "for i in a:\n",
    "    res[i[0]].append(i)\n",
    "    \n",
    "print(dict(res))\n",
    "\n",
    "# do not use print(list(res)) as it will only shows keys not the values."
   ]
  },
  {
   "cell_type": "code",
   "execution_count": 36,
   "id": "87101d39",
   "metadata": {},
   "outputs": [
    {
     "name": "stdout",
     "output_type": "stream",
     "text": [
      "hello\n",
      "Hello\n"
     ]
    }
   ],
   "source": [
    "s = \"Hello\"\n",
    "print(s.lower())\n",
    "print(s)"
   ]
  },
  {
   "cell_type": "markdown",
   "id": "bab20f1d",
   "metadata": {},
   "source": [
    "| Aspect              | Version A                                                    | Version B                                 |\n",
    "| ------------------- | ------------------------------------------------------------ | ----------------------------------------- |\n",
    "| **Logic**           | Both versions do the **same thing**                          | Both versions do the **same thing**       |\n",
    "| **Condition style** | Combined using `and`                                         | Nested `if` statements                    |\n",
    "| **Readability**     | Slightly more compact and direct                             | Slightly more verbose and beginner-style  |\n",
    "| **Performance**     | ✅ Identical — both are O(n²) due to `.count()`               | ✅ Same performance                        |\n",
    "| **Best Practice**   | ✅ Preferred in Python for clarity when conditions are simple | Fine, but can be bulky as conditions grow |\n"
   ]
  },
  {
   "cell_type": "code",
   "execution_count": 9,
   "id": "dda89776",
   "metadata": {},
   "outputs": [
    {
     "name": "stdout",
     "output_type": "stream",
     "text": [
      "45\n"
     ]
    }
   ],
   "source": [
    "# This will run until 0 is added till then it will add all the value the moment a zero(0) appear it will display the sum .\n",
    "res = 0\n",
    "while True:\n",
    "    a = int(input('enter the number:'))\n",
    "    if a == 0:\n",
    "        print(res)\n",
    "        break\n",
    "    res += a"
   ]
  },
  {
   "cell_type": "code",
   "execution_count": 9,
   "id": "3660c012",
   "metadata": {},
   "outputs": [
    {
     "name": "stdout",
     "output_type": "stream",
     "text": [
      "{'steve': ('steve', 5), 'allen': ('allen', 5), 'mike': (4, 'mike'), 'blake': ('blake', 5), 'miller': (6, 'miller')}\n"
     ]
    }
   ],
   "source": [
    "a = ['steve', 'allen', 'mike', 'blake', 'miller']\n",
    "# res = {'steve': ('steve', 5), 'allen': ('allen', 5), 'mike': (4, 'mike'), 'blake': ('blake', 5), 'miller': (6, 'miller')}\n",
    "res = {}\n",
    "i = 0\n",
    "while i < len(a):\n",
    "    if len(a[i]) % 2 == 0:\n",
    "        res[a[i]] = (len(a[i]), a[i])\n",
    "    else:\n",
    "        res[a[i]] = (a[i], len(a[i]))\n",
    "    i += 1\n",
    "print(res)"
   ]
  },
  {
   "cell_type": "code",
   "execution_count": 10,
   "id": "99360cdb",
   "metadata": {},
   "outputs": [
    {
     "name": "stdout",
     "output_type": "stream",
     "text": [
      "{4: ['mike', 'anna', 'anil'], 5: ['allen', 'steve', 'yosho', 'akash', 'vijay'], 6: ['miller', 'ritesh', 'jitesh', 'hitesh', 'mukesh', 'naveen'], 7: ['praveen']}\n"
     ]
    }
   ],
   "source": [
    "a = ['mike', 'allen', 'steve', 'miller', 'anna', 'ritesh', 'jitesh',\n",
    "         'hitesh', 'mukesh', 'yosho', 'akash', 'praveen', 'naveen',\n",
    "         'vijay', 'anil']\n",
    "res = {}\n",
    "i= 0\n",
    "while i < len(a):\n",
    "    if len(a[i]) not in res:\n",
    "        res[len(a[i])] = [a[i]]\n",
    "    else:\n",
    "        res[len(a[i])] += [a[i]]\n",
    "    i += 1\n",
    "print(res)"
   ]
  },
  {
   "cell_type": "code",
   "execution_count": null,
   "id": "7aea73ca",
   "metadata": {},
   "outputs": [
    {
     "name": "stdout",
     "output_type": "stream",
     "text": [
      "defaultdict(<class 'int'>, {'H': 1, 'a': 4, 'h': 3})\n"
     ]
    }
   ],
   "source": [
    "from collections import defaultdict\n",
    "a = input('enter the string:')\n",
    "res = defaultdict(int)\n",
    "i = 0\n",
    "while i < len(a):\n",
    "    res[a[i]] += 1\n",
    "    i += 1\n",
    "print(res)"
   ]
  },
  {
   "cell_type": "code",
   "execution_count": 2,
   "id": "9a76e46b",
   "metadata": {},
   "outputs": [
    {
     "name": "stdout",
     "output_type": "stream",
     "text": [
      "0j\n"
     ]
    }
   ],
   "source": [
    "a = complex(False)\n",
    "print(a)"
   ]
  },
  {
   "cell_type": "code",
   "execution_count": 10,
   "id": "b4f735cf",
   "metadata": {},
   "outputs": [
    {
     "name": "stdout",
     "output_type": "stream",
     "text": [
      "0-p\n",
      "1-y\n",
      "2-t\n",
      "3-h\n",
      "4-o\n",
      "5-n\n"
     ]
    }
   ],
   "source": [
    "a = 'python'\n",
    "for i, j in enumerate(a):\n",
    "    # if i % 2 == 0:\n",
    "    print(i,j,sep ='-')"
   ]
  },
  {
   "cell_type": "code",
   "execution_count": 12,
   "id": "a50b73f7",
   "metadata": {},
   "outputs": [
    {
     "name": "stdout",
     "output_type": "stream",
     "text": [
      "{4: ['mike', 'anna', 'anil'], 5: ['allen', 'steve', 'yosho', 'akash', 'vijay'], 6: ['miller', 'ritesh', 'jitesh', 'hitesh', 'mukesh', 'naveen'], 7: ['praveen']}\n"
     ]
    }
   ],
   "source": [
    "# WAP to group the given list of names WRT their length\n",
    "a = ['mike', 'allen', 'steve', 'miller', 'anna', 'ritesh', 'jitesh',\n",
    "         'hitesh', 'mukesh', 'yosho', 'akash', 'praveen', 'naveen',\n",
    "         'vijay', 'anil']\n",
    "res ={}\n",
    "for i in a:\n",
    "    if len(i) not in res:\n",
    "        res[len(i)] = [i]\n",
    "    else:\n",
    "        res[len(i)] += [i]\n",
    "print(res)\n"
   ]
  },
  {
   "cell_type": "code",
   "execution_count": 14,
   "id": "d3a684d7",
   "metadata": {},
   "outputs": [
    {
     "name": "stdout",
     "output_type": "stream",
     "text": [
      "defaultdict(<class 'list'>, {'m': ['mike', 'miller', 'mukesh'], 'a': ['allen', 'anna', 'akash', 'anil'], 's': ['steve'], 'r': ['ritesh'], 'j': ['jitesh'], 'h': ['hitesh'], 'y': ['youso'], 'p': ['praveen'], 'n': ['naveen'], 'v': ['vijay']})\n"
     ]
    }
   ],
   "source": [
    "# 53. WAP to group the given list of names WRT their first charcater.\n",
    "from collections import defaultdict\n",
    "a = ['mike', 'allen', 'steve', 'miller', 'anna', 'ritesh', 'jitesh',\n",
    "         'hitesh', 'mukesh', 'youso', 'akash', 'praveen', 'naveen',\n",
    "         'vijay', 'anil']\n",
    "res = defaultdict(list)\n",
    "i= 0\n",
    "while i < len(a):\n",
    "    res[a[i][0]] += [a[i]]\n",
    "    i += 1\n",
    "print(res)"
   ]
  },
  {
   "cell_type": "code",
   "execution_count": 17,
   "id": "63c6b9f7",
   "metadata": {},
   "outputs": [
    {
     "name": "stdout",
     "output_type": "stream",
     "text": [
      "Not Perfect\n"
     ]
    }
   ],
   "source": [
    "# WAP to check whether the entered number is perfect or not.\n",
    "n = 27\n",
    "res =0\n",
    "for i in range(1,n//2+1):\n",
    "    if n%i ==0:\n",
    "        res += i\n",
    "if res == n:\n",
    "    print(\"Perfect\")\n",
    "else:\n",
    "    print(\"Not Perfect\")\n"
   ]
  },
  {
   "cell_type": "code",
   "execution_count": 21,
   "id": "fadeabf5",
   "metadata": {},
   "outputs": [
    {
     "name": "stdout",
     "output_type": "stream",
     "text": [
      "Amicable\n"
     ]
    }
   ],
   "source": [
    "# 29. WAP to check whether the entered numbers are amicable or not.\n",
    "a = 220\n",
    "b = 284\n",
    "resa = 0\n",
    "resb=0\n",
    "\n",
    "for i in range(1,a//2+1):\n",
    "    if a%i ==0:\n",
    "        resa += i\n",
    "for i in range(1,b//2+1):\n",
    "    if b%i ==0:\n",
    "        resb += i\n",
    "if a == resb and b == resa:\n",
    "    print(\"Amicable\")"
   ]
  },
  {
   "cell_type": "code",
   "execution_count": 23,
   "id": "8fc833e9",
   "metadata": {},
   "outputs": [
    {
     "name": "stdout",
     "output_type": "stream",
     "text": [
      "100\n"
     ]
    }
   ],
   "source": [
    "res = 0\n",
    "while True:\n",
    "    n = int(input(\"Enter a number\"))\n",
    "    if n == 0:\n",
    "        print(res)\n",
    "        break\n",
    "    res += n\n"
   ]
  },
  {
   "cell_type": "code",
   "execution_count": 25,
   "id": "64ef5a7e",
   "metadata": {},
   "outputs": [
    {
     "name": "stdout",
     "output_type": "stream",
     "text": [
      "[0, 1, 1, 2, 3]\n"
     ]
    }
   ],
   "source": [
    "# WAP to print first n fibonacci numbers.\n",
    "a = 0\n",
    "b = 1\n",
    "c =0\n",
    "res = []\n",
    "n = int(input(\"Enter the number\"))\n",
    "for i in range(n):\n",
    "    res += [a]\n",
    "    c = a+b\n",
    "    a,b= b,c\n",
    "print(res)\n"
   ]
  },
  {
   "cell_type": "code",
   "execution_count": 24,
   "id": "e00c301e",
   "metadata": {},
   "outputs": [
    {
     "name": "stdout",
     "output_type": "stream",
     "text": [
      "[0, 1, 1, 2, 3, 5, 8, 13, 21, 34, 55, 89, 144, 233, 377]\n"
     ]
    }
   ],
   "source": [
    "a = 0\n",
    "b = 1\n",
    "i = 0\n",
    "res = []\n",
    "while i < 15:\n",
    "    res += [a]\n",
    "    c = a + b\n",
    "    a, b = b, c\n",
    "    i += 1\n",
    "print(res)"
   ]
  }
 ],
 "metadata": {
  "kernelspec": {
   "display_name": "Python 3",
   "language": "python",
   "name": "python3"
  },
  "language_info": {
   "codemirror_mode": {
    "name": "ipython",
    "version": 3
   },
   "file_extension": ".py",
   "mimetype": "text/x-python",
   "name": "python",
   "nbconvert_exporter": "python",
   "pygments_lexer": "ipython3",
   "version": "3.13.2"
  }
 },
 "nbformat": 4,
 "nbformat_minor": 5
}
