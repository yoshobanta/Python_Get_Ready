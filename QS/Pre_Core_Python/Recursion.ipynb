{
 "cells": [
  {
   "cell_type": "markdown",
   "id": "236382ab",
   "metadata": {},
   "source": [
    "Today's class Recursion 30/06/2025\n",
    "\n",
    "There is limit in recursion 1000 initially but after so it will run 996 times .\n",
    "\n",
    "We can use setrecursionlimit , getrecursionlimit "
   ]
  },
  {
   "cell_type": "markdown",
   "id": "9f0b9f45",
   "metadata": {},
   "source": [
    "Recursion Notes :\n",
    "\n",
    "It is phenomenon of calling a function by itself until the given termination condition becomes false . \n",
    "\n",
    "Reursion is used to increase the efficiency of a program by reducing the number of instruction.\n",
    "\n",
    "Steps to convert looping to recursion :\n",
    "1. Initialization of all the loop variables shoould be done in a formal argument section . \n",
    "\n",
    "2. Write the termination condition as it is in the form of if statement.\n",
    "\n",
    "3. Write the logic of a program as it is in the true statement block by excluding the updatation.\n",
    "\n",
    "4. The updation of loop variables should be done in a recursive call. \n",
    "\n",
    "5. The final result should be return in the else block."
   ]
  },
  {
   "cell_type": "code",
   "execution_count": 4,
   "id": "ec97aeb7",
   "metadata": {},
   "outputs": [
    {
     "data": {
      "text/plain": [
       "[3, 5, 7, 9, 11, 13, 15, 17, 19]"
      ]
     },
     "execution_count": 4,
     "metadata": {},
     "output_type": "execute_result"
    }
   ],
   "source": [
    "# WAP to print all the even numbers in between the user entered limits.\n",
    "def odds (s,e,res=[]):\n",
    "    if s <= e :\n",
    "        if s % 2 != 0:\n",
    "            res += [s]\n",
    "        return odds(s=s+1,e=e,res=res)     #here we did not pass e as it will break the rule positional arg should be followed by keyword argument\n",
    "    return res\n",
    "\n",
    "\n",
    "odds(2,20)"
   ]
  },
  {
   "cell_type": "code",
   "execution_count": 8,
   "id": "1c9804ff",
   "metadata": {},
   "outputs": [
    {
     "data": {
      "text/plain": [
       "'YS'"
      ]
     },
     "execution_count": 8,
     "metadata": {},
     "output_type": "execute_result"
    }
   ],
   "source": [
    "# WAP to print only the uppercase alphabets from the given string.\n",
    "\n",
    "def to_upper(a,i=0,res=''):\n",
    "    if i < len(a):\n",
    "        if 'A' <= a[i] <= 'Z':\n",
    "            res += a[i]\n",
    "        return to_upper(a,i=i+1,res=res)\n",
    "    return res\n",
    "\n",
    "to_upper(\"YoSho\")"
   ]
  },
  {
   "cell_type": "code",
   "execution_count": 11,
   "id": "cc985b1d",
   "metadata": {},
   "outputs": [
    {
     "data": {
      "text/plain": [
       "[0, 1, 1, 2, 3]"
      ]
     },
     "execution_count": 11,
     "metadata": {},
     "output_type": "execute_result"
    }
   ],
   "source": [
    "# WAP to print first n fibonacci numbers.\n",
    "\n",
    "def to_fibonacci(n,a=0,b=1,i=0,res=[]):\n",
    "    if i < n :\n",
    "        res += [a]\n",
    "        c = a+b\n",
    "        a,b = b,c\n",
    "        return to_fibonacci(n,a=a,b=b,i=i+1,res = res)\n",
    "    return res\n",
    "\n",
    "to_fibonacci(5)"
   ]
  },
  {
   "cell_type": "code",
   "execution_count": 12,
   "id": "2ef7c480",
   "metadata": {},
   "outputs": [
    {
     "data": {
      "text/plain": [
       "120"
      ]
     },
     "execution_count": 12,
     "metadata": {},
     "output_type": "execute_result"
    }
   ],
   "source": [
    "# WAP to find the factorial of a given number.\n",
    "def to_factorial (n,i=1,res=1):\n",
    "    if i <=n :\n",
    "        res *= i\n",
    "        return to_factorial(n,i = i+1 ,res = res)\n",
    "    return res\n",
    "\n",
    "to_factorial(5)"
   ]
  },
  {
   "cell_type": "code",
   "execution_count": 10,
   "id": "74271d2c",
   "metadata": {},
   "outputs": [
    {
     "data": {
      "text/plain": [
       "720"
      ]
     },
     "execution_count": 10,
     "metadata": {},
     "output_type": "execute_result"
    }
   ],
   "source": [
    "# WAP to find the factorial of a given number using recursion .\n",
    "def to_factorial (n):\n",
    "    if n == 0 :\n",
    "        return 1\n",
    "    else:\n",
    "        return n * to_factorial(n-1)\n",
    "\n",
    "to_factorial(6)"
   ]
  }
 ],
 "metadata": {
  "kernelspec": {
   "display_name": "Python 3",
   "language": "python",
   "name": "python3"
  },
  "language_info": {
   "codemirror_mode": {
    "name": "ipython",
    "version": 3
   },
   "file_extension": ".py",
   "mimetype": "text/x-python",
   "name": "python",
   "nbconvert_exporter": "python",
   "pygments_lexer": "ipython3",
   "version": "3.13.2"
  }
 },
 "nbformat": 4,
 "nbformat_minor": 5
}
