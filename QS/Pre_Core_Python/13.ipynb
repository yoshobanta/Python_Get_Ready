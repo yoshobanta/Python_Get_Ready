{
 "cells": [
  {
   "cell_type": "markdown",
   "id": "ad35d311",
   "metadata": {},
   "source": [
    "Some More Programs on While loop, we done mainly , extract, reverse, palindrome. and 7 programs as task .is given. Reffer Today's class in while loop 13.py."
   ]
  },
  {
   "cell_type": "code",
   "execution_count": 2,
   "id": "f3dc13c5",
   "metadata": {},
   "outputs": [
    {
     "name": "stdout",
     "output_type": "stream",
     "text": [
      "p\n",
      "y\n",
      "t\n",
      "h\n",
      "o\n",
      "n\n"
     ]
    }
   ],
   "source": [
    "#Wap to print all the character from a given string.\n",
    "\n",
    "s = input(\"enter a string\")\n",
    "i = 0\n",
    "\n",
    "while i < len(s):\n",
    "    print(s[i])\n",
    "    i += 1"
   ]
  },
  {
   "cell_type": "code",
   "execution_count": 5,
   "id": "17ef6051",
   "metadata": {},
   "outputs": [
    {
     "name": "stdout",
     "output_type": "stream",
     "text": [
      "P\n",
      "T\n",
      "N\n"
     ]
    }
   ],
   "source": [
    "#WAP to print only the uppercase alphabets from the given string.\n",
    "\n",
    "s = input(\"enter a string\")\n",
    "i = 0\n",
    "\n",
    "while i < len(s):\n",
    "    if 'A' <= s[i] <= 'Z' :\n",
    "        print(s[i])\n",
    "    i += 1"
   ]
  },
  {
   "cell_type": "code",
   "execution_count": 7,
   "id": "755573bc",
   "metadata": {},
   "outputs": [
    {
     "name": "stdout",
     "output_type": "stream",
     "text": [
      "y\n",
      "t\n",
      "h\n",
      "o\n",
      "n\n"
     ]
    }
   ],
   "source": [
    "# WAP to print only the lowercase alphabets from the given string.\n",
    "\n",
    "s = input(\"Enter a string\")\n",
    "i=0\n",
    "\n",
    "while i < len(s):\n",
    "    if \"a\" <= s[i] <= \"z\":\n",
    "        print(s[i])\n",
    "    i +=1"
   ]
  },
  {
   "cell_type": "code",
   "execution_count": 12,
   "id": "b2a5009e",
   "metadata": {},
   "outputs": [
    {
     "name": "stdout",
     "output_type": "stream",
     "text": [
      "1\n",
      "2\n"
     ]
    }
   ],
   "source": [
    "# WAP to print only the numerical characters from the given string.\n",
    "\n",
    "s = input(\"Enter a numerical character\")\n",
    "i = 0\n",
    "\n",
    "while i < len(s):\n",
    "    if \"0\" <= s[i] <= \"9\" :\n",
    "        print(s[i])\n",
    "    i += 1"
   ]
  },
  {
   "cell_type": "code",
   "execution_count": 14,
   "id": "488400b7",
   "metadata": {},
   "outputs": [
    {
     "name": "stdout",
     "output_type": "stream",
     "text": [
      " \n",
      " \n",
      "^\n",
      " \n",
      "@\n"
     ]
    }
   ],
   "source": [
    "# WAP to print only the Special characters from the given string.\n",
    "\n",
    "s = input(\"Enter a special character\")\n",
    "i = 0\n",
    "\n",
    "while i < len(s):\n",
    "    if not(\"0\" <= s[i] <= \"9\" or \"A\" <= s[i] <= \"Z\" or \"a\" <= s[i] <= \"z\"):\n",
    "        print(s[i])\n",
    "    i += 1\n"
   ]
  },
  {
   "cell_type": "code",
   "execution_count": 16,
   "id": "287518fd",
   "metadata": {},
   "outputs": [
    {
     "name": "stdout",
     "output_type": "stream",
     "text": [
      "Uo\n"
     ]
    }
   ],
   "source": [
    "### WAP to extract all the characters from one variable to another variable.\n",
    "\n",
    "s = input(\"Enter a string\")\n",
    "res =''\n",
    "i = 0\n",
    "\n",
    "while i < len(s):\n",
    "    res = res + s[i]\n",
    "    i += 1\n",
    "print(res)"
   ]
  },
  {
   "cell_type": "code",
   "execution_count": 17,
   "id": "e1fca0bd",
   "metadata": {},
   "outputs": [
    {
     "name": "stdout",
     "output_type": "stream",
     "text": [
      "Y\n"
     ]
    }
   ],
   "source": [
    "### WAP to extract only the uppercase alphabets from the given string.\n",
    "\n",
    "s = input(\"Enter a string\")\n",
    "res =''\n",
    "i = 0\n",
    "\n",
    "while i < len(s):\n",
    "    if \"A\" <= s[i] <= \"Z\":\n",
    "        res = res + s[i]\n",
    "    i += 1\n",
    "print(res)"
   ]
  },
  {
   "cell_type": "code",
   "execution_count": 18,
   "id": "4d61a6be",
   "metadata": {},
   "outputs": [
    {
     "name": "stdout",
     "output_type": "stream",
     "text": [
      "osho\n"
     ]
    }
   ],
   "source": [
    "### WAP to Extract only the lowercase alphabets from the given string.\n",
    "s = input(\"Enter a string\")\n",
    "res =''\n",
    "i = 0\n",
    "\n",
    "while i < len(s):\n",
    "    if \"a\" <= s[i] <= \"z\":\n",
    "        res = res + s[i]\n",
    "    i += 1\n",
    "print(res)"
   ]
  },
  {
   "cell_type": "code",
   "execution_count": 19,
   "id": "e9e28c89",
   "metadata": {},
   "outputs": [
    {
     "name": "stdout",
     "output_type": "stream",
     "text": [
      "299\n"
     ]
    }
   ],
   "source": [
    "### WAP to Extract only the numerical characters from the given string.\n",
    "s = input(\"Enter a string\")\n",
    "res =''\n",
    "i = 0\n",
    "\n",
    "while i < len(s):\n",
    "    if \"0\" <= s[i] <= \"9\":\n",
    "        res = res + s[i]\n",
    "    i += 1\n",
    "print(res)"
   ]
  },
  {
   "cell_type": "code",
   "execution_count": 20,
   "id": "773e9c2a",
   "metadata": {},
   "outputs": [
    {
     "name": "stdout",
     "output_type": "stream",
     "text": [
      "@\n"
     ]
    }
   ],
   "source": [
    "### WAP to Extract only the Special characters from the given string.\n",
    "\n",
    "s = input(\"Enter a string\")\n",
    "res =''\n",
    "i = 0\n",
    "\n",
    "while i < len(s):\n",
    "    if not(\"0\" <= s[i] <= \"9\" or \"A\" <= s[i] <= \"Z\" or \"a\" <= s[i] <= \"z\"):\n",
    "        res = res + s[i]\n",
    "    i += 1\n",
    "print(res)\n",
    "    \n"
   ]
  },
  {
   "cell_type": "code",
   "execution_count": 25,
   "id": "57f6841f",
   "metadata": {},
   "outputs": [
    {
     "name": "stdout",
     "output_type": "stream",
     "text": [
      "Yes it is palindrome\n"
     ]
    }
   ],
   "source": [
    "# WAP to check whether the entered string is palindrome or not.\n",
    "\n",
    "s = input(\"Enter a string\")\n",
    "\n",
    "if s[::-1] == s:\n",
    "    print(\"Yes it is palindrome\")\n",
    "else :\n",
    "    print(\"No it is not a palindrome\")\n",
    "     \n"
   ]
  },
  {
   "cell_type": "code",
   "execution_count": 30,
   "id": "f51be8ab",
   "metadata": {},
   "outputs": [
    {
     "name": "stdout",
     "output_type": "stream",
     "text": [
      "Yes it is palindrome\n"
     ]
    }
   ],
   "source": [
    "# WAP to check whether the entered string is palindrome or not without using slicing.\n",
    "\n",
    "s = input(\"Enter a string\")\n",
    "res =''\n",
    "i = 0\n",
    "\n",
    "while i < len(s):\n",
    "    res = s[i] + res\n",
    "    i += 1\n",
    "\n",
    "if res == s:\n",
    "    print(\"Yes it is palindrome\")\n",
    "else :\n",
    "    print(\"No it is not a palindrome\")"
   ]
  },
  {
   "cell_type": "code",
   "execution_count": 32,
   "id": "10f099f1",
   "metadata": {},
   "outputs": [
    {
     "name": "stdout",
     "output_type": "stream",
     "text": [
      "The uppercase are Y\n",
      "The lower are osho\n",
      "The special are@\n",
      "The numeric are229\n"
     ]
    }
   ],
   "source": [
    "#Wap to exctract a program but i will have a variable for each eg all numeric in one variable , all uppercase in one variable and so on.\n",
    "\n",
    "s = input(\"Enter a string\")\n",
    "upper = ''\n",
    "lower = ''\n",
    "numeric = ''\n",
    "special = ''\n",
    "\n",
    "i = 0\n",
    "\n",
    "while i < len(s):\n",
    "    if \"A\" <= s[i] <= \"Z\" :\n",
    "        upper = upper + s[i]\n",
    "    elif \"a\" <= s[i] <= \"z\":\n",
    "        lower = lower + s[i]\n",
    "    elif \"0\" <= s[i] <= \"9\":\n",
    "        numeric = numeric + s[i]\n",
    "    else :\n",
    "        special = special + s[i]\n",
    "    i += 1\n",
    "\n",
    "print(f\"The uppercase are {upper}\")\n",
    "print(f\"The lower are {lower}\")\n",
    "print(f\"The special are{special}\")\n",
    "print(f\"The numeric are{numeric}\")"
   ]
  }
 ],
 "metadata": {
  "kernelspec": {
   "display_name": "Python 3",
   "language": "python",
   "name": "python3"
  },
  "language_info": {
   "codemirror_mode": {
    "name": "ipython",
    "version": 3
   },
   "file_extension": ".py",
   "mimetype": "text/x-python",
   "name": "python",
   "nbconvert_exporter": "python",
   "pygments_lexer": "ipython3",
   "version": "3.13.2"
  }
 },
 "nbformat": 4,
 "nbformat_minor": 5
}
