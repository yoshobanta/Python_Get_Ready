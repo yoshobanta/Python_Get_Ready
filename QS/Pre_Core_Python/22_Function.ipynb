{
 "cells": [
  {
   "cell_type": "markdown",
   "id": "510f69ab",
   "metadata": {},
   "source": [
    "Today's class Function started. 23/06/25."
   ]
  },
  {
   "cell_type": "markdown",
   "id": "ae64c304",
   "metadata": {},
   "source": [
    "Function -> Function is a name of a memory block where a set of instruction has been stored .\n",
    "or\n",
    "Function is a name given to a memory location where a block of code has been stored.\n",
    "\n",
    "Basically functions are used to increase the efficiency of a program by reducing the code reduncancy.\n",
    "\n",
    "Function further got classified into 2 types:\n",
    "1. built-in or pre-define function \n",
    "2. user define function"
   ]
  },
  {
   "cell_type": "markdown",
   "id": "3dc0b678",
   "metadata": {},
   "source": [
    "Built-in / Pre-Define Functions: It is a function which is pre-defined and whose task is assigned by the developer.\n",
    "We can easily access the built in functions, but we cannot modify its pre-defined task\n",
    "Examples : len(),eval(),ord(), enumerate()"
   ]
  },
  {
   "cell_type": "markdown",
   "id": "2d45a883",
   "metadata": {},
   "source": [
    "User-Defined Functions : It is a function which will get created based on the user requirement.\n",
    "\n",
    "The syntax to create it is :\n",
    "\n",
    "def fun_name(args):     #Function Declaration.   here arg is formal argument.\n",
    "    {\n",
    "        Statement Block               #Function Defination\n",
    "    }\n",
    "    return value\n",
    "fun_name(args)          #function call      #here the argument is actual argument/ parameters"
   ]
  },
  {
   "cell_type": "markdown",
   "id": "5c19c402",
   "metadata": {},
   "source": [
    "def : def is a keyword which is used to define a function .\n",
    "\n",
    "Function Name : It is a name given to a function to identify its operations .\n",
    "To give a name to a function it should follow the rules of identiiers.\n",
    "\n",
    "Arguments : These are the requirements of a program to perform an operation.\n",
    "\n",
    "Return : It is a keyword which is used to return the controller from the function or to return the value from the function.\n",
    "\n",
    "Function Call : To execute the created function calling the function is mandantory.\n",
    "A single function can be called for n number of times.\n",
    "\n",
    "\n",
    "\n",
    "Question of the day(My doubt) - Arguments Vs Parameters."
   ]
  },
  {
   "cell_type": "code",
   "execution_count": 9,
   "id": "2baa94e4",
   "metadata": {},
   "outputs": [
    {
     "name": "stdout",
     "output_type": "stream",
     "text": [
      "Hello\n",
      "None\n"
     ]
    }
   ],
   "source": [
    "def len():\n",
    "    print(\"Hello\")\n",
    "print(len())\n",
    "\n"
   ]
  }
 ],
 "metadata": {
  "kernelspec": {
   "display_name": "Python 3",
   "language": "python",
   "name": "python3"
  },
  "language_info": {
   "codemirror_mode": {
    "name": "ipython",
    "version": 3
   },
   "file_extension": ".py",
   "mimetype": "text/x-python",
   "name": "python",
   "nbconvert_exporter": "python",
   "pygments_lexer": "ipython3",
   "version": "3.13.2"
  }
 },
 "nbformat": 4,
 "nbformat_minor": 5
}
