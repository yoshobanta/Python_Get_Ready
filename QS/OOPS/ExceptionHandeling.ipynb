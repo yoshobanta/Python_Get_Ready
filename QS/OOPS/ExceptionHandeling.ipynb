{
 "cells": [
  {
   "cell_type": "markdown",
   "id": "94a96fbb",
   "metadata": {},
   "source": [
    "Error/Exception - This are the unauthorized event that occurs  while executing a program at the runtime .\n",
    "\n",
    "Bug - Unwanted result but does not throw an error .\n",
    "\n",
    "3 types of exp han\n",
    "Specific eh                                 except with name of the error\n",
    "generic eh                                  except Exception handel sucessfully\n",
    "default eh                                  except only\n",
    "\n",
    "we can also raise an exception .\n",
    "\n",
    "also we have cutom exception \n",
    "custoum - class Our_exception_name(Exception)"
   ]
  },
  {
   "cell_type": "code",
   "execution_count": null,
   "id": "c945c231",
   "metadata": {},
   "outputs": [],
   "source": [
    "#try keyboard intrupt (ctrl+c) error for generic and default ."
   ]
  },
  {
   "cell_type": "markdown",
   "id": "b636e669",
   "metadata": {},
   "source": [
    "iterators - the method \n",
    "iteration - the process/ phenomenon of  iteriting/traversing through each and every element .\n",
    "\n",
    "keyword use iter-to initilization of first elemet and next- to point to next elemt ."
   ]
  },
  {
   "cell_type": "code",
   "execution_count": null,
   "id": "93f6d8c6",
   "metadata": {},
   "outputs": [
    {
     "name": "stdout",
     "output_type": "stream",
     "text": [
      "['e', 'i', 'l', 'n', 's', 't']\n",
      "['e', 'i', 'l', 'n', 's', 't']\n",
      "The strings are anagram\n"
     ]
    }
   ],
   "source": [
    "# To check anagram using built in methods\n",
    "a= \"listen\"\n",
    "b = \"silent\"\n",
    "print(sorted(a))\n",
    "print(sorted(b))\n",
    "if sorted(a) == sorted(b):\n",
    "    print(\"The strings are anagram\")\n",
    "else:\n",
    "    print(\"The strings are not anagram\")"
   ]
  },
  {
   "cell_type": "code",
   "execution_count": null,
   "id": "c0cbd008",
   "metadata": {},
   "outputs": [
    {
     "name": "stdout",
     "output_type": "stream",
     "text": [
      "The given strings are not anagrams\n"
     ]
    }
   ],
   "source": [
    "# without using built in . we will check chr frequency manually .\n",
    "\n",
    "### Comparing dictionaries with == checks both keys and values for exact matches, regardless of order  ###\n",
    "def chr_count(s):\n",
    "    count = {}\n",
    "    for ch in s:\n",
    "        if ch in count:\n",
    "            count[ch] +=1\n",
    "        else:\n",
    "            count[ch] = 1\n",
    "    return count\n",
    "\n",
    "\n",
    "a= \"listen\"\n",
    "b = \"silent\"\n",
    "\n",
    "if chr_count(a) == chr_count(b):\n",
    "    print(\"The given strings are anagrams\")\n",
    "else:\n",
    "    print(\"The given strings are not anagrams\")"
   ]
  },
  {
   "cell_type": "markdown",
   "id": "f8377ea3",
   "metadata": {},
   "source": [
    "# Class Programs\n"
   ]
  },
  {
   "cell_type": "code",
   "execution_count": 11,
   "id": "695ffdc5",
   "metadata": {},
   "outputs": [],
   "source": [
    "# Division by zero .\n",
    "\n",
    "def div(a,b):\n",
    "    return a/b\n"
   ]
  },
  {
   "cell_type": "code",
   "execution_count": 20,
   "id": "d9f28c89",
   "metadata": {},
   "outputs": [
    {
     "ename": "ZeroDivisionError",
     "evalue": "division by zero",
     "output_type": "error",
     "traceback": [
      "\u001b[1;31m---------------------------------------------------------------------------\u001b[0m",
      "\u001b[1;31mZeroDivisionError\u001b[0m                         Traceback (most recent call last)",
      "Cell \u001b[1;32mIn[20], line 1\u001b[0m\n\u001b[1;32m----> 1\u001b[0m \u001b[43mdiv\u001b[49m\u001b[43m(\u001b[49m\u001b[38;5;241;43m10\u001b[39;49m\u001b[43m,\u001b[49m\u001b[38;5;241;43m0\u001b[39;49m\u001b[43m)\u001b[49m\n\u001b[0;32m      2\u001b[0m \u001b[38;5;66;03m#here we do not want the error to be thrown . so we will handel it.\u001b[39;00m\n",
      "Cell \u001b[1;32mIn[11], line 4\u001b[0m, in \u001b[0;36mdiv\u001b[1;34m(a, b)\u001b[0m\n\u001b[0;32m      3\u001b[0m \u001b[38;5;28;01mdef\u001b[39;00m\u001b[38;5;250m \u001b[39m\u001b[38;5;21mdiv\u001b[39m(a,b):\n\u001b[1;32m----> 4\u001b[0m     \u001b[38;5;28;01mreturn\u001b[39;00m \u001b[43ma\u001b[49m\u001b[38;5;241;43m/\u001b[39;49m\u001b[43mb\u001b[49m\n",
      "\u001b[1;31mZeroDivisionError\u001b[0m: division by zero"
     ]
    }
   ],
   "source": [
    "div(10,0)\n",
    "#here we do not want the error to be thrown . so we will handel it."
   ]
  },
  {
   "cell_type": "code",
   "execution_count": 22,
   "id": "58363354",
   "metadata": {},
   "outputs": [],
   "source": [
    "\n",
    "def div_EH(a,b):\n",
    "    try:\n",
    "        return a/b\n",
    "    except ZeroDivisionError:\n",
    "        print(\"Pls Enter the denominator other than '0'\")\n",
    "        "
   ]
  },
  {
   "cell_type": "code",
   "execution_count": null,
   "id": "8e2008d3",
   "metadata": {},
   "outputs": [
    {
     "name": "stdout",
     "output_type": "stream",
     "text": [
      "Pls Enter the denominator other than '0'\n"
     ]
    }
   ],
   "source": [
    "div_EH(25,0)\n",
    "\n",
    "# But we have only solve one error i.e ZeroDivision error what if we pass a string ?\n",
    "\n",
    "#We can pass another specific exception handel or can use generic/default for all exceptions "
   ]
  },
  {
   "cell_type": "code",
   "execution_count": null,
   "id": "9af57a22",
   "metadata": {},
   "outputs": [
    {
     "ename": "TypeError",
     "evalue": "unsupported operand type(s) for /: 'str' and 'int'",
     "output_type": "error",
     "traceback": [
      "\u001b[1;31m---------------------------------------------------------------------------\u001b[0m",
      "\u001b[1;31mTypeError\u001b[0m                                 Traceback (most recent call last)",
      "Cell \u001b[1;32mIn[25], line 1\u001b[0m\n\u001b[1;32m----> 1\u001b[0m \u001b[43mdiv_EH\u001b[49m\u001b[43m(\u001b[49m\u001b[38;5;124;43m\"\u001b[39;49m\u001b[38;5;124;43mP\u001b[39;49m\u001b[38;5;124;43m\"\u001b[39;49m\u001b[43m,\u001b[49m\u001b[38;5;241;43m25\u001b[39;49m\u001b[43m)\u001b[49m\n",
      "Cell \u001b[1;32mIn[22], line 3\u001b[0m, in \u001b[0;36mdiv_EH\u001b[1;34m(a, b)\u001b[0m\n\u001b[0;32m      1\u001b[0m \u001b[38;5;28;01mdef\u001b[39;00m\u001b[38;5;250m \u001b[39m\u001b[38;5;21mdiv_EH\u001b[39m(a,b):\n\u001b[0;32m      2\u001b[0m     \u001b[38;5;28;01mtry\u001b[39;00m:\n\u001b[1;32m----> 3\u001b[0m         \u001b[38;5;28;01mreturn\u001b[39;00m \u001b[43ma\u001b[49m\u001b[38;5;241;43m/\u001b[39;49m\u001b[43mb\u001b[49m\n\u001b[0;32m      4\u001b[0m     \u001b[38;5;28;01mexcept\u001b[39;00m \u001b[38;5;167;01mZeroDivisionError\u001b[39;00m:\n\u001b[0;32m      5\u001b[0m         \u001b[38;5;28mprint\u001b[39m(\u001b[38;5;124m\"\u001b[39m\u001b[38;5;124mPls Enter the denominator other than \u001b[39m\u001b[38;5;124m'\u001b[39m\u001b[38;5;124m0\u001b[39m\u001b[38;5;124m'\u001b[39m\u001b[38;5;124m\"\u001b[39m)\n",
      "\u001b[1;31mTypeError\u001b[0m: unsupported operand type(s) for /: 'str' and 'int'"
     ]
    }
   ],
   "source": [
    "div_EH(\"P\",25)\n",
    "# We get a type error let try eval"
   ]
  },
  {
   "cell_type": "code",
   "execution_count": null,
   "id": "d8660fc3",
   "metadata": {},
   "outputs": [],
   "source": [
    "def div_EH():\n",
    "    try:\n",
    "        a = eval(input(\"Enter a number\"))\n",
    "        b = eval(input(\"Enter a number\"))\n",
    "        return a/b\n",
    "    except ZeroDivisionError:\n",
    "        print(\"Pls Enter the denominator other than '0'\")\n",
    "        return div_EH()\n",
    "    except TypeError:\n",
    "        print(\"Pls enter only numeric character\")\n",
    "        return div_EH()"
   ]
  },
  {
   "cell_type": "code",
   "execution_count": 37,
   "id": "3c92fa5c",
   "metadata": {},
   "outputs": [
    {
     "ename": "TypeError",
     "evalue": "unsupported operand type(s) for /: 'str' and 'int'",
     "output_type": "error",
     "traceback": [
      "\u001b[1;31m---------------------------------------------------------------------------\u001b[0m",
      "\u001b[1;31mTypeError\u001b[0m                                 Traceback (most recent call last)",
      "Cell \u001b[1;32mIn[37], line 1\u001b[0m\n\u001b[1;32m----> 1\u001b[0m \u001b[43mdiv_EH\u001b[49m\u001b[43m(\u001b[49m\u001b[43m)\u001b[49m\n",
      "Cell \u001b[1;32mIn[36], line 5\u001b[0m, in \u001b[0;36mdiv_EH\u001b[1;34m()\u001b[0m\n\u001b[0;32m      3\u001b[0m     a \u001b[38;5;241m=\u001b[39m \u001b[38;5;28meval\u001b[39m(\u001b[38;5;28minput\u001b[39m(\u001b[38;5;124m\"\u001b[39m\u001b[38;5;124mEnter a number\u001b[39m\u001b[38;5;124m\"\u001b[39m))\n\u001b[0;32m      4\u001b[0m     b \u001b[38;5;241m=\u001b[39m \u001b[38;5;28meval\u001b[39m(\u001b[38;5;28minput\u001b[39m(\u001b[38;5;124m\"\u001b[39m\u001b[38;5;124mEnter a number\u001b[39m\u001b[38;5;124m\"\u001b[39m))\n\u001b[1;32m----> 5\u001b[0m     \u001b[38;5;28;01mreturn\u001b[39;00m \u001b[43ma\u001b[49m\u001b[38;5;241;43m/\u001b[39;49m\u001b[43mb\u001b[49m\n\u001b[0;32m      6\u001b[0m \u001b[38;5;28;01mexcept\u001b[39;00m \u001b[38;5;167;01mZeroDivisionError\u001b[39;00m:\n\u001b[0;32m      7\u001b[0m     \u001b[38;5;28mprint\u001b[39m(\u001b[38;5;124m\"\u001b[39m\u001b[38;5;124mPls Enter the denominator other than \u001b[39m\u001b[38;5;124m'\u001b[39m\u001b[38;5;124m0\u001b[39m\u001b[38;5;124m'\u001b[39m\u001b[38;5;124m\"\u001b[39m)\n",
      "\u001b[1;31mTypeError\u001b[0m: unsupported operand type(s) for /: 'str' and 'int'"
     ]
    }
   ],
   "source": [
    "div_EH()"
   ]
  },
  {
   "cell_type": "code",
   "execution_count": 40,
   "id": "50acf2bb",
   "metadata": {},
   "outputs": [],
   "source": [
    "# to get value error we have to use int(input)\n",
    "def div_EH():\n",
    "    try:\n",
    "        a = int(input(\"Enter a number\"))\n",
    "        b = int(input(\"Enter a number\"))\n",
    "        return a/b\n",
    "    except ZeroDivisionError:\n",
    "        print(\"Pls Enter the denominator other than '0'\")\n",
    "        return div_EH()\n",
    "    except ValueError:\n",
    "        print(\"Pls enter only numeric character\")\n",
    "        return div_EH()"
   ]
  },
  {
   "cell_type": "code",
   "execution_count": 43,
   "id": "a67e5103",
   "metadata": {},
   "outputs": [
    {
     "name": "stdout",
     "output_type": "stream",
     "text": [
      "Pls enter only numeric character\n",
      "Pls enter only numeric character\n"
     ]
    },
    {
     "data": {
      "text/plain": [
       "2.0"
      ]
     },
     "execution_count": 43,
     "metadata": {},
     "output_type": "execute_result"
    }
   ],
   "source": [
    "div_EH()\n"
   ]
  }
 ],
 "metadata": {
  "kernelspec": {
   "display_name": "Python 3",
   "language": "python",
   "name": "python3"
  },
  "language_info": {
   "codemirror_mode": {
    "name": "ipython",
    "version": 3
   },
   "file_extension": ".py",
   "mimetype": "text/x-python",
   "name": "python",
   "nbconvert_exporter": "python",
   "pygments_lexer": "ipython3",
   "version": "3.13.2"
  }
 },
 "nbformat": 4,
 "nbformat_minor": 5
}
