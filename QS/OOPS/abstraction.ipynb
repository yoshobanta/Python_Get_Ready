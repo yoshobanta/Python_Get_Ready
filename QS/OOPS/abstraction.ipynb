{
 "cells": [
  {
   "cell_type": "markdown",
   "id": "e8e49dad",
   "metadata": {},
   "source": [
    "Abstraction - Phenomenon of hiding the method implementations . but encapsulation is to hide the method from the user. \n",
    "\n",
    "Both are different concept.\n"
   ]
  },
  {
   "cell_type": "markdown",
   "id": "e29ac4a7",
   "metadata": {},
   "source": [
    "It is the phenomenon of hiding the implementations from the user.\n",
    "To achieve the abstraction we have to make use of abstract class and abstract method.\n",
    "\n",
    "Abstract Method - It is a method which consist of function declaration but not a function definition.\n",
    "for any abstract method we have to decorate it with @abstract method decorator .\n",
    "\n",
    "Abstract Class - It is a class which consist of atleast one abstract method in it.\n",
    "We derive the properties from abstract class to our child class.\n",
    "We cannot create an object for abstract class the controller will through an error.\n",
    "\n"
   ]
  },
  {
   "cell_type": "code",
   "execution_count": null,
   "id": "992bffac",
   "metadata": {},
   "outputs": [],
   "source": [
    "# Example\n",
    "\n",
    "from abc import ABC , abstractmethod\n",
    "class Demo(ABC):\n",
    "    @abstractmethod\n",
    "    def demo(self):\n",
    "        pass\n",
    "    \n",
    "class msg(Demo):\n",
    "    def demo(self):\n",
    "        print(\"Hiiiii\")\n",
    "        \n",
    "o1 = msg()\n",
    "o2 = Demo()"
   ]
  }
 ],
 "metadata": {
  "kernelspec": {
   "display_name": "Python 3",
   "language": "python",
   "name": "python3"
  },
  "language_info": {
   "codemirror_mode": {
    "name": "ipython",
    "version": 3
   },
   "file_extension": ".py",
   "mimetype": "text/x-python",
   "name": "python",
   "nbconvert_exporter": "python",
   "pygments_lexer": "ipython3",
   "version": "3.13.2"
  }
 },
 "nbformat": 4,
 "nbformat_minor": 5
}
