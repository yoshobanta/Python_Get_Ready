{
 "cells": [
  {
   "cell_type": "markdown",
   "id": "e8e49dad",
   "metadata": {},
   "source": [
    "Abstraction - Phenomenon of hiding the method implementations . but encapsulation is to hide the method from the user. \n",
    "\n",
    "Both are different concept.\n"
   ]
  }
 ],
 "metadata": {
  "language_info": {
   "name": "python"
  }
 },
 "nbformat": 4,
 "nbformat_minor": 5
}
