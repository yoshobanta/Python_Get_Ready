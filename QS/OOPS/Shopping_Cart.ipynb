{
 "cells": [
  {
   "cell_type": "code",
   "execution_count": 84,
   "id": "0692b6ba",
   "metadata": {},
   "outputs": [],
   "source": [
    "from collections import defaultdict\n",
    "class Kharidlo:\n",
    "    shop_name = \"Kharidlo_2.0\"\n",
    "    owner = \"Yosho\"\n",
    "    mbl = \"RKL\"\n",
    "    contact = 9876543210\n",
    "    stock = {\n",
    "        'iphone 15': 15,\n",
    "        'iphone 15 pro': 10,\n",
    "        'iphone 15 pro max': 5,\n",
    "    }\n",
    "    price = {\n",
    "        'iphone 15': 52458,\n",
    "        'iphone 15 pro': 61523,\n",
    "        'iphone 15 pro max': 70114,\n",
    "    }\n",
    "    discount = {\n",
    "        'iphone 15': 15.0,\n",
    "        'iphone 15 pro': 10.0,\n",
    "        'iphone 15 pro max': 5.0,\n",
    "    }\n",
    "\n",
    "    def __init__(self,name,add,pno):\n",
    "        self.name = name\n",
    "        self.add = add\n",
    "        self.pno = pno\n",
    "        self.cart = defaultdict(int)\n",
    "        # here cart is object member and we cannot access it through class\n",
    "        # example Kharidlo.cart will throw an error\n",
    "\n",
    "    def display(self):\n",
    "        print(f\"The Name of the customer is {self.name}\")\n",
    "        print(f\"The Address of the customer is {self.add}\")\n",
    "        print(f\"The Contact of the customer is {self.pno}\")\n",
    "\n",
    "    def add_item(self, item , q=1,/):\n",
    "        if item in self.stock:\n",
    "\n",
    "            if self.stock.get(item) >= q:      #get(item) is safer than using self.stock[item] because it returns None if the item doesn’t exist (though in your case, the item   existence is already checked right above with if item in self.stock:).\n",
    "\n",
    "                self.cart[item] += q\n",
    "                Kharidlo.stock[item] -= q\n",
    "                print('Item Added to cart Successfully')\n",
    "            else:\n",
    "                print(f\"Sorry The {item} we have only {self.stock.get(item)}\")\n",
    "        else: \n",
    "            print(f\"Sorry We don't Sell {item}\")\n",
    "            \n",
    "    def remove_item(self, item, q=1, /):\n",
    "        if item in self.cart:\n",
    "            if self.cart[item] >= q:\n",
    "                self.cart[item] -= q\n",
    "                Kharidlo.stock[item] += q\n",
    "                print('Item Removed from  cart Successfully')\n",
    "                if self.cart[item] == 0:\n",
    "                    self.cart.pop(item)\n",
    "                    \n",
    "            else:\n",
    "                print(f\"You only have {self.cart[item]} unit(s) of {item} in your cart.\")\n",
    "        else:\n",
    "            print(f\"{item} is not in your cart.\")\n",
    "    \n",
    "    def display_cart(self):\n",
    "        if not self.cart:\n",
    "            print(\"Cart is empty\")\n",
    "            return\n",
    "        \n",
    "        for item,quantity  in self.cart.items():\n",
    "            print(f\"Your item is {item} and its quantity is {quantity}\")\n",
    "        \n",
    "        \n",
    "    \n",
    "\n",
    "c1 = Kharidlo('steve', 8143167926, 'BBSR')\n",
    "\n",
    "\n",
    "\n",
    "\n"
   ]
  },
  {
   "cell_type": "code",
   "execution_count": 85,
   "id": "d5af863d",
   "metadata": {},
   "outputs": [
    {
     "name": "stdout",
     "output_type": "stream",
     "text": [
      "The Name of the customer is steve\n",
      "The Address of the customer is 8143167926\n",
      "The Contact of the customer is BBSR\n"
     ]
    }
   ],
   "source": [
    "c1.display()"
   ]
  },
  {
   "cell_type": "code",
   "execution_count": 86,
   "id": "3b472ff6",
   "metadata": {},
   "outputs": [
    {
     "data": {
      "text/plain": [
       "{'iphone 15': 15, 'iphone 15 pro': 10, 'iphone 15 pro max': 5}"
      ]
     },
     "execution_count": 86,
     "metadata": {},
     "output_type": "execute_result"
    }
   ],
   "source": [
    "c1.stock"
   ]
  },
  {
   "cell_type": "code",
   "execution_count": 78,
   "id": "5eeb017b",
   "metadata": {},
   "outputs": [
    {
     "name": "stdout",
     "output_type": "stream",
     "text": [
      "Item Added to cart Successfully\n"
     ]
    }
   ],
   "source": [
    "c1.add_item(\"iphone 15\")"
   ]
  },
  {
   "cell_type": "code",
   "execution_count": 87,
   "id": "fce4d377",
   "metadata": {},
   "outputs": [
    {
     "data": {
      "text/plain": [
       "defaultdict(int, {})"
      ]
     },
     "execution_count": 87,
     "metadata": {},
     "output_type": "execute_result"
    }
   ],
   "source": [
    "c1.cart"
   ]
  },
  {
   "cell_type": "code",
   "execution_count": 80,
   "id": "0c666003",
   "metadata": {},
   "outputs": [
    {
     "name": "stdout",
     "output_type": "stream",
     "text": [
      "Item Added to cart Successfully\n"
     ]
    }
   ],
   "source": [
    "c1.add_item(\"iphone 15 pro max\",4)"
   ]
  },
  {
   "cell_type": "code",
   "execution_count": 45,
   "id": "e1bb010c",
   "metadata": {},
   "outputs": [
    {
     "name": "stdout",
     "output_type": "stream",
     "text": [
      "Item Added to cart Successfully\n"
     ]
    }
   ],
   "source": [
    "c1.remove_item(\"iphone 15\")"
   ]
  },
  {
   "cell_type": "code",
   "execution_count": 9,
   "id": "35a7c01a",
   "metadata": {},
   "outputs": [
    {
     "name": "stdout",
     "output_type": "stream",
     "text": [
      "Item Added to cart Successfully\n"
     ]
    }
   ],
   "source": [
    "c1.remove_item(\"iphone 15\")"
   ]
  },
  {
   "cell_type": "markdown",
   "id": "e3f678c0",
   "metadata": {},
   "source": [
    "Streamlit"
   ]
  },
  {
   "cell_type": "code",
   "execution_count": 88,
   "id": "37183ff0",
   "metadata": {},
   "outputs": [
    {
     "name": "stdout",
     "output_type": "stream",
     "text": [
      "Cart is empty\n"
     ]
    }
   ],
   "source": [
    "c1.display_cart()"
   ]
  }
 ],
 "metadata": {
  "kernelspec": {
   "display_name": "Python 3",
   "language": "python",
   "name": "python3"
  },
  "language_info": {
   "codemirror_mode": {
    "name": "ipython",
    "version": 3
   },
   "file_extension": ".py",
   "mimetype": "text/x-python",
   "name": "python",
   "nbconvert_exporter": "python",
   "pygments_lexer": "ipython3",
   "version": "3.13.2"
  }
 },
 "nbformat": 4,
 "nbformat_minor": 5
}
