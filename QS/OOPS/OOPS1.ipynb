{
 "cells": [
  {
   "cell_type": "markdown",
   "id": "0419ea3a",
   "metadata": {},
   "source": [
    "Class -members/attri/properties along with behiv/methods\n",
    "\n",
    "Types of class - class members and obj members"
   ]
  },
  {
   "cell_type": "markdown",
   "id": "7167c1b0",
   "metadata": {},
   "source": [
    "Notes-\n",
    "Object Oriented Programming:\n",
    "\n",
    "Class - It is a container which consist of the members or the attributes or properties of an object.\n",
    "Or\n",
    "Class is a blueprint which specifies the behaviors or the methods and consist of the members or the properties of a real time entity\n",
    "\n",
    "Objects - It is the instance of the class or the variable which is created for a specified class.\n",
    "\n",
    "Syntax - \n",
    "cls.member_name\n",
    "cls.member_name.new_member = new_value\n",
    "cls.member_name.exist_val = new_value \n",
    "\n",
    "\n",
    "Memory Allocation w.r.t Class\n",
    "As soon as the control sees the keyword class it will create a class dictionary inside the memory .\n",
    "It consist of key layer and value layer , the ref address of the key layer will be stored w.r.t class name.\n",
    "All the properties and functionality will get stored into class dictionary in the form of key and values , the reference address will be given to each and every member.(eg. A1,A2,A3....)\n",
    "\n",
    "Memory Allocation w.r.t Object\n",
    "As soon as the control sees an object creation process it will create object dict inside the memory.\n",
    "This consist of key and value layer , the reference address of key layer will be assign w.r.t object name . \n",
    "All the properties of the class dictionary will be derived into the object dictionary .\n",
    "Control will check whether the class dictionary contains the __init__ method or not , if this method is exist it will invoke the __init__ method by default.\n",
    "To access or modify the members in the class we can make use of a syntax \n",
    "obj.member_name\n",
    "obj.member_name.new_member = new_value\n",
    "obj.member_name.exist_val = new_value \n",
    "\n",
    "If we do modification using a class name it will affect the class along with all the objects of that class.\n",
    "If we do modification w.r.t object name then it will affect to the particular object by keeping the class and other objects unchanged or as it is.\n",
    "\n",
    "\n",
    "class Bank():\n",
    "    bname = 'SBI'\n",
    "    ceo = 'Mukesh'\n",
    "    contact = 7894561230\n",
    "    ifsc = 'SBI00012545'\n",
    "\n",
    "c1 = Bank()\n",
    "c2 = Bank()\n",
    "\n",
    "Types of Members :\n",
    "In python a class can have 2 types of members of members in it.\n",
    "1. Class/Generic/Static\n",
    "2. Specific/Object \n",
    "\n",
    "1. Class Members/Generic State :\n",
    "These are the members which will be common for all the objects of a specific  class.\n",
    "e.g - if we consider a bank as a class it will be having the customers as an objects.\n",
    "In this case the bank name , ceo name , ifsc code and so on which will be common for each and every object which considered as class members.\n",
    "\n",
    "2. Specific/Object members :\n",
    "These are the members which will be different for each and every object created for a class .\n",
    "\n",
    "e.g - if we consider bank as a class which consist of customers as an objects.\n",
    "Here customers name , acc no, email and phone no and so on .... which will be different for every object which considered as Specific/Object members .\n",
    "\n",
    "eg -\n",
    "class Bank():\n",
    "    bname = 'SBI'\n",
    "    ceo = 'Mukesh'\n",
    "    contact = 7894561230\n",
    "    ifsc = 'SBI00012545'\n",
    "\n",
    "c1 = Bank()\n",
    "c2 = Bank()\n",
    "c1.name = 'Yosho'\n",
    "c1.email = 'Yosho@gamil.com'\n",
    "c1.phno = 7894561230\n",
    "c2.name = 'Mike'\n",
    "c2.email = 'Mike@gamil.com'\n",
    "c2.phno = 9794561546\n"
   ]
  },
  {
   "cell_type": "markdown",
   "id": "3ff0b7dc",
   "metadata": {},
   "source": [
    "Constructor Method or Initialization method :\n",
    "__init__ is a method which is used to initialize the members of an object . \n",
    "\n",
    "In case of constructor method it is not required to call the constructor method explicitly(In the process of object creation __init__ method will ge invoke by default).\n",
    "\n",
    "For __init__ method we need to pass self as an argument to store the reference of an object.\n",
    "\n",
    "We can use any other argument to store the object reference , but according to industry standard we use self.\n",
    "\n",
    "In the process of object creation no need to pass the address for self, by default the first argument of a method will be assigned with the object reference ."
   ]
  },
  {
   "cell_type": "markdown",
   "id": "19d05171",
   "metadata": {},
   "source": [
    "Types of methods :\n",
    "In a class we can have 3 types of methods they are -\n",
    "1. Object Method\n",
    "2. Class Method\n",
    "3. Static Method\n",
    "\n",
    "1. Object Method - A method which is use to access or modify the members of an object is known as object method.\n",
    "Here we use self as an argument to store the reference of an object .\n",
    "\n",
    "2. Class Method - A method which is use to access or modify the members of an class is know as class method.\n",
    "By default the first argument of the method is capable of storing the reference of an object into the first argument . \n",
    "Since we required class reference to access or modify the class members we use @classmethod to store the reference of class into the 1st argument into the method.\n",
    "We can make use of any argument name to store the class reference , according to industrial standards we use cls to store the class methods.\n",
    "\n",
    "3. Static Method - It is a method which neither belong to class nor belong to object but it will be a supportive method for both class and object we use static method to perform an independent task.\n",
    "We use @staticmethod as a decorator to create a static method .\n",
    "Since we don't access or modify any of the class or object members it is not required to pass argument like cls , self to store any reference.\n",
    "\n"
   ]
  },
  {
   "cell_type": "code",
   "execution_count": null,
   "id": "3f90732b",
   "metadata": {},
   "outputs": [
    {
     "name": "stdout",
     "output_type": "stream",
     "text": [
      "SBI\n",
      "Kotak\n",
      "SBI\n",
      "SBI\n",
      "21\n"
     ]
    }
   ],
   "source": [
    "# Day 1\n",
    "class Bank():\n",
    "    bname = 'SBI'\n",
    "    ceo = 'Mukesh'\n",
    "    contact = 7894561230\n",
    "    ifsc = 'SBI00012545'\n",
    "\n",
    "c1 = Bank()\n",
    "c2 = Bank()\n",
    "# c1.name, c2.name = \"Steve\",\"Mike\"\n",
    "c1.name = 'Yosho'\n",
    "c1.email = 'Yosho@gamil.com'\n",
    "c1.phno = 7894561230\n",
    "c2.name = 'Mike'\n",
    "c2.email = 'Mike@gamil.com'\n",
    "c2.phno = 9794561546\n",
    "\n",
    "# print(c1.name)\n",
    "# print(c2.name)\n",
    "# print(c2.bname)\n",
    "print(c1.bname)\n",
    "c1.bname = \"Kotak\"\n",
    "print(c1.bname)\n",
    "print(c2.bname)\n",
    "print(Bank.bname)\n",
    "# See c1.age here age is variable but  = age here age is value .\n",
    "age = 21\n",
    "c1.age = age\n",
    "print(c1.age)\n",
    "\n",
    "\n",
    "\n"
   ]
  },
  {
   "cell_type": "code",
   "execution_count": 3,
   "id": "852c2b89",
   "metadata": {},
   "outputs": [
    {
     "name": "stdout",
     "output_type": "stream",
     "text": [
      "RKL\n",
      "Hello\n",
      "Hello\n"
     ]
    }
   ],
   "source": [
    "# Day 2\n",
    "# Now in the above code we can see code redundancy . We do not want that so we will use method .\n",
    "\n",
    "class Bank():\n",
    "    bname = 'SBI'\n",
    "    ceo = 'Mukesh'\n",
    "    contact = 7894561230\n",
    "    ifsc = 'SBI00012545'\n",
    "\n",
    "    def __init__(self,name,pno,email,addr,bal):\n",
    "        self.name = name\n",
    "        self.pno = pno\n",
    "        self.addr = addr\n",
    "        self.bal = bal\n",
    "\n",
    "    @staticmethod\n",
    "    def msg():\n",
    "        print(\"Hello\")\n",
    "\n",
    "c1 = Bank(\"Yosho\",9876543210,\"Yosho@gmail.com\",\"RKL\",3000)\n",
    "# dir(c1)\n",
    "print(c1.addr)\n",
    "c1.msg()\n",
    "Bank.msg()"
   ]
  },
  {
   "cell_type": "code",
   "execution_count": 35,
   "id": "94dcafe8",
   "metadata": {},
   "outputs": [
    {
     "name": "stdout",
     "output_type": "stream",
     "text": [
      "mhhayosho\n",
      "m1 h3 a1 y1 o2 s1 \n"
     ]
    }
   ],
   "source": [
    "# Interview Question :\n",
    "a = \"! @m H@ha #Yosho !!!\"\n",
    "\n",
    "res1 = \"\"\n",
    "res = \"\"\n",
    "count = 0\n",
    "for i in a.lower().replace(\" \",'') :\n",
    "    if i.isalnum():\n",
    "        res1 += i\n",
    "\n",
    "print(res1)\n",
    "for i in res1:\n",
    "    if i not in res:\n",
    "        res += i + str(res1.count(i)) + \" \"\n",
    "   \n",
    "print(res)\n",
    "\n",
    "\n"
   ]
  },
  {
   "cell_type": "code",
   "execution_count": 5,
   "id": "81951b82",
   "metadata": {},
   "outputs": [
    {
     "name": "stdout",
     "output_type": "stream",
     "text": [
      "Help on method_descriptor:\n",
      "\n",
      "isalnum(self, /) unbound builtins.str method\n",
      "    Return True if the string is an alpha-numeric string, False otherwise.\n",
      "\n",
      "    A string is alpha-numeric if all characters in the string are alpha-numeric and\n",
      "    there is at least one character in the string.\n",
      "\n"
     ]
    }
   ],
   "source": [
    "help(str.isalnum)"
   ]
  },
  {
   "cell_type": "code",
   "execution_count": 8,
   "id": "a3611a6a",
   "metadata": {},
   "outputs": [],
   "source": [
    "# This is Monday , have to revision . \n",
    "\n",
    "class Bank:\n",
    "    bname = \"SBI\"\n",
    "    manager = \"Steve\"\n",
    "    mbl = \"Pune\"\n",
    "    \n",
    "    def __init__(self,name ,add,bal):\n",
    "        self.name = name\n",
    "        self.add = add\n",
    "        self.bal = bal\n",
    "        \n",
    "    def deposit(self,new):\n",
    "        self.bal += new\n",
    "        self.msg()\n",
    "        \n",
    "    def withdrawl(self,amount):\n",
    "        if self.bal >= amount:\n",
    "            self.bal -= amount\n",
    "            self.msg()\n",
    "        else:\n",
    "            print(\"Bikari Aale\")\n",
    "            \n",
    "    def display_details(self):\n",
    "        for i,j in self.__dict__.items():\n",
    "            print(f\"The {i} of the customer is {j}\")\n",
    "    \n",
    "    def ch_add(self,new):\n",
    "        self.add = new\n",
    "    \n",
    "    @staticmethod\n",
    "    def msg():\n",
    "        print(\"Transaction Successful\")\n",
    "        \n",
    "    \n",
    "c1 = Bank(\"Yosho\",\"RKL\",9999)\n",
    "        "
   ]
  },
  {
   "cell_type": "code",
   "execution_count": 13,
   "id": "4efd39e2",
   "metadata": {},
   "outputs": [
    {
     "name": "stdout",
     "output_type": "stream",
     "text": [
      "The name of the customer is Yosho\n",
      "The add of the customer is RKL\n",
      "The bal of the customer is 1\n"
     ]
    }
   ],
   "source": [
    "c1.display_details()"
   ]
  },
  {
   "cell_type": "code",
   "execution_count": 10,
   "id": "b152192e",
   "metadata": {},
   "outputs": [
    {
     "name": "stdout",
     "output_type": "stream",
     "text": [
      "Transaction Successful\n"
     ]
    }
   ],
   "source": [
    "c1.deposit(1)"
   ]
  },
  {
   "cell_type": "code",
   "execution_count": 14,
   "id": "be3b2fe1",
   "metadata": {},
   "outputs": [
    {
     "name": "stdout",
     "output_type": "stream",
     "text": [
      "Bikari Aale\n"
     ]
    }
   ],
   "source": [
    "c1.withdrawl(9999)"
   ]
  }
 ],
 "metadata": {
  "kernelspec": {
   "display_name": "Python 3",
   "language": "python",
   "name": "python3"
  },
  "language_info": {
   "codemirror_mode": {
    "name": "ipython",
    "version": 3
   },
   "file_extension": ".py",
   "mimetype": "text/x-python",
   "name": "python",
   "nbconvert_exporter": "python",
   "pygments_lexer": "ipython3",
   "version": "3.13.2"
  }
 },
 "nbformat": 4,
 "nbformat_minor": 5
}
