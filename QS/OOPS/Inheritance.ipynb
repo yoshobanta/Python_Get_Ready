{
 "cells": [
  {
   "cell_type": "markdown",
   "id": "58659021",
   "metadata": {},
   "source": [
    "We use This concept the most . \n",
    "\n",
    "Example to understand Whatsapp . we have early wp 0.1 which only have chat , then we have wp 0.2 with chat + call , then we have wp 0.3 with chat + call + video ."
   ]
  },
  {
   "cell_type": "code",
   "execution_count": 14,
   "id": "9b5d8a1b",
   "metadata": {},
   "outputs": [],
   "source": [
    "# single level inheritance.=\n",
    "class Bank:\n",
    "    bname = 'SBI'\n",
    "    manager = 'SaiRam'\n",
    "    ifsc = 'SBIN0021519'\n",
    "\n",
    "    # constructor method of a parent class\n",
    "    def __init__(self, name, add, bal):\n",
    "        self.name = name\n",
    "        self.add = add\n",
    "        self.bal = bal\n",
    "\n",
    "    def deposit(self, amount):\n",
    "        self.bal += amount\n",
    "\n",
    "    def withdraw(self, amount):\n",
    "        if self.bal >= amount:\n",
    "            self.bal -= amount\n",
    "        else:\n",
    "            print('In sufficient Balance')\n",
    "\n",
    "    # object method of a parent class.\n",
    "    def display(self):\n",
    "        print(f\"The Name of the customer is:{self.name}\")\n",
    "        print(f\"The Address of the customer is:{self.add}\")\n",
    "        print(f\"The Balance of the customer is:{self.bal}\")\n",
    "\n",
    "c1 = Bank('sathish', 'Blr', 845)\n",
    "\n",
    "class Bank1(Bank):\n",
    "    ceo = 'Mukesh'\n",
    "    contact = 8855669988\n",
    "\n",
    "    # constructor method  of child class.\n",
    "    def __init__(self, name, add, bal, pno, email, aadhar, pan):\n",
    "        # constructor chaining\n",
    "        # calling a parent class constructor method inside the child class constructor method.\n",
    "        Bank.__init__(self, name, add, bal)\n",
    "        self.pno = pno\n",
    "        self.email = email\n",
    "        self.aadhar = aadhar\n",
    "        self.pan = pan\n",
    "\n",
    "    # object method of a child class\n",
    "    def display(self):\n",
    "        # method chaining\n",
    "        # calling object method of a parent class inside object method of a child class\n",
    "        Bank.display(self)\n",
    "        print(f\"The pno of the customer is:{self.pno}\")\n",
    "        print(f\"The email of the customer is:{self.email}\")\n",
    "        print(f\"The aadhar of the customer is:{self.aadhar}\")\n",
    "        print(f\"The pan of the customer is:{self.pan}\")\n",
    "\n",
    "\n",
    "c2 = Bank1('mike', 'Pune', 8524, 8855996644, 'mike@gmail.com', 456987456987, 'ABCDE1234x')"
   ]
  },
  {
   "cell_type": "code",
   "execution_count": 2,
   "id": "98ac9ecd",
   "metadata": {},
   "outputs": [],
   "source": [
    "class Swiggy:\n",
    "    mbl = \"America\"\n",
    "    \n",
    "    def __init__(self,name,pho,email):\n",
    "        self.name = name\n",
    "        self.pho = pho\n",
    "        self.email = email\n",
    "    \n",
    "    def display(self):\n",
    "        for i,j in self.__dict__.items():\n",
    "            print(f\"The customer {i} is {j}\")\n",
    "    \n",
    "c1 = Swiggy(\"sho\",7894561230,\"sho@gmail.com\")\n",
    "    "
   ]
  },
  {
   "cell_type": "code",
   "execution_count": 3,
   "id": "788f3c29",
   "metadata": {},
   "outputs": [],
   "source": [
    "class Dominos(Swiggy):\n",
    "    def __init__(self, name, pho, email,order):\n",
    "        super().__init__(name, pho, email)\n",
    "        self.Dominos_order = order\n",
    "        \n",
    "c2 = Dominos(\"sho\",7894561230,\"sho@gmail.com\",\"cheese pizza\")\n",
    "    "
   ]
  },
  {
   "cell_type": "code",
   "execution_count": 4,
   "id": "9224b34a",
   "metadata": {},
   "outputs": [],
   "source": [
    "class Kfc(Swiggy):\n",
    "    def __init__(self, name, pho, email,order):\n",
    "        super().__init__(name, pho, email)\n",
    "        self.Kfc_order = order\n",
    "        \n",
    "c3 = Kfc(\"sho\",7894561230,\"sho@gmail.com\",\"chicken wings\")"
   ]
  },
  {
   "cell_type": "code",
   "execution_count": 5,
   "id": "afb8cd1f",
   "metadata": {},
   "outputs": [],
   "source": [
    "class Dominos_Online(Dominos):\n",
    "    def __init__(self, name, pho, email, order,loc):\n",
    "        super().__init__(name, pho, email, order)\n",
    "        self.Delivery_Location = loc\n",
    "\n",
    "c4 = Dominos_Online(\"sho\",7894561230,\"sho@gmail.com\",\"cheese pizza\",\"Qspider\")"
   ]
  },
  {
   "cell_type": "code",
   "execution_count": 6,
   "id": "6794696a",
   "metadata": {},
   "outputs": [
    {
     "ename": "TypeError",
     "evalue": "Kfc.__init__() missing 1 required positional argument: 'order'",
     "output_type": "error",
     "traceback": [
      "\u001b[1;31m---------------------------------------------------------------------------\u001b[0m",
      "\u001b[1;31mTypeError\u001b[0m                                 Traceback (most recent call last)",
      "Cell \u001b[1;32mIn[6], line 5\u001b[0m\n\u001b[0;32m      2\u001b[0m     \u001b[38;5;28;01mdef\u001b[39;00m\u001b[38;5;250m \u001b[39m\u001b[38;5;21m__init__\u001b[39m(\u001b[38;5;28mself\u001b[39m, name, pho, email, order):\n\u001b[0;32m      3\u001b[0m         \u001b[38;5;28msuper\u001b[39m()\u001b[38;5;241m.\u001b[39m\u001b[38;5;21m__init__\u001b[39m(name, pho, email, order)\n\u001b[1;32m----> 5\u001b[0m c5 \u001b[38;5;241m=\u001b[39m \u001b[43mOrders\u001b[49m\u001b[43m(\u001b[49m\u001b[38;5;124;43m\"\u001b[39;49m\u001b[38;5;124;43msho\u001b[39;49m\u001b[38;5;124;43m\"\u001b[39;49m\u001b[43m,\u001b[49m\u001b[38;5;241;43m7894561230\u001b[39;49m\u001b[43m,\u001b[49m\u001b[38;5;124;43m\"\u001b[39;49m\u001b[38;5;124;43msho@gmail.com\u001b[39;49m\u001b[38;5;124;43m\"\u001b[39;49m\u001b[43m,\u001b[49m\u001b[38;5;124;43m\"\u001b[39;49m\u001b[38;5;124;43mcheese pizza\u001b[39;49m\u001b[38;5;124;43m\"\u001b[39;49m\u001b[43m)\u001b[49m\n",
      "Cell \u001b[1;32mIn[6], line 3\u001b[0m, in \u001b[0;36mOrders.__init__\u001b[1;34m(self, name, pho, email, order)\u001b[0m\n\u001b[0;32m      2\u001b[0m \u001b[38;5;28;01mdef\u001b[39;00m\u001b[38;5;250m \u001b[39m\u001b[38;5;21m__init__\u001b[39m(\u001b[38;5;28mself\u001b[39m, name, pho, email, order):\n\u001b[1;32m----> 3\u001b[0m     \u001b[38;5;28;43msuper\u001b[39;49m\u001b[43m(\u001b[49m\u001b[43m)\u001b[49m\u001b[38;5;241;43m.\u001b[39;49m\u001b[38;5;21;43m__init__\u001b[39;49m\u001b[43m(\u001b[49m\u001b[43mname\u001b[49m\u001b[43m,\u001b[49m\u001b[43m \u001b[49m\u001b[43mpho\u001b[49m\u001b[43m,\u001b[49m\u001b[43m \u001b[49m\u001b[43memail\u001b[49m\u001b[43m,\u001b[49m\u001b[43m \u001b[49m\u001b[43morder\u001b[49m\u001b[43m)\u001b[49m\n",
      "Cell \u001b[1;32mIn[3], line 3\u001b[0m, in \u001b[0;36mDominos.__init__\u001b[1;34m(self, name, pho, email, order)\u001b[0m\n\u001b[0;32m      2\u001b[0m \u001b[38;5;28;01mdef\u001b[39;00m\u001b[38;5;250m \u001b[39m\u001b[38;5;21m__init__\u001b[39m(\u001b[38;5;28mself\u001b[39m, name, pho, email,order):\n\u001b[1;32m----> 3\u001b[0m     \u001b[38;5;28;43msuper\u001b[39;49m\u001b[43m(\u001b[49m\u001b[43m)\u001b[49m\u001b[38;5;241;43m.\u001b[39;49m\u001b[38;5;21;43m__init__\u001b[39;49m\u001b[43m(\u001b[49m\u001b[43mname\u001b[49m\u001b[43m,\u001b[49m\u001b[43m \u001b[49m\u001b[43mpho\u001b[49m\u001b[43m,\u001b[49m\u001b[43m \u001b[49m\u001b[43memail\u001b[49m\u001b[43m)\u001b[49m\n\u001b[0;32m      4\u001b[0m     \u001b[38;5;28mself\u001b[39m\u001b[38;5;241m.\u001b[39mDominos_order \u001b[38;5;241m=\u001b[39m order\n",
      "\u001b[1;31mTypeError\u001b[0m: Kfc.__init__() missing 1 required positional argument: 'order'"
     ]
    }
   ],
   "source": [
    "class Orders(Dominos,Kfc):\n",
    "    def __init__(self, name, pho, email, order):\n",
    "        super().__init__(name, pho, email, order)\n",
    "        \n",
    "c5 = Orders(\"sho\",7894561230,\"sho@gmail.com\",\"cheese pizza\")"
   ]
  },
  {
   "cell_type": "code",
   "execution_count": 7,
   "id": "6967f1ae",
   "metadata": {},
   "outputs": [
    {
     "name": "stdout",
     "output_type": "stream",
     "text": [
      "The customer name is sho\n",
      "The customer pho is 7894561230\n",
      "The customer email is sho@gmail.com\n"
     ]
    }
   ],
   "source": [
    "c1.display()"
   ]
  },
  {
   "cell_type": "code",
   "execution_count": 8,
   "id": "5e857bdb",
   "metadata": {},
   "outputs": [
    {
     "name": "stdout",
     "output_type": "stream",
     "text": [
      "The customer name is sho\n",
      "The customer pho is 7894561230\n",
      "The customer email is sho@gmail.com\n",
      "The customer Dominos_order is cheese pizza\n"
     ]
    }
   ],
   "source": [
    "c2.display()"
   ]
  },
  {
   "cell_type": "code",
   "execution_count": 9,
   "id": "bf4eea0f",
   "metadata": {},
   "outputs": [
    {
     "name": "stdout",
     "output_type": "stream",
     "text": [
      "The customer name is sho\n",
      "The customer pho is 7894561230\n",
      "The customer email is sho@gmail.com\n",
      "The customer Kfc_order is chicken wings\n"
     ]
    }
   ],
   "source": [
    "c3.display()"
   ]
  },
  {
   "cell_type": "code",
   "execution_count": 10,
   "id": "a119ab84",
   "metadata": {},
   "outputs": [
    {
     "name": "stdout",
     "output_type": "stream",
     "text": [
      "The customer name is sho\n",
      "The customer pho is 7894561230\n",
      "The customer email is sho@gmail.com\n",
      "The customer Dominos_order is cheese pizza\n",
      "The customer Delivery_Location is Qspider\n"
     ]
    }
   ],
   "source": [
    "c4.display()"
   ]
  },
  {
   "cell_type": "code",
   "execution_count": 11,
   "id": "dc4a3449",
   "metadata": {},
   "outputs": [],
   "source": [
    "# Base class\n",
    "class Swiggy:\n",
    "    def __init__(self, name, pho, email):\n",
    "        self.name = name\n",
    "        self.pho = pho\n",
    "        self.email = email\n",
    "\n",
    "    def display(self):\n",
    "        print(\"Details:\")\n",
    "        for i, j in self.__dict__.items():\n",
    "            print(f\"{i} : {j}\")\n",
    "        print(\"-\" * 30)\n",
    "\n",
    "\n",
    "# Single Inheritance: One child from one parent\n",
    "class Dominos(Swiggy):  \n",
    "    def __init__(self, name, pho, email, order):\n",
    "        super().__init__(name, pho, email)\n",
    "        self.dominos_order = order\n",
    "\n",
    "\n",
    "# Multilevel Inheritance: Child of a child\n",
    "class Dominos_Online(Dominos):\n",
    "    def __init__(self, name, pho, email, order, location):\n",
    "        super().__init__(name, pho, email, order)\n",
    "        self.delivery_location = location\n",
    "\n",
    "\n",
    "# Multiple Inheritance: One class inherits from two parents\n",
    "class Kfc:\n",
    "    def __init__(self, kfc_order):\n",
    "        self.kfc_order = kfc_order\n",
    "\n",
    "\n",
    "class Orders(Dominos, Kfc):  # Multiple inheritance\n",
    "    def __init__(self, name, pho, email, dominos_order, kfc_order):\n",
    "        Dominos.__init__(self, name, pho, email, dominos_order)\n",
    "        Kfc.__init__(self, kfc_order)\n",
    "\n",
    "\n",
    "# Hierarchical Inheritance: Two children from same parent\n",
    "class PizzaHut(Swiggy):\n",
    "    def __init__(self, name, pho, email, pizza_type):\n",
    "        super().__init__(name, pho, email)\n",
    "        self.pizza_type = pizza_type\n",
    "\n",
    "\n",
    "class BurgerKing(Swiggy):\n",
    "    def __init__(self, name, pho, email, burger_type):\n",
    "        super().__init__(name, pho, email)\n",
    "        self.burger_type = burger_type\n",
    "\n",
    "\n",
    "# Hybrid Inheritance: Combination (Swiggy -> Dominos -> Orders + Kfc)\n",
    "class HybridExample(Orders):\n",
    "    def __init__(self, name, pho, email, dominos_order, kfc_order, combo_offer):\n",
    "        super().__init__(name, pho, email, dominos_order, kfc_order)\n",
    "        self.combo_offer = combo_offer\n"
   ]
  },
  {
   "cell_type": "code",
   "execution_count": 12,
   "id": "93c35ce1",
   "metadata": {},
   "outputs": [
    {
     "name": "stdout",
     "output_type": "stream",
     "text": [
      "Single Inheritance:\n",
      "Details:\n",
      "name : Sho\n",
      "pho : 7894561230\n",
      "email : sho@gmail.com\n",
      "dominos_order : Cheese Pizza\n",
      "------------------------------\n",
      "Multilevel Inheritance:\n",
      "Details:\n",
      "name : Sho\n",
      "pho : 7894561230\n",
      "email : sho@gmail.com\n",
      "dominos_order : Veg Pizza\n",
      "delivery_location : Qspider\n",
      "------------------------------\n",
      "Multiple Inheritance:\n",
      "Details:\n",
      "name : Sho\n",
      "pho : 7894561230\n",
      "email : sho@gmail.com\n",
      "dominos_order : Garlic Bread\n",
      "kfc_order : Fried Chicken\n",
      "------------------------------\n",
      "Hierarchical Inheritance:\n",
      "Details:\n",
      "name : Sho\n",
      "pho : 7894561230\n",
      "email : sho@gmail.com\n",
      "pizza_type : Double Cheese\n",
      "------------------------------\n",
      "Details:\n",
      "name : Sho\n",
      "pho : 7894561230\n",
      "email : sho@gmail.com\n",
      "burger_type : Whopper\n",
      "------------------------------\n",
      "Hybrid Inheritance:\n",
      "Details:\n",
      "name : Sho\n",
      "pho : 7894561230\n",
      "email : sho@gmail.com\n",
      "dominos_order : Farmhouse\n",
      "kfc_order : Zinger\n",
      "combo_offer : Combo Meal\n",
      "------------------------------\n"
     ]
    }
   ],
   "source": [
    "# Single\n",
    "print(\"Single Inheritance:\")\n",
    "single = Dominos(\"Sho\", 7894561230, \"sho@gmail.com\", \"Cheese Pizza\")\n",
    "single.display()\n",
    "\n",
    "# Multilevel\n",
    "print(\"Multilevel Inheritance:\")\n",
    "multi_lvl = Dominos_Online(\"Sho\", 7894561230, \"sho@gmail.com\", \"Veg Pizza\", \"Qspider\")\n",
    "multi_lvl.display()\n",
    "\n",
    "# Multiple\n",
    "print(\"Multiple Inheritance:\")\n",
    "multiple = Orders(\"Sho\", 7894561230, \"sho@gmail.com\", \"Garlic Bread\", \"Fried Chicken\")\n",
    "multiple.display()\n",
    "\n",
    "# Hierarchical\n",
    "print(\"Hierarchical Inheritance:\")\n",
    "pizza = PizzaHut(\"Sho\", 7894561230, \"sho@gmail.com\", \"Double Cheese\")\n",
    "burger = BurgerKing(\"Sho\", 7894561230, \"sho@gmail.com\", \"Whopper\")\n",
    "pizza.display()\n",
    "burger.display()\n",
    "\n",
    "# Hybrid\n",
    "print(\"Hybrid Inheritance:\")\n",
    "hybrid = HybridExample(\"Sho\", 7894561230, \"sho@gmail.com\", \"Farmhouse\", \"Zinger\", \"Combo Meal\")\n",
    "hybrid.display()\n"
   ]
  }
 ],
 "metadata": {
  "kernelspec": {
   "display_name": "Python 3",
   "language": "python",
   "name": "python3"
  },
  "language_info": {
   "codemirror_mode": {
    "name": "ipython",
    "version": 3
   },
   "file_extension": ".py",
   "mimetype": "text/x-python",
   "name": "python",
   "nbconvert_exporter": "python",
   "pygments_lexer": "ipython3",
   "version": "3.13.2"
  }
 },
 "nbformat": 4,
 "nbformat_minor": 5
}
