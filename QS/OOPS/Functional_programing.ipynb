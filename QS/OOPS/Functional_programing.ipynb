{
 "cells": [
  {
   "cell_type": "markdown",
   "id": "53000264",
   "metadata": {},
   "source": [
    "var_name = lambda args : exp/ return value\n",
    "\n",
    "res = map(fun_name,collections)"
   ]
  },
  {
   "cell_type": "code",
   "execution_count": 24,
   "id": "acf3e0ed",
   "metadata": {},
   "outputs": [
    {
     "name": "stdout",
     "output_type": "stream",
     "text": [
      "10\n",
      "102\n",
      "108\n"
     ]
    }
   ],
   "source": [
    "#add\n",
    "x = lambda a,b : a+b\n",
    "print(x(2,8))\n",
    "print(x(22,80))\n",
    "print(x(21,87))\n"
   ]
  },
  {
   "cell_type": "code",
   "execution_count": 25,
   "id": "048438f6",
   "metadata": {},
   "outputs": [
    {
     "name": "stdout",
     "output_type": "stream",
     "text": [
      "9\n",
      "4\n",
      "16\n",
      "25\n"
     ]
    }
   ],
   "source": [
    "# square \n",
    "sq = lambda i : i**2\n",
    "print(sq(3))\n",
    "print(sq(2))\n",
    "print(sq(4))\n",
    "print(sq(5))"
   ]
  },
  {
   "cell_type": "code",
   "execution_count": 40,
   "id": "a1e06641",
   "metadata": {},
   "outputs": [
    {
     "name": "stdout",
     "output_type": "stream",
     "text": [
      "[1, 4, 9, 16, 25, 36, 49, 64, 81, 100]\n"
     ]
    }
   ],
   "source": [
    "# square but in range and also user enter limits.\n",
    "res1 = map(lambda i : i**2,range(1,11))\n",
    "print(list(res1))"
   ]
  },
  {
   "cell_type": "code",
   "execution_count": null,
   "id": "6409eb02",
   "metadata": {},
   "outputs": [
    {
     "name": "stdout",
     "output_type": "stream",
     "text": [
      "<function <lambda> at 0x00000178A0FCE7A0>\n",
      "[1, 4, 9, 16, 25, 36, 49, 64, 81, 100]\n",
      "[6084, 6241, 6400, 6561, 6724, 6889, 7056, 7225, 7396, 7569, 7744, 7921, 8100]\n"
     ]
    }
   ],
   "source": [
    "# square but in range and also user enter limits. but with optional values.\n",
    "res1 = map(lambda i : i**2,range(1,11))\n",
    "res = lambda s,e : list(map(lambda i : i**2,range(s,e+1)))\n",
    "print(res)\n",
    "print(res(78,90))"
   ]
  },
  {
   "cell_type": "code",
   "execution_count": null,
   "id": "ab2a4430",
   "metadata": {},
   "outputs": [
    {
     "name": "stdout",
     "output_type": "stream",
     "text": [
      "False\n",
      "False\n",
      "True\n",
      "False\n"
     ]
    }
   ],
   "source": [
    "# Prime \n",
    "prime = lambda n : len(list(filter(lambda i : n%i == 0 , range(1,n//2+1))))==1\n",
    "print(f\"The number {prime(8)}\")\n",
    "print(prime(12))\n",
    "print(prime(3))\n",
    "print(prime(999))\n"
   ]
  },
  {
   "cell_type": "code",
   "execution_count": 7,
   "id": "2172be16",
   "metadata": {},
   "outputs": [
    {
     "name": "stdout",
     "output_type": "stream",
     "text": [
      "The number 45 is prime: False\n"
     ]
    }
   ],
   "source": [
    "# Extremmm\n",
    "print((lambda n: f\"The number {n} is prime: {n > 1 and all(n % i != 0 for i in range(2, int(n**0.5)+1))}\")(int(input(\"Enter a number: \"))))\n"
   ]
  },
  {
   "cell_type": "code",
   "execution_count": 16,
   "id": "1ac025e1",
   "metadata": {},
   "outputs": [
    {
     "name": "stdout",
     "output_type": "stream",
     "text": [
      "[2, 4, 6, 8, 10, 12, 14, 16, 18]\n"
     ]
    }
   ],
   "source": [
    "#even\n",
    "evens = lambda i : i%2 == 0\n",
    "res = filter(evens , range(1,20))\n",
    "print(list(res))\n"
   ]
  },
  {
   "cell_type": "code",
   "execution_count": 8,
   "id": "b9949215",
   "metadata": {},
   "outputs": [
    {
     "name": "stdout",
     "output_type": "stream",
     "text": [
      "[1, 3, 5, 7, 9, 11, 13, 15, 17, 19]\n"
     ]
    }
   ],
   "source": [
    "#odd\n",
    "res = filter(lambda i : i%2 != 0 , range(1,20))\n",
    "print(list(res))"
   ]
  },
  {
   "cell_type": "code",
   "execution_count": null,
   "id": "d029e457",
   "metadata": {},
   "outputs": [
    {
     "name": "stdout",
     "output_type": "stream",
     "text": [
      "[1, 2, 3, 6, 9, 18, 27]\n"
     ]
    }
   ],
   "source": [
    "#To find divisor of a number\n",
    "n = int(input(\"Enter a number\"))\n",
    "divs = filter(lambda i : n%i == 0, range(1,n//2 +1))\n",
    "print(list(divs))"
   ]
  },
  {
   "cell_type": "code",
   "execution_count": 10,
   "id": "304fa702",
   "metadata": {},
   "outputs": [
    {
     "name": "stdout",
     "output_type": "stream",
     "text": [
      "[1, 2, 3, 4, 6]\n"
     ]
    }
   ],
   "source": [
    "n = int(input(\"Enter a number\"))\n",
    "divs =filter(lambda i : n%i == 0, range(1,n//2 +1))\n",
    "print(list(divs))"
   ]
  },
  {
   "cell_type": "code",
   "execution_count": 58,
   "id": "9703695e",
   "metadata": {},
   "outputs": [
    {
     "name": "stdout",
     "output_type": "stream",
     "text": [
      "True\n"
     ]
    }
   ],
   "source": [
    "prime =  lambda n :len(list(filter(lambda i : n%i == 0, range(1,n//2+1)))) == 1\n",
    "print(prime(5))"
   ]
  },
  {
   "cell_type": "code",
   "execution_count": 75,
   "id": "e5534b4d",
   "metadata": {},
   "outputs": [
    {
     "data": {
      "text/plain": [
       "[1, 2, 4, 5, 8, 10, 16, 20, 40]"
      ]
     },
     "execution_count": 75,
     "metadata": {},
     "output_type": "execute_result"
    }
   ],
   "source": [
    "def divisors(num):\n",
    "    res = []\n",
    "    for i in range (1,num//2 + 1):\n",
    "        if num%i == 0:\n",
    "            res.append(i)\n",
    "    return res\n",
    "\n",
    "divisors(80)"
   ]
  },
  {
   "cell_type": "code",
   "execution_count": 73,
   "id": "aef8fe04",
   "metadata": {},
   "outputs": [
    {
     "data": {
      "text/plain": [
       "False"
      ]
     },
     "execution_count": 73,
     "metadata": {},
     "output_type": "execute_result"
    }
   ],
   "source": [
    "def chk_per(num):\n",
    "    res = []\n",
    "    for i in range (1,num//2 + 1):\n",
    "        if num%i == 0:\n",
    "            res.append(i)\n",
    "    if len(res) == 1:\n",
    "        return True  \n",
    "    return False\n",
    "        \n",
    "chk_per(7)\n",
    "        \n",
    "        "
   ]
  },
  {
   "cell_type": "markdown",
   "id": "7226c0b1",
   "metadata": {},
   "source": [
    "| Function   | Purpose                                    |\n",
    "| ---------- | ------------------------------------------ |\n",
    "| `len()`    | Number of elements in an iterable          |\n",
    "| `max()`    | Maximum value in an iterable               |\n",
    "| `min()`    | Minimum value in an iterable               |\n",
    "| `sorted()` | Returns a sorted list from an iterable     |\n",
    "| `sum()`    | Total sum of numeric values                |\n",
    "| `any()`    | Returns `True` if **any** item is `True`   |\n",
    "| `all()`    | Returns `True` if **all** items are `True` |\n"
   ]
  },
  {
   "cell_type": "code",
   "execution_count": 13,
   "id": "4245b90f",
   "metadata": {},
   "outputs": [
    {
     "name": "stdout",
     "output_type": "stream",
     "text": [
      "160\n"
     ]
    }
   ],
   "source": [
    "#sum\n",
    "#Problem: Find the total marks from a list of subject scores.\n",
    "marks = [12,30,45,32,41]\n",
    "marks_obtained = sum(marks)\n",
    "print(marks_obtained)"
   ]
  },
  {
   "cell_type": "code",
   "execution_count": 14,
   "id": "e9885e33",
   "metadata": {},
   "outputs": [
    {
     "name": "stdout",
     "output_type": "stream",
     "text": [
      "45\n"
     ]
    }
   ],
   "source": [
    "#max\n",
    "# same find the highest marks ?\n",
    "marks = [12,30,45,32,41]\n",
    "highest_mark = max(marks)\n",
    "print(highest_mark)"
   ]
  },
  {
   "cell_type": "code",
   "execution_count": 15,
   "id": "b5954e0e",
   "metadata": {},
   "outputs": [
    {
     "name": "stdout",
     "output_type": "stream",
     "text": [
      "12\n"
     ]
    }
   ],
   "source": [
    "#min\n",
    "# same find the lowest mark\n",
    "marks = [12,30,45,32,41]\n",
    "lowest_mark = min(marks)\n",
    "print(lowest_mark)"
   ]
  },
  {
   "cell_type": "code",
   "execution_count": 21,
   "id": "e8884d40",
   "metadata": {},
   "outputs": [
    {
     "data": {
      "text/plain": [
       "['__add__',\n",
       " '__class__',\n",
       " '__class_getitem__',\n",
       " '__contains__',\n",
       " '__delattr__',\n",
       " '__dir__',\n",
       " '__doc__',\n",
       " '__eq__',\n",
       " '__format__',\n",
       " '__ge__',\n",
       " '__getattribute__',\n",
       " '__getitem__',\n",
       " '__getnewargs__',\n",
       " '__getstate__',\n",
       " '__gt__',\n",
       " '__hash__',\n",
       " '__init__',\n",
       " '__init_subclass__',\n",
       " '__iter__',\n",
       " '__le__',\n",
       " '__len__',\n",
       " '__lt__',\n",
       " '__mul__',\n",
       " '__ne__',\n",
       " '__new__',\n",
       " '__reduce__',\n",
       " '__reduce_ex__',\n",
       " '__repr__',\n",
       " '__rmul__',\n",
       " '__setattr__',\n",
       " '__sizeof__',\n",
       " '__str__',\n",
       " '__subclasshook__',\n",
       " 'count',\n",
       " 'index']"
      ]
     },
     "execution_count": 21,
     "metadata": {},
     "output_type": "execute_result"
    }
   ],
   "source": [
    "dir(tuple)"
   ]
  },
  {
   "cell_type": "code",
   "execution_count": 26,
   "id": "da57097f",
   "metadata": {},
   "outputs": [
    {
     "name": "stdout",
     "output_type": "stream",
     "text": [
      "[11, 19, 59, 67]\n",
      "[11, 19, 59, 67]\n"
     ]
    }
   ],
   "source": [
    "#sorted\n",
    "# we have to sort their ages\n",
    "age = [19,11,67,59]\n",
    "tup_age = (19,11,67,59)\n",
    "\n",
    "sort_age = sorted(age)\n",
    "tup_sort = sorted(tup_age)\n",
    "print(sort_age)\n",
    "print(tup_sort)  # but it will return the value in form o list.\n",
    "\n",
    "# age.sort()\n",
    "# print(age)\n"
   ]
  },
  {
   "cell_type": "code",
   "execution_count": 31,
   "id": "bbbf3a8e",
   "metadata": {},
   "outputs": [
    {
     "name": "stdout",
     "output_type": "stream",
     "text": [
      "['o', 'l', 'l', 'e', 'H']\n"
     ]
    }
   ],
   "source": [
    "# reversed\n",
    "# to reverse a collection\n",
    "c = \"Hello\"\n",
    "rev = reversed(c)\n",
    "print(list(rev))"
   ]
  },
  {
   "cell_type": "code",
   "execution_count": 32,
   "id": "fe074c14",
   "metadata": {},
   "outputs": [
    {
     "name": "stdout",
     "output_type": "stream",
     "text": [
      "6\n"
     ]
    }
   ],
   "source": [
    "# Sum of divisors\n",
    "sum_div = lambda n : sum(list(filter(lambda i : n%i == 0,range(1,n//2+1))))\n",
    "print(sum_div(6))"
   ]
  },
  {
   "cell_type": "code",
   "execution_count": 36,
   "id": "2d59ad51",
   "metadata": {},
   "outputs": [
    {
     "name": "stdout",
     "output_type": "stream",
     "text": [
      "True\n"
     ]
    }
   ],
   "source": [
    "# Perfect number \n",
    "per_no = lambda n : sum(list(filter(lambda i : n%i == 0,range(1,n//2+1)))) == n\n",
    "print(per_no(28))"
   ]
  },
  {
   "cell_type": "code",
   "execution_count": 1,
   "id": "18a7dcce",
   "metadata": {},
   "outputs": [],
   "source": [
    "# Now i want perfect number in between range.\n",
    "\n",
    "per_no = lambda s, e : filter(lambda n : sum(list(filter(lambda i : n%i == 0,range(1,n//2+1)))) == n ,range(s,e+1))\n"
   ]
  },
  {
   "cell_type": "code",
   "execution_count": 6,
   "id": "3d7a9201",
   "metadata": {},
   "outputs": [
    {
     "data": {
      "text/plain": [
       "[6, 28, 496, 8128]"
      ]
     },
     "execution_count": 6,
     "metadata": {},
     "output_type": "execute_result"
    }
   ],
   "source": [
    "list(per_no(1,10000))"
   ]
  },
  {
   "cell_type": "markdown",
   "id": "39eecefd",
   "metadata": {},
   "source": [
    "Task  amicable - [(220,284),(333,444),(789,971)]  not real  amicable no just example.\n",
    "\n",
    "amicable, perfect no, armstrong"
   ]
  }
 ],
 "metadata": {
  "kernelspec": {
   "display_name": "Python 3",
   "language": "python",
   "name": "python3"
  },
  "language_info": {
   "codemirror_mode": {
    "name": "ipython",
    "version": 3
   },
   "file_extension": ".py",
   "mimetype": "text/x-python",
   "name": "python",
   "nbconvert_exporter": "python",
   "pygments_lexer": "ipython3",
   "version": "3.13.2"
  }
 },
 "nbformat": 4,
 "nbformat_minor": 5
}
