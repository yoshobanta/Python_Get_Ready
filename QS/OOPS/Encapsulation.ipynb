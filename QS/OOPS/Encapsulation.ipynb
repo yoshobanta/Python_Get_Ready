{
 "cells": [
  {
   "cell_type": "markdown",
   "id": "6cf2cb8e",
   "metadata": {},
   "source": [
    "Bank with encapsulation "
   ]
  },
  {
   "cell_type": "code",
   "execution_count": 14,
   "id": "62a51031",
   "metadata": {},
   "outputs": [],
   "source": [
    "class Bank:\n",
    "    bname = 'ICICI'\n",
    "    ceo = 'Mukesh'\n",
    "    mbl = 'Mumbai'\n",
    "    ifsc = 'ICICI1234Z'\n",
    "\n",
    "    def __init__(self, name ,pno, email, add, aadhar, pan, bal):\n",
    "        self.__name = name\n",
    "        self.__pno = pno\n",
    "        self.__email = email\n",
    "        self.__add = add\n",
    "        self.__aadhar = aadhar\n",
    "        self.__pan = pan\n",
    "        self.__bal = bal\n",
    "        self.__transactions = []\n",
    "\n",
    "    def deposit(self, amount):\n",
    "        if amount >= 50000:\n",
    "            upan = input('enter your PAN number:')\n",
    "            if upan == self.__pan:\n",
    "                self.__bal += amount\n",
    "                self.__msg()\n",
    "                self.__transactions.append(f\"Credited amount of {amount}\")\n",
    "            else:\n",
    "                print('Invalid PAN details')\n",
    "        else:\n",
    "            self.__bal += amount\n",
    "            self.__msg()\n",
    "            self.__transactions.append(f\"Credited amount of {amount}\")\n",
    "\n",
    "    def withdraw(self, amount):\n",
    "        if amount <= self.__bal:\n",
    "            if amount >= 50000:\n",
    "                upan = input('enter your PAN number:') \n",
    "                if upan == self.__pan:\n",
    "                    self.__bal -= amount\n",
    "                    self.__msg()\n",
    "                    self.__transactions.append(f\"Debited amount of {amount}\")\n",
    "                else:\n",
    "                    print('Invalid PAN details')\n",
    "            else:\n",
    "                self.__bal -= amount\n",
    "                self.__msg()\n",
    "                self.__transactions.append(f\"Debited amount of {amount}\")\n",
    "        else:\n",
    "            print('Insufficient balance')\n",
    "\n",
    "    def display(self):\n",
    "        print(f\"The name of the customer is {self.__name}\")\n",
    "        print(f\"The Pno of the customer is {self.__pno}\")\n",
    "        print(f\"The email of the customer is {self.__email}\")\n",
    "        print(f\"The address of the customer is {self.__add}\")\n",
    "        print(f\"The aadhar of the customer is {self.__aadhar}\")\n",
    "        print(f\"The pan of the customer is {self.__pan}\")\n",
    "        print(f\"The balance of the customer is {self.__bal}\")\n",
    "\n",
    "    def ch_pno(self, new):\n",
    "        self.__pno=new\n",
    "\n",
    "    def ch_email(self, new):\n",
    "        self.__email = new\n",
    "\n",
    "    def create_pin(self):\n",
    "        if 'pin' not in self.__dict__:\n",
    "            pin = int(input('enter the PIN:'))\n",
    "            cpin = int(input('re-enter the PIN:'))\n",
    "            if pin == cpin:\n",
    "                self.__pin=pin\n",
    "            else:\n",
    "                print('Pin Not Matched')\n",
    "        else:\n",
    "            print('You have already created a PIN \\n To change your pin please call \"ch_pin\" method')\n",
    "\n",
    "    def ch_pin(self):\n",
    "        if 'pin' in self.__dict__:\n",
    "            upin = int(input('enter the current PIN:'))\n",
    "            if upin == self.pin:\n",
    "                new = int(input('Enter the New PIN:'))\n",
    "                cnew = int(input('Re-Enter the New PIN:'))\n",
    "                if new == cnew:\n",
    "                    self.pin = new\n",
    "                else:\n",
    "                    print('PIN not Matched')\n",
    "            else:\n",
    "                print('Invalid Current PIN')\n",
    "        else:\n",
    "            print('Please Create your pin First \\n To create your pin please call \"create_pin\" method')\n",
    "\n",
    "    def transfer(self, other, amount):\n",
    "        self.withdraw(amount)\n",
    "        other.deposit(amount)\n",
    "\n",
    "    def statement(self):\n",
    "        if self.__transactions:\n",
    "            for transaction in self.__transactions:\n",
    "                print(transaction)\n",
    "        else:\n",
    "            print('You have Not done any Transactions.')\n",
    "            print('\\t\\t\\t By the way...')\n",
    "        print(f\"The available Balance is {self.__bal}\")\n",
    "\n",
    "    @staticmethod\n",
    "    def __msg():\n",
    "        print('Transaction Successful')\n",
    "\n",
    "c1 = Bank('Steve', 8179267926, 'steve@gmail.com', 'Pune', 885577448855, 'abcde1234x', 5000)\n",
    "c2 = Bank('mike', 8143167926, 'mike@gmail.com', 'BBSR', 123654789585, 'ABVF1234P', 4500)"
   ]
  },
  {
   "cell_type": "code",
   "execution_count": 15,
   "id": "29729152",
   "metadata": {},
   "outputs": [
    {
     "data": {
      "text/plain": [
       "{'_Bank__name': 'Steve',\n",
       " '_Bank__pno': 8179267926,\n",
       " '_Bank__email': 'steve@gmail.com',\n",
       " '_Bank__add': 'Pune',\n",
       " '_Bank__aadhar': 885577448855,\n",
       " '_Bank__pan': 'abcde1234x',\n",
       " '_Bank__bal': 5000,\n",
       " '_Bank__transactions': []}"
      ]
     },
     "execution_count": 15,
     "metadata": {},
     "output_type": "execute_result"
    }
   ],
   "source": [
    "c1.__dict__"
   ]
  },
  {
   "cell_type": "code",
   "execution_count": null,
   "id": "99af8a00",
   "metadata": {},
   "outputs": [],
   "source": []
  },
  {
   "cell_type": "code",
   "execution_count": 16,
   "id": "e22b379d",
   "metadata": {},
   "outputs": [
    {
     "name": "stdout",
     "output_type": "stream",
     "text": [
      "Invalid PAN details\n"
     ]
    }
   ],
   "source": [
    "c1.deposit(78988)"
   ]
  },
  {
   "cell_type": "code",
   "execution_count": null,
   "id": "9ce0546e",
   "metadata": {},
   "outputs": [],
   "source": [
    "c1.withdraw(78)"
   ]
  },
  {
   "cell_type": "markdown",
   "id": "642a4c85",
   "metadata": {},
   "source": [
    "We need pin if we are transferring the amount from c1 to c2"
   ]
  },
  {
   "cell_type": "code",
   "execution_count": 2,
   "id": "b2fb066f",
   "metadata": {},
   "outputs": [
    {
     "name": "stdout",
     "output_type": "stream",
     "text": [
      "Transaction Successful\n",
      "Transaction Successful\n"
     ]
    }
   ],
   "source": [
    "c1.transfer(c2,700)"
   ]
  },
  {
   "cell_type": "code",
   "execution_count": 3,
   "id": "58f48817",
   "metadata": {},
   "outputs": [
    {
     "name": "stdout",
     "output_type": "stream",
     "text": [
      "Debited amount of 700\n",
      "The available Balance is 4300\n"
     ]
    }
   ],
   "source": [
    "c1.statement()"
   ]
  },
  {
   "cell_type": "code",
   "execution_count": 4,
   "id": "d38780fc",
   "metadata": {},
   "outputs": [
    {
     "name": "stdout",
     "output_type": "stream",
     "text": [
      "Credited amount of 700\n",
      "The available Balance is 5200\n"
     ]
    }
   ],
   "source": [
    "c2.statement()"
   ]
  },
  {
   "cell_type": "code",
   "execution_count": 32,
   "id": "543e4ab6",
   "metadata": {},
   "outputs": [],
   "source": [
    "class My_bank:\n",
    "    bname = \"SBI\"\n",
    "    mbl = \"BBSR\"\n",
    "    ceo =\"Mukesh\"\n",
    "    ifsc = \"sbi123456\"\n",
    "    \n",
    "    def __init__(self,name,email,pho,pan,bal):\n",
    "        self.__name = name\n",
    "        self.__email = email\n",
    "        self.__pho = pho\n",
    "        self.__pan = pan\n",
    "        self.__bal = bal\n",
    "        self.__transactions = []\n",
    "        self.__pin = None  \n",
    "        \n",
    "    # def chck_amount(self): Here i want to add a method for amount greater than 50k\n",
    "    # can be used but i find it not that usefull will try to do it once again\n",
    "    \n",
    "    def display(self):\n",
    "        upin = int(input(\"Enter the pin\"))\n",
    "        if upin == self.__pin:\n",
    "            print(f\"The name of the customer is {self.__name}\")\n",
    "            print(f\"The Pno of the customer is {self.__pho}\")\n",
    "            print(f\"The email of the customer is {self.__email}\")\n",
    "            print(f\"The pan of the customer is {self.__pan}\")\n",
    "            print(f\"The balance of the customer is {self.__bal}\")\n",
    "        else:\n",
    "            print(\"Wrong Pin\")\n",
    "        \n",
    "    def ch_pho(self,new):\n",
    "        upin = int(input(\"Enter the pin\"))\n",
    "        if self.__pin != None:\n",
    "            if upin == self.__pin:\n",
    "                self.__pho = new\n",
    "                print(\"Phone number change successfully\")\n",
    "            else:\n",
    "                print(\"Wrong Pin\")\n",
    "        else :\n",
    "            print(\"Plz create a pin first . \")\n",
    "        \n",
    "    def deposit(self,amount):\n",
    "        if amount >0:\n",
    "            if amount >= 50000 :\n",
    "                upan = input(\"Enter your pan for transaction \")\n",
    "                if upan == self.__pan:\n",
    "                    self.__bal += amount\n",
    "                    self.__msg()\n",
    "                    self.__transactions.append(f\"Credited amount {amount}\")\n",
    "                    \n",
    "                else:\n",
    "                    print(\"Wrong Pan\")\n",
    "            else:     \n",
    "                self.__bal += amount\n",
    "                self.__msg()\n",
    "                self.__transactions.append(f\"Credited amount {amount}\")\n",
    "        else: \n",
    "            print(\"Enter a valid/positive amount to deposit\")\n",
    "            \n",
    "    def withdrawal(self,amount):\n",
    "        if amount > 0:\n",
    "            if self.__bal >= amount:\n",
    "                self.__bal -= amount\n",
    "                self.__msg()\n",
    "                self.__transactions.append(f\"Debited amount {amount}\")\n",
    "            else:\n",
    "                print(\"Insufficient Balance\")\n",
    "                print(f\"You have {self.__bal} only !!!\")\n",
    "        else:\n",
    "            print(\"Enter a valid/positive amount to withdraw\")\n",
    "            \n",
    "    def create_pin(self):\n",
    "        if self.__pin == None :\n",
    "                new_pin = int(input(\"Enter new pin \"))\n",
    "                cnew_pin = int(input(\"Re-enter the pin\"))\n",
    "                if new_pin == cnew_pin:\n",
    "                    self.__pin = new_pin\n",
    "                    print(\"Pin Created Successfully\")\n",
    "                else: \n",
    "                    print(\" Pin not matched \")\n",
    "        else:\n",
    "            print(\"Pin already exist\")\n",
    "    \n",
    "    def ch_pin(self):\n",
    "        if self.__pin:\n",
    "            upin = int(input(\"Enter your pin\"))\n",
    "            if upin == self.__pin:\n",
    "                new_pin = int(input(\"Enter new pin \"))\n",
    "                cnew_pin = int(input(\"Re-enter the pin\"))\n",
    "                if new_pin == cnew_pin:\n",
    "                    self.__pin = new_pin\n",
    "                    print(\"Pin Changed Successfully\")\n",
    "                else: \n",
    "                    print(\" Pin not matched \")\n",
    "            else:\n",
    "                print(\"Wrong pin\")\n",
    "        else:\n",
    "            print(\"Pin does not exist pls create a pin first by using create_pin method\")\n",
    "            \n",
    "            \n",
    "    \n",
    "                \n",
    "            \n",
    "    def statements(self):\n",
    "        for i in self.__transactions:\n",
    "            print(i)\n",
    "    \n",
    "    @staticmethod      \n",
    "    def __msg():\n",
    "        print(\"Transaction Successful\")\n",
    "            \n",
    "c1 = My_bank(\"Yosho\",\"yosho@gmail.com\",7894561320,\"yoshopan\",7899)"
   ]
  },
  {
   "cell_type": "markdown",
   "id": "a93bbd60",
   "metadata": {},
   "source": [
    "Also have to hide the c1.__dict__\n",
    "Also can add dates and time in statements. \n"
   ]
  },
  {
   "cell_type": "code",
   "execution_count": 33,
   "id": "c2c6753e",
   "metadata": {},
   "outputs": [
    {
     "data": {
      "text/plain": [
       "{'_My_bank__name': 'Yosho',\n",
       " '_My_bank__email': 'yosho@gmail.com',\n",
       " '_My_bank__pho': 7894561320,\n",
       " '_My_bank__pan': 'yoshopan',\n",
       " '_My_bank__bal': 7899,\n",
       " '_My_bank__transactions': [],\n",
       " '_My_bank__pin': None}"
      ]
     },
     "execution_count": 33,
     "metadata": {},
     "output_type": "execute_result"
    }
   ],
   "source": [
    "c1.__dict__"
   ]
  },
  {
   "cell_type": "code",
   "execution_count": 21,
   "id": "888d718d",
   "metadata": {},
   "outputs": [
    {
     "name": "stdout",
     "output_type": "stream",
     "text": [
      "Transaction Successful\n"
     ]
    }
   ],
   "source": [
    "c1.deposit(10)"
   ]
  },
  {
   "cell_type": "code",
   "execution_count": 20,
   "id": "e253929a",
   "metadata": {},
   "outputs": [
    {
     "name": "stdout",
     "output_type": "stream",
     "text": [
      "Pin Created Successfully\n"
     ]
    }
   ],
   "source": [
    "c1.create_pin()"
   ]
  },
  {
   "cell_type": "code",
   "execution_count": 6,
   "id": "560a09c8",
   "metadata": {},
   "outputs": [
    {
     "name": "stdout",
     "output_type": "stream",
     "text": [
      "Phone number change successfully\n"
     ]
    }
   ],
   "source": [
    "c1.ch_pho(111111111)"
   ]
  },
  {
   "cell_type": "code",
   "execution_count": 35,
   "id": "45c2f556",
   "metadata": {},
   "outputs": [
    {
     "name": "stdout",
     "output_type": "stream",
     "text": [
      "Pin does not exist pls create a pin first by using create_pin method\n"
     ]
    }
   ],
   "source": [
    "c1.ch_pin()"
   ]
  },
  {
   "cell_type": "code",
   "execution_count": 36,
   "id": "6ba3de7a",
   "metadata": {},
   "outputs": [
    {
     "name": "stdout",
     "output_type": "stream",
     "text": [
      "Wrong Pin\n"
     ]
    }
   ],
   "source": [
    "c1.display()"
   ]
  },
  {
   "cell_type": "code",
   "execution_count": 30,
   "id": "a4c48949",
   "metadata": {},
   "outputs": [
    {
     "name": "stdout",
     "output_type": "stream",
     "text": [
      "Transaction Successful\n"
     ]
    }
   ],
   "source": [
    "c1.withdrawal(20)"
   ]
  },
  {
   "cell_type": "code",
   "execution_count": 31,
   "id": "0d2310e9",
   "metadata": {},
   "outputs": [
    {
     "name": "stdout",
     "output_type": "stream",
     "text": [
      "Debited amount 20\n",
      "Debited amount 20\n",
      "Debited amount 20\n",
      "Debited amount 20\n",
      "Debited amount 20\n",
      "Debited amount 20\n"
     ]
    }
   ],
   "source": [
    "c1.statements()"
   ]
  },
  {
   "cell_type": "markdown",
   "id": "778315f1",
   "metadata": {},
   "source": [
    "#Notes\n",
    "\n",
    "It is the phenomenon of hiding the methods/members from the users to access them outside the class .\n",
    "We can achieve the encapsulation using a concept of access specifiers .\n",
    "\n",
    "Access Specifiers -\n",
    "These are the members which will specify whether the user can access the members outside the class or not.\n",
    "Access Specifiers are of 3 types - public, protected , private.\n",
    "\n",
    "1. Public - It is use to make a method access outside the class.\n",
    "2. Protected - It is use to make a method access/use to inside the class(recommend ) by we can use it outside the class also.\n",
    "To do it we will use a single underscore _name .\n",
    "3. Private - It cannot be accessed outside the class if we try we will get an error , we can define it by using double underscore.\n",
    "\n"
   ]
  },
  {
   "cell_type": "code",
   "execution_count": 21,
   "id": "ad7bbbcc",
   "metadata": {},
   "outputs": [
    {
     "name": "stdout",
     "output_type": "stream",
     "text": [
      "This is parent 1\n",
      "This is parent 2\n"
     ]
    }
   ],
   "source": [
    "# Multiple class\n",
    "\n",
    "class parent1:\n",
    "    def __init__(self):\n",
    "        print(\"This is parent 1\")\n",
    "        super().__init__()\n",
    "        \n",
    "\n",
    "class parent2:\n",
    "    def __init__(self):\n",
    "        print(\"This is parent 2\")\n",
    "        super().__init__()\n",
    "        \n",
    "\n",
    "class child(parent1,parent2):\n",
    "    def __init__(self):\n",
    "        super().__init__()\n",
    "        \n",
    "\n",
    "child1 = child()"
   ]
  },
  {
   "cell_type": "code",
   "execution_count": 33,
   "id": "6d1e310a",
   "metadata": {},
   "outputs": [
    {
     "name": "stdout",
     "output_type": "stream",
     "text": [
      "(<class '__main__.child'>, <class '__main__.parent1'>, <class '__main__.parent2'>, <class 'object'>)\n",
      "[<class '__main__.child'>, <class '__main__.parent1'>, <class '__main__.parent2'>, <class 'object'>]\n"
     ]
    }
   ],
   "source": [
    "print(child.__mro__)\n",
    "print(child.mro())"
   ]
  },
  {
   "cell_type": "markdown",
   "id": "de5dcbc6",
   "metadata": {},
   "source": [
    "Method Resolution Order; defines class method search order\n",
    "\n",
    "super()  - calls the next class in mro not just the first parent\n",
    "\n",
    "Cooperative inheritance - all classes use super() to allow the full mro chain to be followed."
   ]
  },
  {
   "cell_type": "code",
   "execution_count": 40,
   "id": "16b3c568",
   "metadata": {},
   "outputs": [
    {
     "name": "stdout",
     "output_type": "stream",
     "text": [
      "This is child\n",
      "This is parent 1\n",
      "This is parent 2\n"
     ]
    }
   ],
   "source": [
    "# Multiple class\n",
    "\n",
    "class parent1:\n",
    "    def m1(self):\n",
    "        print(\"This is parent 1\")\n",
    "        super().m1()\n",
    "        \n",
    "\n",
    "class parent2:\n",
    "    def m1(self):\n",
    "        print(\"This is parent 2\")\n",
    "        # super().m1()\n",
    "        \n",
    "\n",
    "class child(parent1,parent2):\n",
    "    def m1(self):\n",
    "        print(\"This is child\")\n",
    "        super().m1()\n",
    "        \n",
    "\n",
    "child1 = child()\n",
    "child1.m1()"
   ]
  },
  {
   "cell_type": "code",
   "execution_count": null,
   "id": "f296e9de",
   "metadata": {},
   "outputs": [
    {
     "name": "stdout",
     "output_type": "stream",
     "text": [
      "This is child\n",
      "This is parent 1\n",
      "This is parent 2\n"
     ]
    }
   ],
   "source": [
    "# Multiple class\n",
    "\n",
    "class parent1:\n",
    "    def m1(self):\n",
    "        print(\"This is parent 1\")\n",
    "\n",
    "class parent2:\n",
    "    def m2(self):\n",
    "        print(\"This is parent 2\")\n",
    "        \n",
    "        \n",
    "\n",
    "class child(parent1,parent2):\n",
    "    def m3(self):\n",
    "        print(\"This is child\")\n",
    "        \n",
    "\n",
    "child1 = child()\n",
    "child1.m3()\n",
    "child1.m1()\n",
    "child1.m2()"
   ]
  }
 ],
 "metadata": {
  "kernelspec": {
   "display_name": "Python 3",
   "language": "python",
   "name": "python3"
  },
  "language_info": {
   "codemirror_mode": {
    "name": "ipython",
    "version": 3
   },
   "file_extension": ".py",
   "mimetype": "text/x-python",
   "name": "python",
   "nbconvert_exporter": "python",
   "pygments_lexer": "ipython3",
   "version": "3.13.2"
  }
 },
 "nbformat": 4,
 "nbformat_minor": 5
}
