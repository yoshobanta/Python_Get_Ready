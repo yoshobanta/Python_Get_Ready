{
 "cells": [
  {
   "cell_type": "markdown",
   "id": "660ed5b2",
   "metadata": {},
   "source": [
    "# Can only be used on mutable types\n",
    "list [], \n",
    "set {}\n",
    "dict {key:value} only if else part diff.\n",
    "\n",
    "diff yield and return"
   ]
  },
  {
   "cell_type": "code",
   "execution_count": 4,
   "id": "57d7f9e8",
   "metadata": {},
   "outputs": [
    {
     "data": {
      "text/plain": [
       "[2, 4, 6, 8, 10, 12, 14, 16, 18]"
      ]
     },
     "execution_count": 4,
     "metadata": {},
     "output_type": "execute_result"
    }
   ],
   "source": [
    "[num for num in range (1,20) if num%2 ==0 ]"
   ]
  },
  {
   "cell_type": "code",
   "execution_count": 5,
   "id": "8c8361e3",
   "metadata": {},
   "outputs": [
    {
     "data": {
      "text/plain": [
       "[1, 2, 9, 4, 25, 6, 49, 8, 81, 10, 121, 12, 169, 14, 225, 16, 289, 18, 361]"
      ]
     },
     "execution_count": 5,
     "metadata": {},
     "output_type": "execute_result"
    }
   ],
   "source": [
    "[num if num%2 ==0  else num*num for num in range (1,20) ]"
   ]
  },
  {
   "cell_type": "markdown",
   "id": "543dd088",
   "metadata": {},
   "source": [
    "Practice\n",
    "List Comprehension\n"
   ]
  },
  {
   "cell_type": "code",
   "execution_count": 1,
   "id": "9517397f",
   "metadata": {},
   "outputs": [
    {
     "name": "stdout",
     "output_type": "stream",
     "text": [
      "[100, 121, 144, 169, 196, 225, 256, 289, 324, 361, 400]\n"
     ]
    }
   ],
   "source": [
    "# square\n",
    "s = int(input(\"Enter a number\"))\n",
    "e = int(input(\"Enter a number\"))\n",
    "res = [ i*i for i in range(s,e+1)]\n",
    "print(res)"
   ]
  },
  {
   "cell_type": "code",
   "execution_count": 2,
   "id": "5fad5d07",
   "metadata": {},
   "outputs": [
    {
     "name": "stdout",
     "output_type": "stream",
     "text": [
      "[10, 12, 14, 16, 18, 20]\n"
     ]
    }
   ],
   "source": [
    "# evens\n",
    "s = int(input(\"Enter a number\"))\n",
    "e = int(input(\"Enter a number\"))\n",
    "res = [ i for i in range(s,e+1) if i%2 == 0]\n",
    "print(res)"
   ]
  },
  {
   "cell_type": "code",
   "execution_count": 5,
   "id": "62744379",
   "metadata": {},
   "outputs": [
    {
     "name": "stdout",
     "output_type": "stream",
     "text": [
      "[100, 11, 144, 13, 196, 15, 256, 17, 324, 19, 400]\n"
     ]
    }
   ],
   "source": [
    "# square if even and cube if odd\n",
    "s = int(input(\"Enter a number\"))\n",
    "e = int(input(\"Enter a number\"))\n",
    "res = [ i**2 if i%2 == 0  else i for i in range(s,e+1)]\n",
    "print(res)"
   ]
  },
  {
   "cell_type": "code",
   "execution_count": null,
   "id": "65da1bdc",
   "metadata": {},
   "outputs": [
    {
     "name": "stdout",
     "output_type": "stream",
     "text": [
      "['h', 'e', 'l', 'l', 'o']\n"
     ]
    }
   ],
   "source": [
    "# All letter in a string\n",
    "s = input(\"Enter a string\")\n",
    "res=[i for i in s]\n",
    "print(res)"
   ]
  },
  {
   "cell_type": "code",
   "execution_count": 10,
   "id": "e9dca480",
   "metadata": {},
   "outputs": [
    {
     "name": "stdout",
     "output_type": "stream",
     "text": [
      "[('Python', 6), ('is', 2), ('easy', 4)]\n"
     ]
    }
   ],
   "source": [
    "# Length of letter in a string\n",
    "s = \"Python is easy\"\n",
    "res = [(i,len(i)) for i in s.split()]\n",
    "print(res)"
   ]
  },
  {
   "cell_type": "code",
   "execution_count": null,
   "id": "08323b4a",
   "metadata": {},
   "outputs": [
    {
     "name": "stdout",
     "output_type": "stream",
     "text": [
      "['apple', 'banana', 'cherry']\n",
      "[['e', 'l', 'p', 'p', 'a'], ['a', 'n', 'a', 'n', 'a', 'b'], ['y', 'r', 'r', 'e', 'h', 'c']]\n"
     ]
    }
   ],
   "source": [
    "# Here we are using slicing .\n",
    "s = ['apple', 'banana', 'cherry']\n",
    "res = []\n",
    "for i in s:\n",
    "    res.append(i[::-1])\n",
    "    \n",
    "print(s)\n",
    "print(res)\n",
    "\n",
    "    "
   ]
  },
  {
   "cell_type": "code",
   "execution_count": null,
   "id": "119900c5",
   "metadata": {},
   "outputs": [
    {
     "name": "stdout",
     "output_type": "stream",
     "text": [
      "['apple', 'banana', 'cherry']\n",
      "[['e', 'l', 'p', 'p', 'a'], ['a', 'n', 'a', 'n', 'a', 'b'], ['y', 'r', 'r', 'e', 'h', 'c']]\n"
     ]
    }
   ],
   "source": [
    "# Here we are using reversed built in function . See the problem we cannot append or add we can but will not get the desired output .\n",
    "s = ['apple', 'banana', 'cherry']\n",
    "res = []\n",
    "for i in s:\n",
    "    res.append(list(reversed(i)))\n",
    "    \n",
    "print(s)\n",
    "print(res) \n",
    "\n"
   ]
  },
  {
   "cell_type": "code",
   "execution_count": 30,
   "id": "ddfab628",
   "metadata": {},
   "outputs": [
    {
     "name": "stdout",
     "output_type": "stream",
     "text": [
      "['apple', 'banana', 'cherry']\n",
      "['elppa', 'ananab', 'yrrehc']\n"
     ]
    }
   ],
   "source": [
    "# To overcome that we will use join \n",
    "s = ['apple', 'banana', 'cherry']\n",
    "res = []\n",
    "for i in s:\n",
    "    res.append(''.join(reversed(i)))\n",
    "    \n",
    "print(s)\n",
    "print(res) "
   ]
  },
  {
   "cell_type": "code",
   "execution_count": null,
   "id": "16acf4b8",
   "metadata": {},
   "outputs": [
    {
     "name": "stdout",
     "output_type": "stream",
     "text": [
      "['elppa', 'ananab', 'yrrehc']\n",
      "['elppa', 'ananab', 'yrrehc']\n"
     ]
    }
   ],
   "source": [
    "#Now same for list comprehension we want to achieve the same .\n",
    "\n",
    "s = ['apple', 'banana', 'cherry']\n",
    "\n",
    "res = [ ''.join(reversed(i)) for i in s ]\n",
    "#or \n",
    "res1 = [ i[::-1] for i in s ]\n",
    "\n",
    "print(res)\n",
    "print(res1)"
   ]
  },
  {
   "cell_type": "code",
   "execution_count": null,
   "id": "246fba9c",
   "metadata": {},
   "outputs": [
    {
     "name": "stdout",
     "output_type": "stream",
     "text": [
      "applebananacherry\n"
     ]
    }
   ],
   "source": [
    "s = ['apple', 'banana', 'cherry']\n",
    "res = ''.join(i for i in s)\n",
    "print(res)"
   ]
  },
  {
   "cell_type": "code",
   "execution_count": 43,
   "id": "4c8db0fa",
   "metadata": {},
   "outputs": [
    {
     "name": "stdout",
     "output_type": "stream",
     "text": [
      "['ae', 'aaa', 'e']\n"
     ]
    }
   ],
   "source": [
    "# Remove vowels from each string in a list\n",
    "#e.g., ['apple', 'banana', 'cherry'] becomes ['ppl', 'bnn', 'chrry']\n",
    "\n",
    "s = ['apple', 'banana', 'cherry']\n",
    "# res = [ i for i in [ ch for ch in i ] if i in \"aeiou\"  ]\n",
    "# Logical error like bro u are trying to use i in inner part but i is not define yet . just look and inner loop u will understand . To future me ....\n",
    "\n",
    "res = [ ''.join([ch for ch in word if ch in \"aeiou\"]) for word in s] \n",
    "\n",
    "print(res)"
   ]
  },
  {
   "cell_type": "markdown",
   "id": "f43785d0",
   "metadata": {},
   "source": [
    "#Filtering and Transformation list comprehension"
   ]
  },
  {
   "cell_type": "code",
   "execution_count": 44,
   "id": "b1779755",
   "metadata": {},
   "outputs": [
    {
     "data": {
      "text/plain": [
       "[15, 30, 45, 60, 75, 90]"
      ]
     },
     "execution_count": 44,
     "metadata": {},
     "output_type": "execute_result"
    }
   ],
   "source": [
    "#List numbers from 1 to 100 divisible by both 3 and 5.\n",
    "[i for i in range(1,101) if i%3 == 0 and i%5 == 0]"
   ]
  },
  {
   "cell_type": "code",
   "execution_count": 50,
   "id": "6c3d4f24",
   "metadata": {},
   "outputs": [
    {
     "name": "stdout",
     "output_type": "stream",
     "text": [
      "[(1, 1), (2, 4), (3, 9), (4, 16), (5, 25), (6, 36), (7, 49), (8, 64), (9, 81), (10, 100)]\n",
      "[1, 8, 27, 64, 125, 216, 343, 512, 729, 1000]\n",
      "[(1, 1), (2, 4), (3, 27), (4, 16), (5, 125), (6, 36), (7, 343), (8, 64), (9, 729), (10, 100)]\n"
     ]
    }
   ],
   "source": [
    "# Generate tuples of a number and its square for numbers 1 to 10.    eg [(2,4),(3,9)]\n",
    "\n",
    "res = [(i,i*i) for i in range (1,11)]\n",
    "res1 = [i**3 for i in range (1,11)]\n",
    "res2 = [ (i,i**2) if i%2 == 0  else (i,i**3)  for i in range(1,11)]\n",
    "print(res)\n",
    "print(res1)\n",
    "print(res2)"
   ]
  },
  {
   "cell_type": "code",
   "execution_count": 52,
   "id": "b278048a",
   "metadata": {},
   "outputs": [
    {
     "name": "stdout",
     "output_type": "stream",
     "text": [
      "[-2, 3, -5, 7, -11]\n",
      "[-2, 3, -5, 7, -11]\n"
     ]
    }
   ],
   "source": [
    "#Reverse the sign of each number in a list (e.g., [2, -3, 5, -7, 11] → [-2, 3, -5, 7, -11])\n",
    "l = [2, -3, 5, -7, 11]\n",
    "\n",
    "res = [ -i if i>=0 else -i for i in l ]  #both same logic so we do ...\n",
    "res1 = [ -i for i in l ]\n",
    "print(res)\n",
    "print(res1)"
   ]
  },
  {
   "cell_type": "code",
   "execution_count": 58,
   "id": "6f849d5f",
   "metadata": {},
   "outputs": [
    {
     "data": {
      "text/plain": [
       "[7, 14, 21, 28, 35, 42, 49, 56, 63, 70, 77, 84, 91, 98]"
      ]
     },
     "execution_count": 58,
     "metadata": {},
     "output_type": "execute_result"
    }
   ],
   "source": [
    "#Find all numbers from 1 to 100 that are divisible by 7.\n",
    "[i for i in range(1,101) if i%7 == 0]\n"
   ]
  },
  {
   "cell_type": "code",
   "execution_count": 59,
   "id": "3ed4b895",
   "metadata": {},
   "outputs": [
    {
     "name": "stdout",
     "output_type": "stream",
     "text": [
      "[3, 13, 23, 30, 31, 32, 33, 34, 35, 36, 37, 38, 39, 43, 53, 63, 73, 83, 93]\n"
     ]
    }
   ],
   "source": [
    "#Find all numbers from 1 to 100 that contain the digit 3\n",
    "res = []\n",
    "for i in range(1,101):\n",
    "    if \"3\" in str(i):\n",
    "        res.append(i)\n",
    "        \n",
    "print(res)"
   ]
  },
  {
   "cell_type": "code",
   "execution_count": null,
   "id": "e4aa928a",
   "metadata": {},
   "outputs": [
    {
     "name": "stdout",
     "output_type": "stream",
     "text": [
      "[3, 13, 23, 30, 31, 32, 33, 34, 35, 36, 37, 38, 39, 43, 53, 63, 73, 83, 93]\n"
     ]
    }
   ],
   "source": [
    "#Find all numbers from 1 to 100 that contain the digit 3 .\n",
    "res = [i for i in range(1,101) if \"3\" in str(i) ]\n",
    "print(res)\n",
    "\n",
    "# Without str() typing casting it is not possible in one liner we have to use a helper function like is_contain_3 something like that if we really want to use list compi only but not recommend by me."
   ]
  },
  {
   "cell_type": "code",
   "execution_count": null,
   "id": "ad7f3f2d",
   "metadata": {},
   "outputs": [
    {
     "name": "stdout",
     "output_type": "stream",
     "text": [
      "['mango', 'kiwi', 'strawberry', 'guava', 'pineapple', 'mandarin orange']\n"
     ]
    }
   ],
   "source": [
    "# Create a list of fruits with more than two vowels from ['mango', 'kiwi', 'strawberry', 'guava', 'pineapple', 'mandarin orange']\n",
    "\n",
    "l = ['mango', 'kiwi', 'strawberry', 'guava', 'pineapple', 'mandarin orange']\n",
    "res = [ word for word in l if sum(1 for ch in word if ch in \"aeiou\") ]\n",
    "print(res)"
   ]
  },
  {
   "cell_type": "markdown",
   "id": "c92a5fe7",
   "metadata": {},
   "source": [
    "Dictionary Comprehension Problems"
   ]
  },
  {
   "cell_type": "code",
   "execution_count": 7,
   "id": "2d70ea76",
   "metadata": {},
   "outputs": [
    {
     "name": "stdout",
     "output_type": "stream",
     "text": [
      "{'a': 'a', 'b': 'b'}\n"
     ]
    }
   ],
   "source": [
    "# From a list of keys, create a dictionary where each key maps to its own value, e.g., [\"a\", \"b\"] → {\"a\": \"a\", \"b\": \"b\"}\n",
    "l = [\"a\",\"b\"]\n",
    "res = { i:i for i in l}\n",
    "print(res)"
   ]
  },
  {
   "cell_type": "code",
   "execution_count": 9,
   "id": "b84cca5f",
   "metadata": {},
   "outputs": [
    {
     "name": "stdout",
     "output_type": "stream",
     "text": [
      "{100: 1.0, 110: 1.1, 120: 1.2, 130: 1.3, 140: 1.4, 150: 1.5, 160: 1.6}\n"
     ]
    }
   ],
   "source": [
    "# Create a dictionary mapping numbers from 100 to 160 (step 10) to their value divided by 100.\n",
    "\n",
    "res = { i: i/100 for i in range(100,161,10)}\n",
    "print(res)"
   ]
  },
  {
   "cell_type": "code",
   "execution_count": 12,
   "id": "b1d8054e",
   "metadata": {},
   "outputs": [
    {
     "name": "stdout",
     "output_type": "stream",
     "text": [
      "{'banana': 2500, 'date': 3000}\n"
     ]
    }
   ],
   "source": [
    "# Extract only those key-value pairs from an existing dictionary where the value is above a certain threshold (e.g., greater than 2,000)\n",
    "data = {'apple': 1500, 'banana': 2500, 'cherry': 1800, 'date': 3000}\n",
    "res = { i:j  for i,j in data.items() if j >2000}\n",
    "print(res)"
   ]
  },
  {
   "cell_type": "code",
   "execution_count": 36,
   "id": "2ee57f48",
   "metadata": {},
   "outputs": [
    {
     "name": "stdout",
     "output_type": "stream",
     "text": [
      "{'Python': 6, 'is': 2, 'a': 1, 'powerful': 8, 'language': 8}\n"
     ]
    }
   ],
   "source": [
    "#Given a sentence, make a dictionary with each word as the key and its length as the value.\n",
    "s = \"Python is a powerful language\"\n",
    "\n",
    "res = { i: len(i) for i in s.split()}\n",
    "print(res)\n"
   ]
  },
  {
   "cell_type": "code",
   "execution_count": 38,
   "id": "1fd3da17",
   "metadata": {},
   "outputs": [
    {
     "name": "stdout",
     "output_type": "stream",
     "text": [
      "['Python', 'is', 'a', 'powerful', 'language']\n"
     ]
    }
   ],
   "source": [
    "s = \"Python is a powerful language\"\n",
    "res = s.split()\n",
    "print(res)"
   ]
  },
  {
   "cell_type": "code",
   "execution_count": 35,
   "id": "658597eb",
   "metadata": {},
   "outputs": [
    {
     "name": "stdout",
     "output_type": "stream",
     "text": [
      "Not a Palindrome\n"
     ]
    }
   ],
   "source": [
    "# Palindrome of a number \n",
    "\n",
    "n = int(input(\"Enter a number\"))\n",
    "temp = n\n",
    "res = 0\n",
    "i = 0 \n",
    "while temp > 0 :\n",
    "    ld = temp%10\n",
    "    res = (res*10)+ld\n",
    "    temp //= 10\n",
    "    \n",
    "# print(res)\n",
    "if res == n:\n",
    "    print(\"Palindrome\")\n",
    "else: \n",
    "    print(\"Not a Palindrome\")"
   ]
  }
 ],
 "metadata": {
  "kernelspec": {
   "display_name": "Python 3",
   "language": "python",
   "name": "python3"
  },
  "language_info": {
   "codemirror_mode": {
    "name": "ipython",
    "version": 3
   },
   "file_extension": ".py",
   "mimetype": "text/x-python",
   "name": "python",
   "nbconvert_exporter": "python",
   "pygments_lexer": "ipython3",
   "version": "3.13.2"
  }
 },
 "nbformat": 4,
 "nbformat_minor": 5
}
