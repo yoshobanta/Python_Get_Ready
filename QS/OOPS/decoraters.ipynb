{
 "cells": [
  {
   "cell_type": "markdown",
   "id": "1de08537",
   "metadata": {},
   "source": [
    "NOTES- \n",
    "Decorator is a function which is used to add some additional functionality to the existing function.\n",
    "There are 2 types of decorator are there   1. built - in decorators ,2. user define decorators\n",
    "\n",
    "1. Built - in decorators - These are the decorators which are pre- define y the developers which we can access into our program but we cannot modify them.\n",
    "eg - @classmethod , @staticmethod\n",
    "\n",
    "2. User-define - These are the decorators which will get created by the user according to their requirements. "
   ]
  },
  {
   "cell_type": "code",
   "execution_count": null,
   "id": "e48c6778",
   "metadata": {},
   "outputs": [],
   "source": [
    "# The syntax used to define a user define decorator is -\n",
    "def dec_name(function):\n",
    "    def inner (*args,**kwargs):\n",
    "        #pre task\n",
    "        res = function(*args,**kwargs)\n",
    "        #post task\n",
    "        return res\n",
    "    return inner"
   ]
  },
  {
   "cell_type": "markdown",
   "id": "3cd14313",
   "metadata": {},
   "source": [
    "Here it will  return the function result and  print more than 3 and will  show the result of the function but it  will not update the count.\n",
    "\n",
    "so here we will get result of the function but count will not be updated ."
   ]
  },
  {
   "cell_type": "code",
   "execution_count": null,
   "id": "7e0614c0",
   "metadata": {},
   "outputs": [],
   "source": [
    "\n",
    "from collections import defaultdict\n",
    "count = defaultdict(int)\n",
    "def counter(func):\n",
    "    def inner(*args,**kwargs):\n",
    "        if count[func.__name__] < 3:\n",
    "            count[func.__name__] +=1\n",
    "            return func(*args,**kwargs)\n",
    "        else:\n",
    "            print(f\"{func.__name__} is already executed for 3 times so count will not be updated \") \n",
    "            return func(*args,**kwargs)\n",
    "        \n",
    "    return inner\n",
    "\n",
    "@counter\n",
    "def add(a,b):\n",
    "    return a+b\n",
    "\n",
    "@counter\n",
    "def sub(a,b):\n",
    "    return a-b\n",
    "\n",
    "@counter\n",
    "def mul(a,b):\n",
    "    return a*b\n",
    "\n",
    "@counter\n",
    "def div(a,b):\n",
    "    return a/b"
   ]
  },
  {
   "cell_type": "code",
   "execution_count": 123,
   "id": "535fa3c4",
   "metadata": {},
   "outputs": [
    {
     "name": "stdout",
     "output_type": "stream",
     "text": [
      "add is already executed for 3 times so count will not be updated \n"
     ]
    }
   ],
   "source": [
    "add(10,2)"
   ]
  },
  {
   "cell_type": "code",
   "execution_count": 112,
   "id": "2f003491",
   "metadata": {},
   "outputs": [
    {
     "data": {
      "text/plain": [
       "19"
      ]
     },
     "execution_count": 112,
     "metadata": {},
     "output_type": "execute_result"
    }
   ],
   "source": [
    "sub(20,1)"
   ]
  },
  {
   "cell_type": "code",
   "execution_count": 108,
   "id": "6ec83151",
   "metadata": {},
   "outputs": [
    {
     "name": "stdout",
     "output_type": "stream",
     "text": [
      "mul is already executed for 3 times so count will not be updated \n"
     ]
    },
    {
     "data": {
      "text/plain": [
       "8"
      ]
     },
     "execution_count": 108,
     "metadata": {},
     "output_type": "execute_result"
    }
   ],
   "source": [
    "mul(2,4)"
   ]
  },
  {
   "cell_type": "code",
   "execution_count": 130,
   "id": "925bb5e8",
   "metadata": {},
   "outputs": [
    {
     "name": "stdout",
     "output_type": "stream",
     "text": [
      "div is already executed for 3 times so count will not be updated \n"
     ]
    }
   ],
   "source": [
    "div(100,10)"
   ]
  },
  {
   "cell_type": "code",
   "execution_count": 132,
   "id": "5b7f5d31",
   "metadata": {},
   "outputs": [
    {
     "data": {
      "text/plain": [
       "defaultdict(int, {'add': 3, 'div': 3})"
      ]
     },
     "execution_count": 132,
     "metadata": {},
     "output_type": "execute_result"
    }
   ],
   "source": [
    "count"
   ]
  },
  {
   "cell_type": "markdown",
   "id": "088f0f39",
   "metadata": {},
   "source": [
    "Here it will not return the function result at all . just print more than 3 and will not show the result of the function and will also not update the count."
   ]
  },
  {
   "cell_type": "code",
   "execution_count": null,
   "id": "a7a5b73e",
   "metadata": {},
   "outputs": [],
   "source": [
    "\n",
    "from collections import defaultdict\n",
    "count = defaultdict(int)\n",
    "def counter(func):\n",
    "    def inner(*args,**kwargs):\n",
    "        if count[func.__name__] < 3:\n",
    "            count[func.__name__] +=1\n",
    "            return func(*args,**kwargs)\n",
    "        else:\n",
    "            print(f\"{func.__name__} is already executed for 3 times so count will not be updated \") \n",
    "    return inner\n",
    "\n",
    "@counter\n",
    "def add(a,b):\n",
    "    return a+b\n",
    "\n",
    "@counter\n",
    "def sub(a,b):\n",
    "    return a-b\n",
    "\n",
    "@counter\n",
    "def mul(a,b):\n",
    "    return a*b\n",
    "\n",
    "@counter\n",
    "def div(a,b):\n",
    "    return a/b"
   ]
  }
 ],
 "metadata": {
  "kernelspec": {
   "display_name": "Python 3",
   "language": "python",
   "name": "python3"
  },
  "language_info": {
   "codemirror_mode": {
    "name": "ipython",
    "version": 3
   },
   "file_extension": ".py",
   "mimetype": "text/x-python",
   "name": "python",
   "nbconvert_exporter": "python",
   "pygments_lexer": "ipython3",
   "version": "3.13.2"
  }
 },
 "nbformat": 4,
 "nbformat_minor": 5
}
