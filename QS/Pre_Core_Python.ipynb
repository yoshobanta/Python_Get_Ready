{
 "cells": [
  {
   "cell_type": "markdown",
   "id": "031e6911",
   "metadata": {},
   "source": [
    "Normal intro, then waht is software types of software , then what is python , history of python, waht is var, how it is located in memory, identifiers, ord(), chr() then ascii , then the range of a = -5 to 256 internal catching , rules of identifiers . This is upto 3 classes.\n"
   ]
  },
  {
   "cell_type": "code",
   "execution_count": 2,
   "id": "0fc46678",
   "metadata": {},
   "outputs": [
    {
     "name": "stdout",
     "output_type": "stream",
     "text": [
      "1720550210656\n",
      "1720550210656\n",
      "1720646589376\n",
      "1720646593072\n"
     ]
    }
   ],
   "source": [
    "a = \"python\"\n",
    "b = 'python'\n",
    "\n",
    "print(id(a))\n",
    "print(id(b))\n",
    "\n",
    "a= \"python@\"\n",
    "b= \"python@\"\n",
    "print(id(a))\n",
    "print(id(b))"
   ]
  },
  {
   "cell_type": "code",
   "execution_count": 8,
   "id": "dd6617c4",
   "metadata": {},
   "outputs": [
    {
     "name": "stdout",
     "output_type": "stream",
     "text": [
      "97\n",
      "A\n"
     ]
    }
   ],
   "source": [
    "c = \"a\"\n",
    "print(ord(c))\n",
    "#if i have to convert it is not upper case then\n",
    "print(chr(ord(c)-32))"
   ]
  },
  {
   "cell_type": "code",
   "execution_count": null,
   "id": "afe81b13",
   "metadata": {},
   "outputs": [],
   "source": [
    "# Now suppose a = 97 given \n",
    "\n",
    "a = 97\n",
    "#find its "
   ]
  }
 ],
 "metadata": {
  "kernelspec": {
   "display_name": "pytorch_env",
   "language": "python",
   "name": "python3"
  },
  "language_info": {
   "codemirror_mode": {
    "name": "ipython",
    "version": 3
   },
   "file_extension": ".py",
   "mimetype": "text/x-python",
   "name": "python",
   "nbconvert_exporter": "python",
   "pygments_lexer": "ipython3",
   "version": "3.12.3"
  }
 },
 "nbformat": 4,
 "nbformat_minor": 5
}
