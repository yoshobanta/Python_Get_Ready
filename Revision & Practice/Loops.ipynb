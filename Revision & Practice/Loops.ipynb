{
 "cells": [
  {
   "cell_type": "markdown",
   "id": "b71c5b8e",
   "metadata": {},
   "source": [
    "## 04/47 Control Flow"
   ]
  },
  {
   "cell_type": "code",
   "execution_count": 7,
   "id": "bb945b8e",
   "metadata": {},
   "outputs": [
    {
     "name": "stdout",
     "output_type": "stream",
     "text": [
      "Neither\n"
     ]
    }
   ],
   "source": [
    "# Even and Odd\n",
    "\n",
    "num = int(input(\"Enter a number\"))\n",
    "\n",
    "if num == 1 or num == 0 :\n",
    "    print(\"Neither\")\n",
    "\n",
    "elif num >=0:\n",
    "    if (num % 2) == 0:\n",
    "        print(\"Even\")\n",
    "\n",
    "    else :\n",
    "        print(\"Odd\")\n",
    "else :\n",
    "    print(\"Enter a positive number\") "
   ]
  },
  {
   "cell_type": "code",
   "execution_count": 13,
   "id": "d7c48c54",
   "metadata": {},
   "outputs": [
    {
     "name": "stdout",
     "output_type": "stream",
     "text": [
      "1900 Century year but not leap year\n"
     ]
    }
   ],
   "source": [
    "# Determine if a year is a leap year.\n",
    "\n",
    "num = int(input(\"Enter a year\"))\n",
    "\n",
    "if num % 400 == 0 :\n",
    "        print(\"Leap year\")\n",
    "elif num % 100 == 0:\n",
    "        print(num,\"Century year but not leap year\")\n",
    "elif num % 4 == 0 :\n",
    "        print(\"Leap year\")\n",
    "else :\n",
    "     print(\"Not a leap year\")\n"
   ]
  },
  {
   "cell_type": "markdown",
   "id": "e0aa799c",
   "metadata": {},
   "source": [
    "## we can use print in f formated or print(num,\"Century year but not leap year\") like this of he above code."
   ]
  },
  {
   "cell_type": "code",
   "execution_count": 1,
   "id": "aed5c0f4",
   "metadata": {},
   "outputs": [
    {
     "name": "stdout",
     "output_type": "stream",
     "text": [
      "division with zero not allowed\n"
     ]
    }
   ],
   "source": [
    "## Assignment \n",
    "## Make a simple calculator\n",
    "\n",
    "num1 = int (input(\"Enter a number 1\"))\n",
    "num2 = int (input(\"Enter a number 2\"))\n",
    "\n",
    "operator = input(\"Enter a valid operator [+,-,*,/]\")\n",
    "\n",
    "if operator == \"+\":\n",
    "    print(num1+num2)\n",
    "\n",
    "elif operator == \"-\":\n",
    "    print(num1-num2)\n",
    "\n",
    "elif operator == \"*\":\n",
    "    print(num1*num2)\n",
    "\n",
    "elif operator == \"/\":\n",
    "    if num2 == 0:\n",
    "        print(\"division with zero not allowed\")\n",
    "    else:\n",
    "        print(num1/num2)\n",
    "else :\n",
    "    print(\"Enter a valid operator\")"
   ]
  }
 ],
 "metadata": {
  "kernelspec": {
   "display_name": "pytorch_env",
   "language": "python",
   "name": "python3"
  },
  "language_info": {
   "codemirror_mode": {
    "name": "ipython",
    "version": 3
   },
   "file_extension": ".py",
   "mimetype": "text/x-python",
   "name": "python",
   "nbconvert_exporter": "python",
   "pygments_lexer": "ipython3",
   "version": "3.12.3"
  }
 },
 "nbformat": 4,
 "nbformat_minor": 5
}
