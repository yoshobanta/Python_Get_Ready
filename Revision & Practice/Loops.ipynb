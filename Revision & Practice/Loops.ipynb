{
 "cells": [
  {
   "cell_type": "markdown",
   "id": "b71c5b8e",
   "metadata": {},
   "source": [
    "## 04/47 Control Flow"
   ]
  },
  {
   "cell_type": "code",
   "execution_count": 7,
   "id": "bb945b8e",
   "metadata": {},
   "outputs": [
    {
     "name": "stdout",
     "output_type": "stream",
     "text": [
      "Neither\n"
     ]
    }
   ],
   "source": [
    "# Even and Odd\n",
    "\n",
    "num = int(input(\"Enter a number\"))\n",
    "\n",
    "if num == 1 or num == 0 :\n",
    "    print(\"Neither\")\n",
    "\n",
    "elif num >=0:\n",
    "    if (num % 2) == 0:\n",
    "        print(\"Even\")\n",
    "\n",
    "    else :\n",
    "        print(\"Odd\")\n",
    "else :\n",
    "    print(\"Enter a positive number\") "
   ]
  },
  {
   "cell_type": "code",
   "execution_count": 13,
   "id": "d7c48c54",
   "metadata": {},
   "outputs": [
    {
     "name": "stdout",
     "output_type": "stream",
     "text": [
      "1900 Century year but not leap year\n"
     ]
    }
   ],
   "source": [
    "# Determine if a year is a leap year.\n",
    "\n",
    "num = int(input(\"Enter a year\"))\n",
    "\n",
    "if num % 400 == 0 :\n",
    "        print(\"Leap year\")\n",
    "elif num % 100 == 0:\n",
    "        print(num,\"Century year but not leap year\")\n",
    "elif num % 4 == 0 :\n",
    "        print(\"Leap year\")\n",
    "else :\n",
    "     print(\"Not a leap year\")\n"
   ]
  },
  {
   "cell_type": "markdown",
   "id": "e0aa799c",
   "metadata": {},
   "source": [
    "## we can use print in f formated or print(num,\"Century year but not leap year\") like this of he above code."
   ]
  },
  {
   "cell_type": "code",
   "execution_count": 2,
   "id": "aed5c0f4",
   "metadata": {},
   "outputs": [
    {
     "ename": "ValueError",
     "evalue": "invalid literal for int() with base 10: '2.55'",
     "output_type": "error",
     "traceback": [
      "\u001b[1;31m---------------------------------------------------------------------------\u001b[0m",
      "\u001b[1;31mValueError\u001b[0m                                Traceback (most recent call last)",
      "Cell \u001b[1;32mIn[2], line 5\u001b[0m\n\u001b[0;32m      1\u001b[0m \u001b[38;5;66;03m## Assignment \u001b[39;00m\n\u001b[0;32m      2\u001b[0m \u001b[38;5;66;03m## Make a simple calculator\u001b[39;00m\n\u001b[0;32m      4\u001b[0m num1 \u001b[38;5;241m=\u001b[39m \u001b[38;5;28mint\u001b[39m (\u001b[38;5;28minput\u001b[39m(\u001b[38;5;124m\"\u001b[39m\u001b[38;5;124mEnter a number 1\u001b[39m\u001b[38;5;124m\"\u001b[39m))\n\u001b[1;32m----> 5\u001b[0m num2 \u001b[38;5;241m=\u001b[39m \u001b[38;5;28;43mint\u001b[39;49m\u001b[43m \u001b[49m\u001b[43m(\u001b[49m\u001b[38;5;28;43minput\u001b[39;49m\u001b[43m(\u001b[49m\u001b[38;5;124;43m\"\u001b[39;49m\u001b[38;5;124;43mEnter a number 2\u001b[39;49m\u001b[38;5;124;43m\"\u001b[39;49m\u001b[43m)\u001b[49m\u001b[43m)\u001b[49m\n\u001b[0;32m      7\u001b[0m operator \u001b[38;5;241m=\u001b[39m \u001b[38;5;28minput\u001b[39m(\u001b[38;5;124m\"\u001b[39m\u001b[38;5;124mEnter a valid operator [+,-,*,/]\u001b[39m\u001b[38;5;124m\"\u001b[39m)\n\u001b[0;32m      9\u001b[0m \u001b[38;5;28;01mif\u001b[39;00m operator \u001b[38;5;241m==\u001b[39m \u001b[38;5;124m\"\u001b[39m\u001b[38;5;124m+\u001b[39m\u001b[38;5;124m\"\u001b[39m:\n",
      "\u001b[1;31mValueError\u001b[0m: invalid literal for int() with base 10: '2.55'"
     ]
    }
   ],
   "source": [
    "## Assignment \n",
    "## Make a simple calculator\n",
    "\n",
    "num1 = int (input(\"Enter a number 1\"))\n",
    "num2 = int (input(\"Enter a number 2\"))\n",
    "\n",
    "operator = input(\"Enter a valid operator [+,-,*,/]\")\n",
    "\n",
    "if operator == \"+\":\n",
    "    print(num1+num2)\n",
    "\n",
    "elif operator == \"-\":\n",
    "    print(num1-num2)\n",
    "\n",
    "elif operator == \"*\":\n",
    "    print(num1*num2)\n",
    "\n",
    "elif operator == \"/\":\n",
    "    if num2 == 0:\n",
    "        print(\"division with zero not allowed\")\n",
    "    else:\n",
    "        print(num1/num2)\n",
    "else :\n",
    "    print(\"Enter a valid operator\")"
   ]
  },
  {
   "cell_type": "markdown",
   "id": "8158e2bc",
   "metadata": {},
   "source": [
    "num2 = int (input(\"Enter a number 2\")) i thought the number is been type cast to int but it is not the case . Find the real meaning of this ."
   ]
  }
 ],
 "metadata": {
  "kernelspec": {
   "display_name": "pytorch_env",
   "language": "python",
   "name": "python3"
  },
  "language_info": {
   "codemirror_mode": {
    "name": "ipython",
    "version": 3
   },
   "file_extension": ".py",
   "mimetype": "text/x-python",
   "name": "python",
   "nbconvert_exporter": "python",
   "pygments_lexer": "ipython3",
   "version": "3.12.3"
  }
 },
 "nbformat": 4,
 "nbformat_minor": 5
}
