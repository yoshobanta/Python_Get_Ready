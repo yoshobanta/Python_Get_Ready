#To make a banking software.

def show_bal(money):
    return money

def add_money(money,new_money):
    money += new_money
    return money

def with_draw(money,withdraw):
    money -= withdraw
    return money
money = 0
while True :
    print("1. To show Balance")
    print("2. To add Money")
    print("3. To withdraw Money")
    print("4. To Exit")
    choice = int(input("Enter your choice"))

    if choice == 1 :
        print("Your current balance",show_bal(money))
    elif choice == 2 :
        new_money = int(input("Enter the money to be added"))
        print("Previous",money)
        money = add_money(money,new_money)
        print("New Money",money)
    elif choice == 3 :
        withdraw = int(input("How much money to withdraw"))
        print("Previous",money)
        money = with_draw(money,withdraw)
        print("New Money",money)
        
    elif choice == 4 :
        print("Thank KUuuu")
        break
    else :
        print("Enter a valid choice")



