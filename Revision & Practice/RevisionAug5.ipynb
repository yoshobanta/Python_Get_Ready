{
 "cells": [
  {
   "cell_type": "markdown",
   "id": "2fda10db",
   "metadata": {},
   "source": [
    "Revisoion on aug 5 to check my programming skills . Got injured and out of touch in programing for 3 week . I have done Only therory .\n"
   ]
  },
  {
   "cell_type": "code",
   "execution_count": 2,
   "id": "ffb8a77d",
   "metadata": {},
   "outputs": [
    {
     "name": "stdout",
     "output_type": "stream",
     "text": [
      "97\n"
     ]
    }
   ],
   "source": [
    "# Find max of 3 number\n",
    "num1 = int(input(\"Enter a number\"))\n",
    "num2 = int(input(\"Enter a number\"))\n",
    "num3 = int(input(\"Enter a number\"))\n",
    "res = max(num1,num2,num3)\n",
    "print(res)"
   ]
  },
  {
   "cell_type": "code",
   "execution_count": 9,
   "id": "6e9e5c40",
   "metadata": {},
   "outputs": [
    {
     "name": "stdout",
     "output_type": "stream",
     "text": [
      "200\n"
     ]
    }
   ],
   "source": [
    "num1 = 200\n",
    "num2 = 200\n",
    "num3 = 34\n",
    "\n",
    "if num1 >= num2 and num1 >= num3:\n",
    "    print(num1)\n",
    "elif num2 >= num1 and num2 >= num3:\n",
    "    print(num2)\n",
    "else:\n",
    "    print(num3)"
   ]
  },
  {
   "cell_type": "code",
   "execution_count": 26,
   "id": "73f51ea5",
   "metadata": {},
   "outputs": [
    {
     "name": "stdout",
     "output_type": "stream",
     "text": [
      "True\n"
     ]
    }
   ],
   "source": [
    "a = \"python\"\n",
    "b = \"python\"\n",
    "print(id(a) == id(b))"
   ]
  },
  {
   "cell_type": "code",
   "execution_count": 28,
   "id": "cde18a0a",
   "metadata": {},
   "outputs": [
    {
     "name": "stdout",
     "output_type": "stream",
     "text": [
      "[(1, 1), (2, 4), (3, 9), (4, 16), (5, 25), (6, 36), (7, 49), (8, 64), (9, 81), (10, 100), (11, 121), (12, 144), (13, 169), (14, 196), (15, 225), (16, 256), (17, 289), (18, 324), (19, 361), (20, 400), (21, 441), (22, 484), (23, 529), (24, 576), (25, 625), (26, 676), (27, 729), (28, 784), (29, 841), (30, 900)]\n"
     ]
    }
   ],
   "source": [
    "# Wap where we have sq of 1-30 in a list .\n",
    "\n",
    "res = [(i,i**2) for i in range(1,31)]\n",
    "print(res)"
   ]
  },
  {
   "cell_type": "code",
   "execution_count": 46,
   "id": "d81d4a06",
   "metadata": {},
   "outputs": [
    {
     "name": "stdout",
     "output_type": "stream",
     "text": [
      "Prime Number\n"
     ]
    }
   ],
   "source": [
    "# Wap to find prime or not .\n",
    "def divisor(num):\n",
    "    res = []\n",
    "    for i in range(1,num//2 +1 ):\n",
    "        if num % i == 0 :\n",
    "            res.append(i)\n",
    "    return res\n",
    "\n",
    "def isprime(num):\n",
    "    if len(divisor(num)) == 1 :\n",
    "        return \"Prime Number\"\n",
    "    return \"Not a Prime Number\"\n",
    "    \n",
    "# print(divisor(8))\n",
    "print(isprime(17))"
   ]
  },
  {
   "cell_type": "code",
   "execution_count": 50,
   "id": "4125af4e",
   "metadata": {},
   "outputs": [
    {
     "name": "stdout",
     "output_type": "stream",
     "text": [
      "6\n"
     ]
    }
   ],
   "source": [
    "# Sum of all the number in a list .\n",
    "l = [1,2,3]\n",
    "res = sum(l)\n",
    "print(res)"
   ]
  },
  {
   "cell_type": "code",
   "execution_count": 51,
   "id": "0c269a5e",
   "metadata": {},
   "outputs": [
    {
     "name": "stdout",
     "output_type": "stream",
     "text": [
      "6\n"
     ]
    }
   ],
   "source": [
    "def sum_of_list(l):\n",
    "    res = 0\n",
    "    for i in l :\n",
    "        res += i\n",
    "    return res\n",
    "l = [1,2,3]\n",
    "print(sum_of_list(l))\n"
   ]
  },
  {
   "cell_type": "code",
   "execution_count": 53,
   "id": "86c2d138",
   "metadata": {},
   "outputs": [
    {
     "name": "stdout",
     "output_type": "stream",
     "text": [
      "[0, 1, 1, 2, 3]\n"
     ]
    }
   ],
   "source": [
    "# Fibonacii sequence using normal looping . \n",
    "a = 0\n",
    "b = 1\n",
    "n = 5     # Upto to how much sqquence we want .\n",
    "res = []\n",
    "for _ in range (5):\n",
    "    res.append(a)        \n",
    "    c = a + b\n",
    "    a = b\n",
    "    b = c \n",
    "    \n",
    "    \n",
    "print(res)"
   ]
  },
  {
   "cell_type": "code",
   "execution_count": 58,
   "id": "e67a245a",
   "metadata": {},
   "outputs": [
    {
     "data": {
      "text/plain": [
       "[0, 1, 1, 2, 3, 5]"
      ]
     },
     "execution_count": 58,
     "metadata": {},
     "output_type": "execute_result"
    }
   ],
   "source": [
    "# Fibonacii sequence using function .\n",
    "\n",
    "def fibo(num):\n",
    "    res = []\n",
    "    a = 0\n",
    "    b = 1\n",
    "    for _ in range (num):\n",
    "        res.append(a)\n",
    "        c = a + b\n",
    "        a = b\n",
    "        b = c\n",
    "    return res\n",
    "\n",
    "fibo(6)\n",
    "\n",
    " "
   ]
  },
  {
   "cell_type": "code",
   "execution_count": null,
   "id": "1b9320f7",
   "metadata": {},
   "outputs": [],
   "source": [
    "# Fibonacii sequence using function normal recursion .\n",
    "\n",
    "def fibo (num,a,b,c,res):\n",
    "    res = []\n",
    "    a= 0\n",
    "    b= 1\n",
    "    c= a+b\n",
    "    res.append(a)"
   ]
  },
  {
   "cell_type": "code",
   "execution_count": null,
   "id": "04f211d4",
   "metadata": {},
   "outputs": [],
   "source": [
    "# # Fibonacci sequence using recursion\n",
    "# def fibo(num)\n",
    "\n"
   ]
  },
  {
   "cell_type": "code",
   "execution_count": 64,
   "id": "8c63bb58",
   "metadata": {},
   "outputs": [
    {
     "name": "stdout",
     "output_type": "stream",
     "text": [
      "6\n"
     ]
    }
   ],
   "source": [
    "# Factorial of a number \n",
    "def fact(num):\n",
    "    if num == 0 :\n",
    "        return 1\n",
    "    return num*fact(num-1)\n",
    "\n",
    "print(fact(3))\n"
   ]
  },
  {
   "cell_type": "code",
   "execution_count": null,
   "id": "5139608e",
   "metadata": {},
   "outputs": [
    {
     "name": "stdout",
     "output_type": "stream",
     "text": [
      "2025-08-05 18:53:07.155486\n"
     ]
    }
   ],
   "source": [
    "import datetime as d\n",
    "t = d.datetime.now()\n",
    "print(t)"
   ]
  },
  {
   "cell_type": "code",
   "execution_count": 72,
   "id": "1ebbb768",
   "metadata": {},
   "outputs": [
    {
     "name": "stdout",
     "output_type": "stream",
     "text": [
      "Thursday\n",
      "2005-05-19\n"
     ]
    }
   ],
   "source": [
    "import datetime as dt\n",
    "t = dt.datetime(2005,5,19)\n",
    "print(t.strftime(\"%A\"))\n",
    "\n",
    "date_str = \"2005-05-19\"\n",
    "d_str = dt.datetime.strptime(date_str, \"%Y-%m-%d\")\n",
    "print(date_str) \n"
   ]
  },
  {
   "cell_type": "code",
   "execution_count": null,
   "id": "127ae94d",
   "metadata": {},
   "outputs": [
    {
     "name": "stdout",
     "output_type": "stream",
     "text": [
      "False\n",
      "False\n",
      "False\n"
     ]
    }
   ],
   "source": []
  }
 ],
 "metadata": {
  "kernelspec": {
   "display_name": "Python 3",
   "language": "python",
   "name": "python3"
  },
  "language_info": {
   "codemirror_mode": {
    "name": "ipython",
    "version": 3
   },
   "file_extension": ".py",
   "mimetype": "text/x-python",
   "name": "python",
   "nbconvert_exporter": "python",
   "pygments_lexer": "ipython3",
   "version": "3.13.2"
  }
 },
 "nbformat": 4,
 "nbformat_minor": 5
}
