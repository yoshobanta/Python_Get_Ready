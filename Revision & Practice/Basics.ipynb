{
 "cells": [
  {
   "cell_type": "markdown",
   "id": "edadc4df",
   "metadata": {},
   "source": [
    "## Required Basics only rest i know , I will update it later"
   ]
  },
  {
   "cell_type": "code",
   "execution_count": 1,
   "id": "6bd972c9",
   "metadata": {},
   "outputs": [
    {
     "name": "stdout",
     "output_type": "stream",
     "text": [
      "5\n"
     ]
    }
   ],
   "source": [
    "# We can write multile assignments in one line\n",
    "a=2;b=3;sum=a+b;print(sum)"
   ]
  },
  {
   "cell_type": "markdown",
   "id": "d432b38c",
   "metadata": {},
   "source": [
    "## Use ipynb also if we are not using the conda env the we have to install pip install ipykernel"
   ]
  },
  {
   "cell_type": "code",
   "execution_count": 1,
   "id": "5d842b36",
   "metadata": {},
   "outputs": [
    {
     "ename": "TypeError",
     "evalue": "can only concatenate str (not \"int\") to str",
     "output_type": "error",
     "traceback": [
      "\u001b[1;31m---------------------------------------------------------------------------\u001b[0m",
      "\u001b[1;31mTypeError\u001b[0m                                 Traceback (most recent call last)",
      "Cell \u001b[1;32mIn[1], line 3\u001b[0m\n\u001b[0;32m      1\u001b[0m \u001b[38;5;66;03m# Common Error\u001b[39;00m\n\u001b[1;32m----> 3\u001b[0m var \u001b[38;5;241m=\u001b[39m \u001b[38;5;124;43m\"\u001b[39;49m\u001b[38;5;124;43mHello\u001b[39;49m\u001b[38;5;124;43m\"\u001b[39;49m\u001b[43m \u001b[49m\u001b[38;5;241;43m+\u001b[39;49m\u001b[43m \u001b[49m\u001b[38;5;241;43m5\u001b[39;49m\n",
      "\u001b[1;31mTypeError\u001b[0m: can only concatenate str (not \"int\") to str"
     ]
    }
   ],
   "source": [
    "# Common Error\n",
    "\n",
    "var = \"Hello\" + 5"
   ]
  },
  {
   "cell_type": "code",
   "execution_count": null,
   "id": "702120ce",
   "metadata": {},
   "outputs": [
    {
     "name": "stdout",
     "output_type": "stream",
     "text": [
      "1. To show Balance\n",
      "2. To add Money\n",
      "3. To withdraw Money\n",
      "4. To Exit\n",
      "0\n",
      "1. To show Balance\n",
      "2. To add Money\n",
      "3. To withdraw Money\n",
      "4. To Exit\n",
      "0\n",
      "New Money 45\n",
      "1. To show Balance\n",
      "2. To add Money\n",
      "3. To withdraw Money\n",
      "4. To Exit\n",
      "0\n",
      "New Money 45\n",
      "1. To show Balance\n",
      "2. To add Money\n",
      "3. To withdraw Money\n",
      "4. To Exit\n",
      "0\n",
      "1. To show Balance\n",
      "2. To add Money\n",
      "3. To withdraw Money\n",
      "4. To Exit\n",
      "Thank KUuuu\n"
     ]
    }
   ],
   "source": [
    "#To make a banking software.\n",
    "\n",
    "def show_bal(money):\n",
    "    return money\n",
    "\n",
    "def add_money(money,new_money):\n",
    "    money += new_money\n",
    "    return money\n",
    "\n",
    "def with_draw(money,withdraw):\n",
    "    money -= withdraw\n",
    "    return money\n",
    "money = 0\n",
    "while True :\n",
    "    print(\"1. To show Balance\")\n",
    "    print(\"2. To add Money\")\n",
    "    print(\"3. To withdraw Money\")\n",
    "    print(\"4. To Exit\")\n",
    "    choice = int(input(\"Enter your choice\"))\n",
    "\n",
    "    if choice == 1 :\n",
    "        print(\"Your current balance\",show_bal(money))\n",
    "    elif choice == 2 :\n",
    "        new_money = int(input(\"Enter the money to be added\"))\n",
    "        print(\"Previous\",money)\n",
    "        money = add_money(money,new_money)\n",
    "        print(\"New Money\",money)\n",
    "    elif choice == 3 :\n",
    "        withdraw = int(input(\"How much money to withdraw\"))\n",
    "        print(\"Previous\",money)\n",
    "        money = with_draw(money,withdraw)\n",
    "        print(\"New Money\",money)\n",
    "        \n",
    "    elif choice == 4 :\n",
    "        print(\"Thank KUuuu\")\n",
    "        break\n",
    "    else :\n",
    "        print(\"Enter a valid choice\")\n",
    "\n",
    "\n",
    "\n"
   ]
  }
 ],
 "metadata": {
  "kernelspec": {
   "display_name": "Python 3",
   "language": "python",
   "name": "python3"
  },
  "language_info": {
   "codemirror_mode": {
    "name": "ipython",
    "version": 3
   },
   "file_extension": ".py",
   "mimetype": "text/x-python",
   "name": "python",
   "nbconvert_exporter": "python",
   "pygments_lexer": "ipython3",
   "version": "3.13.2"
  }
 },
 "nbformat": 4,
 "nbformat_minor": 5
}
