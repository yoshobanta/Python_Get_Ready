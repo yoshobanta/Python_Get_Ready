{
 "cells": [
  {
   "cell_type": "markdown",
   "id": "b62ed417",
   "metadata": {},
   "source": [
    "### Lambda Function in Python\n",
    "\n",
    "Lambda function are small anonymous functions in Python define using lambda keyword. They can have any  number of arguments but only one expression.They are commonly used for short operations or as arguments to higher order functions"
   ]
  },
  {
   "cell_type": "code",
   "execution_count": null,
   "id": "8e5b2618",
   "metadata": {},
   "outputs": [],
   "source": [
    "#Syntax\n",
    "\n",
    "lambda arguments : expression"
   ]
  },
  {
   "cell_type": "code",
   "execution_count": null,
   "id": "2c617a66",
   "metadata": {},
   "outputs": [
    {
     "name": "stdout",
     "output_type": "stream",
     "text": [
      "25\n"
     ]
    }
   ],
   "source": [
    "#Square of a number\n",
    "\n",
    "square = lambda x:x**2\n",
    "print(square(5))\n",
    "\n",
    "#It is same as:\n",
    "def square(x):\n",
    "    return x ** 2\n"
   ]
  },
  {
   "cell_type": "code",
   "execution_count": null,
   "id": "7b60ccff",
   "metadata": {},
   "outputs": [
    {
     "name": "stdout",
     "output_type": "stream",
     "text": [
      "10\n"
     ]
    }
   ],
   "source": [
    "#Add two number\n",
    "\n",
    "addition = lambda a,b :a+b\n",
    "print(addition(8,2))\n",
    "\n",
    "#same as \n",
    "def add(a,b):\n",
    "    return a+b"
   ]
  },
  {
   "cell_type": "code",
   "execution_count": 3,
   "id": "1d8d6564",
   "metadata": {},
   "outputs": [
    {
     "data": {
      "text/plain": [
       "True"
      ]
     },
     "execution_count": 3,
     "metadata": {},
     "output_type": "execute_result"
    }
   ],
   "source": [
    "def even(num):\n",
    "    if num%2 ==0:\n",
    "        return True\n",
    "even(22)"
   ]
  },
  {
   "cell_type": "code",
   "execution_count": 4,
   "id": "5a28dadf",
   "metadata": {},
   "outputs": [
    {
     "data": {
      "text/plain": [
       "True"
      ]
     },
     "execution_count": 4,
     "metadata": {},
     "output_type": "execute_result"
    }
   ],
   "source": [
    "chk_even= lambda num : num%2 == 0\n",
    "\n",
    "chk_even(222)"
   ]
  },
  {
   "cell_type": "markdown",
   "id": "e5e59be8",
   "metadata": {},
   "source": [
    "### MAPS\n",
    "#### map() - applies a function to all items in a list(or any other iterable)"
   ]
  },
  {
   "cell_type": "markdown",
   "id": "f40abd26",
   "metadata": {},
   "source": [
    "map function applies a particular function to all the items in a list(or any other iterable) and returns a map object(an iterator). This is particularly useful for tranforming data into list comprehensively."
   ]
  },
  {
   "cell_type": "markdown",
   "id": "d7c6e784",
   "metadata": {},
   "source": [
    "Its take two input parameter map(function name , iterable)"
   ]
  },
  {
   "cell_type": "code",
   "execution_count": 10,
   "id": "489c7707",
   "metadata": {},
   "outputs": [
    {
     "name": "stdout",
     "output_type": "stream",
     "text": [
      "1 4 9 16 25 36 49 64 81 100 "
     ]
    }
   ],
   "source": [
    "## Just intro of map\n",
    "## map() - applies a function to all items in a list\n",
    "numbers =[1,2,3,4,5,6,7,8,9,10]\n",
    "\n",
    "def square(number):\n",
    "    return number**2\n",
    "\n",
    "for i in numbers:\n",
    "    print(square(i),end=\" \")\n"
   ]
  },
  {
   "cell_type": "code",
   "execution_count": null,
   "id": "dff56a39",
   "metadata": {},
   "outputs": [
    {
     "name": "stdout",
     "output_type": "stream",
     "text": [
      "<map object at 0x00000253847478E0>\n",
      "[1, 4, 9, 16, 25, 36, 49, 64, 81, 100]\n"
     ]
    }
   ],
   "source": [
    "#Lamba with map\n",
    "print(map(lambda x : x**2, numbers))        #lazy loading\n",
    "\n",
    "print(list(map(lambda x : x**2, numbers)))"
   ]
  },
  {
   "cell_type": "code",
   "execution_count": 13,
   "id": "0890f17d",
   "metadata": {},
   "outputs": [
    {
     "name": "stdout",
     "output_type": "stream",
     "text": [
      "[6, 8, 10, 12]\n"
     ]
    }
   ],
   "source": [
    "#Multiple iterables\n",
    "numbers1 =[1,2,3,4]\n",
    "numbers2 =[5,6,7,8]\n",
    "\n",
    "added_numbers = list(map(lambda a,b : a+b,numbers1,numbers2))\n",
    "print(added_numbers)"
   ]
  }
 ],
 "metadata": {
  "kernelspec": {
   "display_name": "pytorch_env",
   "language": "python",
   "name": "python3"
  },
  "language_info": {
   "codemirror_mode": {
    "name": "ipython",
    "version": 3
   },
   "file_extension": ".py",
   "mimetype": "text/x-python",
   "name": "python",
   "nbconvert_exporter": "python",
   "pygments_lexer": "ipython3",
   "version": "3.12.3"
  }
 },
 "nbformat": 4,
 "nbformat_minor": 5
}
