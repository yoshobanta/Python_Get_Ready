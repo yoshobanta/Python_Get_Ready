{
 "cells": [
  {
   "cell_type": "markdown",
   "id": "bc60de40",
   "metadata": {},
   "source": [
    "question on fuctions"
   ]
  },
  {
   "cell_type": "markdown",
   "id": "8437a8aa",
   "metadata": {},
   "source": [
    "Problem Description:Number of Rounds of Lift\n",
    "\n",
    "You are given n, the total number of people, and capacity, the maximum number of people the lift can carry at a time. All people want to go from the ground floor to the top floor. Your task is to calculate the number of rounds the lift has to make to transport all the people to the top floor.\n",
    "\n",
    "Input:Two integers, n and capacity, where n is the total number of people, and capacity is the maximum number of people the lift can carry in one round.\n",
    "\n",
    "Output:An integer representing the number of rounds the lift needs to cover to transport all people to the top floor.\n",
    "\n",
    "Example:\n",
    "\n",
    "Input: n = 10, capacity = 3\n",
    "Output: 4\n",
    "\n",
    "Input: n = 7, capacity = 4\n",
    "Output: 2\n"
   ]
  },
  {
   "cell_type": "code",
   "execution_count": null,
   "id": "2c94bbbd",
   "metadata": {},
   "outputs": [
    {
     "name": "stdout",
     "output_type": "stream",
     "text": [
      "3\n"
     ]
    }
   ],
   "source": [
    "n = int(input(\"Enter the number of people - \"))\n",
    "capacity = int(input(\"Enter the capacity of the lift in one round - \"))\n",
    "\n",
    "if n % capacity == 0:\n",
    "    rounds = n // capacity\n",
    "else:\n",
    "    rounds = n // capacity + 1\n",
    "\n",
    "print(\"Number of rounds needed:\", rounds)"
   ]
  },
  {
   "cell_type": "code",
   "execution_count": 13,
   "id": "8f517e43",
   "metadata": {},
   "outputs": [
    {
     "name": "stdout",
     "output_type": "stream",
     "text": [
      "Number of rounds needed: 5\n"
     ]
    }
   ],
   "source": [
    "#Or we can use math.ceil\n",
    "n = int(input(\"Enter the number of people - \"))\n",
    "capacity = int(input(\"Enter the capacity of the lift in one round - \"))\n",
    "\n",
    "if n % capacity == 0:\n",
    "    rounds = n // capacity\n",
    "else:\n",
    "    rounds = n // capacity + 1\n",
    "\n",
    "print(\"Number of rounds needed:\", rounds)\n"
   ]
  }
 ],
 "metadata": {
  "kernelspec": {
   "display_name": "Python 3",
   "language": "python",
   "name": "python3"
  },
  "language_info": {
   "codemirror_mode": {
    "name": "ipython",
    "version": 3
   },
   "file_extension": ".py",
   "mimetype": "text/x-python",
   "name": "python",
   "nbconvert_exporter": "python",
   "pygments_lexer": "ipython3",
   "version": "3.13.2"
  }
 },
 "nbformat": 4,
 "nbformat_minor": 5
}
