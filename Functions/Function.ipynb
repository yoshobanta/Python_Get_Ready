{
 "cells": [
  {
   "cell_type": "markdown",
   "id": "3f626fa6",
   "metadata": {},
   "source": [
    "### Use for better readability, reuse of code "
   ]
  },
  {
   "cell_type": "code",
   "execution_count": null,
   "id": "f8cdece6",
   "metadata": {},
   "outputs": [],
   "source": [
    "##syntax\n",
    "\n",
    "def function_name(parameters):\n",
    "    '''docstring'''\n",
    "    #function body\n",
    "    return expression                 #somtime we may not return somthing"
   ]
  },
  {
   "cell_type": "code",
   "execution_count": 9,
   "id": "78b3a34e",
   "metadata": {},
   "outputs": [],
   "source": [
    "### *args and *kwargs\n",
    "\n",
    "def print_details(*args,**kwargs):\n",
    "    for val in args:\n",
    "        print(f\"Positional Argumment - {val}\")\n",
    "    \n",
    "    for keys,values in kwargs.items():\n",
    "        print(f\"{keys}:{values}\")"
   ]
  },
  {
   "cell_type": "markdown",
   "id": "ec75bd5e",
   "metadata": {},
   "source": [
    "so end vs sep \n",
    "for keys,values in kwargs.items():\n",
    "        print(f\"{keys}:{values}\")\n",
    "\n",
    "Here sep will not work as f formated is treated as a single argument\n",
    "\n",
    "sep work in more than one argument print(1,2,3 , sep(\"-\"))\n",
    "\n"
   ]
  },
  {
   "cell_type": "code",
   "execution_count": null,
   "id": "deed2d32",
   "metadata": {},
   "outputs": [
    {
     "name": "stdout",
     "output_type": "stream",
     "text": [
      "Positional Argumment - 1\n",
      "Positional Argumment - 2\n",
      "Positional Argumment - 3\n",
      "Positional Argumment - 4\n",
      "Positional Argumment - 5\n",
      "name:Yosho\n",
      "roll:42\n",
      "country:ind\n"
     ]
    }
   ],
   "source": [
    "print_details(1,2,3,4,5,name = \"Yosho\",roll = 42,country=\"ind\")       #Function Call"
   ]
  },
  {
   "cell_type": "markdown",
   "id": "64efc73f",
   "metadata": {},
   "source": [
    "### Lecture 2 Example Functions"
   ]
  },
  {
   "cell_type": "code",
   "execution_count": null,
   "id": "ce933c9e",
   "metadata": {},
   "outputs": [
    {
     "name": "stdout",
     "output_type": "stream",
     "text": [
      "32.0\n",
      "0.0\n"
     ]
    }
   ],
   "source": [
    "# Temperature Function   (0°C × 9/5) + 32 = 32°F     and (0°F − 32) × 5/9 = -17.78°C\n",
    "\n",
    "def convert_temp(num,unit):\n",
    "    '''This function use to covert Celsius To Fahrenheit'''\n",
    "    if unit == \"C\" or unit == 'c' :\n",
    "        return num * (9/5) +32\n",
    "    \n",
    "    elif unit == \"F\"or unit == 'f':\n",
    "       return (num - 32)*5/9 \n",
    "    \n",
    "    else:\n",
    "        return None\n",
    "\n",
    "print(convert_temp(0,\"c\"))\n",
    "print(convert_temp(32,\"f\"))\n",
    "\n",
    "\n"
   ]
  },
  {
   "cell_type": "code",
   "execution_count": 27,
   "id": "061310f0",
   "metadata": {},
   "outputs": [
    {
     "name": "stdout",
     "output_type": "stream",
     "text": [
      "False\n",
      "True\n"
     ]
    }
   ],
   "source": [
    "import string\n",
    "# Password Strength Checker\n",
    "def is_strong_password(password):\n",
    "    '''Check if the password is strong or not'''\n",
    "    if len(password) < 8:\n",
    "        return False\n",
    "    if not any(char.isdigit() for char in password):\n",
    "        return False\n",
    "    if not any(char.islower() for char in password):\n",
    "        return False\n",
    "    if not any(char.isupper() for char in password):\n",
    "        return False\n",
    "    if not any(char in string.punctuation for char in password):\n",
    "        return False\n",
    "    return True\n",
    "\n",
    "##Calling the function\n",
    "print(is_strong_password(\"Weakpwd\"))\n",
    "print(is_strong_password(\"Strong@password2\"))\n",
    "    \n"
   ]
  },
  {
   "cell_type": "code",
   "execution_count": 33,
   "id": "557ee4ff",
   "metadata": {},
   "outputs": [
    {
     "data": {
      "text/plain": [
       "70"
      ]
     },
     "execution_count": 33,
     "metadata": {},
     "output_type": "execute_result"
    }
   ],
   "source": [
    "#Calculate the total cost of Items in a shopping cart\n",
    "## \"\" vs ''  well 'name' and \"name\" are identical in Python.\n",
    "\n",
    "def cal_total_cost(cart):\n",
    "    total_cost = 0\n",
    "    for item in cart:\n",
    "        total_cost += item['quantity'] * item['price']\n",
    "    return total_cost\n",
    "\n",
    "\n",
    "\n",
    "\n",
    "cart = [\n",
    "    {'name':'apple','quantity':2,'price':5},\n",
    "    {'name':'banana','quantity':3,'price':10},\n",
    "    {'name':'grapes','quantity':6,'price':5}\n",
    "]\n",
    "\n",
    "cal_total_cost(cart)"
   ]
  },
  {
   "cell_type": "code",
   "execution_count": null,
   "id": "a305cc7e",
   "metadata": {},
   "outputs": [
    {
     "data": {
      "text/plain": [
       "True"
      ]
     },
     "execution_count": 5,
     "metadata": {},
     "output_type": "execute_result"
    }
   ],
   "source": [
    "# Check if a string is palindrome    (Fastest)\n",
    "\n",
    "def check_palindrome(s):\n",
    "    s=s.lower().replace(\" \",\"\")\n",
    "    return s==s[::-1]\n",
    "\n",
    "check_palindrome('Was it a car or a cat I saw')"
   ]
  },
  {
   "cell_type": "code",
   "execution_count": null,
   "id": "a0b95dff",
   "metadata": {},
   "outputs": [
    {
     "name": "stdout",
     "output_type": "stream",
     "text": [
      "<reversed object at 0x0000025533F1F370>\n",
      "['o', 'l', 'l', 'e', 'h']\n",
      "olleh\n"
     ]
    }
   ],
   "source": [
    "### other ways to reverse a string     (fast and alternative of slicing)\n",
    "s = 'hello'\n",
    "rev_iter = reversed(s)\n",
    "print(rev_iter)  # Output: <reversed object at 0x...>\n",
    "\n",
    "# To view the reversed string, you can either:\n",
    "# Convert to a list:\n",
    "print(list(rev_iter))  # Output: ['o', 'l', 'l', 'e', 'h']\n",
    "\n",
    "# Or join it into a string:\n",
    "reversed_string = ''.join(reversed(s))\n",
    "print(reversed_string)  # Output: 'olleh'\n",
    "\n",
    "### vvimp \n",
    "# list(rev_iter) consumes the iterator and gives you the list of reversed characters.\n",
    "# reversed_string = ''.join(rev_iter) will not work . so again reversed_string = ''.join(reversed(s)) we have to do this"
   ]
  },
  {
   "cell_type": "code",
   "execution_count": null,
   "id": "26999441",
   "metadata": {},
   "outputs": [],
   "source": [
    "# Manually using a loop (this is the slowest)\n",
    "a = \"Hello\"\n",
    "rev =\"\"\n",
    "for ch in a:\n",
    "    rev = ch + rev"
   ]
  },
  {
   "cell_type": "code",
   "execution_count": 16,
   "id": "39e34e90",
   "metadata": {},
   "outputs": [
    {
     "name": "stdout",
     "output_type": "stream",
     "text": [
      "False\n",
      "12\n"
     ]
    }
   ],
   "source": [
    "# Reverse a number   #  'int' object is not iterable\n",
    "\n",
    "number = 2100\n",
    "temp = number\n",
    "rev = 0\n",
    "while temp > 0 :\n",
    "    ld = temp % 10\n",
    "    rev = (rev*10) + ld\n",
    "    temp = temp //10\n",
    "print(rev == number)\n",
    "print(rev)"
   ]
  },
  {
   "cell_type": "code",
   "execution_count": 13,
   "id": "5673c70d",
   "metadata": {},
   "outputs": [
    {
     "name": "stdout",
     "output_type": "stream",
     "text": [
      "2100 0012\n"
     ]
    }
   ],
   "source": [
    "# Reverse a number (using string)\n",
    "number = 2100\n",
    "rev_num = ''.join(reversed(str(number)))\n",
    "print(number,rev_num)"
   ]
  },
  {
   "cell_type": "code",
   "execution_count": 34,
   "id": "abea9936",
   "metadata": {},
   "outputs": [
    {
     "data": {
      "text/plain": [
       "402387260077093773543702433923003985719374864210714632543799910429938512398629020592044208486969404800479988610197196058631666872994808558901323829669944590997424504087073759918823627727188732519779505950995276120874975462497043601418278094646496291056393887437886487337119181045825783647849977012476632889835955735432513185323958463075557409114262417474349347553428646576611667797396668820291207379143853719588249808126867838374559731746136085379534524221586593201928090878297308431392844403281231558611036976801357304216168747609675871348312025478589320767169132448426236131412508780208000261683151027341827977704784635868170164365024153691398281264810213092761244896359928705114964975419909342221566832572080821333186116811553615836546984046708975602900950537616475847728421889679646244945160765353408198901385442487984959953319101723355556602139450399736280750137837615307127761926849034352625200015888535147331611702103968175921510907788019393178114194545257223865541461062892187960223838971476088506276862967146674697562911234082439208160153780889893964518263243671616762179168909779911903754031274622289988005195444414282012187361745992642956581746628302955570299024324153181617210465832036786906117260158783520751516284225540265170483304226143974286933061690897968482590125458327168226458066526769958652682272807075781391858178889652208164348344825993266043367660176999612831860788386150279465955131156552036093988180612138558600301435694527224206344631797460594682573103790084024432438465657245014402821885252470935190620929023136493273497565513958720559654228749774011413346962715422845862377387538230483865688976461927383814900140767310446640259899490222221765904339901886018566526485061799702356193897017860040811889729918311021171229845901641921068884387121855646124960798722908519296819372388642614839657382291123125024186649353143970137428531926649875337218940694281434118520158014123344828015051399694290153483077644569099073152433278288269864602789864321139083506217095002597389863554277196742822248757586765752344220207573630569498825087968928162753848863396909959826280956121450994871701244516461260379029309120889086942028510640182154399457156805941872748998094254742173582401063677404595741785160829230135358081840096996372524230560855903700624271243416909004153690105933983835777939410970027753472000000000000000000000000000000000000000000000000000000000000000000000000000000000000000000000000000000000000000000000000000000000000000000000000000000000000000000000000000000000000000000000000000000000000000000000000000000000000000000000000000000000"
      ]
     },
     "execution_count": 34,
     "metadata": {},
     "output_type": "execute_result"
    }
   ],
   "source": [
    "# Calculate the factorial of a number using recursion\n",
    "#normal remember to use range\n",
    "def find_fact(number):\n",
    "    fact = 1\n",
    "    for i in range(1,number+1):\n",
    "        fact = i*fact\n",
    "    return fact\n",
    "\n",
    "find_fact(1000)\n"
   ]
  },
  {
   "cell_type": "code",
   "execution_count": 35,
   "id": "b7b2000e",
   "metadata": {},
   "outputs": [
    {
     "data": {
      "text/plain": [
       "402387260077093773543702433923003985719374864210714632543799910429938512398629020592044208486969404800479988610197196058631666872994808558901323829669944590997424504087073759918823627727188732519779505950995276120874975462497043601418278094646496291056393887437886487337119181045825783647849977012476632889835955735432513185323958463075557409114262417474349347553428646576611667797396668820291207379143853719588249808126867838374559731746136085379534524221586593201928090878297308431392844403281231558611036976801357304216168747609675871348312025478589320767169132448426236131412508780208000261683151027341827977704784635868170164365024153691398281264810213092761244896359928705114964975419909342221566832572080821333186116811553615836546984046708975602900950537616475847728421889679646244945160765353408198901385442487984959953319101723355556602139450399736280750137837615307127761926849034352625200015888535147331611702103968175921510907788019393178114194545257223865541461062892187960223838971476088506276862967146674697562911234082439208160153780889893964518263243671616762179168909779911903754031274622289988005195444414282012187361745992642956581746628302955570299024324153181617210465832036786906117260158783520751516284225540265170483304226143974286933061690897968482590125458327168226458066526769958652682272807075781391858178889652208164348344825993266043367660176999612831860788386150279465955131156552036093988180612138558600301435694527224206344631797460594682573103790084024432438465657245014402821885252470935190620929023136493273497565513958720559654228749774011413346962715422845862377387538230483865688976461927383814900140767310446640259899490222221765904339901886018566526485061799702356193897017860040811889729918311021171229845901641921068884387121855646124960798722908519296819372388642614839657382291123125024186649353143970137428531926649875337218940694281434118520158014123344828015051399694290153483077644569099073152433278288269864602789864321139083506217095002597389863554277196742822248757586765752344220207573630569498825087968928162753848863396909959826280956121450994871701244516461260379029309120889086942028510640182154399457156805941872748998094254742173582401063677404595741785160829230135358081840096996372524230560855903700624271243416909004153690105933983835777939410970027753472000000000000000000000000000000000000000000000000000000000000000000000000000000000000000000000000000000000000000000000000000000000000000000000000000000000000000000000000000000000000000000000000000000000000000000000000000000000000000000000000000000000"
      ]
     },
     "execution_count": 35,
     "metadata": {},
     "output_type": "execute_result"
    }
   ],
   "source": [
    "# Calculate the factorial of a number using recursion\n",
    "def find_fact_rec(num):\n",
    "    if num == 0 or num == 1:\n",
    "        return 1\n",
    "    else :\n",
    "        return num * find_fact_rec(num-1)\n",
    "\n",
    "find_fact_rec(1000)\n"
   ]
  },
  {
   "cell_type": "code",
   "execution_count": null,
   "id": "0f3a7524",
   "metadata": {},
   "outputs": [
    {
     "name": "stdout",
     "output_type": "stream",
     "text": [
      "0012"
     ]
    }
   ],
   "source": [
    "# Iterating over a int number\n",
    "num = 2100\n",
    "while num > 0:\n",
    "    digit = num % 10       # get last digit\n",
    "    print(digit,end=\"\")           # prints in reverse order\n",
    "    num = num // 10"
   ]
  },
  {
   "cell_type": "code",
   "execution_count": 3,
   "id": "460bc939",
   "metadata": {},
   "outputs": [
    {
     "name": "stdout",
     "output_type": "stream",
     "text": [
      "math.factorial took 1.71878981590271 seconds\n",
      "Loop factorial took 0.0 seconds\n",
      "Recursive factorial took 0.0009322166442871094 seconds\n"
     ]
    }
   ],
   "source": [
    "import math\n",
    "import time\n",
    "\n",
    "# Test using math.factorial()\n",
    "start_time = time.time()\n",
    "math.factorial(500000)\n",
    "print(f\"math.factorial took {time.time() - start_time} seconds\")\n",
    "\n",
    "# Test using a for loop\n",
    "start_time = time.time()\n",
    "fact = 1\n",
    "for i in range(1, 1001):\n",
    "    fact *= i\n",
    "print(f\"Loop factorial took {time.time() - start_time} seconds\")\n",
    "\n",
    "# Test using recursion\n",
    "def factorial_recursive(n):\n",
    "    if n == 0 or n == 1:\n",
    "        return 1\n",
    "    return n * factorial_recursive(n - 1)\n",
    "\n",
    "start_time = time.time()\n",
    "factorial_recursive(1000)\n",
    "print(f\"Recursive factorial took {time.time() - start_time} seconds\")\n"
   ]
  },
  {
   "cell_type": "code",
   "execution_count": 9,
   "id": "490d2194",
   "metadata": {},
   "outputs": [
    {
     "name": "stdout",
     "output_type": "stream",
     "text": [
      "{'hello': 1, 'hi': 1, 'how': 1, 'are': 1, 'you': 1, '': 1}\n"
     ]
    }
   ],
   "source": [
    "#Example 6\n",
    "# A function to read a file and count the frequency of each word\n",
    "import string\n",
    "def count_word_frequency(file_path):\n",
    "    word_count = {}\n",
    "    with open(file_path,'r') as file:\n",
    "        for line in file:\n",
    "            words = line.split()\n",
    "            for word in words:\n",
    "                word = word.lower().strip(string.punctuation)\n",
    "                word_count[word] = word_count.get(word,0)+1\n",
    "            return word_count\n",
    "        \n",
    "filepath = 'sample.txt'\n",
    "word_frequency=count_word_frequency(filepath)\n",
    "print(word_frequency)\n"
   ]
  },
  {
   "cell_type": "code",
   "execution_count": 8,
   "id": "7e240e58",
   "metadata": {},
   "outputs": [
    {
     "name": "stdout",
     "output_type": "stream",
     "text": [
      "!\"#$%&'()*+,-./:;<=>?@[\\]^_`{|}~\n"
     ]
    }
   ],
   "source": [
    "print(string.punctuation)"
   ]
  },
  {
   "cell_type": "code",
   "execution_count": 10,
   "id": "a19801ff",
   "metadata": {},
   "outputs": [
    {
     "name": "stdout",
     "output_type": "stream",
     "text": [
      "{'name': 1}\n"
     ]
    }
   ],
   "source": [
    "a={}\n",
    "a['name'] = 1\n",
    "print(a)"
   ]
  },
  {
   "cell_type": "code",
   "execution_count": null,
   "id": "aa14ffb2",
   "metadata": {},
   "outputs": [
    {
     "name": "stdout",
     "output_type": "stream",
     "text": [
      "True\n",
      "True\n",
      "False\n"
     ]
    }
   ],
   "source": [
    "#Validate email address\n",
    "# The re module provides support for regular expressions — special strings that define search patterns. It helps with: Finding specific patterns in text Validating inputs (emails, phone numbers, etc.) Replacing or splitting text based on patterns\n",
    "\n",
    "import re                 # Regex is short for Regular Expression\n",
    "\n",
    "def is_valid_email(email):\n",
    "    '''This function check if the email is valid '''\n",
    "    pattern = r'^[a-zA-Z0-9_.+-]+@[a-zA-Z0-9-]+\\.[a-zA-Z0-9-.]+$'     # Functionally similar, but \\w includes a-zA-Z0-9_ and is more concise.\n",
    "    return re.match(pattern,email) is not None\n",
    "\n",
    "print(is_valid_email('haha@gamil.com')) \n",
    "print(is_valid_email('haha@gamil.comhahahaahahahahaha'))    #that why use fullmatch instead of match\n",
    "print(is_valid_email('haha@gamil'))\n"
   ]
  },
  {
   "cell_type": "markdown",
   "id": "58a7ee4b",
   "metadata": {},
   "source": [
    "Explation \n",
    "\n",
    "^ → Start of string\n",
    "\n",
    "[a-zA-Z0-9_.+-]+ → User part before @ (letters, digits, underscores, dots, plus, hyphen)\n",
    "\n",
    "@ → The @ symbol\n",
    "\n",
    "[a-zA-Z0-9-]+ → Domain name (e.g., gmail)\n",
    "\n",
    "\\\\. → A literal dot .\n",
    "\n",
    "[a-zA-Z0-9-.]+ → Domain extension (e.g., .com, .co.in)\n",
    "\n",
    "$ → End of string"
   ]
  },
  {
   "cell_type": "code",
   "execution_count": 3,
   "id": "68247f4c",
   "metadata": {},
   "outputs": [
    {
     "name": "stdout",
     "output_type": "stream",
     "text": [
      "dict_keys([1, 3])\n"
     ]
    }
   ],
   "source": [
    "a= {1:2,3:4}\n",
    "\n",
    "type(a)\n",
    "\n",
    "print(a.keys())\n"
   ]
  }
 ],
 "metadata": {
  "kernelspec": {
   "display_name": "pytorch_env",
   "language": "python",
   "name": "python3"
  },
  "language_info": {
   "codemirror_mode": {
    "name": "ipython",
    "version": 3
   },
   "file_extension": ".py",
   "mimetype": "text/x-python",
   "name": "python",
   "nbconvert_exporter": "python",
   "pygments_lexer": "ipython3",
   "version": "3.12.3"
  }
 },
 "nbformat": 4,
 "nbformat_minor": 5
}
