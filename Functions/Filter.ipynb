{
 "cells": [
  {
   "cell_type": "markdown",
   "id": "86392c9e",
   "metadata": {},
   "source": [
    "The filter function construct an iterator from elements of an iterable for which a function returns True . It is use to filter out items from a list(or any other iterable) based on a condition. "
   ]
  },
  {
   "cell_type": "code",
   "execution_count": null,
   "id": "1b41f6b3",
   "metadata": {},
   "outputs": [
    {
     "name": "stdout",
     "output_type": "stream",
     "text": [
      "None\n"
     ]
    }
   ],
   "source": [
    "def even(num):\n",
    "    if num % 2 == 0:\n",
    "        return True\n",
    "\n",
    "print(even(23))\n",
    "#every function returns None .\n",
    "print(even(22))"
   ]
  },
  {
   "cell_type": "code",
   "execution_count": null,
   "id": "910ca1e2",
   "metadata": {},
   "outputs": [
    {
     "name": "stdout",
     "output_type": "stream",
     "text": [
      "True\n"
     ]
    }
   ],
   "source": [
    "#Now what If we want to filter out element/dat item of a list.\n",
    "# like list = [1,2,3,4,5,6] i want to use even function and filter out the even or required elements.\n",
    "#Yes we can do it in other ways like iterating over the list and all but here let's focuse on Filter.ipynb"
   ]
  },
  {
   "cell_type": "code",
   "execution_count": 9,
   "id": "24bf70cb",
   "metadata": {},
   "outputs": [
    {
     "data": {
      "text/plain": [
       "[2, 4, 6, 8, 10]"
      ]
     },
     "execution_count": 9,
     "metadata": {},
     "output_type": "execute_result"
    }
   ],
   "source": [
    "#Now in Filter (function name , iterable) 2 parameters.\n",
    "\n",
    "lst = [1,2,3,4,5,6,7,8,9,10]\n",
    "\n",
    "filter(even,lst)\n",
    "list(filter(even,lst))"
   ]
  },
  {
   "cell_type": "code",
   "execution_count": 10,
   "id": "2433d9cc",
   "metadata": {},
   "outputs": [
    {
     "name": "stdout",
     "output_type": "stream",
     "text": [
      "[6, 7, 8, 9, 10]\n"
     ]
    }
   ],
   "source": [
    "#Filter with Lambda\n",
    "lst = [1,2,3,4,5,6,7,8,9,10]\n",
    "\n",
    "greater_than_five = list(filter(lambda x : x > 5, lst))\n",
    "print(greater_than_five)"
   ]
  },
  {
   "cell_type": "code",
   "execution_count": null,
   "id": "a7f630d7",
   "metadata": {},
   "outputs": [
    {
     "data": {
      "text/plain": [
       "[{'name': 'Sho', 'age': 27}, {'name': 'Yo', 'age': 26}]"
      ]
     },
     "execution_count": 13,
     "metadata": {},
     "output_type": "execute_result"
    }
   ],
   "source": [
    "## Apply Filter() to check if age is greater that 25 in a dictionary\n",
    "# people is a list containing dictionaries.\n",
    "\n",
    "people = [\n",
    "    {\"name\": \"Yosho\" ,\"age\":22},\n",
    "    {\"name\": \"Sho\",\"age\": 27},\n",
    "    {\"name\": \"Yo\" ,\"age\":26}\n",
    "]\n",
    "\n",
    "def age_greater_than_25(person):\n",
    "    return person[\"age\"] > 25\n",
    "\n",
    "list(filter(age_greater_than_25,people))"
   ]
  },
  {
   "cell_type": "markdown",
   "id": "4132e5ac",
   "metadata": {},
   "source": [
    "Conclusion\n",
    "The filter() is a powerfull tool for creating iterators that filter items out of an iterable based on a function. It is commonly used for data celaning, fltering objects and removing unwanted elements from lists. By mastering filter() we can write more consise and efficient code for processing and manipulating collections in Python."
   ]
  }
 ],
 "metadata": {
  "kernelspec": {
   "display_name": "pytorch_env",
   "language": "python",
   "name": "python3"
  },
  "language_info": {
   "codemirror_mode": {
    "name": "ipython",
    "version": 3
   },
   "file_extension": ".py",
   "mimetype": "text/x-python",
   "name": "python",
   "nbconvert_exporter": "python",
   "pygments_lexer": "ipython3",
   "version": "3.12.3"
  }
 },
 "nbformat": 4,
 "nbformat_minor": 5
}
